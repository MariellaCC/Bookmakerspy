{
  "nbformat": 4,
  "nbformat_minor": 0,
  "metadata": {
    "colab": {
      "name": "etape1_1_dataset.ipynb",
      "provenance": [],
      "collapsed_sections": []
    },
    "kernelspec": {
      "name": "python3",
      "display_name": "Python 3"
    },
    "language_info": {
      "name": "python"
    }
  },
  "cells": [
    {
      "cell_type": "markdown",
      "metadata": {
        "id": "ZCeVpuIDj-SC"
      },
      "source": [
        "\n",
        "Notebook de création du dataset<br/>\n",
        "Work in progress: voir si utilisation du 2e notebook Kaggle, et il reste à décider de quelles variables utiliser à la fois pour les critères que pour les cotes"
      ]
    },
    {
      "cell_type": "markdown",
      "metadata": {
        "id": "D6E8SY9yLgRY"
      },
      "source": [
        "# 1. Données équipes par match"
      ]
    },
    {
      "cell_type": "code",
      "metadata": {
        "colab": {
          "base_uri": "https://localhost:8080/"
        },
        "id": "20DE78_5mnsg",
        "outputId": "0d5ef293-bfb9-4023-b8d7-5307923376d4"
      },
      "source": [
        "from google.colab import drive\n",
        "drive.mount('/content/drive')"
      ],
      "execution_count": 1,
      "outputs": [
        {
          "output_type": "stream",
          "text": [
            "Drive already mounted at /content/drive; to attempt to forcibly remount, call drive.mount(\"/content/drive\", force_remount=True).\n"
          ],
          "name": "stdout"
        }
      ]
    },
    {
      "cell_type": "code",
      "metadata": {
        "colab": {
          "resources": {
            "http://localhost:8080/nbextensions/google.colab/files.js": {
              "data": "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",
              "ok": true,
              "headers": [
                [
                  "content-type",
                  "application/javascript"
                ]
              ],
              "status": 200,
              "status_text": ""
            }
          },
          "base_uri": "https://localhost:8080/",
          "height": 89
        },
        "id": "CeTZG-rjnMl4",
        "outputId": "939787ae-5d05-4989-a397-90485c55a5ea"
      },
      "source": [
        "# uploader le kaggle.json préalablement récupéré\n",
        "from google.colab import files\n",
        "files.upload()"
      ],
      "execution_count": 2,
      "outputs": [
        {
          "output_type": "display_data",
          "data": {
            "text/html": [
              "\n",
              "     <input type=\"file\" id=\"files-b8429957-b5ca-4fe2-a293-1f2c6dd52fea\" name=\"files[]\" multiple disabled\n",
              "        style=\"border:none\" />\n",
              "     <output id=\"result-b8429957-b5ca-4fe2-a293-1f2c6dd52fea\">\n",
              "      Upload widget is only available when the cell has been executed in the\n",
              "      current browser session. Please rerun this cell to enable.\n",
              "      </output>\n",
              "      <script src=\"/nbextensions/google.colab/files.js\"></script> "
            ],
            "text/plain": [
              "<IPython.core.display.HTML object>"
            ]
          },
          "metadata": {
            "tags": []
          }
        },
        {
          "output_type": "stream",
          "text": [
            "Saving kaggle.json to kaggle (1).json\n"
          ],
          "name": "stdout"
        },
        {
          "output_type": "execute_result",
          "data": {
            "text/plain": [
              "{'kaggle.json': b'{\"username\":\"mllacc\",\"key\":\"9b91572c1d94b3d2a3ad803255ddc043\"}'}"
            ]
          },
          "metadata": {
            "tags": []
          },
          "execution_count": 2
        }
      ]
    },
    {
      "cell_type": "code",
      "metadata": {
        "id": "cS9POpltn8jM",
        "colab": {
          "base_uri": "https://localhost:8080/"
        },
        "outputId": "63cb3ac3-90b5-4bbe-c273-8af335b99076"
      },
      "source": [
        "# Créer un dossier kaggle\n",
        "! mkdir ~/.kaggle\n",
        "# Copie le fichier kaggle.json dans le dossier kaggle\n",
        "! cp kaggle.json ~/.kaggle/\n",
        "# Change les permisions du fichier kaggle.json\n",
        "! chmod 600 ~/.kaggle/kaggle.json"
      ],
      "execution_count": 1,
      "outputs": [
        {
          "output_type": "stream",
          "text": [
            "mkdir: cannot create directory ‘/root/.kaggle’: File exists\n"
          ],
          "name": "stdout"
        }
      ]
    },
    {
      "cell_type": "code",
      "metadata": {
        "colab": {
          "base_uri": "https://localhost:8080/"
        },
        "id": "-_xNHtKSoWol",
        "outputId": "b50358cd-54ed-442a-cafc-4cf72994bb9a"
      },
      "source": [
        "# données kaggle https://www.kaggle.com/shubhmamp/english-premier-league-match-data\n",
        "! kaggle datasets download -d shubhmamp/english-premier-league-match-data"
      ],
      "execution_count": 4,
      "outputs": [
        {
          "output_type": "stream",
          "text": [
            "Downloading english-premier-league-match-data.zip to /content\n",
            "\r  0% 0.00/5.57M [00:00<?, ?B/s]\n",
            "\r100% 5.57M/5.57M [00:00<00:00, 51.1MB/s]\n"
          ],
          "name": "stdout"
        }
      ]
    },
    {
      "cell_type": "code",
      "metadata": {
        "colab": {
          "base_uri": "https://localhost:8080/"
        },
        "id": "2Xaxi5w7pW4f",
        "outputId": "1d230796-83f8-4be1-8a94-22db7b68fe0f"
      },
      "source": [
        "# creation d'un folder dataset dans le drive, et extraction des données\n",
        "! mkdir '/content/drive/My Drive/dataset'\n",
        "! unzip english-premier-league-match-data.zip -d '/content/drive/My Drive/dataset'"
      ],
      "execution_count": 6,
      "outputs": [
        {
          "output_type": "stream",
          "text": [
            "Archive:  english-premier-league-match-data.zip\n",
            "  inflating: /content/drive/My Drive/dataset/datafile/season14-15/season_match_stats.json  \n",
            "  inflating: /content/drive/My Drive/dataset/datafile/season14-15/season_stats.json  \n",
            "  inflating: /content/drive/My Drive/dataset/datafile/season15-16/season_match_stats.json  \n",
            "  inflating: /content/drive/My Drive/dataset/datafile/season15-16/season_stats.json  \n",
            "  inflating: /content/drive/My Drive/dataset/datafile/season16-17/season_match_stats.json  \n",
            "  inflating: /content/drive/My Drive/dataset/datafile/season16-17/season_stats.json  \n",
            "  inflating: /content/drive/My Drive/dataset/datafile/season17-18/season_match_stats.json  \n",
            "  inflating: /content/drive/My Drive/dataset/datafile/season17-18/season_stats.json  \n",
            "  inflating: /content/drive/My Drive/dataset/datafilev2/datafile/season14-15/season_match_stats.json  \n",
            "  inflating: /content/drive/My Drive/dataset/datafilev2/datafile/season14-15/season_stats.json  \n",
            "  inflating: /content/drive/My Drive/dataset/datafilev2/datafile/season15-16/season_match_stats.json  \n",
            "  inflating: /content/drive/My Drive/dataset/datafilev2/datafile/season15-16/season_stats.json  \n",
            "  inflating: /content/drive/My Drive/dataset/datafilev2/datafile/season16-17/season_match_stats.json  \n",
            "  inflating: /content/drive/My Drive/dataset/datafilev2/datafile/season16-17/season_stats.json  \n",
            "  inflating: /content/drive/My Drive/dataset/datafilev2/datafile/season17-18/season_match_stats.json  \n",
            "  inflating: /content/drive/My Drive/dataset/datafilev2/datafile/season17-18/season_stats.json  \n"
          ],
          "name": "stdout"
        }
      ]
    },
    {
      "cell_type": "code",
      "metadata": {
        "id": "xLJGwzqVp65o"
      },
      "source": [
        "import json\n",
        "import pandas as pd"
      ],
      "execution_count": 7,
      "outputs": []
    },
    {
      "cell_type": "markdown",
      "metadata": {
        "id": "XUWF1ueHoB3h"
      },
      "source": [
        "process basé sur l'exemple disponible dans kaggle: https://www.kaggle.com/maximerig/create-useful-dataframes-from-json-files"
      ]
    },
    {
      "cell_type": "code",
      "metadata": {
        "id": "ush68JSlqttH"
      },
      "source": [
        "stats_14_15_json = json.load(open('/content/drive/My Drive/dataset/datafilev2/datafile/season14-15/season_stats.json'))\n",
        "stats_15_16_json = json.load(open('/content/drive/My Drive/dataset/datafilev2/datafile/season15-16/season_stats.json'))\n",
        "stats_16_17_json = json.load(open('/content/drive/My Drive/dataset/datafilev2/datafile/season16-17/season_stats.json'))\n",
        "stats_17_18_json = json.load(open('/content/drive/My Drive/dataset/datafilev2/datafile/season17-18/season_stats.json'))"
      ],
      "execution_count": 8,
      "outputs": []
    },
    {
      "cell_type": "code",
      "metadata": {
        "id": "jAam3VQp9odt"
      },
      "source": [
        "def home_team_stats(json):\n",
        "    stats = pd.DataFrame()\n",
        "    \n",
        "    row = 0\n",
        "    for match_id, infos_match in json.items():\n",
        "        stats.loc[row, 'match_id'] = match_id\n",
        "        home = dict(list(infos_match.values())[0])\n",
        "        for column, team_info in home['team_details'].items():\n",
        "            stats.loc[row, column] = team_info\n",
        "        for column, team_stat in home['aggregate_stats'].items():\n",
        "            stats.loc[row, column] = team_stat\n",
        "        row += 1\n",
        "    \n",
        "    #stats = stats.fillna(0)\n",
        "    stats['date'] = pd.to_datetime(stats['date'], dayfirst=True)\n",
        "    stats = stats.sort_values(by=['date', 'match_id'])\n",
        "    stats = stats.reset_index(drop=True)\n",
        "    \n",
        "    stats['team_rating'] = stats['team_rating'].astype(float)\n",
        "    for column in stats.columns[5:]:\n",
        "        stats[column] = stats[column].astype(float)\n",
        "    \n",
        "    return stats"
      ],
      "execution_count": 12,
      "outputs": []
    },
    {
      "cell_type": "code",
      "metadata": {
        "id": "bFC_gvz1FEJ8"
      },
      "source": [
        "def away_team_stats(json):\n",
        "    stats = pd.DataFrame()\n",
        "    \n",
        "    row = 0\n",
        "    for match_id, infos_match in json.items():\n",
        "        stats.loc[row, 'match_id'] = match_id\n",
        "        away = dict(list(infos_match.values())[1])\n",
        "        for column, team_info in away['team_details'].items():\n",
        "            stats.loc[row, column] = team_info\n",
        "        for column, team_stat in away['aggregate_stats'].items():\n",
        "            stats.loc[row, column] = team_stat\n",
        "        row += 1\n",
        "    \n",
        "    #stats = stats.fillna(0)\n",
        "    stats['date'] = pd.to_datetime(stats['date'], dayfirst=True)\n",
        "    stats = stats.sort_values(by=['date', 'match_id'])\n",
        "    stats = stats.reset_index(drop=True)\n",
        "    \n",
        "    stats['team_rating'] = stats['team_rating'].astype(float)\n",
        "    for column in stats.columns[5:]:\n",
        "        stats[column] = stats[column].astype(float)\n",
        "    \n",
        "    return stats"
      ],
      "execution_count": 13,
      "outputs": []
    },
    {
      "cell_type": "code",
      "metadata": {
        "id": "BL1N0U3osv90"
      },
      "source": [
        "team_stats_home = {'season_14_15': home_team_stats(stats_14_15_json).add_prefix('home_'), \n",
        "                   'season_15_16': home_team_stats(stats_15_16_json).add_prefix('home_'), \n",
        "                   'season_16_17': home_team_stats(stats_16_17_json).add_prefix('home_'),  \n",
        "                   'season_17_18': home_team_stats(stats_17_18_json).add_prefix('home_')}\n",
        "\n",
        "team_stats_away = {'season_14_15': away_team_stats(stats_14_15_json).add_prefix('away_'), \n",
        "                   'season_15_16': away_team_stats(stats_15_16_json).add_prefix('away_'), \n",
        "                   'season_16_17': away_team_stats(stats_16_17_json).add_prefix('away_'),  \n",
        "                   'season_17_18': away_team_stats(stats_17_18_json).add_prefix('away_')}"
      ],
      "execution_count": 14,
      "outputs": []
    },
    {
      "cell_type": "code",
      "metadata": {
        "id": "yHXoEvs6s4Iv"
      },
      "source": [
        "# concatenation pour toutes les données home\n",
        "df_home = pd.concat([team_stats_home['season_14_15'],team_stats_home['season_15_16'],team_stats_home['season_16_17'],team_stats_home['season_17_18']])"
      ],
      "execution_count": 15,
      "outputs": []
    },
    {
      "cell_type": "code",
      "metadata": {
        "id": "S3C5PNkNHmwB"
      },
      "source": [
        "# concatenation pour toutes les données away\n",
        "df_away = pd.concat([team_stats_away['season_14_15'],team_stats_away['season_15_16'],team_stats_away['season_16_17'],team_stats_away['season_17_18']])"
      ],
      "execution_count": 16,
      "outputs": []
    },
    {
      "cell_type": "code",
      "metadata": {
        "id": "hjcUxNw8EiNt"
      },
      "source": [
        "# concatenation home et away\n",
        "df_merge = df_home.merge(df_away, left_on=['home_match_id'], right_on=['away_match_id'])"
      ],
      "execution_count": 17,
      "outputs": []
    },
    {
      "cell_type": "code",
      "metadata": {
        "id": "clVFPpMeJHuC"
      },
      "source": [
        "df_merge = df_merge.rename(columns={\"home_match_id\": \"match_id\", \"home_date\": \"date\"})"
      ],
      "execution_count": 18,
      "outputs": []
    },
    {
      "cell_type": "code",
      "metadata": {
        "id": "0OUmm495mBh9"
      },
      "source": [
        "# il semblerait dans le dataset que pour les colonnes de résultats (home_goals, away_goals) les Nan équivalent à 0 (pas de goal marqué)"
      ],
      "execution_count": 19,
      "outputs": []
    },
    {
      "cell_type": "code",
      "metadata": {
        "id": "G2CvFutUmegT"
      },
      "source": [
        "df_merge['home_goals'] = df_merge['home_goals'].fillna(0)"
      ],
      "execution_count": 20,
      "outputs": []
    },
    {
      "cell_type": "code",
      "metadata": {
        "id": "LsK4AUi_mS-m"
      },
      "source": [
        "df_merge['away_goals'] = df_merge['away_goals'].fillna(0)"
      ],
      "execution_count": 21,
      "outputs": []
    },
    {
      "cell_type": "code",
      "metadata": {
        "id": "87avLVhhq66k"
      },
      "source": [
        "# ajout de l'issue des matches (H => home, A => Away, D => Draw)"
      ],
      "execution_count": null,
      "outputs": []
    },
    {
      "cell_type": "code",
      "metadata": {
        "id": "svx9og_7n-7q"
      },
      "source": [
        "def get_match_result(row):\n",
        "  home_goals = row['home_goals']\n",
        "  away_goals = row['away_goals']\n",
        "  winner = 0\n",
        "  if (home_goals > away_goals):\n",
        "    winner = 'H'\n",
        "  elif (away_goals > home_goals):\n",
        "    winner = 'A'\n",
        "  elif (home_goals == away_goals):\n",
        "    winner = 'D'\n",
        "  return winner"
      ],
      "execution_count": 22,
      "outputs": []
    },
    {
      "cell_type": "code",
      "metadata": {
        "id": "IdXTmYDrm_b5"
      },
      "source": [
        "# ajout du résultat du match\n",
        "df_merge['match_result'] = df_merge.apply(lambda row: get_match_result(row), axis = 1)"
      ],
      "execution_count": 23,
      "outputs": []
    },
    {
      "cell_type": "markdown",
      "metadata": {
        "id": "YbYZ51CTLc2B"
      },
      "source": [
        "# 2. Cotes"
      ]
    },
    {
      "cell_type": "code",
      "metadata": {
        "id": "OBL4H6pdJmSt",
        "colab": {
          "base_uri": "https://localhost:8080/"
        },
        "outputId": "3a0dbd5d-d6ed-4ea8-a7d4-0885801ce993"
      },
      "source": [
        "! pip install datapackage"
      ],
      "execution_count": 24,
      "outputs": [
        {
          "output_type": "stream",
          "text": [
            "Collecting datapackage\n",
            "  Downloading datapackage-1.15.2-py2.py3-none-any.whl (85 kB)\n",
            "\u001b[?25l\r\u001b[K     |███▉                            | 10 kB 26.9 MB/s eta 0:00:01\r\u001b[K     |███████▋                        | 20 kB 27.3 MB/s eta 0:00:01\r\u001b[K     |███████████▌                    | 30 kB 30.1 MB/s eta 0:00:01\r\u001b[K     |███████████████▎                | 40 kB 32.2 MB/s eta 0:00:01\r\u001b[K     |███████████████████             | 51 kB 32.9 MB/s eta 0:00:01\r\u001b[K     |███████████████████████         | 61 kB 35.4 MB/s eta 0:00:01\r\u001b[K     |██████████████████████████▊     | 71 kB 32.6 MB/s eta 0:00:01\r\u001b[K     |██████████████████████████████▌ | 81 kB 34.4 MB/s eta 0:00:01\r\u001b[K     |████████████████████████████████| 85 kB 5.0 MB/s \n",
            "\u001b[?25hRequirement already satisfied: click>=6.7 in /usr/local/lib/python3.7/dist-packages (from datapackage) (7.1.2)\n",
            "Requirement already satisfied: requests>=2.8 in /usr/local/lib/python3.7/dist-packages (from datapackage) (2.23.0)\n",
            "Requirement already satisfied: six>=1.10 in /usr/local/lib/python3.7/dist-packages (from datapackage) (1.15.0)\n",
            "Collecting tabulator>=1.29\n",
            "  Downloading tabulator-1.53.5-py2.py3-none-any.whl (72 kB)\n",
            "\u001b[K     |████████████████████████████████| 72 kB 593 kB/s \n",
            "\u001b[?25hRequirement already satisfied: chardet>=3.0 in /usr/local/lib/python3.7/dist-packages (from datapackage) (3.0.4)\n",
            "Collecting jsonpointer>=1.10\n",
            "  Downloading jsonpointer-2.1-py2.py3-none-any.whl (7.4 kB)\n",
            "Collecting unicodecsv>=0.14\n",
            "  Downloading unicodecsv-0.14.1.tar.gz (10 kB)\n",
            "Requirement already satisfied: jsonschema>=2.5 in /usr/local/lib/python3.7/dist-packages (from datapackage) (2.6.0)\n",
            "Collecting tableschema>=1.12.1\n",
            "  Downloading tableschema-1.20.2-py2.py3-none-any.whl (68 kB)\n",
            "\u001b[K     |████████████████████████████████| 68 kB 6.6 MB/s \n",
            "\u001b[?25hRequirement already satisfied: urllib3!=1.25.0,!=1.25.1,<1.26,>=1.21.1 in /usr/local/lib/python3.7/dist-packages (from requests>=2.8->datapackage) (1.24.3)\n",
            "Requirement already satisfied: certifi>=2017.4.17 in /usr/local/lib/python3.7/dist-packages (from requests>=2.8->datapackage) (2021.5.30)\n",
            "Requirement already satisfied: idna<3,>=2.5 in /usr/local/lib/python3.7/dist-packages (from requests>=2.8->datapackage) (2.10)\n",
            "Requirement already satisfied: python-dateutil>=2.4 in /usr/local/lib/python3.7/dist-packages (from tableschema>=1.12.1->datapackage) (2.8.1)\n",
            "Collecting isodate>=0.5.4\n",
            "  Downloading isodate-0.6.0-py2.py3-none-any.whl (45 kB)\n",
            "\u001b[K     |████████████████████████████████| 45 kB 3.5 MB/s \n",
            "\u001b[?25hRequirement already satisfied: cached-property>=1.5 in /usr/local/lib/python3.7/dist-packages (from tableschema>=1.12.1->datapackage) (1.5.2)\n",
            "Collecting rfc3986>=1.1.0\n",
            "  Downloading rfc3986-1.5.0-py2.py3-none-any.whl (31 kB)\n",
            "Collecting jsonlines>=1.1\n",
            "  Downloading jsonlines-2.0.0-py3-none-any.whl (6.3 kB)\n",
            "Collecting ijson>=3.0.3\n",
            "  Downloading ijson-3.1.4-cp37-cp37m-manylinux2010_x86_64.whl (126 kB)\n",
            "\u001b[K     |████████████████████████████████| 126 kB 52.2 MB/s \n",
            "\u001b[?25hRequirement already satisfied: xlrd>=1.0 in /usr/local/lib/python3.7/dist-packages (from tabulator>=1.29->datapackage) (1.1.0)\n",
            "Collecting linear-tsv>=1.0\n",
            "  Downloading linear-tsv-1.1.0.tar.gz (9.6 kB)\n",
            "Collecting openpyxl>=2.6\n",
            "  Downloading openpyxl-3.0.7-py2.py3-none-any.whl (243 kB)\n",
            "\u001b[K     |████████████████████████████████| 243 kB 49.7 MB/s \n",
            "\u001b[?25hRequirement already satisfied: sqlalchemy>=0.9.6 in /usr/local/lib/python3.7/dist-packages (from tabulator>=1.29->datapackage) (1.4.20)\n",
            "Collecting boto3>=1.9\n",
            "  Downloading boto3-1.18.17-py3-none-any.whl (131 kB)\n",
            "\u001b[K     |████████████████████████████████| 131 kB 45.4 MB/s \n",
            "\u001b[?25hCollecting jmespath<1.0.0,>=0.7.1\n",
            "  Downloading jmespath-0.10.0-py2.py3-none-any.whl (24 kB)\n",
            "Collecting botocore<1.22.0,>=1.21.17\n",
            "  Downloading botocore-1.21.17.tar.gz (8.0 MB)\n",
            "\u001b[K     |████████████████████████████████| 8.0 MB 52.3 MB/s \n",
            "\u001b[?25hCollecting s3transfer<0.6.0,>=0.5.0\n",
            "  Downloading s3transfer-0.5.0-py3-none-any.whl (79 kB)\n",
            "\u001b[K     |████████████████████████████████| 79 kB 8.2 MB/s \n",
            "\u001b[?25hCollecting urllib3!=1.25.0,!=1.25.1,<1.26,>=1.21.1\n",
            "  Downloading urllib3-1.25.11-py2.py3-none-any.whl (127 kB)\n",
            "\u001b[K     |████████████████████████████████| 127 kB 60.5 MB/s \n",
            "\u001b[?25hRequirement already satisfied: et-xmlfile in /usr/local/lib/python3.7/dist-packages (from openpyxl>=2.6->tabulator>=1.29->datapackage) (1.1.0)\n",
            "Requirement already satisfied: importlib-metadata in /usr/local/lib/python3.7/dist-packages (from sqlalchemy>=0.9.6->tabulator>=1.29->datapackage) (4.6.1)\n",
            "Requirement already satisfied: greenlet!=0.4.17 in /usr/local/lib/python3.7/dist-packages (from sqlalchemy>=0.9.6->tabulator>=1.29->datapackage) (1.1.0)\n",
            "Requirement already satisfied: typing-extensions>=3.6.4 in /usr/local/lib/python3.7/dist-packages (from importlib-metadata->sqlalchemy>=0.9.6->tabulator>=1.29->datapackage) (3.7.4.3)\n",
            "Requirement already satisfied: zipp>=0.5 in /usr/local/lib/python3.7/dist-packages (from importlib-metadata->sqlalchemy>=0.9.6->tabulator>=1.29->datapackage) (3.5.0)\n",
            "Building wheels for collected packages: botocore, linear-tsv, unicodecsv\n",
            "  Building wheel for botocore (setup.py) ... \u001b[?25l\u001b[?25hdone\n",
            "  Created wheel for botocore: filename=botocore-1.21.17-py3-none-any.whl size=7791094 sha256=abb5ffd471deddac497f44d0841ddd7dcb5b17087b4719cdb54a74c2d5e2405b\n",
            "  Stored in directory: /root/.cache/pip/wheels/88/7d/d8/11789e759e5fb1665dd3bf30e77c66dbd76a6f8b51e9b18eae\n",
            "  Building wheel for linear-tsv (setup.py) ... \u001b[?25l\u001b[?25hdone\n",
            "  Created wheel for linear-tsv: filename=linear_tsv-1.1.0-py3-none-any.whl size=7399 sha256=a6d8b883e823d10b44f5861e9899ac2441dad981e960109607e28b078d43ccd7\n",
            "  Stored in directory: /root/.cache/pip/wheels/dd/0a/62/49ee84fab92057fb3e303fb1a59e75ccac6899b417f441305a\n",
            "  Building wheel for unicodecsv (setup.py) ... \u001b[?25l\u001b[?25hdone\n",
            "  Created wheel for unicodecsv: filename=unicodecsv-0.14.1-py3-none-any.whl size=10767 sha256=2c236748c154475471f20154b897bf64f5da693708d18fa44be5d051697f7879\n",
            "  Stored in directory: /root/.cache/pip/wheels/1a/f4/8a/a5024fb77b32ed369e5c409081e5f00fbe3b92fdad653f6e69\n",
            "Successfully built botocore linear-tsv unicodecsv\n",
            "Installing collected packages: urllib3, jmespath, botocore, s3transfer, unicodecsv, openpyxl, linear-tsv, jsonlines, ijson, boto3, tabulator, rfc3986, isodate, tableschema, jsonpointer, datapackage\n",
            "  Attempting uninstall: urllib3\n",
            "    Found existing installation: urllib3 1.24.3\n",
            "    Uninstalling urllib3-1.24.3:\n",
            "      Successfully uninstalled urllib3-1.24.3\n",
            "  Attempting uninstall: openpyxl\n",
            "    Found existing installation: openpyxl 2.5.9\n",
            "    Uninstalling openpyxl-2.5.9:\n",
            "      Successfully uninstalled openpyxl-2.5.9\n",
            "\u001b[31mERROR: pip's dependency resolver does not currently take into account all the packages that are installed. This behaviour is the source of the following dependency conflicts.\n",
            "datascience 0.10.6 requires folium==0.2.1, but you have folium 0.8.3 which is incompatible.\u001b[0m\n",
            "Successfully installed boto3-1.18.17 botocore-1.21.17 datapackage-1.15.2 ijson-3.1.4 isodate-0.6.0 jmespath-0.10.0 jsonlines-2.0.0 jsonpointer-2.1 linear-tsv-1.1.0 openpyxl-3.0.7 rfc3986-1.5.0 s3transfer-0.5.0 tableschema-1.20.2 tabulator-1.53.5 unicodecsv-0.14.1 urllib3-1.25.11\n"
          ],
          "name": "stdout"
        }
      ]
    },
    {
      "cell_type": "code",
      "metadata": {
        "id": "WKArE0YkL1Gu"
      },
      "source": [
        "import datapackage"
      ],
      "execution_count": null,
      "outputs": []
    },
    {
      "cell_type": "code",
      "metadata": {
        "id": "l_4mhY9EL_gm"
      },
      "source": [
        "#utilisation du process indiqué sur le site des données\n",
        "\n",
        "data_url = 'https://datahub.io/sports-data/english-premier-league/datapackage.json'\n",
        "\n",
        "# to load Data Package into storage\n",
        "package = datapackage.Package(data_url)\n",
        "\n",
        "# to load only tabular data\n",
        "resources = package.resources\n",
        "\n",
        "cotes_1415 = pd.read_csv(resources[5].descriptor['path'])\n",
        "cotes_1516 = pd.read_csv(resources[4].descriptor['path'])\n",
        "cotes_1617 = pd.read_csv(resources[3].descriptor['path']) \n",
        "cotes_1718 = pd.read_csv(resources[2].descriptor['path']) "
      ],
      "execution_count": null,
      "outputs": []
    },
    {
      "cell_type": "code",
      "metadata": {
        "id": "qFADxy6hNIOD"
      },
      "source": [
        "cotes = pd.concat([cotes_1415, cotes_1516, cotes_1617, cotes_1718])"
      ],
      "execution_count": null,
      "outputs": []
    },
    {
      "cell_type": "code",
      "metadata": {
        "id": "-3VM66EjPgvH"
      },
      "source": [
        "# je laisse la colonne d'origine pour verifications ulterieures\n",
        "cotes['date'] = cotes['Date'].apply(lambda x: pd.to_datetime(x))"
      ],
      "execution_count": null,
      "outputs": []
    },
    {
      "cell_type": "markdown",
      "metadata": {
        "id": "exeeH4VXOIi_"
      },
      "source": [
        "# 3. Jointure données matches et cotes"
      ]
    },
    {
      "cell_type": "code",
      "metadata": {
        "id": "XLdYQjbXOjH7"
      },
      "source": [
        "# revoir les noms des colonnes\n",
        "# df_merge.info()"
      ],
      "execution_count": null,
      "outputs": []
    },
    {
      "cell_type": "code",
      "metadata": {
        "id": "y2uYxbXfOE2D"
      },
      "source": [
        "df_stats_cotes = df_merge.merge(cotes, left_on = ['date', 'home_team_name', 'away_team_name'], right_on = ['date', 'HomeTeam', 'AwayTeam'])"
      ],
      "execution_count": null,
      "outputs": []
    },
    {
      "cell_type": "code",
      "metadata": {
        "id": "9C4ItTXlR7Lb"
      },
      "source": [
        "df_stats_cotes.to_csv('df_stats_cotes.csv')"
      ],
      "execution_count": null,
      "outputs": []
    }
  ]
}
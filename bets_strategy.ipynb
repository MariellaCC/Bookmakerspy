{
 "cells": [
  {
   "cell_type": "code",
   "execution_count": 82,
   "metadata": {},
   "outputs": [],
   "source": [
    "import pandas as pd\n",
    "import sklearn"
   ]
  },
  {
   "cell_type": "code",
   "execution_count": 83,
   "metadata": {},
   "outputs": [],
   "source": [
    "df = pd.read_csv('dataset_moyennes_matchs.csv')"
   ]
  },
  {
   "cell_type": "code",
   "execution_count": 84,
   "metadata": {},
   "outputs": [],
   "source": [
    "# suppression de l'ancien idx\n",
    "df = df.drop(['Unnamed: 0'], axis=1)\n",
    "# suppression des variables informatives non nécessaires pour la modélisation\n",
    "df = df.drop(['FTHG','FTAG'],axis=1)\n",
    "df = df.drop(['match_id','season','date','away_team_id','away_team_name','home_team_id','home_team_name'],axis=1)\n",
    "# suppression des variables identifiées comme non significatives\n",
    "df = df.drop(['home_total_tackle','away_total_tackle','home_att_pen_goal','away_att_pen_goal','HY','AY','HR','AR'], axis=1)"
   ]
  },
  {
   "cell_type": "code",
   "execution_count": 85,
   "metadata": {},
   "outputs": [],
   "source": [
    "cotes = df[['B365H','B365D','B365A','LBH','LBD','LBA','PSH','PSD','PSA','WHH','WHD','WHA','VCH','VCD','VCA','PSCH','PSCD','PSCA']]"
   ]
  },
  {
   "cell_type": "code",
   "execution_count": 86,
   "metadata": {},
   "outputs": [],
   "source": [
    "target = df['FTR']\n",
    "\n",
    "data = df.drop(['FTR','B365H','B365D','B365A','LBH','LBD','LBA','PSH','PSD','PSA','WHH','WHD','WHA','VCH','VCD','VCA','PSCH','PSCD','PSCA'],axis=1)"
   ]
  },
  {
   "cell_type": "code",
   "execution_count": 87,
   "metadata": {},
   "outputs": [],
   "source": [
    "target = target.replace(['H','A','D'],[1,2,3])"
   ]
  },
  {
   "cell_type": "code",
   "execution_count": 88,
   "metadata": {},
   "outputs": [
    {
     "name": "stdout",
     "output_type": "stream",
     "text": [
      "<class 'pandas.core.frame.DataFrame'>\n",
      "RangeIndex: 1425 entries, 0 to 1424\n",
      "Data columns (total 51 columns):\n",
      " #   Column                         Non-Null Count  Dtype  \n",
      "---  ------                         --------------  -----  \n",
      " 0   home_team_rating               1425 non-null   float64\n",
      " 1   home_won_contest               1425 non-null   float64\n",
      " 2   home_possession_percentage     1425 non-null   float64\n",
      " 3   home_total_throws              1425 non-null   float64\n",
      " 4   home_blocked_scoring_att       1425 non-null   float64\n",
      " 5   home_total_scoring_att         1425 non-null   float64\n",
      " 6   home_aerial_won                1425 non-null   float64\n",
      " 7   home_aerial_lost               1425 non-null   float64\n",
      " 8   home_accurate_pass             1425 non-null   float64\n",
      " 9   home_total_pass                1425 non-null   float64\n",
      " 10  home_won_corners               1425 non-null   float64\n",
      " 11  home_shot_off_target           1425 non-null   float64\n",
      " 12  home_ontarget_scoring_att      1425 non-null   float64\n",
      " 13  home_total_offside             1425 non-null   float64\n",
      " 14  home_post_scoring_att          1425 non-null   float64\n",
      " 15  home_penalty_save              1425 non-null   float64\n",
      " 16  HF                             1425 non-null   float64\n",
      " 17  home_pass                      1425 non-null   float64\n",
      " 18  goalkeeper_home_player_rating  1425 non-null   float64\n",
      " 19  defender_home_player_rating    1425 non-null   float64\n",
      " 20  midfielder_home_player_rating  1425 non-null   float64\n",
      " 21  forward_home_player_rating     1425 non-null   float64\n",
      " 22  away_team_rating               1425 non-null   float64\n",
      " 23  away_won_contest               1425 non-null   float64\n",
      " 24  away_possession_percentage     1425 non-null   float64\n",
      " 25  away_total_throws              1425 non-null   float64\n",
      " 26  away_blocked_scoring_att       1425 non-null   float64\n",
      " 27  away_total_scoring_att         1425 non-null   float64\n",
      " 28  away_aerial_won                1425 non-null   float64\n",
      " 29  away_aerial_lost               1425 non-null   float64\n",
      " 30  away_accurate_pass             1425 non-null   float64\n",
      " 31  away_total_pass                1425 non-null   float64\n",
      " 32  away_won_corners               1425 non-null   float64\n",
      " 33  away_shot_off_target           1425 non-null   float64\n",
      " 34  away_ontarget_scoring_att      1425 non-null   float64\n",
      " 35  away_total_offside             1425 non-null   float64\n",
      " 36  away_post_scoring_att          1425 non-null   float64\n",
      " 37  away_penalty_save              1425 non-null   float64\n",
      " 38  AF                             1425 non-null   float64\n",
      " 39  away_pass                      1425 non-null   float64\n",
      " 40  goalkeeper_away_player_rating  1425 non-null   float64\n",
      " 41  defender_away_player_rating    1425 non-null   float64\n",
      " 42  midfielder_away_player_rating  1425 non-null   float64\n",
      " 43  forward_away_player_rating     1425 non-null   float64\n",
      " 44  Diff_def_home_fwd_away         1425 non-null   float64\n",
      " 45  Diff_def_home_mid_away         1425 non-null   float64\n",
      " 46  Diff_mil_home_att_away         1425 non-null   float64\n",
      " 47  Diff_mil_home_mid_away         1425 non-null   float64\n",
      " 48  Diff_mil_home_def_away         1425 non-null   float64\n",
      " 49  Diff_fwd_home_mid_away         1425 non-null   float64\n",
      " 50  Diff_fwd_home_def_away         1425 non-null   float64\n",
      "dtypes: float64(51)\n",
      "memory usage: 567.9 KB\n"
     ]
    }
   ],
   "source": [
    "data.info()"
   ]
  },
  {
   "cell_type": "code",
   "execution_count": 89,
   "metadata": {},
   "outputs": [],
   "source": [
    "from sklearn.model_selection import train_test_split\n",
    "from sklearn import preprocessing"
   ]
  },
  {
   "cell_type": "code",
   "execution_count": 90,
   "metadata": {},
   "outputs": [],
   "source": [
    "X_train, X_test, y_train, y_test = train_test_split(data, target, test_size=0.2)\n",
    "\n",
    "scaler = preprocessing.StandardScaler().fit(X_train)\n",
    "X_train_scaled = scaler.transform(X_train)\n",
    "X_test_scaled = scaler.transform(X_test)"
   ]
  },
  {
   "cell_type": "code",
   "execution_count": 97,
   "metadata": {},
   "outputs": [
    {
     "data": {
      "text/plain": [
       "0.5035087719298246"
      ]
     },
     "execution_count": 97,
     "metadata": {},
     "output_type": "execute_result"
    }
   ],
   "source": [
    "from sklearn.ensemble import BaggingClassifier\n",
    "bc = BaggingClassifier(n_estimators=1000, oob_score=True, random_state=321)\n",
    "bc.fit(X_train_scaled, y_train)\n",
    "bc.oob_score_"
   ]
  },
  {
   "cell_type": "code",
   "execution_count": 98,
   "metadata": {},
   "outputs": [
    {
     "data": {
      "text/plain": [
       "1.0"
      ]
     },
     "execution_count": 98,
     "metadata": {},
     "output_type": "execute_result"
    }
   ],
   "source": [
    "bc.score(X_train_scaled, y_train)"
   ]
  },
  {
   "cell_type": "code",
   "execution_count": 99,
   "metadata": {},
   "outputs": [
    {
     "data": {
      "text/plain": [
       "0.519298245614035"
      ]
     },
     "execution_count": 99,
     "metadata": {},
     "output_type": "execute_result"
    }
   ],
   "source": [
    "bc.score(X_test_scaled, y_test)"
   ]
  },
  {
   "cell_type": "code",
   "execution_count": 100,
   "metadata": {},
   "outputs": [
    {
     "data": {
      "text/html": [
       "<div>\n",
       "<style scoped>\n",
       "    .dataframe tbody tr th:only-of-type {\n",
       "        vertical-align: middle;\n",
       "    }\n",
       "\n",
       "    .dataframe tbody tr th {\n",
       "        vertical-align: top;\n",
       "    }\n",
       "\n",
       "    .dataframe thead th {\n",
       "        text-align: right;\n",
       "    }\n",
       "</style>\n",
       "<table border=\"1\" class=\"dataframe\">\n",
       "  <thead>\n",
       "    <tr style=\"text-align: right;\">\n",
       "      <th>Classe prédite</th>\n",
       "      <th>1</th>\n",
       "      <th>2</th>\n",
       "      <th>3</th>\n",
       "    </tr>\n",
       "    <tr>\n",
       "      <th>Classe réelle</th>\n",
       "      <th></th>\n",
       "      <th></th>\n",
       "      <th></th>\n",
       "    </tr>\n",
       "  </thead>\n",
       "  <tbody>\n",
       "    <tr>\n",
       "      <th>1</th>\n",
       "      <td>112</td>\n",
       "      <td>20</td>\n",
       "      <td>3</td>\n",
       "    </tr>\n",
       "    <tr>\n",
       "      <th>2</th>\n",
       "      <td>35</td>\n",
       "      <td>33</td>\n",
       "      <td>5</td>\n",
       "    </tr>\n",
       "    <tr>\n",
       "      <th>3</th>\n",
       "      <td>46</td>\n",
       "      <td>28</td>\n",
       "      <td>3</td>\n",
       "    </tr>\n",
       "  </tbody>\n",
       "</table>\n",
       "</div>"
      ],
      "text/plain": [
       "Classe prédite    1   2  3\n",
       "Classe réelle             \n",
       "1               112  20  3\n",
       "2                35  33  5\n",
       "3                46  28  3"
      ]
     },
     "execution_count": 100,
     "metadata": {},
     "output_type": "execute_result"
    }
   ],
   "source": [
    "y_pred = bc.predict(X_test_scaled)\n",
    "pd.crosstab(y_test, y_pred, rownames=['Classe réelle'], colnames=['Classe prédite'])"
   ]
  },
  {
   "cell_type": "code",
   "execution_count": 101,
   "metadata": {},
   "outputs": [],
   "source": [
    "from sklearn.metrics import classification_report"
   ]
  },
  {
   "cell_type": "code",
   "execution_count": 102,
   "metadata": {},
   "outputs": [
    {
     "name": "stdout",
     "output_type": "stream",
     "text": [
      "              precision    recall  f1-score   support\n",
      "\n",
      "           1       0.58      0.83      0.68       135\n",
      "           2       0.41      0.45      0.43        73\n",
      "           3       0.27      0.04      0.07        77\n",
      "\n",
      "    accuracy                           0.52       285\n",
      "   macro avg       0.42      0.44      0.39       285\n",
      "weighted avg       0.45      0.52      0.45       285\n",
      "\n"
     ]
    }
   ],
   "source": [
    "print(classification_report(y_test, y_pred))"
   ]
  },
  {
   "cell_type": "code",
   "execution_count": null,
   "metadata": {},
   "outputs": [],
   "source": []
  }
 ],
 "metadata": {
  "interpreter": {
   "hash": "be33027f0966714f5bd55da9e61a7acec211be6e498f23021d8603b4c02342f4"
  },
  "kernelspec": {
   "display_name": "Python 3.7.10 64-bit ('default': conda)",
   "language": "python",
   "name": "python3"
  },
  "language_info": {
   "codemirror_mode": {
    "name": "ipython",
    "version": 3
   },
   "file_extension": ".py",
   "mimetype": "text/x-python",
   "name": "python",
   "nbconvert_exporter": "python",
   "pygments_lexer": "ipython3",
   "version": "3.8.1"
  },
  "orig_nbformat": 4
 },
 "nbformat": 4,
 "nbformat_minor": 2
}

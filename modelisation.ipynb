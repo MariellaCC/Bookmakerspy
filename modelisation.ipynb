{
 "cells": [
  {
   "cell_type": "code",
   "execution_count": 1,
   "metadata": {},
   "outputs": [],
   "source": [
    "import pandas as pd\n",
    "import sklearn"
   ]
  },
  {
   "cell_type": "code",
   "execution_count": 2,
   "metadata": {},
   "outputs": [],
   "source": [
    "from sklearn.preprocessing import StandardScaler\n",
    "from sklearn.model_selection import train_test_split\n",
    "from sklearn import preprocessing\n",
    "from sklearn import svm"
   ]
  },
  {
   "cell_type": "code",
   "execution_count": 3,
   "metadata": {},
   "outputs": [],
   "source": [
    "df = pd.read_csv('dataset_moyennes_matchs.csv')"
   ]
  },
  {
   "cell_type": "markdown",
   "metadata": {},
   "source": [
    "### 1. Suppression des variables inutiles"
   ]
  },
  {
   "cell_type": "code",
   "execution_count": 4,
   "metadata": {},
   "outputs": [],
   "source": [
    "# suppression des cotes et nb de goals dont on ne s'occupe pas pour le moment\n",
    "df = df.drop(['FTHG','FTAG','B365H','B365D','B365A','LBH','LBD','LBA','PSH','PSD','PSA','WHH','WHD','WHA','VCH','VCD','VCA','PSCH','PSCD','PSCA'], axis=1)\n",
    "# suppression de l'ancien idx\n",
    "df = df.drop(['Unnamed: 0'], axis=1)\n",
    "# suppression des variables informatives non nécessaires pour la modélisation\n",
    "df = df.drop(['match_id','season','date','away_team_id','away_team_name','home_team_id','home_team_name'],axis=1)"
   ]
  },
  {
   "cell_type": "markdown",
   "metadata": {},
   "source": [
    "### 2. Suppression des variables non significatives"
   ]
  },
  {
   "cell_type": "code",
   "execution_count": 5,
   "metadata": {},
   "outputs": [
    {
     "name": "stdout",
     "output_type": "stream",
     "text": [
      "<class 'pandas.core.frame.DataFrame'>\n",
      "RangeIndex: 1425 entries, 0 to 1424\n",
      "Data columns (total 60 columns):\n",
      " #   Column                         Non-Null Count  Dtype  \n",
      "---  ------                         --------------  -----  \n",
      " 0   home_team_rating               1425 non-null   float64\n",
      " 1   home_won_contest               1425 non-null   float64\n",
      " 2   home_possession_percentage     1425 non-null   float64\n",
      " 3   home_total_throws              1425 non-null   float64\n",
      " 4   home_blocked_scoring_att       1425 non-null   float64\n",
      " 5   home_total_scoring_att         1425 non-null   float64\n",
      " 6   home_total_tackle              1425 non-null   float64\n",
      " 7   home_aerial_won                1425 non-null   float64\n",
      " 8   home_aerial_lost               1425 non-null   float64\n",
      " 9   home_accurate_pass             1425 non-null   float64\n",
      " 10  home_total_pass                1425 non-null   float64\n",
      " 11  home_won_corners               1425 non-null   float64\n",
      " 12  home_shot_off_target           1425 non-null   float64\n",
      " 13  home_ontarget_scoring_att      1425 non-null   float64\n",
      " 14  home_total_offside             1425 non-null   float64\n",
      " 15  home_post_scoring_att          1425 non-null   float64\n",
      " 16  home_att_pen_goal              1425 non-null   float64\n",
      " 17  home_penalty_save              1425 non-null   float64\n",
      " 18  HF                             1425 non-null   float64\n",
      " 19  HY                             1425 non-null   float64\n",
      " 20  HR                             1425 non-null   float64\n",
      " 21  home_pass                      1425 non-null   float64\n",
      " 22  goalkeeper_home_player_rating  1425 non-null   float64\n",
      " 23  defender_home_player_rating    1425 non-null   float64\n",
      " 24  midfielder_home_player_rating  1425 non-null   float64\n",
      " 25  forward_home_player_rating     1425 non-null   float64\n",
      " 26  away_team_rating               1425 non-null   float64\n",
      " 27  away_won_contest               1425 non-null   float64\n",
      " 28  away_possession_percentage     1425 non-null   float64\n",
      " 29  away_total_throws              1425 non-null   float64\n",
      " 30  away_blocked_scoring_att       1425 non-null   float64\n",
      " 31  away_total_scoring_att         1425 non-null   float64\n",
      " 32  away_total_tackle              1425 non-null   float64\n",
      " 33  away_aerial_won                1425 non-null   float64\n",
      " 34  away_aerial_lost               1425 non-null   float64\n",
      " 35  away_accurate_pass             1425 non-null   float64\n",
      " 36  away_total_pass                1425 non-null   float64\n",
      " 37  away_won_corners               1425 non-null   float64\n",
      " 38  away_shot_off_target           1425 non-null   float64\n",
      " 39  away_ontarget_scoring_att      1425 non-null   float64\n",
      " 40  away_total_offside             1425 non-null   float64\n",
      " 41  away_post_scoring_att          1425 non-null   float64\n",
      " 42  away_att_pen_goal              1425 non-null   float64\n",
      " 43  away_penalty_save              1425 non-null   float64\n",
      " 44  AF                             1425 non-null   float64\n",
      " 45  AY                             1425 non-null   float64\n",
      " 46  AR                             1425 non-null   float64\n",
      " 47  away_pass                      1425 non-null   float64\n",
      " 48  goalkeeper_away_player_rating  1425 non-null   float64\n",
      " 49  defender_away_player_rating    1425 non-null   float64\n",
      " 50  midfielder_away_player_rating  1425 non-null   float64\n",
      " 51  forward_away_player_rating     1425 non-null   float64\n",
      " 52  FTR                            1425 non-null   object \n",
      " 53  Diff_def_home_fwd_away         1425 non-null   float64\n",
      " 54  Diff_def_home_mid_away         1425 non-null   float64\n",
      " 55  Diff_mil_home_att_away         1425 non-null   float64\n",
      " 56  Diff_mil_home_mid_away         1425 non-null   float64\n",
      " 57  Diff_mil_home_def_away         1425 non-null   float64\n",
      " 58  Diff_fwd_home_mid_away         1425 non-null   float64\n",
      " 59  Diff_fwd_home_def_away         1425 non-null   float64\n",
      "dtypes: float64(59), object(1)\n",
      "memory usage: 668.1+ KB\n"
     ]
    }
   ],
   "source": [
    "df.info()"
   ]
  },
  {
   "cell_type": "markdown",
   "metadata": {},
   "source": [
    "- Etape préliminaire, remplacer les classes qui sont des lettres par des classes numériques (nécessaire pour la suite par exemple pour SVM)"
   ]
  },
  {
   "cell_type": "code",
   "execution_count": 6,
   "metadata": {},
   "outputs": [],
   "source": [
    "df['FTR'] = df['FTR'].replace(['H','A','D'],[1,2,3])"
   ]
  },
  {
   "cell_type": "markdown",
   "metadata": {},
   "source": [
    "- Création ensemble entraînement et test"
   ]
  },
  {
   "cell_type": "code",
   "execution_count": 7,
   "metadata": {},
   "outputs": [],
   "source": [
    "target = df['FTR']\n",
    "data = df.drop(['FTR'],axis=1)\n",
    "# pour l'instant, séparation sur tout le jeu sans distinguer les périodes, voir si le module https://scikit-learn.org/stable/modules/generated/sklearn.model_selection.TimeSeriesSplit.html serait pertinent ici\n",
    "X_train, X_test, y_train, y_test = train_test_split(data, target, test_size=0.2)\n",
    "scaler = preprocessing.StandardScaler().fit(X_train)\n",
    "X_train_scaled = scaler.transform(X_train)\n",
    "X_test_scaled = scaler.transform(X_test)"
   ]
  },
  {
   "cell_type": "markdown",
   "metadata": {},
   "source": [
    "- Observation de la variance"
   ]
  },
  {
   "cell_type": "markdown",
   "metadata": {},
   "source": [
    "-- pandas profiling"
   ]
  },
  {
   "cell_type": "code",
   "execution_count": 18,
   "metadata": {},
   "outputs": [],
   "source": [
    "# test de l'outil pandas profiling\n",
    "# ! pip install pandas-profiling\n",
    "# (temps de traitement est long, à la fois pour la création de la variable report et pour la génération du fichier html, mais bcp plus rapide en json)\n",
    "from pandas_profiling import ProfileReport\n",
    "report = ProfileReport(df)\n",
    "# le fichier html peut ensuite être ouvert pour afficher le rapport\n",
    "# report.to_file(\"rapport_variables.html\")\n"
   ]
  },
  {
   "cell_type": "code",
   "execution_count": 10,
   "metadata": {},
   "outputs": [
    {
     "name": "stderr",
     "output_type": "stream",
     "text": [
      "Render JSON: 100%|██████████| 1/1 [00:01<00:00,  1.59s/it]\n",
      "Export report to file: 100%|██████████| 1/1 [00:00<00:00,  6.03it/s]\n"
     ]
    }
   ],
   "source": [
    "# report.to_file(\"your_report.json\")"
   ]
  },
  {
   "cell_type": "code",
   "execution_count": 29,
   "metadata": {},
   "outputs": [],
   "source": [
    "# vérification dans le rapport des variables taggées avec \"UNIQUE\", \"HIGH CARDINALITY\", ou \"UNIFORM\", indicatrices d'une variance trop élevée\n",
    "# Le rapport identifie away_pass comme \"unique\"\n",
    "# \"[UNIQUE] alert on column away_pass\"\n",
    "# étant donné que la variable home_pass n'est pas signalée, je ne supprime pas.\n",
    "# vérification dans le rapport des variables taggées avec \"CONSTANT\", \"REJECTED\", \"MISSING\", \"ZEROS\" qui indiqueraient une variance trop faible\n",
    "# home_post_scoring_att, away_total_offside, away_post_scoring_att ressortent avec le tag \"zeros\"\n",
    "# pour l'instant non supprimées"
   ]
  },
  {
   "cell_type": "markdown",
   "metadata": {},
   "source": [
    "-- variance threshold"
   ]
  },
  {
   "cell_type": "code",
   "execution_count": 8,
   "metadata": {},
   "outputs": [],
   "source": [
    "from sklearn.feature_selection import VarianceThreshold"
   ]
  },
  {
   "cell_type": "code",
   "execution_count": 9,
   "metadata": {},
   "outputs": [
    {
     "data": {
      "text/plain": [
       "VarianceThreshold(threshold=1e-06)"
      ]
     },
     "execution_count": 9,
     "metadata": {},
     "output_type": "execute_result"
    }
   ],
   "source": [
    "sel = VarianceThreshold(threshold = 1e-06)\n",
    "sel.fit(X_train_scaled)"
   ]
  },
  {
   "cell_type": "code",
   "execution_count": 11,
   "metadata": {},
   "outputs": [
    {
     "name": "stdout",
     "output_type": "stream",
     "text": [
      "<class 'pandas.core.frame.DataFrame'>\n",
      "RangeIndex: 1425 entries, 0 to 1424\n",
      "Data columns (total 59 columns):\n",
      " #   Column                         Non-Null Count  Dtype  \n",
      "---  ------                         --------------  -----  \n",
      " 0   home_team_rating               1425 non-null   float64\n",
      " 1   home_won_contest               1425 non-null   float64\n",
      " 2   home_possession_percentage     1425 non-null   float64\n",
      " 3   home_total_throws              1425 non-null   float64\n",
      " 4   home_blocked_scoring_att       1425 non-null   float64\n",
      " 5   home_total_scoring_att         1425 non-null   float64\n",
      " 6   home_total_tackle              1425 non-null   float64\n",
      " 7   home_aerial_won                1425 non-null   float64\n",
      " 8   home_aerial_lost               1425 non-null   float64\n",
      " 9   home_accurate_pass             1425 non-null   float64\n",
      " 10  home_total_pass                1425 non-null   float64\n",
      " 11  home_won_corners               1425 non-null   float64\n",
      " 12  home_shot_off_target           1425 non-null   float64\n",
      " 13  home_ontarget_scoring_att      1425 non-null   float64\n",
      " 14  home_total_offside             1425 non-null   float64\n",
      " 15  home_post_scoring_att          1425 non-null   float64\n",
      " 16  home_att_pen_goal              1425 non-null   float64\n",
      " 17  home_penalty_save              1425 non-null   float64\n",
      " 18  HF                             1425 non-null   float64\n",
      " 19  HY                             1425 non-null   float64\n",
      " 20  HR                             1425 non-null   float64\n",
      " 21  home_pass                      1425 non-null   float64\n",
      " 22  goalkeeper_home_player_rating  1425 non-null   float64\n",
      " 23  defender_home_player_rating    1425 non-null   float64\n",
      " 24  midfielder_home_player_rating  1425 non-null   float64\n",
      " 25  forward_home_player_rating     1425 non-null   float64\n",
      " 26  away_team_rating               1425 non-null   float64\n",
      " 27  away_won_contest               1425 non-null   float64\n",
      " 28  away_possession_percentage     1425 non-null   float64\n",
      " 29  away_total_throws              1425 non-null   float64\n",
      " 30  away_blocked_scoring_att       1425 non-null   float64\n",
      " 31  away_total_scoring_att         1425 non-null   float64\n",
      " 32  away_total_tackle              1425 non-null   float64\n",
      " 33  away_aerial_won                1425 non-null   float64\n",
      " 34  away_aerial_lost               1425 non-null   float64\n",
      " 35  away_accurate_pass             1425 non-null   float64\n",
      " 36  away_total_pass                1425 non-null   float64\n",
      " 37  away_won_corners               1425 non-null   float64\n",
      " 38  away_shot_off_target           1425 non-null   float64\n",
      " 39  away_ontarget_scoring_att      1425 non-null   float64\n",
      " 40  away_total_offside             1425 non-null   float64\n",
      " 41  away_post_scoring_att          1425 non-null   float64\n",
      " 42  away_att_pen_goal              1425 non-null   float64\n",
      " 43  away_penalty_save              1425 non-null   float64\n",
      " 44  AF                             1425 non-null   float64\n",
      " 45  AY                             1425 non-null   float64\n",
      " 46  AR                             1425 non-null   float64\n",
      " 47  away_pass                      1425 non-null   float64\n",
      " 48  goalkeeper_away_player_rating  1425 non-null   float64\n",
      " 49  defender_away_player_rating    1425 non-null   float64\n",
      " 50  midfielder_away_player_rating  1425 non-null   float64\n",
      " 51  forward_away_player_rating     1425 non-null   float64\n",
      " 52  Diff_def_home_fwd_away         1425 non-null   float64\n",
      " 53  Diff_def_home_mid_away         1425 non-null   float64\n",
      " 54  Diff_mil_home_att_away         1425 non-null   float64\n",
      " 55  Diff_mil_home_mid_away         1425 non-null   float64\n",
      " 56  Diff_mil_home_def_away         1425 non-null   float64\n",
      " 57  Diff_fwd_home_mid_away         1425 non-null   float64\n",
      " 58  Diff_fwd_home_def_away         1425 non-null   float64\n",
      "dtypes: float64(59)\n",
      "memory usage: 657.0 KB\n"
     ]
    }
   ],
   "source": [
    "data.info()"
   ]
  },
  {
   "cell_type": "code",
   "execution_count": 12,
   "metadata": {},
   "outputs": [],
   "source": [
    "mask = sel.get_support(indices=True)"
   ]
  },
  {
   "cell_type": "code",
   "execution_count": 13,
   "metadata": {},
   "outputs": [
    {
     "data": {
      "text/plain": [
       "array([ 0,  1,  2,  3,  4,  5,  6,  7,  8,  9, 10, 11, 12, 13, 14, 15, 16,\n",
       "       17, 18, 19, 20, 21, 22, 23, 24, 25, 26, 27, 28, 29, 30, 31, 32, 33,\n",
       "       34, 35, 36, 37, 38, 39, 40, 41, 42, 43, 44, 45, 46, 47, 48, 49, 50,\n",
       "       51, 52, 53, 54, 55, 56, 57, 58])"
      ]
     },
     "execution_count": 13,
     "metadata": {},
     "output_type": "execute_result"
    }
   ],
   "source": [
    "# toutes les variables ont été retenues\n",
    "mask"
   ]
  },
  {
   "cell_type": "markdown",
   "metadata": {},
   "source": [
    "Les deux tests effectués ne semblent pas indiquer de nécessité de supprimer des features pour des raisons de variance dans ce cas."
   ]
  },
  {
   "cell_type": "markdown",
   "metadata": {},
   "source": [
    "- Correlation"
   ]
  },
  {
   "cell_type": "markdown",
   "metadata": {},
   "source": [
    "Observation des corrélations linéaires pour voir quelles features semblent avoir un impact sur le résultat des matches"
   ]
  },
  {
   "cell_type": "code",
   "execution_count": 14,
   "metadata": {},
   "outputs": [
    {
     "data": {
      "text/plain": [
       "<AxesSubplot:>"
      ]
     },
     "execution_count": 14,
     "metadata": {},
     "output_type": "execute_result"
    },
    {
     "data": {
      "image/png": "[encoded data removed]",
      "text/plain": [
       "<Figure size 720x2160 with 1 Axes>"
      ]
     },
     "metadata": {
      "needs_background": "light"
     },
     "output_type": "display_data"
    }
   ],
   "source": [
    "df.corr().loc['FTR'].plot(figsize=(10,30),kind='barh')"
   ]
  },
  {
   "cell_type": "code",
   "execution_count": 15,
   "metadata": {},
   "outputs": [
    {
     "name": "stdout",
     "output_type": "stream",
     "text": [
      "home_team_rating                        : -0.1252, significant: True\n",
      "home_won_contest                        : -0.0506, significant: False\n",
      "home_possession_percentage              : -0.1171, significant: True\n",
      "home_total_throws                       :  0.0298, significant: False\n",
      "home_blocked_scoring_att                : -0.0605, significant: True\n",
      "home_total_scoring_att                  : -0.1202, significant: True\n",
      "home_total_tackle                       : -0.0006, significant: False\n",
      "home_aerial_won                         :  0.0465, significant: False\n",
      "home_aerial_lost                        :  0.0814, significant: True\n",
      "home_accurate_pass                      : -0.1292, significant: True\n",
      "home_total_pass                         : -0.1283, significant: True\n",
      "home_won_corners                        : -0.0806, significant: True\n",
      "home_shot_off_target                    : -0.0780, significant: True\n",
      "home_ontarget_scoring_att               : -0.1313, significant: True\n",
      "home_total_offside                      : -0.0071, significant: False\n",
      "home_post_scoring_att                   : -0.0360, significant: False\n",
      "home_att_pen_goal                       : -0.0421, significant: False\n",
      "home_penalty_save                       : -0.0751, significant: True\n",
      "HF                                      : -0.0029, significant: False\n",
      "HY                                      :  0.0419, significant: False\n",
      "HR                                      :  0.0341, significant: False\n",
      "home_pass                               : -0.1064, significant: True\n",
      "goalkeeper_home_player_rating           : -0.0583, significant: True\n",
      "defender_home_player_rating             : -0.0643, significant: True\n",
      "midfielder_home_player_rating           : -0.1100, significant: True\n",
      "forward_home_player_rating              : -0.1234, significant: True\n",
      "away_team_rating                        :  0.1013, significant: True\n",
      "away_won_contest                        :  0.0570, significant: True\n",
      "away_possession_percentage              :  0.0762, significant: True\n",
      "away_total_throws                       :  0.0131, significant: False\n",
      "away_blocked_scoring_att                :  0.0575, significant: True\n",
      "away_total_scoring_att                  :  0.1167, significant: True\n",
      "away_total_tackle                       :  0.0212, significant: False\n",
      "away_aerial_won                         : -0.0582, significant: True\n",
      "away_aerial_lost                        : -0.0702, significant: True\n",
      "away_accurate_pass                      :  0.0922, significant: True\n",
      "away_total_pass                         :  0.0910, significant: True\n",
      "away_won_corners                        :  0.0924, significant: True\n",
      "away_shot_off_target                    :  0.0792, significant: True\n",
      "away_ontarget_scoring_att               :  0.1221, significant: True\n",
      "away_total_offside                      :  0.0196, significant: False\n",
      "away_post_scoring_att                   :  0.0409, significant: False\n",
      "away_att_pen_goal                       :  0.0358, significant: False\n",
      "away_penalty_save                       : -0.0356, significant: False\n",
      "AF                                      : -0.0384, significant: False\n",
      "AY                                      : -0.0212, significant: False\n",
      "AR                                      : -0.0434, significant: False\n",
      "away_pass                               :  0.0729, significant: True\n",
      "goalkeeper_away_player_rating           : -0.0041, significant: False\n",
      "defender_away_player_rating             :  0.0668, significant: True\n",
      "midfielder_away_player_rating           :  0.1135, significant: True\n",
      "forward_away_player_rating              :  0.0891, significant: True\n",
      "FTR                                     :  1.0000, significant: True\n",
      "Diff_def_home_fwd_away                  : -0.1093, significant: True\n",
      "Diff_def_home_mid_away                  : -0.1305, significant: True\n",
      "Diff_mil_home_att_away                  : -0.1344, significant: True\n",
      "Diff_mil_home_mid_away                  : -0.1581, significant: True\n",
      "Diff_mil_home_def_away                  : -0.1344, significant: True\n",
      "Diff_fwd_home_mid_away                  : -0.1615, significant: True\n",
      "Diff_fwd_home_def_away                  : -0.1505, significant: True\n"
     ]
    }
   ],
   "source": [
    "# corrélation Pearson\n",
    "\n",
    "from scipy.stats import pearsonr\n",
    "from pandas.api.types import is_numeric_dtype\n",
    "\n",
    "for c in df.columns:\n",
    "    if is_numeric_dtype(df[c]):\n",
    "        correlation, pvalue = pearsonr(df[c], df['FTR'])\n",
    "        print(f'{c : <40}: {correlation : .4f}, significant: {pvalue <= 0.05}')\n"
   ]
  },
  {
   "cell_type": "markdown",
   "metadata": {},
   "source": [
    "Les colonnes suivantes n'apparaissent pas comme ayant une corrélation significative:\n",
    "home_won_contest (1),  home_total_throws (3), home_total_tackle (6), home_aerial_won (7), home_total_offside (14), home_post_scoring_att (15), home_att_pen_goal (16), HF (18), HY (19), HR (20)\n",
    "away_total_throws (29), away_total_tackle (32), away_total_offside (40), away_post_scoring_att (41), away_att_pen_goal (42), away_penalty_save (43), AF (44), AY (45), AR (46), goalkeeper_away_player_rating (48)\n",
    "Certaines reviennent à la fois dans home et away, d'autres pas\n",
    "total_throws (3/29), total_tackle (6/32), total_offside (14/40), att_pen_goal (16/42), F (18/44), Y (19/45), R (20/46) semblent être sans corrélation significative au résultat"
   ]
  },
  {
   "cell_type": "markdown",
   "metadata": {},
   "source": [
    "- Select K Best"
   ]
  },
  {
   "cell_type": "code",
   "execution_count": 16,
   "metadata": {},
   "outputs": [],
   "source": [
    "from sklearn.feature_selection import SelectKBest, f_regression"
   ]
  },
  {
   "cell_type": "code",
   "execution_count": 17,
   "metadata": {},
   "outputs": [
    {
     "data": {
      "text/plain": [
       "SelectKBest(k=30, score_func=<function f_regression at 0x7fcf90228790>)"
      ]
     },
     "execution_count": 17,
     "metadata": {},
     "output_type": "execute_result"
    }
   ],
   "source": [
    "sel_kbest = SelectKBest(score_func = f_regression, k=30)\n",
    "sel_kbest.fit(X_train_scaled, y_train)"
   ]
  },
  {
   "cell_type": "code",
   "execution_count": 18,
   "metadata": {},
   "outputs": [
    {
     "data": {
      "text/plain": [
       "array([ 0,  2,  5,  9, 10, 12, 13, 17, 21, 23, 24, 25, 26, 30, 31, 35, 36,\n",
       "       37, 38, 39, 49, 50, 51, 52, 53, 54, 55, 56, 57, 58])"
      ]
     },
     "execution_count": 18,
     "metadata": {},
     "output_type": "execute_result"
    }
   ],
   "source": [
    "mask = sel_kbest.get_support(indices=True)\n",
    "mask"
   ]
  },
  {
   "cell_type": "markdown",
   "metadata": {},
   "source": [
    "On remarque que les variables total throws (3/29), total tackles (6/32), total offside (14/40), att pen goal (16/42), F (18/44), Y (19/45), R (20/46) identifiées précédemment comme sans corrélation significative, n'apparaissent pas non plus dans le top 30 avec k best, ces variables pourront donc sans doute être supprimées.\n",
    "Les features considérées comme les plus importantes avec k best sont:<br>\n",
    "0   home_team_rating<br>\n",
    "2   home_possession_percentage<br>\n",
    "5   home_total_scoring_att<br>\n",
    "8   home_aerial_lost<br>\n",
    "9   home_accurate_pass<br>\n",
    "10  home_total_pass<br>\n",
    "12  home_shot_off_target<br>\n",
    "13  home_ontarget_scoring_att<br>\n",
    "17  home_penalty_save<br>\n",
    "21  home_pass <br>\n",
    "24  midfielder_home_player_rating<br>\n",
    "25  forward_home_player_rating<br>\n",
    "26  away_team_rating<br>\n",
    "31  away_total_scoring_att<br>\n",
    "33  away_aerial_won<br>\n",
    "34  away_aerial_lost<br>\n",
    "35  away_accurate_pass<br>\n",
    "36  away_total_pass<br>\n",
    "37  away_won_corners <br>\n",
    "39  away_ontarget_scoring_att<br>\n",
    "47  away_pass<br>\n",
    "50  midfielder_away_player_rating<br>\n",
    "51  forward_away_player_rating<br>\n",
    "52  Diff_def_home_fwd_away<br>\n",
    "53  Diff_def_home_mid_away<br>\n",
    "54  Diff_mil_home_att_away<br>\n",
    "55  Diff_mil_home_mid_away<br>\n",
    "56  Diff_mil_home_def_away<br>\n",
    "57  Diff_fwd_home_mid_away<br>\n",
    "58  Diff_fwd_home_def_away<br>"
   ]
  },
  {
   "cell_type": "markdown",
   "metadata": {},
   "source": [
    "- Régression logistique pour évaluation des features (afin d'apporter un angle multivarié)"
   ]
  },
  {
   "cell_type": "code",
   "execution_count": 19,
   "metadata": {},
   "outputs": [
    {
     "data": {
      "image/png": "[encoded data removed]",
      "text/plain": [
       "<Figure size 1440x216 with 1 Axes>"
      ]
     },
     "metadata": {
      "needs_background": "light"
     },
     "output_type": "display_data"
    },
    {
     "name": "stdout",
     "output_type": "stream",
     "text": [
      "[ 9  0 35 26 28 17 47 37 10 21 13 36 24 18 14 49 38 27  7 12  5 34 50  2\n",
      " 11  3 46  4 31 51 22 16 29 55 42 43 23 25 56 54 19 48 53 32  1 15 52 44\n",
      " 41 45  8 39 58 57 20 40  6 33 30]\n"
     ]
    }
   ],
   "source": [
    "from sklearn.linear_model import LogisticRegression\n",
    "import matplotlib.pyplot as plt\n",
    "import numpy as np\n",
    "\n",
    "lr = LogisticRegression(random_state=42, max_iter=1000, multi_class='multinomial')\n",
    "\n",
    "lr.fit(X_train_scaled, y_train)\n",
    "\n",
    "logit_coef = np.exp(lr.coef_[0]) - 1\n",
    "\n",
    "idx = abs(logit_coef).argsort()[::-1]\n",
    "\n",
    "plt.rcParams[\"figure.figsize\"] = (20,3)\n",
    "\n",
    "plt.bar(range(len(idx)), logit_coef[idx])\n",
    "plt.xticks(range(len(idx)), data.columns[idx], rotation=90)\n",
    "\n",
    "plt.show()\n",
    "print(idx)\n"
   ]
  },
  {
   "cell_type": "markdown",
   "metadata": {},
   "source": [
    "Le top 30 des variables par ordre d'importance:<br>\n",
    "35  away_accurate_pass <br>\n",
    "28  away_possession_percentage <br>\n",
    "47  away_pass <br>\n",
    "10  home_total_pass <br>\n",
    "9   home_accurate_pass <br>\n",
    "37  away_won_corners <br>\n",
    "0   home_team_rating <br>\n",
    "12  home_shot_off_target <br>\n",
    "2   home_possession_percentage <br>\n",
    "13  home_ontarget_scoring_att <br>\n",
    "50  midfielder_away_player_rating <br>\n",
    "24  midfielder_home_player_rating <br>\n",
    "26  away_team_rating <br>\n",
    "36  away_total_pass <br>\n",
    "22  goalkeeper_home_player_rating <br>\n",
    "43  away_penalty_save <br>\n",
    "34  away_aerial_lost <br>\n",
    "23  defender_home_player_rating <br>\n",
    "18  HF <br>\n",
    "21  home_pass <br>\n",
    "5   home_total_scoring_att <br>\n",
    "29  away_total_throws <br>\n",
    "17  home_penalty_save <br>\n",
    "14  home_total_offside <br>\n",
    "11  home_won_corners <br> \n",
    "8   home_aerial_lost <br>\n",
    "51  forward_away_player_rating <br>\n",
    "57  Diff_fwd_home_mid_away <br>\n",
    "40  away_total_offside <br>\n",
    "4   home_blocked_scoring_att <br>\n",
    "Parmi les variables identifiées précédemment comme probablement inutiles: total throws (3/29), total tackles (6/32), total offside (14/40), att pen goal (16/42), F (18/44), Y (19/45), R (20/46), les variables 29, 14, 40, 18 apparaissent ici, ce qui nuance l'analyse précédente."
   ]
  },
  {
   "cell_type": "markdown",
   "metadata": {},
   "source": [
    "Pour l'instant les variables 6/32, 16/42, 19/45 et 20/46 sont enlevées. Il faudra sans doute affiner davantage la stratégie pour en enlever plus."
   ]
  },
  {
   "cell_type": "code",
   "execution_count": 20,
   "metadata": {},
   "outputs": [],
   "source": [
    "cols = [6,32,16,42,19,45,20,46]\n",
    "data = data.drop(data.columns[cols],axis=1)\n"
   ]
  },
  {
   "cell_type": "code",
   "execution_count": 36,
   "metadata": {},
   "outputs": [],
   "source": [
    "# remise en place des jeux d'entraînement et de test avec les données modifiées\n",
    "X_train, X_test, y_train, y_test = train_test_split(data, target, test_size=0.2)\n",
    "scaler = preprocessing.StandardScaler().fit(X_train)\n",
    "X_train_scaled = scaler.transform(X_train)\n",
    "X_test_scaled = scaler.transform(X_test)"
   ]
  },
  {
   "cell_type": "markdown",
   "metadata": {},
   "source": [
    "- PCA"
   ]
  },
  {
   "cell_type": "code",
   "execution_count": 82,
   "metadata": {},
   "outputs": [],
   "source": [
    "from sklearn.decomposition import PCA\n",
    "pca = PCA(n_components = 0.9, random_state=42)\n",
    "X_train_pca = pca.fit_transform(X_train_scaled)\n",
    "X_test_pca = pca.transform(X_test_scaled)\n"
   ]
  },
  {
   "cell_type": "markdown",
   "metadata": {},
   "source": [
    "#### 6. Modèles"
   ]
  },
  {
   "cell_type": "code",
   "execution_count": 83,
   "metadata": {},
   "outputs": [],
   "source": [
    "from sklearn.metrics import accuracy_score\n",
    "from sklearn.model_selection import GridSearchCV"
   ]
  },
  {
   "cell_type": "markdown",
   "metadata": {},
   "source": [
    "Recherche de modèles de classification multi-classes performants pour le jeu de données"
   ]
  },
  {
   "cell_type": "markdown",
   "metadata": {},
   "source": [
    "- SVM"
   ]
  },
  {
   "cell_type": "code",
   "execution_count": 84,
   "metadata": {},
   "outputs": [],
   "source": [
    "from sklearn.svm import SVC"
   ]
  },
  {
   "cell_type": "code",
   "execution_count": 85,
   "metadata": {},
   "outputs": [],
   "source": [
    "# ajout d'un OneVsRestClassifier car les numéros des classes ne correspondent pas à un ordre spécifique\n",
    "from sklearn.multiclass import OneVsRestClassifier\n",
    "ovr_clf = OneVsRestClassifier(SVC(random_state=22))"
   ]
  },
  {
   "cell_type": "markdown",
   "metadata": {},
   "source": [
    "-- PCA"
   ]
  },
  {
   "cell_type": "code",
   "execution_count": 86,
   "metadata": {},
   "outputs": [
    {
     "data": {
      "text/plain": [
       "OneVsRestClassifier(estimator=SVC(random_state=22))"
      ]
     },
     "execution_count": 86,
     "metadata": {},
     "output_type": "execute_result"
    }
   ],
   "source": [
    "ovr_clf.fit(X_train_pca,y_train)"
   ]
  },
  {
   "cell_type": "code",
   "execution_count": 87,
   "metadata": {},
   "outputs": [],
   "source": [
    "y_pred = ovr_clf.predict(X_test_pca)"
   ]
  },
  {
   "cell_type": "code",
   "execution_count": 88,
   "metadata": {},
   "outputs": [
    {
     "data": {
      "text/html": [
       "<div>\n",
       "<style scoped>\n",
       "    .dataframe tbody tr th:only-of-type {\n",
       "        vertical-align: middle;\n",
       "    }\n",
       "\n",
       "    .dataframe tbody tr th {\n",
       "        vertical-align: top;\n",
       "    }\n",
       "\n",
       "    .dataframe thead th {\n",
       "        text-align: right;\n",
       "    }\n",
       "</style>\n",
       "<table border=\"1\" class=\"dataframe\">\n",
       "  <thead>\n",
       "    <tr style=\"text-align: right;\">\n",
       "      <th>Classes prédites</th>\n",
       "      <th>1</th>\n",
       "      <th>2</th>\n",
       "      <th>3</th>\n",
       "    </tr>\n",
       "    <tr>\n",
       "      <th>Classes réelles</th>\n",
       "      <th></th>\n",
       "      <th></th>\n",
       "      <th></th>\n",
       "    </tr>\n",
       "  </thead>\n",
       "  <tbody>\n",
       "    <tr>\n",
       "      <th>1</th>\n",
       "      <td>95</td>\n",
       "      <td>18</td>\n",
       "      <td>2</td>\n",
       "    </tr>\n",
       "    <tr>\n",
       "      <th>2</th>\n",
       "      <td>38</td>\n",
       "      <td>49</td>\n",
       "      <td>3</td>\n",
       "    </tr>\n",
       "    <tr>\n",
       "      <th>3</th>\n",
       "      <td>60</td>\n",
       "      <td>14</td>\n",
       "      <td>6</td>\n",
       "    </tr>\n",
       "  </tbody>\n",
       "</table>\n",
       "</div>"
      ],
      "text/plain": [
       "Classes prédites   1   2  3\n",
       "Classes réelles            \n",
       "1                 95  18  2\n",
       "2                 38  49  3\n",
       "3                 60  14  6"
      ]
     },
     "execution_count": 88,
     "metadata": {},
     "output_type": "execute_result"
    }
   ],
   "source": [
    "pd.crosstab(y_test,y_pred, rownames=['Classes réelles'], colnames=['Classes prédites'])"
   ]
  },
  {
   "cell_type": "code",
   "execution_count": 89,
   "metadata": {},
   "outputs": [
    {
     "name": "stdout",
     "output_type": "stream",
     "text": [
      "0.5263157894736842\n"
     ]
    }
   ],
   "source": [
    "accuracy = accuracy_score(y_test, y_pred)\n",
    "print(accuracy)"
   ]
  },
  {
   "cell_type": "code",
   "execution_count": 90,
   "metadata": {},
   "outputs": [
    {
     "name": "stdout",
     "output_type": "stream",
     "text": [
      "              precision    recall  f1-score   support\n",
      "\n",
      "           1       0.49      0.83      0.62       115\n",
      "           2       0.60      0.54      0.57        90\n",
      "           3       0.55      0.07      0.13        80\n",
      "\n",
      "    accuracy                           0.53       285\n",
      "   macro avg       0.55      0.48      0.44       285\n",
      "weighted avg       0.54      0.53      0.47       285\n",
      "\n"
     ]
    }
   ],
   "source": [
    "# (['H','A','D'],[1,2,3])\n",
    "\n",
    "from sklearn.metrics import classification_report\n",
    "\n",
    "print(classification_report(y_test, y_pred))\n"
   ]
  },
  {
   "cell_type": "markdown",
   "metadata": {},
   "source": [
    "-- sans PCA"
   ]
  },
  {
   "cell_type": "code",
   "execution_count": 91,
   "metadata": {},
   "outputs": [
    {
     "data": {
      "text/html": [
       "<div>\n",
       "<style scoped>\n",
       "    .dataframe tbody tr th:only-of-type {\n",
       "        vertical-align: middle;\n",
       "    }\n",
       "\n",
       "    .dataframe tbody tr th {\n",
       "        vertical-align: top;\n",
       "    }\n",
       "\n",
       "    .dataframe thead th {\n",
       "        text-align: right;\n",
       "    }\n",
       "</style>\n",
       "<table border=\"1\" class=\"dataframe\">\n",
       "  <thead>\n",
       "    <tr style=\"text-align: right;\">\n",
       "      <th>Classes prédites</th>\n",
       "      <th>1</th>\n",
       "      <th>2</th>\n",
       "      <th>3</th>\n",
       "    </tr>\n",
       "    <tr>\n",
       "      <th>Classes réelles</th>\n",
       "      <th></th>\n",
       "      <th></th>\n",
       "      <th></th>\n",
       "    </tr>\n",
       "  </thead>\n",
       "  <tbody>\n",
       "    <tr>\n",
       "      <th>1</th>\n",
       "      <td>96</td>\n",
       "      <td>16</td>\n",
       "      <td>3</td>\n",
       "    </tr>\n",
       "    <tr>\n",
       "      <th>2</th>\n",
       "      <td>40</td>\n",
       "      <td>47</td>\n",
       "      <td>3</td>\n",
       "    </tr>\n",
       "    <tr>\n",
       "      <th>3</th>\n",
       "      <td>61</td>\n",
       "      <td>14</td>\n",
       "      <td>5</td>\n",
       "    </tr>\n",
       "  </tbody>\n",
       "</table>\n",
       "</div>"
      ],
      "text/plain": [
       "Classes prédites   1   2  3\n",
       "Classes réelles            \n",
       "1                 96  16  3\n",
       "2                 40  47  3\n",
       "3                 61  14  5"
      ]
     },
     "execution_count": 91,
     "metadata": {},
     "output_type": "execute_result"
    }
   ],
   "source": [
    "ovr_clf.fit(X_train_scaled,y_train)\n",
    "y_pred = ovr_clf.predict(X_test_scaled)\n",
    "pd.crosstab(y_test,y_pred, rownames=['Classes réelles'], colnames=['Classes prédites'])"
   ]
  },
  {
   "cell_type": "code",
   "execution_count": 48,
   "metadata": {},
   "outputs": [
    {
     "name": "stdout",
     "output_type": "stream",
     "text": [
      "0.519298245614035\n"
     ]
    }
   ],
   "source": [
    "accuracy = accuracy_score(y_test, y_pred)\n",
    "print(accuracy)"
   ]
  },
  {
   "cell_type": "code",
   "execution_count": 92,
   "metadata": {},
   "outputs": [
    {
     "name": "stdout",
     "output_type": "stream",
     "text": [
      "              precision    recall  f1-score   support\n",
      "\n",
      "           1       0.49      0.83      0.62       115\n",
      "           2       0.61      0.52      0.56        90\n",
      "           3       0.45      0.06      0.11        80\n",
      "\n",
      "    accuracy                           0.52       285\n",
      "   macro avg       0.52      0.47      0.43       285\n",
      "weighted avg       0.52      0.52      0.46       285\n",
      "\n"
     ]
    }
   ],
   "source": [
    "# (['H','A','D'],[1,2,3])\n",
    "\n",
    "from sklearn.metrics import classification_report\n",
    "\n",
    "print(classification_report(y_test, y_pred))"
   ]
  },
  {
   "cell_type": "markdown",
   "metadata": {},
   "source": [
    "- SGD Classifier"
   ]
  },
  {
   "cell_type": "code",
   "execution_count": 94,
   "metadata": {},
   "outputs": [],
   "source": [
    "from sklearn.linear_model import SGDClassifier"
   ]
  },
  {
   "cell_type": "code",
   "execution_count": 95,
   "metadata": {},
   "outputs": [],
   "source": [
    "sgd_clf = SGDClassifier()"
   ]
  },
  {
   "cell_type": "markdown",
   "metadata": {},
   "source": [
    "-- avec PCA"
   ]
  },
  {
   "cell_type": "code",
   "execution_count": 96,
   "metadata": {},
   "outputs": [
    {
     "data": {
      "text/plain": [
       "SGDClassifier()"
      ]
     },
     "execution_count": 96,
     "metadata": {},
     "output_type": "execute_result"
    }
   ],
   "source": [
    "sgd_clf.fit(X_train_pca,y_train)"
   ]
  },
  {
   "cell_type": "code",
   "execution_count": 55,
   "metadata": {},
   "outputs": [],
   "source": [
    "y_pred = sgd_clf.predict(X_test_pca)"
   ]
  },
  {
   "cell_type": "code",
   "execution_count": 97,
   "metadata": {},
   "outputs": [
    {
     "data": {
      "text/html": [
       "<div>\n",
       "<style scoped>\n",
       "    .dataframe tbody tr th:only-of-type {\n",
       "        vertical-align: middle;\n",
       "    }\n",
       "\n",
       "    .dataframe tbody tr th {\n",
       "        vertical-align: top;\n",
       "    }\n",
       "\n",
       "    .dataframe thead th {\n",
       "        text-align: right;\n",
       "    }\n",
       "</style>\n",
       "<table border=\"1\" class=\"dataframe\">\n",
       "  <thead>\n",
       "    <tr style=\"text-align: right;\">\n",
       "      <th>Classes prédites</th>\n",
       "      <th>1</th>\n",
       "      <th>2</th>\n",
       "      <th>3</th>\n",
       "    </tr>\n",
       "    <tr>\n",
       "      <th>Classes réelles</th>\n",
       "      <th></th>\n",
       "      <th></th>\n",
       "      <th></th>\n",
       "    </tr>\n",
       "  </thead>\n",
       "  <tbody>\n",
       "    <tr>\n",
       "      <th>1</th>\n",
       "      <td>96</td>\n",
       "      <td>16</td>\n",
       "      <td>3</td>\n",
       "    </tr>\n",
       "    <tr>\n",
       "      <th>2</th>\n",
       "      <td>40</td>\n",
       "      <td>47</td>\n",
       "      <td>3</td>\n",
       "    </tr>\n",
       "    <tr>\n",
       "      <th>3</th>\n",
       "      <td>61</td>\n",
       "      <td>14</td>\n",
       "      <td>5</td>\n",
       "    </tr>\n",
       "  </tbody>\n",
       "</table>\n",
       "</div>"
      ],
      "text/plain": [
       "Classes prédites   1   2  3\n",
       "Classes réelles            \n",
       "1                 96  16  3\n",
       "2                 40  47  3\n",
       "3                 61  14  5"
      ]
     },
     "execution_count": 97,
     "metadata": {},
     "output_type": "execute_result"
    }
   ],
   "source": [
    "pd.crosstab(y_test,y_pred, rownames=['Classes réelles'], colnames=['Classes prédites'])"
   ]
  },
  {
   "cell_type": "code",
   "execution_count": 98,
   "metadata": {},
   "outputs": [
    {
     "name": "stdout",
     "output_type": "stream",
     "text": [
      "0.519298245614035\n"
     ]
    }
   ],
   "source": [
    "accuracy = accuracy_score(y_test, y_pred)\n",
    "print(accuracy)"
   ]
  },
  {
   "cell_type": "code",
   "execution_count": 99,
   "metadata": {},
   "outputs": [],
   "source": [
    "params = {\n",
    "    \"loss\" : [\"hinge\", \"log\", \"squared_hinge\", \"modified_huber\"],\n",
    "    \"alpha\" : [0.0001, 0.001, 0.01, 0.1],\n",
    "    \"penalty\" : [\"l2\", \"l1\", \"none\"],\n",
    "}"
   ]
  },
  {
   "cell_type": "code",
   "execution_count": 100,
   "metadata": {},
   "outputs": [],
   "source": [
    "gridcv = GridSearchCV(sgd_clf, param_grid=params, scoring='accuracy', cv=3) "
   ]
  },
  {
   "cell_type": "code",
   "execution_count": 101,
   "metadata": {},
   "outputs": [
    {
     "name": "stderr",
     "output_type": "stream",
     "text": [
      "/Users/mariella.decrouychan/Documents/GitHub/Bookmakerspy/.venv/lib/python3.8/site-packages/sklearn/linear_model/_stochastic_gradient.py:696: ConvergenceWarning: Maximum number of iteration reached before convergence. Consider increasing max_iter to improve the fit.\n",
      "  warnings.warn(\n",
      "/Users/mariella.decrouychan/Documents/GitHub/Bookmakerspy/.venv/lib/python3.8/site-packages/sklearn/linear_model/_stochastic_gradient.py:696: ConvergenceWarning: Maximum number of iteration reached before convergence. Consider increasing max_iter to improve the fit.\n",
      "  warnings.warn(\n",
      "/Users/mariella.decrouychan/Documents/GitHub/Bookmakerspy/.venv/lib/python3.8/site-packages/sklearn/linear_model/_stochastic_gradient.py:696: ConvergenceWarning: Maximum number of iteration reached before convergence. Consider increasing max_iter to improve the fit.\n",
      "  warnings.warn(\n",
      "/Users/mariella.decrouychan/Documents/GitHub/Bookmakerspy/.venv/lib/python3.8/site-packages/sklearn/linear_model/_stochastic_gradient.py:696: ConvergenceWarning: Maximum number of iteration reached before convergence. Consider increasing max_iter to improve the fit.\n",
      "  warnings.warn(\n",
      "/Users/mariella.decrouychan/Documents/GitHub/Bookmakerspy/.venv/lib/python3.8/site-packages/sklearn/linear_model/_stochastic_gradient.py:696: ConvergenceWarning: Maximum number of iteration reached before convergence. Consider increasing max_iter to improve the fit.\n",
      "  warnings.warn(\n",
      "/Users/mariella.decrouychan/Documents/GitHub/Bookmakerspy/.venv/lib/python3.8/site-packages/sklearn/linear_model/_stochastic_gradient.py:696: ConvergenceWarning: Maximum number of iteration reached before convergence. Consider increasing max_iter to improve the fit.\n",
      "  warnings.warn(\n",
      "/Users/mariella.decrouychan/Documents/GitHub/Bookmakerspy/.venv/lib/python3.8/site-packages/sklearn/linear_model/_stochastic_gradient.py:696: ConvergenceWarning: Maximum number of iteration reached before convergence. Consider increasing max_iter to improve the fit.\n",
      "  warnings.warn(\n",
      "/Users/mariella.decrouychan/Documents/GitHub/Bookmakerspy/.venv/lib/python3.8/site-packages/sklearn/linear_model/_stochastic_gradient.py:696: ConvergenceWarning: Maximum number of iteration reached before convergence. Consider increasing max_iter to improve the fit.\n",
      "  warnings.warn(\n",
      "/Users/mariella.decrouychan/Documents/GitHub/Bookmakerspy/.venv/lib/python3.8/site-packages/sklearn/linear_model/_stochastic_gradient.py:696: ConvergenceWarning: Maximum number of iteration reached before convergence. Consider increasing max_iter to improve the fit.\n",
      "  warnings.warn(\n",
      "/Users/mariella.decrouychan/Documents/GitHub/Bookmakerspy/.venv/lib/python3.8/site-packages/sklearn/linear_model/_stochastic_gradient.py:696: ConvergenceWarning: Maximum number of iteration reached before convergence. Consider increasing max_iter to improve the fit.\n",
      "  warnings.warn(\n",
      "/Users/mariella.decrouychan/Documents/GitHub/Bookmakerspy/.venv/lib/python3.8/site-packages/sklearn/linear_model/_stochastic_gradient.py:696: ConvergenceWarning: Maximum number of iteration reached before convergence. Consider increasing max_iter to improve the fit.\n",
      "  warnings.warn(\n",
      "/Users/mariella.decrouychan/Documents/GitHub/Bookmakerspy/.venv/lib/python3.8/site-packages/sklearn/linear_model/_stochastic_gradient.py:696: ConvergenceWarning: Maximum number of iteration reached before convergence. Consider increasing max_iter to improve the fit.\n",
      "  warnings.warn(\n"
     ]
    },
    {
     "data": {
      "text/html": [
       "<div>\n",
       "<style scoped>\n",
       "    .dataframe tbody tr th:only-of-type {\n",
       "        vertical-align: middle;\n",
       "    }\n",
       "\n",
       "    .dataframe tbody tr th {\n",
       "        vertical-align: top;\n",
       "    }\n",
       "\n",
       "    .dataframe thead th {\n",
       "        text-align: right;\n",
       "    }\n",
       "</style>\n",
       "<table border=\"1\" class=\"dataframe\">\n",
       "  <thead>\n",
       "    <tr style=\"text-align: right;\">\n",
       "      <th></th>\n",
       "      <th>params</th>\n",
       "      <th>mean_test_score</th>\n",
       "      <th>std_test_score</th>\n",
       "    </tr>\n",
       "  </thead>\n",
       "  <tbody>\n",
       "    <tr>\n",
       "      <th>0</th>\n",
       "      <td>{'alpha': 0.0001, 'loss': 'hinge', 'penalty': ...</td>\n",
       "      <td>0.443860</td>\n",
       "      <td>0.034401</td>\n",
       "    </tr>\n",
       "    <tr>\n",
       "      <th>1</th>\n",
       "      <td>{'alpha': 0.0001, 'loss': 'hinge', 'penalty': ...</td>\n",
       "      <td>0.443860</td>\n",
       "      <td>0.038457</td>\n",
       "    </tr>\n",
       "    <tr>\n",
       "      <th>2</th>\n",
       "      <td>{'alpha': 0.0001, 'loss': 'hinge', 'penalty': ...</td>\n",
       "      <td>0.421930</td>\n",
       "      <td>0.019378</td>\n",
       "    </tr>\n",
       "    <tr>\n",
       "      <th>3</th>\n",
       "      <td>{'alpha': 0.0001, 'loss': 'log', 'penalty': 'l2'}</td>\n",
       "      <td>0.399123</td>\n",
       "      <td>0.028613</td>\n",
       "    </tr>\n",
       "    <tr>\n",
       "      <th>4</th>\n",
       "      <td>{'alpha': 0.0001, 'loss': 'log', 'penalty': 'l1'}</td>\n",
       "      <td>0.467544</td>\n",
       "      <td>0.017368</td>\n",
       "    </tr>\n",
       "    <tr>\n",
       "      <th>5</th>\n",
       "      <td>{'alpha': 0.0001, 'loss': 'log', 'penalty': 'n...</td>\n",
       "      <td>0.431579</td>\n",
       "      <td>0.007747</td>\n",
       "    </tr>\n",
       "    <tr>\n",
       "      <th>6</th>\n",
       "      <td>{'alpha': 0.0001, 'loss': 'squared_hinge', 'pe...</td>\n",
       "      <td>0.451754</td>\n",
       "      <td>0.027376</td>\n",
       "    </tr>\n",
       "    <tr>\n",
       "      <th>7</th>\n",
       "      <td>{'alpha': 0.0001, 'loss': 'squared_hinge', 'pe...</td>\n",
       "      <td>0.405263</td>\n",
       "      <td>0.023241</td>\n",
       "    </tr>\n",
       "    <tr>\n",
       "      <th>8</th>\n",
       "      <td>{'alpha': 0.0001, 'loss': 'squared_hinge', 'pe...</td>\n",
       "      <td>0.413158</td>\n",
       "      <td>0.049559</td>\n",
       "    </tr>\n",
       "    <tr>\n",
       "      <th>9</th>\n",
       "      <td>{'alpha': 0.0001, 'loss': 'modified_huber', 'p...</td>\n",
       "      <td>0.424561</td>\n",
       "      <td>0.025634</td>\n",
       "    </tr>\n",
       "    <tr>\n",
       "      <th>10</th>\n",
       "      <td>{'alpha': 0.0001, 'loss': 'modified_huber', 'p...</td>\n",
       "      <td>0.458772</td>\n",
       "      <td>0.012218</td>\n",
       "    </tr>\n",
       "    <tr>\n",
       "      <th>11</th>\n",
       "      <td>{'alpha': 0.0001, 'loss': 'modified_huber', 'p...</td>\n",
       "      <td>0.358772</td>\n",
       "      <td>0.016690</td>\n",
       "    </tr>\n",
       "    <tr>\n",
       "      <th>12</th>\n",
       "      <td>{'alpha': 0.001, 'loss': 'hinge', 'penalty': '...</td>\n",
       "      <td>0.444737</td>\n",
       "      <td>0.020721</td>\n",
       "    </tr>\n",
       "    <tr>\n",
       "      <th>13</th>\n",
       "      <td>{'alpha': 0.001, 'loss': 'hinge', 'penalty': '...</td>\n",
       "      <td>0.463158</td>\n",
       "      <td>0.030311</td>\n",
       "    </tr>\n",
       "    <tr>\n",
       "      <th>14</th>\n",
       "      <td>{'alpha': 0.001, 'loss': 'hinge', 'penalty': '...</td>\n",
       "      <td>0.485088</td>\n",
       "      <td>0.004473</td>\n",
       "    </tr>\n",
       "    <tr>\n",
       "      <th>15</th>\n",
       "      <td>{'alpha': 0.001, 'loss': 'log', 'penalty': 'l2'}</td>\n",
       "      <td>0.465789</td>\n",
       "      <td>0.004297</td>\n",
       "    </tr>\n",
       "    <tr>\n",
       "      <th>16</th>\n",
       "      <td>{'alpha': 0.001, 'loss': 'log', 'penalty': 'l1'}</td>\n",
       "      <td>0.499123</td>\n",
       "      <td>0.014307</td>\n",
       "    </tr>\n",
       "    <tr>\n",
       "      <th>17</th>\n",
       "      <td>{'alpha': 0.001, 'loss': 'log', 'penalty': 'no...</td>\n",
       "      <td>0.463158</td>\n",
       "      <td>0.028180</td>\n",
       "    </tr>\n",
       "    <tr>\n",
       "      <th>18</th>\n",
       "      <td>{'alpha': 0.001, 'loss': 'squared_hinge', 'pen...</td>\n",
       "      <td>0.392982</td>\n",
       "      <td>0.034735</td>\n",
       "    </tr>\n",
       "    <tr>\n",
       "      <th>19</th>\n",
       "      <td>{'alpha': 0.001, 'loss': 'squared_hinge', 'pen...</td>\n",
       "      <td>0.440351</td>\n",
       "      <td>0.033310</td>\n",
       "    </tr>\n",
       "    <tr>\n",
       "      <th>20</th>\n",
       "      <td>{'alpha': 0.001, 'loss': 'squared_hinge', 'pen...</td>\n",
       "      <td>0.354386</td>\n",
       "      <td>0.049435</td>\n",
       "    </tr>\n",
       "    <tr>\n",
       "      <th>21</th>\n",
       "      <td>{'alpha': 0.001, 'loss': 'modified_huber', 'pe...</td>\n",
       "      <td>0.457018</td>\n",
       "      <td>0.010815</td>\n",
       "    </tr>\n",
       "    <tr>\n",
       "      <th>22</th>\n",
       "      <td>{'alpha': 0.001, 'loss': 'modified_huber', 'pe...</td>\n",
       "      <td>0.453509</td>\n",
       "      <td>0.080664</td>\n",
       "    </tr>\n",
       "    <tr>\n",
       "      <th>23</th>\n",
       "      <td>{'alpha': 0.001, 'loss': 'modified_huber', 'pe...</td>\n",
       "      <td>0.471930</td>\n",
       "      <td>0.027960</td>\n",
       "    </tr>\n",
       "    <tr>\n",
       "      <th>24</th>\n",
       "      <td>{'alpha': 0.01, 'loss': 'hinge', 'penalty': 'l2'}</td>\n",
       "      <td>0.492105</td>\n",
       "      <td>0.037278</td>\n",
       "    </tr>\n",
       "    <tr>\n",
       "      <th>25</th>\n",
       "      <td>{'alpha': 0.01, 'loss': 'hinge', 'penalty': 'l1'}</td>\n",
       "      <td>0.509649</td>\n",
       "      <td>0.015544</td>\n",
       "    </tr>\n",
       "    <tr>\n",
       "      <th>26</th>\n",
       "      <td>{'alpha': 0.01, 'loss': 'hinge', 'penalty': 'n...</td>\n",
       "      <td>0.507895</td>\n",
       "      <td>0.024214</td>\n",
       "    </tr>\n",
       "    <tr>\n",
       "      <th>27</th>\n",
       "      <td>{'alpha': 0.01, 'loss': 'log', 'penalty': 'l2'}</td>\n",
       "      <td>0.507895</td>\n",
       "      <td>0.019693</td>\n",
       "    </tr>\n",
       "    <tr>\n",
       "      <th>28</th>\n",
       "      <td>{'alpha': 0.01, 'loss': 'log', 'penalty': 'l1'}</td>\n",
       "      <td>0.522807</td>\n",
       "      <td>0.007546</td>\n",
       "    </tr>\n",
       "    <tr>\n",
       "      <th>29</th>\n",
       "      <td>{'alpha': 0.01, 'loss': 'log', 'penalty': 'none'}</td>\n",
       "      <td>0.503509</td>\n",
       "      <td>0.010599</td>\n",
       "    </tr>\n",
       "    <tr>\n",
       "      <th>30</th>\n",
       "      <td>{'alpha': 0.01, 'loss': 'squared_hinge', 'pena...</td>\n",
       "      <td>0.475439</td>\n",
       "      <td>0.016127</td>\n",
       "    </tr>\n",
       "    <tr>\n",
       "      <th>31</th>\n",
       "      <td>{'alpha': 0.01, 'loss': 'squared_hinge', 'pena...</td>\n",
       "      <td>0.481579</td>\n",
       "      <td>0.027432</td>\n",
       "    </tr>\n",
       "    <tr>\n",
       "      <th>32</th>\n",
       "      <td>{'alpha': 0.01, 'loss': 'squared_hinge', 'pena...</td>\n",
       "      <td>0.462281</td>\n",
       "      <td>0.029330</td>\n",
       "    </tr>\n",
       "    <tr>\n",
       "      <th>33</th>\n",
       "      <td>{'alpha': 0.01, 'loss': 'modified_huber', 'pen...</td>\n",
       "      <td>0.467544</td>\n",
       "      <td>0.038457</td>\n",
       "    </tr>\n",
       "    <tr>\n",
       "      <th>34</th>\n",
       "      <td>{'alpha': 0.01, 'loss': 'modified_huber', 'pen...</td>\n",
       "      <td>0.494737</td>\n",
       "      <td>0.018358</td>\n",
       "    </tr>\n",
       "    <tr>\n",
       "      <th>35</th>\n",
       "      <td>{'alpha': 0.01, 'loss': 'modified_huber', 'pen...</td>\n",
       "      <td>0.468421</td>\n",
       "      <td>0.014090</td>\n",
       "    </tr>\n",
       "    <tr>\n",
       "      <th>36</th>\n",
       "      <td>{'alpha': 0.1, 'loss': 'hinge', 'penalty': 'l2'}</td>\n",
       "      <td>0.505263</td>\n",
       "      <td>0.011370</td>\n",
       "    </tr>\n",
       "    <tr>\n",
       "      <th>37</th>\n",
       "      <td>{'alpha': 0.1, 'loss': 'hinge', 'penalty': 'l1'}</td>\n",
       "      <td>0.509649</td>\n",
       "      <td>0.007546</td>\n",
       "    </tr>\n",
       "    <tr>\n",
       "      <th>38</th>\n",
       "      <td>{'alpha': 0.1, 'loss': 'hinge', 'penalty': 'no...</td>\n",
       "      <td>0.492982</td>\n",
       "      <td>0.017891</td>\n",
       "    </tr>\n",
       "    <tr>\n",
       "      <th>39</th>\n",
       "      <td>{'alpha': 0.1, 'loss': 'log', 'penalty': 'l2'}</td>\n",
       "      <td>0.520175</td>\n",
       "      <td>0.010815</td>\n",
       "    </tr>\n",
       "    <tr>\n",
       "      <th>40</th>\n",
       "      <td>{'alpha': 0.1, 'loss': 'log', 'penalty': 'l1'}</td>\n",
       "      <td>0.513158</td>\n",
       "      <td>0.006446</td>\n",
       "    </tr>\n",
       "    <tr>\n",
       "      <th>41</th>\n",
       "      <td>{'alpha': 0.1, 'loss': 'log', 'penalty': 'none'}</td>\n",
       "      <td>0.504386</td>\n",
       "      <td>0.011026</td>\n",
       "    </tr>\n",
       "    <tr>\n",
       "      <th>42</th>\n",
       "      <td>{'alpha': 0.1, 'loss': 'squared_hinge', 'penal...</td>\n",
       "      <td>0.464035</td>\n",
       "      <td>0.017234</td>\n",
       "    </tr>\n",
       "    <tr>\n",
       "      <th>43</th>\n",
       "      <td>{'alpha': 0.1, 'loss': 'squared_hinge', 'penal...</td>\n",
       "      <td>0.418421</td>\n",
       "      <td>0.011370</td>\n",
       "    </tr>\n",
       "    <tr>\n",
       "      <th>44</th>\n",
       "      <td>{'alpha': 0.1, 'loss': 'squared_hinge', 'penal...</td>\n",
       "      <td>0.421053</td>\n",
       "      <td>0.026837</td>\n",
       "    </tr>\n",
       "    <tr>\n",
       "      <th>45</th>\n",
       "      <td>{'alpha': 0.1, 'loss': 'modified_huber', 'pena...</td>\n",
       "      <td>0.505263</td>\n",
       "      <td>0.018608</td>\n",
       "    </tr>\n",
       "    <tr>\n",
       "      <th>46</th>\n",
       "      <td>{'alpha': 0.1, 'loss': 'modified_huber', 'pena...</td>\n",
       "      <td>0.519298</td>\n",
       "      <td>0.008135</td>\n",
       "    </tr>\n",
       "    <tr>\n",
       "      <th>47</th>\n",
       "      <td>{'alpha': 0.1, 'loss': 'modified_huber', 'pena...</td>\n",
       "      <td>0.499123</td>\n",
       "      <td>0.012590</td>\n",
       "    </tr>\n",
       "  </tbody>\n",
       "</table>\n",
       "</div>"
      ],
      "text/plain": [
       "                                               params  mean_test_score  \\\n",
       "0   {'alpha': 0.0001, 'loss': 'hinge', 'penalty': ...         0.443860   \n",
       "1   {'alpha': 0.0001, 'loss': 'hinge', 'penalty': ...         0.443860   \n",
       "2   {'alpha': 0.0001, 'loss': 'hinge', 'penalty': ...         0.421930   \n",
       "3   {'alpha': 0.0001, 'loss': 'log', 'penalty': 'l2'}         0.399123   \n",
       "4   {'alpha': 0.0001, 'loss': 'log', 'penalty': 'l1'}         0.467544   \n",
       "5   {'alpha': 0.0001, 'loss': 'log', 'penalty': 'n...         0.431579   \n",
       "6   {'alpha': 0.0001, 'loss': 'squared_hinge', 'pe...         0.451754   \n",
       "7   {'alpha': 0.0001, 'loss': 'squared_hinge', 'pe...         0.405263   \n",
       "8   {'alpha': 0.0001, 'loss': 'squared_hinge', 'pe...         0.413158   \n",
       "9   {'alpha': 0.0001, 'loss': 'modified_huber', 'p...         0.424561   \n",
       "10  {'alpha': 0.0001, 'loss': 'modified_huber', 'p...         0.458772   \n",
       "11  {'alpha': 0.0001, 'loss': 'modified_huber', 'p...         0.358772   \n",
       "12  {'alpha': 0.001, 'loss': 'hinge', 'penalty': '...         0.444737   \n",
       "13  {'alpha': 0.001, 'loss': 'hinge', 'penalty': '...         0.463158   \n",
       "14  {'alpha': 0.001, 'loss': 'hinge', 'penalty': '...         0.485088   \n",
       "15   {'alpha': 0.001, 'loss': 'log', 'penalty': 'l2'}         0.465789   \n",
       "16   {'alpha': 0.001, 'loss': 'log', 'penalty': 'l1'}         0.499123   \n",
       "17  {'alpha': 0.001, 'loss': 'log', 'penalty': 'no...         0.463158   \n",
       "18  {'alpha': 0.001, 'loss': 'squared_hinge', 'pen...         0.392982   \n",
       "19  {'alpha': 0.001, 'loss': 'squared_hinge', 'pen...         0.440351   \n",
       "20  {'alpha': 0.001, 'loss': 'squared_hinge', 'pen...         0.354386   \n",
       "21  {'alpha': 0.001, 'loss': 'modified_huber', 'pe...         0.457018   \n",
       "22  {'alpha': 0.001, 'loss': 'modified_huber', 'pe...         0.453509   \n",
       "23  {'alpha': 0.001, 'loss': 'modified_huber', 'pe...         0.471930   \n",
       "24  {'alpha': 0.01, 'loss': 'hinge', 'penalty': 'l2'}         0.492105   \n",
       "25  {'alpha': 0.01, 'loss': 'hinge', 'penalty': 'l1'}         0.509649   \n",
       "26  {'alpha': 0.01, 'loss': 'hinge', 'penalty': 'n...         0.507895   \n",
       "27    {'alpha': 0.01, 'loss': 'log', 'penalty': 'l2'}         0.507895   \n",
       "28    {'alpha': 0.01, 'loss': 'log', 'penalty': 'l1'}         0.522807   \n",
       "29  {'alpha': 0.01, 'loss': 'log', 'penalty': 'none'}         0.503509   \n",
       "30  {'alpha': 0.01, 'loss': 'squared_hinge', 'pena...         0.475439   \n",
       "31  {'alpha': 0.01, 'loss': 'squared_hinge', 'pena...         0.481579   \n",
       "32  {'alpha': 0.01, 'loss': 'squared_hinge', 'pena...         0.462281   \n",
       "33  {'alpha': 0.01, 'loss': 'modified_huber', 'pen...         0.467544   \n",
       "34  {'alpha': 0.01, 'loss': 'modified_huber', 'pen...         0.494737   \n",
       "35  {'alpha': 0.01, 'loss': 'modified_huber', 'pen...         0.468421   \n",
       "36   {'alpha': 0.1, 'loss': 'hinge', 'penalty': 'l2'}         0.505263   \n",
       "37   {'alpha': 0.1, 'loss': 'hinge', 'penalty': 'l1'}         0.509649   \n",
       "38  {'alpha': 0.1, 'loss': 'hinge', 'penalty': 'no...         0.492982   \n",
       "39     {'alpha': 0.1, 'loss': 'log', 'penalty': 'l2'}         0.520175   \n",
       "40     {'alpha': 0.1, 'loss': 'log', 'penalty': 'l1'}         0.513158   \n",
       "41   {'alpha': 0.1, 'loss': 'log', 'penalty': 'none'}         0.504386   \n",
       "42  {'alpha': 0.1, 'loss': 'squared_hinge', 'penal...         0.464035   \n",
       "43  {'alpha': 0.1, 'loss': 'squared_hinge', 'penal...         0.418421   \n",
       "44  {'alpha': 0.1, 'loss': 'squared_hinge', 'penal...         0.421053   \n",
       "45  {'alpha': 0.1, 'loss': 'modified_huber', 'pena...         0.505263   \n",
       "46  {'alpha': 0.1, 'loss': 'modified_huber', 'pena...         0.519298   \n",
       "47  {'alpha': 0.1, 'loss': 'modified_huber', 'pena...         0.499123   \n",
       "\n",
       "    std_test_score  \n",
       "0         0.034401  \n",
       "1         0.038457  \n",
       "2         0.019378  \n",
       "3         0.028613  \n",
       "4         0.017368  \n",
       "5         0.007747  \n",
       "6         0.027376  \n",
       "7         0.023241  \n",
       "8         0.049559  \n",
       "9         0.025634  \n",
       "10        0.012218  \n",
       "11        0.016690  \n",
       "12        0.020721  \n",
       "13        0.030311  \n",
       "14        0.004473  \n",
       "15        0.004297  \n",
       "16        0.014307  \n",
       "17        0.028180  \n",
       "18        0.034735  \n",
       "19        0.033310  \n",
       "20        0.049435  \n",
       "21        0.010815  \n",
       "22        0.080664  \n",
       "23        0.027960  \n",
       "24        0.037278  \n",
       "25        0.015544  \n",
       "26        0.024214  \n",
       "27        0.019693  \n",
       "28        0.007546  \n",
       "29        0.010599  \n",
       "30        0.016127  \n",
       "31        0.027432  \n",
       "32        0.029330  \n",
       "33        0.038457  \n",
       "34        0.018358  \n",
       "35        0.014090  \n",
       "36        0.011370  \n",
       "37        0.007546  \n",
       "38        0.017891  \n",
       "39        0.010815  \n",
       "40        0.006446  \n",
       "41        0.011026  \n",
       "42        0.017234  \n",
       "43        0.011370  \n",
       "44        0.026837  \n",
       "45        0.018608  \n",
       "46        0.008135  \n",
       "47        0.012590  "
      ]
     },
     "execution_count": 101,
     "metadata": {},
     "output_type": "execute_result"
    }
   ],
   "source": [
    "gridcv.fit(X_train_pca, y_train)\n",
    "\n",
    "pd.DataFrame(gridcv.cv_results_)[['params', 'mean_test_score', 'std_test_score']]"
   ]
  },
  {
   "cell_type": "code",
   "execution_count": 60,
   "metadata": {},
   "outputs": [
    {
     "name": "stdout",
     "output_type": "stream",
     "text": [
      "SGDClassifier(alpha=0.01, loss='log', penalty='l1')\n",
      "0.5157894736842105\n"
     ]
    }
   ],
   "source": [
    "print(gridcv.best_estimator_)\n",
    "print(gridcv.best_score_)\n",
    "\n"
   ]
  },
  {
   "cell_type": "code",
   "execution_count": 102,
   "metadata": {},
   "outputs": [
    {
     "name": "stdout",
     "output_type": "stream",
     "text": [
      "              precision    recall  f1-score   support\n",
      "\n",
      "           1       0.47      0.85      0.61       115\n",
      "           2       0.59      0.51      0.55        90\n",
      "           3       0.00      0.00      0.00        80\n",
      "\n",
      "    accuracy                           0.51       285\n",
      "   macro avg       0.35      0.45      0.39       285\n",
      "weighted avg       0.38      0.51      0.42       285\n",
      "\n"
     ]
    },
    {
     "name": "stderr",
     "output_type": "stream",
     "text": [
      "/Users/mariella.decrouychan/Documents/GitHub/Bookmakerspy/.venv/lib/python3.8/site-packages/sklearn/metrics/_classification.py:1308: UndefinedMetricWarning: Precision and F-score are ill-defined and being set to 0.0 in labels with no predicted samples. Use `zero_division` parameter to control this behavior.\n",
      "  _warn_prf(average, modifier, msg_start, len(result))\n",
      "/Users/mariella.decrouychan/Documents/GitHub/Bookmakerspy/.venv/lib/python3.8/site-packages/sklearn/metrics/_classification.py:1308: UndefinedMetricWarning: Precision and F-score are ill-defined and being set to 0.0 in labels with no predicted samples. Use `zero_division` parameter to control this behavior.\n",
      "  _warn_prf(average, modifier, msg_start, len(result))\n",
      "/Users/mariella.decrouychan/Documents/GitHub/Bookmakerspy/.venv/lib/python3.8/site-packages/sklearn/metrics/_classification.py:1308: UndefinedMetricWarning: Precision and F-score are ill-defined and being set to 0.0 in labels with no predicted samples. Use `zero_division` parameter to control this behavior.\n",
      "  _warn_prf(average, modifier, msg_start, len(result))\n"
     ]
    }
   ],
   "source": [
    "# (['H','A','D'],[1,2,3])\n",
    "sgd_clf_opt1 = SGDClassifier(alpha=0.01, loss='log', penalty='l1', random_state=22)\n",
    "sgd_clf_opt1.fit(X_train_pca,y_train)\n",
    "y_pred = sgd_clf_opt1.predict(X_test_pca)\n",
    "\n",
    "print(classification_report(y_test, y_pred))"
   ]
  },
  {
   "cell_type": "markdown",
   "metadata": {},
   "source": [
    "-- sans PCA"
   ]
  },
  {
   "cell_type": "code",
   "execution_count": 103,
   "metadata": {},
   "outputs": [],
   "source": [
    "sgd_clf.fit(X_train_scaled,y_train)\n",
    "y_pred = sgd_clf.predict(X_test_scaled)"
   ]
  },
  {
   "cell_type": "code",
   "execution_count": 104,
   "metadata": {},
   "outputs": [
    {
     "data": {
      "text/html": [
       "<div>\n",
       "<style scoped>\n",
       "    .dataframe tbody tr th:only-of-type {\n",
       "        vertical-align: middle;\n",
       "    }\n",
       "\n",
       "    .dataframe tbody tr th {\n",
       "        vertical-align: top;\n",
       "    }\n",
       "\n",
       "    .dataframe thead th {\n",
       "        text-align: right;\n",
       "    }\n",
       "</style>\n",
       "<table border=\"1\" class=\"dataframe\">\n",
       "  <thead>\n",
       "    <tr style=\"text-align: right;\">\n",
       "      <th>Classes prédites</th>\n",
       "      <th>1</th>\n",
       "      <th>2</th>\n",
       "      <th>3</th>\n",
       "    </tr>\n",
       "    <tr>\n",
       "      <th>Classes réelles</th>\n",
       "      <th></th>\n",
       "      <th></th>\n",
       "      <th></th>\n",
       "    </tr>\n",
       "  </thead>\n",
       "  <tbody>\n",
       "    <tr>\n",
       "      <th>1</th>\n",
       "      <td>69</td>\n",
       "      <td>30</td>\n",
       "      <td>16</td>\n",
       "    </tr>\n",
       "    <tr>\n",
       "      <th>2</th>\n",
       "      <td>33</td>\n",
       "      <td>43</td>\n",
       "      <td>14</td>\n",
       "    </tr>\n",
       "    <tr>\n",
       "      <th>3</th>\n",
       "      <td>49</td>\n",
       "      <td>22</td>\n",
       "      <td>9</td>\n",
       "    </tr>\n",
       "  </tbody>\n",
       "</table>\n",
       "</div>"
      ],
      "text/plain": [
       "Classes prédites   1   2   3\n",
       "Classes réelles             \n",
       "1                 69  30  16\n",
       "2                 33  43  14\n",
       "3                 49  22   9"
      ]
     },
     "execution_count": 104,
     "metadata": {},
     "output_type": "execute_result"
    }
   ],
   "source": [
    "pd.crosstab(y_test,y_pred, rownames=['Classes réelles'], colnames=['Classes prédites'])"
   ]
  },
  {
   "cell_type": "code",
   "execution_count": 105,
   "metadata": {},
   "outputs": [
    {
     "name": "stdout",
     "output_type": "stream",
     "text": [
      "0.4245614035087719\n"
     ]
    }
   ],
   "source": [
    "accuracy = accuracy_score(y_test, y_pred)\n",
    "print(accuracy)"
   ]
  },
  {
   "cell_type": "code",
   "execution_count": 106,
   "metadata": {},
   "outputs": [],
   "source": [
    "gridcv = GridSearchCV(sgd_clf, param_grid=params, scoring='accuracy', cv=3) "
   ]
  },
  {
   "cell_type": "code",
   "execution_count": 107,
   "metadata": {},
   "outputs": [
    {
     "name": "stderr",
     "output_type": "stream",
     "text": [
      "/Users/mariella.decrouychan/Documents/GitHub/Bookmakerspy/.venv/lib/python3.8/site-packages/sklearn/linear_model/_stochastic_gradient.py:696: ConvergenceWarning: Maximum number of iteration reached before convergence. Consider increasing max_iter to improve the fit.\n",
      "  warnings.warn(\n",
      "/Users/mariella.decrouychan/Documents/GitHub/Bookmakerspy/.venv/lib/python3.8/site-packages/sklearn/linear_model/_stochastic_gradient.py:696: ConvergenceWarning: Maximum number of iteration reached before convergence. Consider increasing max_iter to improve the fit.\n",
      "  warnings.warn(\n",
      "/Users/mariella.decrouychan/Documents/GitHub/Bookmakerspy/.venv/lib/python3.8/site-packages/sklearn/linear_model/_stochastic_gradient.py:696: ConvergenceWarning: Maximum number of iteration reached before convergence. Consider increasing max_iter to improve the fit.\n",
      "  warnings.warn(\n",
      "/Users/mariella.decrouychan/Documents/GitHub/Bookmakerspy/.venv/lib/python3.8/site-packages/sklearn/linear_model/_stochastic_gradient.py:696: ConvergenceWarning: Maximum number of iteration reached before convergence. Consider increasing max_iter to improve the fit.\n",
      "  warnings.warn(\n",
      "/Users/mariella.decrouychan/Documents/GitHub/Bookmakerspy/.venv/lib/python3.8/site-packages/sklearn/linear_model/_stochastic_gradient.py:696: ConvergenceWarning: Maximum number of iteration reached before convergence. Consider increasing max_iter to improve the fit.\n",
      "  warnings.warn(\n",
      "/Users/mariella.decrouychan/Documents/GitHub/Bookmakerspy/.venv/lib/python3.8/site-packages/sklearn/linear_model/_stochastic_gradient.py:696: ConvergenceWarning: Maximum number of iteration reached before convergence. Consider increasing max_iter to improve the fit.\n",
      "  warnings.warn(\n",
      "/Users/mariella.decrouychan/Documents/GitHub/Bookmakerspy/.venv/lib/python3.8/site-packages/sklearn/linear_model/_stochastic_gradient.py:696: ConvergenceWarning: Maximum number of iteration reached before convergence. Consider increasing max_iter to improve the fit.\n",
      "  warnings.warn(\n",
      "/Users/mariella.decrouychan/Documents/GitHub/Bookmakerspy/.venv/lib/python3.8/site-packages/sklearn/linear_model/_stochastic_gradient.py:696: ConvergenceWarning: Maximum number of iteration reached before convergence. Consider increasing max_iter to improve the fit.\n",
      "  warnings.warn(\n",
      "/Users/mariella.decrouychan/Documents/GitHub/Bookmakerspy/.venv/lib/python3.8/site-packages/sklearn/linear_model/_stochastic_gradient.py:696: ConvergenceWarning: Maximum number of iteration reached before convergence. Consider increasing max_iter to improve the fit.\n",
      "  warnings.warn(\n",
      "/Users/mariella.decrouychan/Documents/GitHub/Bookmakerspy/.venv/lib/python3.8/site-packages/sklearn/linear_model/_stochastic_gradient.py:696: ConvergenceWarning: Maximum number of iteration reached before convergence. Consider increasing max_iter to improve the fit.\n",
      "  warnings.warn(\n",
      "/Users/mariella.decrouychan/Documents/GitHub/Bookmakerspy/.venv/lib/python3.8/site-packages/sklearn/linear_model/_stochastic_gradient.py:696: ConvergenceWarning: Maximum number of iteration reached before convergence. Consider increasing max_iter to improve the fit.\n",
      "  warnings.warn(\n",
      "/Users/mariella.decrouychan/Documents/GitHub/Bookmakerspy/.venv/lib/python3.8/site-packages/sklearn/linear_model/_stochastic_gradient.py:696: ConvergenceWarning: Maximum number of iteration reached before convergence. Consider increasing max_iter to improve the fit.\n",
      "  warnings.warn(\n"
     ]
    },
    {
     "data": {
      "text/html": [
       "<div>\n",
       "<style scoped>\n",
       "    .dataframe tbody tr th:only-of-type {\n",
       "        vertical-align: middle;\n",
       "    }\n",
       "\n",
       "    .dataframe tbody tr th {\n",
       "        vertical-align: top;\n",
       "    }\n",
       "\n",
       "    .dataframe thead th {\n",
       "        text-align: right;\n",
       "    }\n",
       "</style>\n",
       "<table border=\"1\" class=\"dataframe\">\n",
       "  <thead>\n",
       "    <tr style=\"text-align: right;\">\n",
       "      <th></th>\n",
       "      <th>params</th>\n",
       "      <th>mean_test_score</th>\n",
       "      <th>std_test_score</th>\n",
       "    </tr>\n",
       "  </thead>\n",
       "  <tbody>\n",
       "    <tr>\n",
       "      <th>0</th>\n",
       "      <td>{'alpha': 0.0001, 'loss': 'hinge', 'penalty': ...</td>\n",
       "      <td>0.416667</td>\n",
       "      <td>0.027712</td>\n",
       "    </tr>\n",
       "    <tr>\n",
       "      <th>1</th>\n",
       "      <td>{'alpha': 0.0001, 'loss': 'hinge', 'penalty': ...</td>\n",
       "      <td>0.422807</td>\n",
       "      <td>0.010154</td>\n",
       "    </tr>\n",
       "    <tr>\n",
       "      <th>2</th>\n",
       "      <td>{'alpha': 0.0001, 'loss': 'hinge', 'penalty': ...</td>\n",
       "      <td>0.422807</td>\n",
       "      <td>0.010154</td>\n",
       "    </tr>\n",
       "    <tr>\n",
       "      <th>3</th>\n",
       "      <td>{'alpha': 0.0001, 'loss': 'log', 'penalty': 'l2'}</td>\n",
       "      <td>0.464912</td>\n",
       "      <td>0.018020</td>\n",
       "    </tr>\n",
       "    <tr>\n",
       "      <th>4</th>\n",
       "      <td>{'alpha': 0.0001, 'loss': 'log', 'penalty': 'l1'}</td>\n",
       "      <td>0.404386</td>\n",
       "      <td>0.079511</td>\n",
       "    </tr>\n",
       "    <tr>\n",
       "      <th>5</th>\n",
       "      <td>{'alpha': 0.0001, 'loss': 'log', 'penalty': 'n...</td>\n",
       "      <td>0.413158</td>\n",
       "      <td>0.018608</td>\n",
       "    </tr>\n",
       "    <tr>\n",
       "      <th>6</th>\n",
       "      <td>{'alpha': 0.0001, 'loss': 'squared_hinge', 'pe...</td>\n",
       "      <td>0.428070</td>\n",
       "      <td>0.076583</td>\n",
       "    </tr>\n",
       "    <tr>\n",
       "      <th>7</th>\n",
       "      <td>{'alpha': 0.0001, 'loss': 'squared_hinge', 'pe...</td>\n",
       "      <td>0.430702</td>\n",
       "      <td>0.019497</td>\n",
       "    </tr>\n",
       "    <tr>\n",
       "      <th>8</th>\n",
       "      <td>{'alpha': 0.0001, 'loss': 'squared_hinge', 'pe...</td>\n",
       "      <td>0.381579</td>\n",
       "      <td>0.040255</td>\n",
       "    </tr>\n",
       "    <tr>\n",
       "      <th>9</th>\n",
       "      <td>{'alpha': 0.0001, 'loss': 'modified_huber', 'p...</td>\n",
       "      <td>0.416667</td>\n",
       "      <td>0.023668</td>\n",
       "    </tr>\n",
       "    <tr>\n",
       "      <th>10</th>\n",
       "      <td>{'alpha': 0.0001, 'loss': 'modified_huber', 'p...</td>\n",
       "      <td>0.395614</td>\n",
       "      <td>0.042014</td>\n",
       "    </tr>\n",
       "    <tr>\n",
       "      <th>11</th>\n",
       "      <td>{'alpha': 0.0001, 'loss': 'modified_huber', 'p...</td>\n",
       "      <td>0.438596</td>\n",
       "      <td>0.023765</td>\n",
       "    </tr>\n",
       "    <tr>\n",
       "      <th>12</th>\n",
       "      <td>{'alpha': 0.001, 'loss': 'hinge', 'penalty': '...</td>\n",
       "      <td>0.450000</td>\n",
       "      <td>0.029539</td>\n",
       "    </tr>\n",
       "    <tr>\n",
       "      <th>13</th>\n",
       "      <td>{'alpha': 0.001, 'loss': 'hinge', 'penalty': '...</td>\n",
       "      <td>0.475439</td>\n",
       "      <td>0.031676</td>\n",
       "    </tr>\n",
       "    <tr>\n",
       "      <th>14</th>\n",
       "      <td>{'alpha': 0.001, 'loss': 'hinge', 'penalty': '...</td>\n",
       "      <td>0.461404</td>\n",
       "      <td>0.024904</td>\n",
       "    </tr>\n",
       "    <tr>\n",
       "      <th>15</th>\n",
       "      <td>{'alpha': 0.001, 'loss': 'log', 'penalty': 'l2'}</td>\n",
       "      <td>0.467544</td>\n",
       "      <td>0.015244</td>\n",
       "    </tr>\n",
       "    <tr>\n",
       "      <th>16</th>\n",
       "      <td>{'alpha': 0.001, 'loss': 'log', 'penalty': 'l1'}</td>\n",
       "      <td>0.485088</td>\n",
       "      <td>0.008135</td>\n",
       "    </tr>\n",
       "    <tr>\n",
       "      <th>17</th>\n",
       "      <td>{'alpha': 0.001, 'loss': 'log', 'penalty': 'no...</td>\n",
       "      <td>0.457018</td>\n",
       "      <td>0.020308</td>\n",
       "    </tr>\n",
       "    <tr>\n",
       "      <th>18</th>\n",
       "      <td>{'alpha': 0.001, 'loss': 'squared_hinge', 'pen...</td>\n",
       "      <td>0.348246</td>\n",
       "      <td>0.026520</td>\n",
       "    </tr>\n",
       "    <tr>\n",
       "      <th>19</th>\n",
       "      <td>{'alpha': 0.001, 'loss': 'squared_hinge', 'pen...</td>\n",
       "      <td>0.358772</td>\n",
       "      <td>0.002481</td>\n",
       "    </tr>\n",
       "    <tr>\n",
       "      <th>20</th>\n",
       "      <td>{'alpha': 0.001, 'loss': 'squared_hinge', 'pen...</td>\n",
       "      <td>0.379825</td>\n",
       "      <td>0.037729</td>\n",
       "    </tr>\n",
       "    <tr>\n",
       "      <th>21</th>\n",
       "      <td>{'alpha': 0.001, 'loss': 'modified_huber', 'pe...</td>\n",
       "      <td>0.407895</td>\n",
       "      <td>0.029539</td>\n",
       "    </tr>\n",
       "    <tr>\n",
       "      <th>22</th>\n",
       "      <td>{'alpha': 0.001, 'loss': 'modified_huber', 'pe...</td>\n",
       "      <td>0.369298</td>\n",
       "      <td>0.003282</td>\n",
       "    </tr>\n",
       "    <tr>\n",
       "      <th>23</th>\n",
       "      <td>{'alpha': 0.001, 'loss': 'modified_huber', 'pe...</td>\n",
       "      <td>0.387719</td>\n",
       "      <td>0.037545</td>\n",
       "    </tr>\n",
       "    <tr>\n",
       "      <th>24</th>\n",
       "      <td>{'alpha': 0.01, 'loss': 'hinge', 'penalty': 'l2'}</td>\n",
       "      <td>0.498246</td>\n",
       "      <td>0.014307</td>\n",
       "    </tr>\n",
       "    <tr>\n",
       "      <th>25</th>\n",
       "      <td>{'alpha': 0.01, 'loss': 'hinge', 'penalty': 'l1'}</td>\n",
       "      <td>0.506140</td>\n",
       "      <td>0.015838</td>\n",
       "    </tr>\n",
       "    <tr>\n",
       "      <th>26</th>\n",
       "      <td>{'alpha': 0.01, 'loss': 'hinge', 'penalty': 'n...</td>\n",
       "      <td>0.492105</td>\n",
       "      <td>0.013070</td>\n",
       "    </tr>\n",
       "    <tr>\n",
       "      <th>27</th>\n",
       "      <td>{'alpha': 0.01, 'loss': 'log', 'penalty': 'l2'}</td>\n",
       "      <td>0.485965</td>\n",
       "      <td>0.020422</td>\n",
       "    </tr>\n",
       "    <tr>\n",
       "      <th>28</th>\n",
       "      <td>{'alpha': 0.01, 'loss': 'log', 'penalty': 'l1'}</td>\n",
       "      <td>0.514912</td>\n",
       "      <td>0.009689</td>\n",
       "    </tr>\n",
       "    <tr>\n",
       "      <th>29</th>\n",
       "      <td>{'alpha': 0.01, 'loss': 'log', 'penalty': 'none'}</td>\n",
       "      <td>0.488596</td>\n",
       "      <td>0.023175</td>\n",
       "    </tr>\n",
       "    <tr>\n",
       "      <th>30</th>\n",
       "      <td>{'alpha': 0.01, 'loss': 'squared_hinge', 'pena...</td>\n",
       "      <td>0.391228</td>\n",
       "      <td>0.024718</td>\n",
       "    </tr>\n",
       "    <tr>\n",
       "      <th>31</th>\n",
       "      <td>{'alpha': 0.01, 'loss': 'squared_hinge', 'pena...</td>\n",
       "      <td>0.372807</td>\n",
       "      <td>0.022975</td>\n",
       "    </tr>\n",
       "    <tr>\n",
       "      <th>32</th>\n",
       "      <td>{'alpha': 0.01, 'loss': 'squared_hinge', 'pena...</td>\n",
       "      <td>0.380702</td>\n",
       "      <td>0.019258</td>\n",
       "    </tr>\n",
       "    <tr>\n",
       "      <th>33</th>\n",
       "      <td>{'alpha': 0.01, 'loss': 'modified_huber', 'pen...</td>\n",
       "      <td>0.453509</td>\n",
       "      <td>0.026866</td>\n",
       "    </tr>\n",
       "    <tr>\n",
       "      <th>34</th>\n",
       "      <td>{'alpha': 0.01, 'loss': 'modified_huber', 'pen...</td>\n",
       "      <td>0.507018</td>\n",
       "      <td>0.016127</td>\n",
       "    </tr>\n",
       "    <tr>\n",
       "      <th>35</th>\n",
       "      <td>{'alpha': 0.01, 'loss': 'modified_huber', 'pen...</td>\n",
       "      <td>0.464912</td>\n",
       "      <td>0.018525</td>\n",
       "    </tr>\n",
       "    <tr>\n",
       "      <th>36</th>\n",
       "      <td>{'alpha': 0.1, 'loss': 'hinge', 'penalty': 'l2'}</td>\n",
       "      <td>0.506140</td>\n",
       "      <td>0.013129</td>\n",
       "    </tr>\n",
       "    <tr>\n",
       "      <th>37</th>\n",
       "      <td>{'alpha': 0.1, 'loss': 'hinge', 'penalty': 'l1'}</td>\n",
       "      <td>0.475439</td>\n",
       "      <td>0.006907</td>\n",
       "    </tr>\n",
       "    <tr>\n",
       "      <th>38</th>\n",
       "      <td>{'alpha': 0.1, 'loss': 'hinge', 'penalty': 'no...</td>\n",
       "      <td>0.465789</td>\n",
       "      <td>0.018608</td>\n",
       "    </tr>\n",
       "    <tr>\n",
       "      <th>39</th>\n",
       "      <td>{'alpha': 0.1, 'loss': 'log', 'penalty': 'l2'}</td>\n",
       "      <td>0.515789</td>\n",
       "      <td>0.015494</td>\n",
       "    </tr>\n",
       "    <tr>\n",
       "      <th>40</th>\n",
       "      <td>{'alpha': 0.1, 'loss': 'log', 'penalty': 'l1'}</td>\n",
       "      <td>0.474561</td>\n",
       "      <td>0.001241</td>\n",
       "    </tr>\n",
       "    <tr>\n",
       "      <th>41</th>\n",
       "      <td>{'alpha': 0.1, 'loss': 'log', 'penalty': 'none'}</td>\n",
       "      <td>0.464035</td>\n",
       "      <td>0.008946</td>\n",
       "    </tr>\n",
       "    <tr>\n",
       "      <th>42</th>\n",
       "      <td>{'alpha': 0.1, 'loss': 'squared_hinge', 'penal...</td>\n",
       "      <td>0.411404</td>\n",
       "      <td>0.034267</td>\n",
       "    </tr>\n",
       "    <tr>\n",
       "      <th>43</th>\n",
       "      <td>{'alpha': 0.1, 'loss': 'squared_hinge', 'penal...</td>\n",
       "      <td>0.378070</td>\n",
       "      <td>0.014626</td>\n",
       "    </tr>\n",
       "    <tr>\n",
       "      <th>44</th>\n",
       "      <td>{'alpha': 0.1, 'loss': 'squared_hinge', 'penal...</td>\n",
       "      <td>0.399123</td>\n",
       "      <td>0.008135</td>\n",
       "    </tr>\n",
       "    <tr>\n",
       "      <th>45</th>\n",
       "      <td>{'alpha': 0.1, 'loss': 'modified_huber', 'pena...</td>\n",
       "      <td>0.499123</td>\n",
       "      <td>0.020647</td>\n",
       "    </tr>\n",
       "    <tr>\n",
       "      <th>46</th>\n",
       "      <td>{'alpha': 0.1, 'loss': 'modified_huber', 'pena...</td>\n",
       "      <td>0.508772</td>\n",
       "      <td>0.012952</td>\n",
       "    </tr>\n",
       "    <tr>\n",
       "      <th>47</th>\n",
       "      <td>{'alpha': 0.1, 'loss': 'modified_huber', 'pena...</td>\n",
       "      <td>0.460526</td>\n",
       "      <td>0.009366</td>\n",
       "    </tr>\n",
       "  </tbody>\n",
       "</table>\n",
       "</div>"
      ],
      "text/plain": [
       "                                               params  mean_test_score  \\\n",
       "0   {'alpha': 0.0001, 'loss': 'hinge', 'penalty': ...         0.416667   \n",
       "1   {'alpha': 0.0001, 'loss': 'hinge', 'penalty': ...         0.422807   \n",
       "2   {'alpha': 0.0001, 'loss': 'hinge', 'penalty': ...         0.422807   \n",
       "3   {'alpha': 0.0001, 'loss': 'log', 'penalty': 'l2'}         0.464912   \n",
       "4   {'alpha': 0.0001, 'loss': 'log', 'penalty': 'l1'}         0.404386   \n",
       "5   {'alpha': 0.0001, 'loss': 'log', 'penalty': 'n...         0.413158   \n",
       "6   {'alpha': 0.0001, 'loss': 'squared_hinge', 'pe...         0.428070   \n",
       "7   {'alpha': 0.0001, 'loss': 'squared_hinge', 'pe...         0.430702   \n",
       "8   {'alpha': 0.0001, 'loss': 'squared_hinge', 'pe...         0.381579   \n",
       "9   {'alpha': 0.0001, 'loss': 'modified_huber', 'p...         0.416667   \n",
       "10  {'alpha': 0.0001, 'loss': 'modified_huber', 'p...         0.395614   \n",
       "11  {'alpha': 0.0001, 'loss': 'modified_huber', 'p...         0.438596   \n",
       "12  {'alpha': 0.001, 'loss': 'hinge', 'penalty': '...         0.450000   \n",
       "13  {'alpha': 0.001, 'loss': 'hinge', 'penalty': '...         0.475439   \n",
       "14  {'alpha': 0.001, 'loss': 'hinge', 'penalty': '...         0.461404   \n",
       "15   {'alpha': 0.001, 'loss': 'log', 'penalty': 'l2'}         0.467544   \n",
       "16   {'alpha': 0.001, 'loss': 'log', 'penalty': 'l1'}         0.485088   \n",
       "17  {'alpha': 0.001, 'loss': 'log', 'penalty': 'no...         0.457018   \n",
       "18  {'alpha': 0.001, 'loss': 'squared_hinge', 'pen...         0.348246   \n",
       "19  {'alpha': 0.001, 'loss': 'squared_hinge', 'pen...         0.358772   \n",
       "20  {'alpha': 0.001, 'loss': 'squared_hinge', 'pen...         0.379825   \n",
       "21  {'alpha': 0.001, 'loss': 'modified_huber', 'pe...         0.407895   \n",
       "22  {'alpha': 0.001, 'loss': 'modified_huber', 'pe...         0.369298   \n",
       "23  {'alpha': 0.001, 'loss': 'modified_huber', 'pe...         0.387719   \n",
       "24  {'alpha': 0.01, 'loss': 'hinge', 'penalty': 'l2'}         0.498246   \n",
       "25  {'alpha': 0.01, 'loss': 'hinge', 'penalty': 'l1'}         0.506140   \n",
       "26  {'alpha': 0.01, 'loss': 'hinge', 'penalty': 'n...         0.492105   \n",
       "27    {'alpha': 0.01, 'loss': 'log', 'penalty': 'l2'}         0.485965   \n",
       "28    {'alpha': 0.01, 'loss': 'log', 'penalty': 'l1'}         0.514912   \n",
       "29  {'alpha': 0.01, 'loss': 'log', 'penalty': 'none'}         0.488596   \n",
       "30  {'alpha': 0.01, 'loss': 'squared_hinge', 'pena...         0.391228   \n",
       "31  {'alpha': 0.01, 'loss': 'squared_hinge', 'pena...         0.372807   \n",
       "32  {'alpha': 0.01, 'loss': 'squared_hinge', 'pena...         0.380702   \n",
       "33  {'alpha': 0.01, 'loss': 'modified_huber', 'pen...         0.453509   \n",
       "34  {'alpha': 0.01, 'loss': 'modified_huber', 'pen...         0.507018   \n",
       "35  {'alpha': 0.01, 'loss': 'modified_huber', 'pen...         0.464912   \n",
       "36   {'alpha': 0.1, 'loss': 'hinge', 'penalty': 'l2'}         0.506140   \n",
       "37   {'alpha': 0.1, 'loss': 'hinge', 'penalty': 'l1'}         0.475439   \n",
       "38  {'alpha': 0.1, 'loss': 'hinge', 'penalty': 'no...         0.465789   \n",
       "39     {'alpha': 0.1, 'loss': 'log', 'penalty': 'l2'}         0.515789   \n",
       "40     {'alpha': 0.1, 'loss': 'log', 'penalty': 'l1'}         0.474561   \n",
       "41   {'alpha': 0.1, 'loss': 'log', 'penalty': 'none'}         0.464035   \n",
       "42  {'alpha': 0.1, 'loss': 'squared_hinge', 'penal...         0.411404   \n",
       "43  {'alpha': 0.1, 'loss': 'squared_hinge', 'penal...         0.378070   \n",
       "44  {'alpha': 0.1, 'loss': 'squared_hinge', 'penal...         0.399123   \n",
       "45  {'alpha': 0.1, 'loss': 'modified_huber', 'pena...         0.499123   \n",
       "46  {'alpha': 0.1, 'loss': 'modified_huber', 'pena...         0.508772   \n",
       "47  {'alpha': 0.1, 'loss': 'modified_huber', 'pena...         0.460526   \n",
       "\n",
       "    std_test_score  \n",
       "0         0.027712  \n",
       "1         0.010154  \n",
       "2         0.010154  \n",
       "3         0.018020  \n",
       "4         0.079511  \n",
       "5         0.018608  \n",
       "6         0.076583  \n",
       "7         0.019497  \n",
       "8         0.040255  \n",
       "9         0.023668  \n",
       "10        0.042014  \n",
       "11        0.023765  \n",
       "12        0.029539  \n",
       "13        0.031676  \n",
       "14        0.024904  \n",
       "15        0.015244  \n",
       "16        0.008135  \n",
       "17        0.020308  \n",
       "18        0.026520  \n",
       "19        0.002481  \n",
       "20        0.037729  \n",
       "21        0.029539  \n",
       "22        0.003282  \n",
       "23        0.037545  \n",
       "24        0.014307  \n",
       "25        0.015838  \n",
       "26        0.013070  \n",
       "27        0.020422  \n",
       "28        0.009689  \n",
       "29        0.023175  \n",
       "30        0.024718  \n",
       "31        0.022975  \n",
       "32        0.019258  \n",
       "33        0.026866  \n",
       "34        0.016127  \n",
       "35        0.018525  \n",
       "36        0.013129  \n",
       "37        0.006907  \n",
       "38        0.018608  \n",
       "39        0.015494  \n",
       "40        0.001241  \n",
       "41        0.008946  \n",
       "42        0.034267  \n",
       "43        0.014626  \n",
       "44        0.008135  \n",
       "45        0.020647  \n",
       "46        0.012952  \n",
       "47        0.009366  "
      ]
     },
     "execution_count": 107,
     "metadata": {},
     "output_type": "execute_result"
    }
   ],
   "source": [
    "gridcv.fit(X_train_scaled, y_train)\n",
    "\n",
    "pd.DataFrame(gridcv.cv_results_)[['params', 'mean_test_score', 'std_test_score']]"
   ]
  },
  {
   "cell_type": "code",
   "execution_count": 108,
   "metadata": {},
   "outputs": [
    {
     "name": "stdout",
     "output_type": "stream",
     "text": [
      "SGDClassifier(alpha=0.1, loss='log')\n",
      "0.5157894736842105\n"
     ]
    }
   ],
   "source": [
    "print(gridcv.best_estimator_)\n",
    "print(gridcv.best_score_)"
   ]
  },
  {
   "cell_type": "code",
   "execution_count": 109,
   "metadata": {},
   "outputs": [
    {
     "name": "stdout",
     "output_type": "stream",
     "text": [
      "              precision    recall  f1-score   support\n",
      "\n",
      "           1       0.48      0.85      0.61       115\n",
      "           2       0.61      0.53      0.57        90\n",
      "           3       0.00      0.00      0.00        80\n",
      "\n",
      "    accuracy                           0.51       285\n",
      "   macro avg       0.36      0.46      0.39       285\n",
      "weighted avg       0.38      0.51      0.43       285\n",
      "\n"
     ]
    },
    {
     "name": "stderr",
     "output_type": "stream",
     "text": [
      "/Users/mariella.decrouychan/Documents/GitHub/Bookmakerspy/.venv/lib/python3.8/site-packages/sklearn/metrics/_classification.py:1308: UndefinedMetricWarning: Precision and F-score are ill-defined and being set to 0.0 in labels with no predicted samples. Use `zero_division` parameter to control this behavior.\n",
      "  _warn_prf(average, modifier, msg_start, len(result))\n",
      "/Users/mariella.decrouychan/Documents/GitHub/Bookmakerspy/.venv/lib/python3.8/site-packages/sklearn/metrics/_classification.py:1308: UndefinedMetricWarning: Precision and F-score are ill-defined and being set to 0.0 in labels with no predicted samples. Use `zero_division` parameter to control this behavior.\n",
      "  _warn_prf(average, modifier, msg_start, len(result))\n",
      "/Users/mariella.decrouychan/Documents/GitHub/Bookmakerspy/.venv/lib/python3.8/site-packages/sklearn/metrics/_classification.py:1308: UndefinedMetricWarning: Precision and F-score are ill-defined and being set to 0.0 in labels with no predicted samples. Use `zero_division` parameter to control this behavior.\n",
      "  _warn_prf(average, modifier, msg_start, len(result))\n"
     ]
    }
   ],
   "source": [
    "# (['H','A','D'],[1,2,3])\n",
    "sgd_clf_opt2 = SGDClassifier(alpha=0.01, loss='log', penalty='l1', random_state=22)\n",
    "sgd_clf_opt2.fit(X_train_scaled,y_train)\n",
    "y_pred = sgd_clf_opt2.predict(X_test_scaled)\n",
    "\n",
    "print(classification_report(y_test, y_pred))"
   ]
  },
  {
   "cell_type": "markdown",
   "metadata": {},
   "source": [
    "- Random Forest"
   ]
  },
  {
   "cell_type": "code",
   "execution_count": 110,
   "metadata": {},
   "outputs": [],
   "source": [
    "from sklearn import ensemble"
   ]
  },
  {
   "cell_type": "code",
   "execution_count": 111,
   "metadata": {},
   "outputs": [],
   "source": [
    "clf_rf = ensemble.RandomForestClassifier(n_jobs=-1, random_state=321)"
   ]
  },
  {
   "cell_type": "markdown",
   "metadata": {},
   "source": [
    "-- Avec PCA"
   ]
  },
  {
   "cell_type": "code",
   "execution_count": 112,
   "metadata": {},
   "outputs": [
    {
     "data": {
      "text/plain": [
       "RandomForestClassifier(n_jobs=-1, random_state=321)"
      ]
     },
     "execution_count": 112,
     "metadata": {},
     "output_type": "execute_result"
    }
   ],
   "source": [
    "clf_rf.fit(X_train_pca, y_train)"
   ]
  },
  {
   "cell_type": "code",
   "execution_count": 113,
   "metadata": {},
   "outputs": [
    {
     "data": {
      "text/html": [
       "<div>\n",
       "<style scoped>\n",
       "    .dataframe tbody tr th:only-of-type {\n",
       "        vertical-align: middle;\n",
       "    }\n",
       "\n",
       "    .dataframe tbody tr th {\n",
       "        vertical-align: top;\n",
       "    }\n",
       "\n",
       "    .dataframe thead th {\n",
       "        text-align: right;\n",
       "    }\n",
       "</style>\n",
       "<table border=\"1\" class=\"dataframe\">\n",
       "  <thead>\n",
       "    <tr style=\"text-align: right;\">\n",
       "      <th>Classe prédite</th>\n",
       "      <th>1</th>\n",
       "      <th>2</th>\n",
       "      <th>3</th>\n",
       "    </tr>\n",
       "    <tr>\n",
       "      <th>Classe réelle</th>\n",
       "      <th></th>\n",
       "      <th></th>\n",
       "      <th></th>\n",
       "    </tr>\n",
       "  </thead>\n",
       "  <tbody>\n",
       "    <tr>\n",
       "      <th>1</th>\n",
       "      <td>97</td>\n",
       "      <td>13</td>\n",
       "      <td>5</td>\n",
       "    </tr>\n",
       "    <tr>\n",
       "      <th>2</th>\n",
       "      <td>54</td>\n",
       "      <td>36</td>\n",
       "      <td>0</td>\n",
       "    </tr>\n",
       "    <tr>\n",
       "      <th>3</th>\n",
       "      <td>61</td>\n",
       "      <td>17</td>\n",
       "      <td>2</td>\n",
       "    </tr>\n",
       "  </tbody>\n",
       "</table>\n",
       "</div>"
      ],
      "text/plain": [
       "Classe prédite   1   2  3\n",
       "Classe réelle            \n",
       "1               97  13  5\n",
       "2               54  36  0\n",
       "3               61  17  2"
      ]
     },
     "execution_count": 113,
     "metadata": {},
     "output_type": "execute_result"
    }
   ],
   "source": [
    "y_pred = clf_rf.predict(X_test_pca)\n",
    "pd.crosstab(y_test, y_pred, rownames=['Classe réelle'], colnames=['Classe prédite'])"
   ]
  },
  {
   "cell_type": "code",
   "execution_count": 114,
   "metadata": {},
   "outputs": [
    {
     "name": "stdout",
     "output_type": "stream",
     "text": [
      "0.47368421052631576\n"
     ]
    }
   ],
   "source": [
    "accuracy = accuracy_score(y_test, y_pred)\n",
    "print(accuracy)"
   ]
  },
  {
   "cell_type": "code",
   "execution_count": 115,
   "metadata": {},
   "outputs": [],
   "source": [
    "param_grid_rf = [{'n_estimators': [10, 50, 100, 250, 500, 1000], \n",
    "                  'min_samples_leaf': [1, 3, 5], \n",
    "                  'max_features': ['sqrt', 'log2']}]"
   ]
  },
  {
   "cell_type": "code",
   "execution_count": 116,
   "metadata": {},
   "outputs": [],
   "source": [
    "gridcv = GridSearchCV(clf_rf, param_grid=param_grid_rf, scoring='accuracy', cv=3) "
   ]
  },
  {
   "cell_type": "code",
   "execution_count": 117,
   "metadata": {},
   "outputs": [
    {
     "data": {
      "text/html": [
       "<div>\n",
       "<style scoped>\n",
       "    .dataframe tbody tr th:only-of-type {\n",
       "        vertical-align: middle;\n",
       "    }\n",
       "\n",
       "    .dataframe tbody tr th {\n",
       "        vertical-align: top;\n",
       "    }\n",
       "\n",
       "    .dataframe thead th {\n",
       "        text-align: right;\n",
       "    }\n",
       "</style>\n",
       "<table border=\"1\" class=\"dataframe\">\n",
       "  <thead>\n",
       "    <tr style=\"text-align: right;\">\n",
       "      <th></th>\n",
       "      <th>params</th>\n",
       "      <th>mean_test_score</th>\n",
       "      <th>std_test_score</th>\n",
       "    </tr>\n",
       "  </thead>\n",
       "  <tbody>\n",
       "    <tr>\n",
       "      <th>0</th>\n",
       "      <td>{'max_features': 'sqrt', 'min_samples_leaf': 1...</td>\n",
       "      <td>0.447368</td>\n",
       "      <td>0.016222</td>\n",
       "    </tr>\n",
       "    <tr>\n",
       "      <th>1</th>\n",
       "      <td>{'max_features': 'sqrt', 'min_samples_leaf': 1...</td>\n",
       "      <td>0.490351</td>\n",
       "      <td>0.014307</td>\n",
       "    </tr>\n",
       "    <tr>\n",
       "      <th>2</th>\n",
       "      <td>{'max_features': 'sqrt', 'min_samples_leaf': 1...</td>\n",
       "      <td>0.480702</td>\n",
       "      <td>0.023959</td>\n",
       "    </tr>\n",
       "    <tr>\n",
       "      <th>3</th>\n",
       "      <td>{'max_features': 'sqrt', 'min_samples_leaf': 1...</td>\n",
       "      <td>0.478947</td>\n",
       "      <td>0.002149</td>\n",
       "    </tr>\n",
       "    <tr>\n",
       "      <th>4</th>\n",
       "      <td>{'max_features': 'sqrt', 'min_samples_leaf': 1...</td>\n",
       "      <td>0.481579</td>\n",
       "      <td>0.011963</td>\n",
       "    </tr>\n",
       "    <tr>\n",
       "      <th>5</th>\n",
       "      <td>{'max_features': 'sqrt', 'min_samples_leaf': 1...</td>\n",
       "      <td>0.485088</td>\n",
       "      <td>0.009689</td>\n",
       "    </tr>\n",
       "    <tr>\n",
       "      <th>6</th>\n",
       "      <td>{'max_features': 'sqrt', 'min_samples_leaf': 3...</td>\n",
       "      <td>0.465789</td>\n",
       "      <td>0.028907</td>\n",
       "    </tr>\n",
       "    <tr>\n",
       "      <th>7</th>\n",
       "      <td>{'max_features': 'sqrt', 'min_samples_leaf': 3...</td>\n",
       "      <td>0.481579</td>\n",
       "      <td>0.037648</td>\n",
       "    </tr>\n",
       "    <tr>\n",
       "      <th>8</th>\n",
       "      <td>{'max_features': 'sqrt', 'min_samples_leaf': 3...</td>\n",
       "      <td>0.485965</td>\n",
       "      <td>0.018020</td>\n",
       "    </tr>\n",
       "    <tr>\n",
       "      <th>9</th>\n",
       "      <td>{'max_features': 'sqrt', 'min_samples_leaf': 3...</td>\n",
       "      <td>0.486842</td>\n",
       "      <td>0.020721</td>\n",
       "    </tr>\n",
       "    <tr>\n",
       "      <th>10</th>\n",
       "      <td>{'max_features': 'sqrt', 'min_samples_leaf': 3...</td>\n",
       "      <td>0.490351</td>\n",
       "      <td>0.015092</td>\n",
       "    </tr>\n",
       "    <tr>\n",
       "      <th>11</th>\n",
       "      <td>{'max_features': 'sqrt', 'min_samples_leaf': 3...</td>\n",
       "      <td>0.486842</td>\n",
       "      <td>0.007747</td>\n",
       "    </tr>\n",
       "    <tr>\n",
       "      <th>12</th>\n",
       "      <td>{'max_features': 'sqrt', 'min_samples_leaf': 5...</td>\n",
       "      <td>0.461404</td>\n",
       "      <td>0.009689</td>\n",
       "    </tr>\n",
       "    <tr>\n",
       "      <th>13</th>\n",
       "      <td>{'max_features': 'sqrt', 'min_samples_leaf': 5...</td>\n",
       "      <td>0.491228</td>\n",
       "      <td>0.023668</td>\n",
       "    </tr>\n",
       "    <tr>\n",
       "      <th>14</th>\n",
       "      <td>{'max_features': 'sqrt', 'min_samples_leaf': 5...</td>\n",
       "      <td>0.484211</td>\n",
       "      <td>0.012892</td>\n",
       "    </tr>\n",
       "    <tr>\n",
       "      <th>15</th>\n",
       "      <td>{'max_features': 'sqrt', 'min_samples_leaf': 5...</td>\n",
       "      <td>0.490351</td>\n",
       "      <td>0.006564</td>\n",
       "    </tr>\n",
       "    <tr>\n",
       "      <th>16</th>\n",
       "      <td>{'max_features': 'sqrt', 'min_samples_leaf': 5...</td>\n",
       "      <td>0.496491</td>\n",
       "      <td>0.008135</td>\n",
       "    </tr>\n",
       "    <tr>\n",
       "      <th>17</th>\n",
       "      <td>{'max_features': 'sqrt', 'min_samples_leaf': 5...</td>\n",
       "      <td>0.495614</td>\n",
       "      <td>0.009689</td>\n",
       "    </tr>\n",
       "    <tr>\n",
       "      <th>18</th>\n",
       "      <td>{'max_features': 'log2', 'min_samples_leaf': 1...</td>\n",
       "      <td>0.447368</td>\n",
       "      <td>0.016222</td>\n",
       "    </tr>\n",
       "    <tr>\n",
       "      <th>19</th>\n",
       "      <td>{'max_features': 'log2', 'min_samples_leaf': 1...</td>\n",
       "      <td>0.490351</td>\n",
       "      <td>0.014307</td>\n",
       "    </tr>\n",
       "    <tr>\n",
       "      <th>20</th>\n",
       "      <td>{'max_features': 'log2', 'min_samples_leaf': 1...</td>\n",
       "      <td>0.480702</td>\n",
       "      <td>0.023959</td>\n",
       "    </tr>\n",
       "    <tr>\n",
       "      <th>21</th>\n",
       "      <td>{'max_features': 'log2', 'min_samples_leaf': 1...</td>\n",
       "      <td>0.478947</td>\n",
       "      <td>0.002149</td>\n",
       "    </tr>\n",
       "    <tr>\n",
       "      <th>22</th>\n",
       "      <td>{'max_features': 'log2', 'min_samples_leaf': 1...</td>\n",
       "      <td>0.481579</td>\n",
       "      <td>0.011963</td>\n",
       "    </tr>\n",
       "    <tr>\n",
       "      <th>23</th>\n",
       "      <td>{'max_features': 'log2', 'min_samples_leaf': 1...</td>\n",
       "      <td>0.485088</td>\n",
       "      <td>0.009689</td>\n",
       "    </tr>\n",
       "    <tr>\n",
       "      <th>24</th>\n",
       "      <td>{'max_features': 'log2', 'min_samples_leaf': 3...</td>\n",
       "      <td>0.465789</td>\n",
       "      <td>0.028907</td>\n",
       "    </tr>\n",
       "    <tr>\n",
       "      <th>25</th>\n",
       "      <td>{'max_features': 'log2', 'min_samples_leaf': 3...</td>\n",
       "      <td>0.481579</td>\n",
       "      <td>0.037648</td>\n",
       "    </tr>\n",
       "    <tr>\n",
       "      <th>26</th>\n",
       "      <td>{'max_features': 'log2', 'min_samples_leaf': 3...</td>\n",
       "      <td>0.485965</td>\n",
       "      <td>0.018020</td>\n",
       "    </tr>\n",
       "    <tr>\n",
       "      <th>27</th>\n",
       "      <td>{'max_features': 'log2', 'min_samples_leaf': 3...</td>\n",
       "      <td>0.486842</td>\n",
       "      <td>0.020721</td>\n",
       "    </tr>\n",
       "    <tr>\n",
       "      <th>28</th>\n",
       "      <td>{'max_features': 'log2', 'min_samples_leaf': 3...</td>\n",
       "      <td>0.490351</td>\n",
       "      <td>0.015092</td>\n",
       "    </tr>\n",
       "    <tr>\n",
       "      <th>29</th>\n",
       "      <td>{'max_features': 'log2', 'min_samples_leaf': 3...</td>\n",
       "      <td>0.486842</td>\n",
       "      <td>0.007747</td>\n",
       "    </tr>\n",
       "    <tr>\n",
       "      <th>30</th>\n",
       "      <td>{'max_features': 'log2', 'min_samples_leaf': 5...</td>\n",
       "      <td>0.461404</td>\n",
       "      <td>0.009689</td>\n",
       "    </tr>\n",
       "    <tr>\n",
       "      <th>31</th>\n",
       "      <td>{'max_features': 'log2', 'min_samples_leaf': 5...</td>\n",
       "      <td>0.491228</td>\n",
       "      <td>0.023668</td>\n",
       "    </tr>\n",
       "    <tr>\n",
       "      <th>32</th>\n",
       "      <td>{'max_features': 'log2', 'min_samples_leaf': 5...</td>\n",
       "      <td>0.484211</td>\n",
       "      <td>0.012892</td>\n",
       "    </tr>\n",
       "    <tr>\n",
       "      <th>33</th>\n",
       "      <td>{'max_features': 'log2', 'min_samples_leaf': 5...</td>\n",
       "      <td>0.490351</td>\n",
       "      <td>0.006564</td>\n",
       "    </tr>\n",
       "    <tr>\n",
       "      <th>34</th>\n",
       "      <td>{'max_features': 'log2', 'min_samples_leaf': 5...</td>\n",
       "      <td>0.496491</td>\n",
       "      <td>0.008135</td>\n",
       "    </tr>\n",
       "    <tr>\n",
       "      <th>35</th>\n",
       "      <td>{'max_features': 'log2', 'min_samples_leaf': 5...</td>\n",
       "      <td>0.495614</td>\n",
       "      <td>0.009689</td>\n",
       "    </tr>\n",
       "  </tbody>\n",
       "</table>\n",
       "</div>"
      ],
      "text/plain": [
       "                                               params  mean_test_score  \\\n",
       "0   {'max_features': 'sqrt', 'min_samples_leaf': 1...         0.447368   \n",
       "1   {'max_features': 'sqrt', 'min_samples_leaf': 1...         0.490351   \n",
       "2   {'max_features': 'sqrt', 'min_samples_leaf': 1...         0.480702   \n",
       "3   {'max_features': 'sqrt', 'min_samples_leaf': 1...         0.478947   \n",
       "4   {'max_features': 'sqrt', 'min_samples_leaf': 1...         0.481579   \n",
       "5   {'max_features': 'sqrt', 'min_samples_leaf': 1...         0.485088   \n",
       "6   {'max_features': 'sqrt', 'min_samples_leaf': 3...         0.465789   \n",
       "7   {'max_features': 'sqrt', 'min_samples_leaf': 3...         0.481579   \n",
       "8   {'max_features': 'sqrt', 'min_samples_leaf': 3...         0.485965   \n",
       "9   {'max_features': 'sqrt', 'min_samples_leaf': 3...         0.486842   \n",
       "10  {'max_features': 'sqrt', 'min_samples_leaf': 3...         0.490351   \n",
       "11  {'max_features': 'sqrt', 'min_samples_leaf': 3...         0.486842   \n",
       "12  {'max_features': 'sqrt', 'min_samples_leaf': 5...         0.461404   \n",
       "13  {'max_features': 'sqrt', 'min_samples_leaf': 5...         0.491228   \n",
       "14  {'max_features': 'sqrt', 'min_samples_leaf': 5...         0.484211   \n",
       "15  {'max_features': 'sqrt', 'min_samples_leaf': 5...         0.490351   \n",
       "16  {'max_features': 'sqrt', 'min_samples_leaf': 5...         0.496491   \n",
       "17  {'max_features': 'sqrt', 'min_samples_leaf': 5...         0.495614   \n",
       "18  {'max_features': 'log2', 'min_samples_leaf': 1...         0.447368   \n",
       "19  {'max_features': 'log2', 'min_samples_leaf': 1...         0.490351   \n",
       "20  {'max_features': 'log2', 'min_samples_leaf': 1...         0.480702   \n",
       "21  {'max_features': 'log2', 'min_samples_leaf': 1...         0.478947   \n",
       "22  {'max_features': 'log2', 'min_samples_leaf': 1...         0.481579   \n",
       "23  {'max_features': 'log2', 'min_samples_leaf': 1...         0.485088   \n",
       "24  {'max_features': 'log2', 'min_samples_leaf': 3...         0.465789   \n",
       "25  {'max_features': 'log2', 'min_samples_leaf': 3...         0.481579   \n",
       "26  {'max_features': 'log2', 'min_samples_leaf': 3...         0.485965   \n",
       "27  {'max_features': 'log2', 'min_samples_leaf': 3...         0.486842   \n",
       "28  {'max_features': 'log2', 'min_samples_leaf': 3...         0.490351   \n",
       "29  {'max_features': 'log2', 'min_samples_leaf': 3...         0.486842   \n",
       "30  {'max_features': 'log2', 'min_samples_leaf': 5...         0.461404   \n",
       "31  {'max_features': 'log2', 'min_samples_leaf': 5...         0.491228   \n",
       "32  {'max_features': 'log2', 'min_samples_leaf': 5...         0.484211   \n",
       "33  {'max_features': 'log2', 'min_samples_leaf': 5...         0.490351   \n",
       "34  {'max_features': 'log2', 'min_samples_leaf': 5...         0.496491   \n",
       "35  {'max_features': 'log2', 'min_samples_leaf': 5...         0.495614   \n",
       "\n",
       "    std_test_score  \n",
       "0         0.016222  \n",
       "1         0.014307  \n",
       "2         0.023959  \n",
       "3         0.002149  \n",
       "4         0.011963  \n",
       "5         0.009689  \n",
       "6         0.028907  \n",
       "7         0.037648  \n",
       "8         0.018020  \n",
       "9         0.020721  \n",
       "10        0.015092  \n",
       "11        0.007747  \n",
       "12        0.009689  \n",
       "13        0.023668  \n",
       "14        0.012892  \n",
       "15        0.006564  \n",
       "16        0.008135  \n",
       "17        0.009689  \n",
       "18        0.016222  \n",
       "19        0.014307  \n",
       "20        0.023959  \n",
       "21        0.002149  \n",
       "22        0.011963  \n",
       "23        0.009689  \n",
       "24        0.028907  \n",
       "25        0.037648  \n",
       "26        0.018020  \n",
       "27        0.020721  \n",
       "28        0.015092  \n",
       "29        0.007747  \n",
       "30        0.009689  \n",
       "31        0.023668  \n",
       "32        0.012892  \n",
       "33        0.006564  \n",
       "34        0.008135  \n",
       "35        0.009689  "
      ]
     },
     "execution_count": 117,
     "metadata": {},
     "output_type": "execute_result"
    }
   ],
   "source": [
    "gridcv.fit(X_train_pca, y_train)\n",
    "\n",
    "pd.DataFrame(gridcv.cv_results_)[['params', 'mean_test_score', 'std_test_score']]"
   ]
  },
  {
   "cell_type": "code",
   "execution_count": 118,
   "metadata": {},
   "outputs": [
    {
     "name": "stdout",
     "output_type": "stream",
     "text": [
      "RandomForestClassifier(max_features='sqrt', min_samples_leaf=5,\n",
      "                       n_estimators=500, n_jobs=-1, random_state=321)\n",
      "0.4964912280701754\n"
     ]
    }
   ],
   "source": [
    "print(gridcv.best_estimator_)\n",
    "print(gridcv.best_score_)"
   ]
  },
  {
   "cell_type": "code",
   "execution_count": 119,
   "metadata": {},
   "outputs": [
    {
     "name": "stdout",
     "output_type": "stream",
     "text": [
      "              precision    recall  f1-score   support\n",
      "\n",
      "           1       0.47      0.88      0.61       115\n",
      "           2       0.59      0.44      0.51        90\n",
      "           3       0.00      0.00      0.00        80\n",
      "\n",
      "    accuracy                           0.49       285\n",
      "   macro avg       0.35      0.44      0.37       285\n",
      "weighted avg       0.37      0.49      0.41       285\n",
      "\n"
     ]
    }
   ],
   "source": [
    "clf_rf_opt1 = ensemble.RandomForestClassifier(max_features='sqrt', min_samples_leaf=5,\n",
    "                       n_estimators=500, n_jobs=-1, random_state=321)\n",
    "clf_rf_opt1.fit(X_train_pca, y_train)\n",
    "y_pred = clf_rf_opt1.predict(X_test_pca)\n",
    "\n",
    "\n",
    "print(classification_report(y_test, y_pred))\n"
   ]
  },
  {
   "cell_type": "markdown",
   "metadata": {},
   "source": [
    "-- sans PCA"
   ]
  },
  {
   "cell_type": "code",
   "execution_count": 120,
   "metadata": {},
   "outputs": [
    {
     "data": {
      "text/html": [
       "<div>\n",
       "<style scoped>\n",
       "    .dataframe tbody tr th:only-of-type {\n",
       "        vertical-align: middle;\n",
       "    }\n",
       "\n",
       "    .dataframe tbody tr th {\n",
       "        vertical-align: top;\n",
       "    }\n",
       "\n",
       "    .dataframe thead th {\n",
       "        text-align: right;\n",
       "    }\n",
       "</style>\n",
       "<table border=\"1\" class=\"dataframe\">\n",
       "  <thead>\n",
       "    <tr style=\"text-align: right;\">\n",
       "      <th>Classe prédite</th>\n",
       "      <th>1</th>\n",
       "      <th>2</th>\n",
       "      <th>3</th>\n",
       "    </tr>\n",
       "    <tr>\n",
       "      <th>Classe réelle</th>\n",
       "      <th></th>\n",
       "      <th></th>\n",
       "      <th></th>\n",
       "    </tr>\n",
       "  </thead>\n",
       "  <tbody>\n",
       "    <tr>\n",
       "      <th>1</th>\n",
       "      <td>91</td>\n",
       "      <td>16</td>\n",
       "      <td>8</td>\n",
       "    </tr>\n",
       "    <tr>\n",
       "      <th>2</th>\n",
       "      <td>43</td>\n",
       "      <td>44</td>\n",
       "      <td>3</td>\n",
       "    </tr>\n",
       "    <tr>\n",
       "      <th>3</th>\n",
       "      <td>64</td>\n",
       "      <td>14</td>\n",
       "      <td>2</td>\n",
       "    </tr>\n",
       "  </tbody>\n",
       "</table>\n",
       "</div>"
      ],
      "text/plain": [
       "Classe prédite   1   2  3\n",
       "Classe réelle            \n",
       "1               91  16  8\n",
       "2               43  44  3\n",
       "3               64  14  2"
      ]
     },
     "execution_count": 120,
     "metadata": {},
     "output_type": "execute_result"
    }
   ],
   "source": [
    "clf_rf.fit(X_train_scaled, y_train)\n",
    "y_pred = clf_rf.predict(X_test_scaled)\n",
    "pd.crosstab(y_test, y_pred, rownames=['Classe réelle'], colnames=['Classe prédite'])"
   ]
  },
  {
   "cell_type": "code",
   "execution_count": 121,
   "metadata": {},
   "outputs": [
    {
     "name": "stdout",
     "output_type": "stream",
     "text": [
      "0.4807017543859649\n"
     ]
    }
   ],
   "source": [
    "accuracy = accuracy_score(y_test, y_pred)\n",
    "print(accuracy)"
   ]
  },
  {
   "cell_type": "code",
   "execution_count": 122,
   "metadata": {},
   "outputs": [],
   "source": [
    "gridcv = GridSearchCV(clf_rf, param_grid=param_grid_rf, scoring='accuracy', cv=3) "
   ]
  },
  {
   "cell_type": "code",
   "execution_count": 123,
   "metadata": {},
   "outputs": [
    {
     "data": {
      "text/html": [
       "<div>\n",
       "<style scoped>\n",
       "    .dataframe tbody tr th:only-of-type {\n",
       "        vertical-align: middle;\n",
       "    }\n",
       "\n",
       "    .dataframe tbody tr th {\n",
       "        vertical-align: top;\n",
       "    }\n",
       "\n",
       "    .dataframe thead th {\n",
       "        text-align: right;\n",
       "    }\n",
       "</style>\n",
       "<table border=\"1\" class=\"dataframe\">\n",
       "  <thead>\n",
       "    <tr style=\"text-align: right;\">\n",
       "      <th></th>\n",
       "      <th>params</th>\n",
       "      <th>mean_test_score</th>\n",
       "      <th>std_test_score</th>\n",
       "    </tr>\n",
       "  </thead>\n",
       "  <tbody>\n",
       "    <tr>\n",
       "      <th>0</th>\n",
       "      <td>{'max_features': 'sqrt', 'min_samples_leaf': 1...</td>\n",
       "      <td>0.463158</td>\n",
       "      <td>0.009366</td>\n",
       "    </tr>\n",
       "    <tr>\n",
       "      <th>1</th>\n",
       "      <td>{'max_features': 'sqrt', 'min_samples_leaf': 1...</td>\n",
       "      <td>0.489474</td>\n",
       "      <td>0.019098</td>\n",
       "    </tr>\n",
       "    <tr>\n",
       "      <th>2</th>\n",
       "      <td>{'max_features': 'sqrt', 'min_samples_leaf': 1...</td>\n",
       "      <td>0.495614</td>\n",
       "      <td>0.012952</td>\n",
       "    </tr>\n",
       "    <tr>\n",
       "      <th>3</th>\n",
       "      <td>{'max_features': 'sqrt', 'min_samples_leaf': 1...</td>\n",
       "      <td>0.507018</td>\n",
       "      <td>0.011834</td>\n",
       "    </tr>\n",
       "    <tr>\n",
       "      <th>4</th>\n",
       "      <td>{'max_features': 'sqrt', 'min_samples_leaf': 1...</td>\n",
       "      <td>0.506140</td>\n",
       "      <td>0.005407</td>\n",
       "    </tr>\n",
       "    <tr>\n",
       "      <th>5</th>\n",
       "      <td>{'max_features': 'sqrt', 'min_samples_leaf': 1...</td>\n",
       "      <td>0.508772</td>\n",
       "      <td>0.002481</td>\n",
       "    </tr>\n",
       "    <tr>\n",
       "      <th>6</th>\n",
       "      <td>{'max_features': 'sqrt', 'min_samples_leaf': 3...</td>\n",
       "      <td>0.481579</td>\n",
       "      <td>0.007747</td>\n",
       "    </tr>\n",
       "    <tr>\n",
       "      <th>7</th>\n",
       "      <td>{'max_features': 'sqrt', 'min_samples_leaf': 3...</td>\n",
       "      <td>0.503509</td>\n",
       "      <td>0.008135</td>\n",
       "    </tr>\n",
       "    <tr>\n",
       "      <th>8</th>\n",
       "      <td>{'max_features': 'sqrt', 'min_samples_leaf': 3...</td>\n",
       "      <td>0.507018</td>\n",
       "      <td>0.007546</td>\n",
       "    </tr>\n",
       "    <tr>\n",
       "      <th>9</th>\n",
       "      <td>{'max_features': 'sqrt', 'min_samples_leaf': 3...</td>\n",
       "      <td>0.509649</td>\n",
       "      <td>0.006907</td>\n",
       "    </tr>\n",
       "    <tr>\n",
       "      <th>10</th>\n",
       "      <td>{'max_features': 'sqrt', 'min_samples_leaf': 3...</td>\n",
       "      <td>0.514912</td>\n",
       "      <td>0.006907</td>\n",
       "    </tr>\n",
       "    <tr>\n",
       "      <th>11</th>\n",
       "      <td>{'max_features': 'sqrt', 'min_samples_leaf': 3...</td>\n",
       "      <td>0.515789</td>\n",
       "      <td>0.011370</td>\n",
       "    </tr>\n",
       "    <tr>\n",
       "      <th>12</th>\n",
       "      <td>{'max_features': 'sqrt', 'min_samples_leaf': 5...</td>\n",
       "      <td>0.495614</td>\n",
       "      <td>0.027628</td>\n",
       "    </tr>\n",
       "    <tr>\n",
       "      <th>13</th>\n",
       "      <td>{'max_features': 'sqrt', 'min_samples_leaf': 5...</td>\n",
       "      <td>0.507018</td>\n",
       "      <td>0.012405</td>\n",
       "    </tr>\n",
       "    <tr>\n",
       "      <th>14</th>\n",
       "      <td>{'max_features': 'sqrt', 'min_samples_leaf': 5...</td>\n",
       "      <td>0.504386</td>\n",
       "      <td>0.004962</td>\n",
       "    </tr>\n",
       "    <tr>\n",
       "      <th>15</th>\n",
       "      <td>{'max_features': 'sqrt', 'min_samples_leaf': 5...</td>\n",
       "      <td>0.519298</td>\n",
       "      <td>0.003282</td>\n",
       "    </tr>\n",
       "    <tr>\n",
       "      <th>16</th>\n",
       "      <td>{'max_features': 'sqrt', 'min_samples_leaf': 5...</td>\n",
       "      <td>0.512281</td>\n",
       "      <td>0.004473</td>\n",
       "    </tr>\n",
       "    <tr>\n",
       "      <th>17</th>\n",
       "      <td>{'max_features': 'sqrt', 'min_samples_leaf': 5...</td>\n",
       "      <td>0.513158</td>\n",
       "      <td>0.003722</td>\n",
       "    </tr>\n",
       "    <tr>\n",
       "      <th>18</th>\n",
       "      <td>{'max_features': 'log2', 'min_samples_leaf': 1...</td>\n",
       "      <td>0.463158</td>\n",
       "      <td>0.008595</td>\n",
       "    </tr>\n",
       "    <tr>\n",
       "      <th>19</th>\n",
       "      <td>{'max_features': 'log2', 'min_samples_leaf': 1...</td>\n",
       "      <td>0.505263</td>\n",
       "      <td>0.013070</td>\n",
       "    </tr>\n",
       "    <tr>\n",
       "      <th>20</th>\n",
       "      <td>{'max_features': 'log2', 'min_samples_leaf': 1...</td>\n",
       "      <td>0.500877</td>\n",
       "      <td>0.014626</td>\n",
       "    </tr>\n",
       "    <tr>\n",
       "      <th>21</th>\n",
       "      <td>{'max_features': 'log2', 'min_samples_leaf': 1...</td>\n",
       "      <td>0.511404</td>\n",
       "      <td>0.013814</td>\n",
       "    </tr>\n",
       "    <tr>\n",
       "      <th>22</th>\n",
       "      <td>{'max_features': 'log2', 'min_samples_leaf': 1...</td>\n",
       "      <td>0.509649</td>\n",
       "      <td>0.012590</td>\n",
       "    </tr>\n",
       "    <tr>\n",
       "      <th>23</th>\n",
       "      <td>{'max_features': 'log2', 'min_samples_leaf': 1...</td>\n",
       "      <td>0.506140</td>\n",
       "      <td>0.011026</td>\n",
       "    </tr>\n",
       "    <tr>\n",
       "      <th>24</th>\n",
       "      <td>{'max_features': 'log2', 'min_samples_leaf': 3...</td>\n",
       "      <td>0.483333</td>\n",
       "      <td>0.009689</td>\n",
       "    </tr>\n",
       "    <tr>\n",
       "      <th>25</th>\n",
       "      <td>{'max_features': 'log2', 'min_samples_leaf': 3...</td>\n",
       "      <td>0.503509</td>\n",
       "      <td>0.011834</td>\n",
       "    </tr>\n",
       "    <tr>\n",
       "      <th>26</th>\n",
       "      <td>{'max_features': 'log2', 'min_samples_leaf': 3...</td>\n",
       "      <td>0.511404</td>\n",
       "      <td>0.009689</td>\n",
       "    </tr>\n",
       "    <tr>\n",
       "      <th>27</th>\n",
       "      <td>{'max_features': 'log2', 'min_samples_leaf': 3...</td>\n",
       "      <td>0.514035</td>\n",
       "      <td>0.007546</td>\n",
       "    </tr>\n",
       "    <tr>\n",
       "      <th>28</th>\n",
       "      <td>{'max_features': 'log2', 'min_samples_leaf': 3...</td>\n",
       "      <td>0.514912</td>\n",
       "      <td>0.012590</td>\n",
       "    </tr>\n",
       "    <tr>\n",
       "      <th>29</th>\n",
       "      <td>{'max_features': 'log2', 'min_samples_leaf': 3...</td>\n",
       "      <td>0.512281</td>\n",
       "      <td>0.008946</td>\n",
       "    </tr>\n",
       "    <tr>\n",
       "      <th>30</th>\n",
       "      <td>{'max_features': 'log2', 'min_samples_leaf': 5...</td>\n",
       "      <td>0.492982</td>\n",
       "      <td>0.010599</td>\n",
       "    </tr>\n",
       "    <tr>\n",
       "      <th>31</th>\n",
       "      <td>{'max_features': 'log2', 'min_samples_leaf': 5...</td>\n",
       "      <td>0.499123</td>\n",
       "      <td>0.011834</td>\n",
       "    </tr>\n",
       "    <tr>\n",
       "      <th>32</th>\n",
       "      <td>{'max_features': 'log2', 'min_samples_leaf': 5...</td>\n",
       "      <td>0.507018</td>\n",
       "      <td>0.002481</td>\n",
       "    </tr>\n",
       "    <tr>\n",
       "      <th>33</th>\n",
       "      <td>{'max_features': 'log2', 'min_samples_leaf': 5...</td>\n",
       "      <td>0.512281</td>\n",
       "      <td>0.011834</td>\n",
       "    </tr>\n",
       "    <tr>\n",
       "      <th>34</th>\n",
       "      <td>{'max_features': 'log2', 'min_samples_leaf': 5...</td>\n",
       "      <td>0.517544</td>\n",
       "      <td>0.006907</td>\n",
       "    </tr>\n",
       "    <tr>\n",
       "      <th>35</th>\n",
       "      <td>{'max_features': 'log2', 'min_samples_leaf': 5...</td>\n",
       "      <td>0.520175</td>\n",
       "      <td>0.008946</td>\n",
       "    </tr>\n",
       "  </tbody>\n",
       "</table>\n",
       "</div>"
      ],
      "text/plain": [
       "                                               params  mean_test_score  \\\n",
       "0   {'max_features': 'sqrt', 'min_samples_leaf': 1...         0.463158   \n",
       "1   {'max_features': 'sqrt', 'min_samples_leaf': 1...         0.489474   \n",
       "2   {'max_features': 'sqrt', 'min_samples_leaf': 1...         0.495614   \n",
       "3   {'max_features': 'sqrt', 'min_samples_leaf': 1...         0.507018   \n",
       "4   {'max_features': 'sqrt', 'min_samples_leaf': 1...         0.506140   \n",
       "5   {'max_features': 'sqrt', 'min_samples_leaf': 1...         0.508772   \n",
       "6   {'max_features': 'sqrt', 'min_samples_leaf': 3...         0.481579   \n",
       "7   {'max_features': 'sqrt', 'min_samples_leaf': 3...         0.503509   \n",
       "8   {'max_features': 'sqrt', 'min_samples_leaf': 3...         0.507018   \n",
       "9   {'max_features': 'sqrt', 'min_samples_leaf': 3...         0.509649   \n",
       "10  {'max_features': 'sqrt', 'min_samples_leaf': 3...         0.514912   \n",
       "11  {'max_features': 'sqrt', 'min_samples_leaf': 3...         0.515789   \n",
       "12  {'max_features': 'sqrt', 'min_samples_leaf': 5...         0.495614   \n",
       "13  {'max_features': 'sqrt', 'min_samples_leaf': 5...         0.507018   \n",
       "14  {'max_features': 'sqrt', 'min_samples_leaf': 5...         0.504386   \n",
       "15  {'max_features': 'sqrt', 'min_samples_leaf': 5...         0.519298   \n",
       "16  {'max_features': 'sqrt', 'min_samples_leaf': 5...         0.512281   \n",
       "17  {'max_features': 'sqrt', 'min_samples_leaf': 5...         0.513158   \n",
       "18  {'max_features': 'log2', 'min_samples_leaf': 1...         0.463158   \n",
       "19  {'max_features': 'log2', 'min_samples_leaf': 1...         0.505263   \n",
       "20  {'max_features': 'log2', 'min_samples_leaf': 1...         0.500877   \n",
       "21  {'max_features': 'log2', 'min_samples_leaf': 1...         0.511404   \n",
       "22  {'max_features': 'log2', 'min_samples_leaf': 1...         0.509649   \n",
       "23  {'max_features': 'log2', 'min_samples_leaf': 1...         0.506140   \n",
       "24  {'max_features': 'log2', 'min_samples_leaf': 3...         0.483333   \n",
       "25  {'max_features': 'log2', 'min_samples_leaf': 3...         0.503509   \n",
       "26  {'max_features': 'log2', 'min_samples_leaf': 3...         0.511404   \n",
       "27  {'max_features': 'log2', 'min_samples_leaf': 3...         0.514035   \n",
       "28  {'max_features': 'log2', 'min_samples_leaf': 3...         0.514912   \n",
       "29  {'max_features': 'log2', 'min_samples_leaf': 3...         0.512281   \n",
       "30  {'max_features': 'log2', 'min_samples_leaf': 5...         0.492982   \n",
       "31  {'max_features': 'log2', 'min_samples_leaf': 5...         0.499123   \n",
       "32  {'max_features': 'log2', 'min_samples_leaf': 5...         0.507018   \n",
       "33  {'max_features': 'log2', 'min_samples_leaf': 5...         0.512281   \n",
       "34  {'max_features': 'log2', 'min_samples_leaf': 5...         0.517544   \n",
       "35  {'max_features': 'log2', 'min_samples_leaf': 5...         0.520175   \n",
       "\n",
       "    std_test_score  \n",
       "0         0.009366  \n",
       "1         0.019098  \n",
       "2         0.012952  \n",
       "3         0.011834  \n",
       "4         0.005407  \n",
       "5         0.002481  \n",
       "6         0.007747  \n",
       "7         0.008135  \n",
       "8         0.007546  \n",
       "9         0.006907  \n",
       "10        0.006907  \n",
       "11        0.011370  \n",
       "12        0.027628  \n",
       "13        0.012405  \n",
       "14        0.004962  \n",
       "15        0.003282  \n",
       "16        0.004473  \n",
       "17        0.003722  \n",
       "18        0.008595  \n",
       "19        0.013070  \n",
       "20        0.014626  \n",
       "21        0.013814  \n",
       "22        0.012590  \n",
       "23        0.011026  \n",
       "24        0.009689  \n",
       "25        0.011834  \n",
       "26        0.009689  \n",
       "27        0.007546  \n",
       "28        0.012590  \n",
       "29        0.008946  \n",
       "30        0.010599  \n",
       "31        0.011834  \n",
       "32        0.002481  \n",
       "33        0.011834  \n",
       "34        0.006907  \n",
       "35        0.008946  "
      ]
     },
     "execution_count": 123,
     "metadata": {},
     "output_type": "execute_result"
    }
   ],
   "source": [
    "gridcv.fit(X_train_scaled, y_train)\n",
    "\n",
    "pd.DataFrame(gridcv.cv_results_)[['params', 'mean_test_score', 'std_test_score']]"
   ]
  },
  {
   "cell_type": "code",
   "execution_count": 124,
   "metadata": {},
   "outputs": [
    {
     "name": "stdout",
     "output_type": "stream",
     "text": [
      "RandomForestClassifier(max_features='log2', min_samples_leaf=5,\n",
      "                       n_estimators=1000, n_jobs=-1, random_state=321)\n",
      "0.5201754385964912\n"
     ]
    }
   ],
   "source": [
    "print(gridcv.best_estimator_)\n",
    "print(gridcv.best_score_)"
   ]
  },
  {
   "cell_type": "code",
   "execution_count": 125,
   "metadata": {},
   "outputs": [
    {
     "name": "stdout",
     "output_type": "stream",
     "text": [
      "              precision    recall  f1-score   support\n",
      "\n",
      "           1       0.49      0.83      0.61       115\n",
      "           2       0.57      0.51      0.54        90\n",
      "           3       0.22      0.03      0.04        80\n",
      "\n",
      "    accuracy                           0.50       285\n",
      "   macro avg       0.43      0.45      0.40       285\n",
      "weighted avg       0.44      0.50      0.43       285\n",
      "\n"
     ]
    }
   ],
   "source": [
    "clf_rf_opt2 = ensemble.RandomForestClassifier(max_features='sqrt', min_samples_leaf=3,\n",
    "                       n_estimators=1000, n_jobs=-1, random_state=321)\n",
    "\n",
    "clf_rf_opt2.fit(X_train_scaled, y_train)\n",
    "y_pred = clf_rf_opt2.predict(X_test_scaled)\n",
    "\n",
    "print(classification_report(y_test, y_pred))"
   ]
  },
  {
   "cell_type": "code",
   "execution_count": null,
   "metadata": {},
   "outputs": [],
   "source": []
  }
 ],
 "metadata": {
  "file_extension": ".py",
  "interpreter": {
   "hash": "29f0c6657f550a667fc0cb61c999a7ac2bdbe77ddfff42c73fc41765fd30ed59"
  },
  "kernelspec": {
   "display_name": "Python 3.8.1 64-bit ('.venv': venv)",
   "name": "python3"
  },
  "language_info": {
   "codemirror_mode": {
    "name": "ipython",
    "version": 3
   },
   "file_extension": ".py",
   "mimetype": "text/x-python",
   "name": "python",
   "nbconvert_exporter": "python",
   "pygments_lexer": "ipython3",
   "version": "3.8.1"
  },
  "mimetype": "text/x-python",
  "name": "python",
  "npconvert_exporter": "python",
  "orig_nbformat": 2,
  "pygments_lexer": "ipython2",
  "version": 2
 },
 "nbformat": 4,
 "nbformat_minor": 2
}

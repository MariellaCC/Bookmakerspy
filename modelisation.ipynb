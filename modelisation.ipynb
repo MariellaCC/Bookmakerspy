{
 "cells": [
  {
   "cell_type": "code",
   "execution_count": 1,
   "metadata": {},
   "outputs": [],
   "source": [
    "import pandas as pd\n",
    "import sklearn"
   ]
  },
  {
   "cell_type": "code",
   "execution_count": 2,
   "metadata": {},
   "outputs": [],
   "source": [
    "from sklearn.preprocessing import StandardScaler\n",
    "from sklearn.model_selection import train_test_split\n",
    "from sklearn import preprocessing\n",
    "from sklearn import svm"
   ]
  },
  {
   "cell_type": "code",
   "execution_count": 3,
   "metadata": {},
   "outputs": [],
   "source": [
    "df = pd.read_csv('dataset_moyennes_matchs.csv')"
   ]
  },
  {
   "cell_type": "markdown",
   "metadata": {},
   "source": [
    "### 1. Suppression des variables inutiles"
   ]
  },
  {
   "cell_type": "code",
   "execution_count": 4,
   "metadata": {},
   "outputs": [],
   "source": [
    "# suppression des cotes et nb de goals dont on ne s'occupe pas pour le moment\n",
    "df = df.drop(['FTHG','FTAG','B365H','B365D','B365A','LBH','LBD','LBA','PSH','PSD','PSA','WHH','WHD','WHA','VCH','VCD','VCA','PSCH','PSCD','PSCA'], axis=1)\n",
    "# suppression de l'ancien idx\n",
    "df = df.drop(['Unnamed: 0'], axis=1)\n",
    "# suppression des variables informatives non nécessaires pour la modélisation\n",
    "df = df.drop(['match_id','season','date','away_team_id','away_team_name','home_team_id','home_team_name'],axis=1)"
   ]
  },
  {
   "cell_type": "markdown",
   "metadata": {},
   "source": [
    "### 2. Suppression des variables non significatives"
   ]
  },
  {
   "cell_type": "code",
   "execution_count": 5,
   "metadata": {},
   "outputs": [
    {
     "name": "stdout",
     "output_type": "stream",
     "text": [
      "<class 'pandas.core.frame.DataFrame'>\n",
      "RangeIndex: 1425 entries, 0 to 1424\n",
      "Data columns (total 60 columns):\n",
      " #   Column                         Non-Null Count  Dtype  \n",
      "---  ------                         --------------  -----  \n",
      " 0   home_team_rating               1425 non-null   float64\n",
      " 1   home_won_contest               1425 non-null   float64\n",
      " 2   home_possession_percentage     1425 non-null   float64\n",
      " 3   home_total_throws              1425 non-null   float64\n",
      " 4   home_blocked_scoring_att       1425 non-null   float64\n",
      " 5   home_total_scoring_att         1425 non-null   float64\n",
      " 6   home_total_tackle              1425 non-null   float64\n",
      " 7   home_aerial_won                1425 non-null   float64\n",
      " 8   home_aerial_lost               1425 non-null   float64\n",
      " 9   home_accurate_pass             1425 non-null   float64\n",
      " 10  home_total_pass                1425 non-null   float64\n",
      " 11  home_won_corners               1425 non-null   float64\n",
      " 12  home_shot_off_target           1425 non-null   float64\n",
      " 13  home_ontarget_scoring_att      1425 non-null   float64\n",
      " 14  home_total_offside             1425 non-null   float64\n",
      " 15  home_post_scoring_att          1425 non-null   float64\n",
      " 16  home_att_pen_goal              1425 non-null   float64\n",
      " 17  home_penalty_save              1425 non-null   float64\n",
      " 18  HF                             1425 non-null   float64\n",
      " 19  HY                             1425 non-null   float64\n",
      " 20  HR                             1425 non-null   float64\n",
      " 21  home_pass                      1425 non-null   float64\n",
      " 22  goalkeeper_home_player_rating  1425 non-null   float64\n",
      " 23  defender_home_player_rating    1425 non-null   float64\n",
      " 24  midfielder_home_player_rating  1425 non-null   float64\n",
      " 25  forward_home_player_rating     1425 non-null   float64\n",
      " 26  away_team_rating               1425 non-null   float64\n",
      " 27  away_won_contest               1425 non-null   float64\n",
      " 28  away_possession_percentage     1425 non-null   float64\n",
      " 29  away_total_throws              1425 non-null   float64\n",
      " 30  away_blocked_scoring_att       1425 non-null   float64\n",
      " 31  away_total_scoring_att         1425 non-null   float64\n",
      " 32  away_total_tackle              1425 non-null   float64\n",
      " 33  away_aerial_won                1425 non-null   float64\n",
      " 34  away_aerial_lost               1425 non-null   float64\n",
      " 35  away_accurate_pass             1425 non-null   float64\n",
      " 36  away_total_pass                1425 non-null   float64\n",
      " 37  away_won_corners               1425 non-null   float64\n",
      " 38  away_shot_off_target           1425 non-null   float64\n",
      " 39  away_ontarget_scoring_att      1425 non-null   float64\n",
      " 40  away_total_offside             1425 non-null   float64\n",
      " 41  away_post_scoring_att          1425 non-null   float64\n",
      " 42  away_att_pen_goal              1425 non-null   float64\n",
      " 43  away_penalty_save              1425 non-null   float64\n",
      " 44  AF                             1425 non-null   float64\n",
      " 45  AY                             1425 non-null   float64\n",
      " 46  AR                             1425 non-null   float64\n",
      " 47  away_pass                      1425 non-null   float64\n",
      " 48  goalkeeper_away_player_rating  1425 non-null   float64\n",
      " 49  defender_away_player_rating    1425 non-null   float64\n",
      " 50  midfielder_away_player_rating  1425 non-null   float64\n",
      " 51  forward_away_player_rating     1425 non-null   float64\n",
      " 52  FTR                            1425 non-null   object \n",
      " 53  Diff_def_home_fwd_away         1425 non-null   float64\n",
      " 54  Diff_def_home_mid_away         1425 non-null   float64\n",
      " 55  Diff_mil_home_att_away         1425 non-null   float64\n",
      " 56  Diff_mil_home_mid_away         1425 non-null   float64\n",
      " 57  Diff_mil_home_def_away         1425 non-null   float64\n",
      " 58  Diff_fwd_home_mid_away         1425 non-null   float64\n",
      " 59  Diff_fwd_home_def_away         1425 non-null   float64\n",
      "dtypes: float64(59), object(1)\n",
      "memory usage: 668.1+ KB\n"
     ]
    }
   ],
   "source": [
    "df.info()"
   ]
  },
  {
   "cell_type": "markdown",
   "metadata": {},
   "source": [
    "- Etape préliminaire, remplacer les classes qui sont des lettres par des classes numériques (nécessaire pour la suite par exemple pour SVM)"
   ]
  },
  {
   "cell_type": "code",
   "execution_count": 6,
   "metadata": {},
   "outputs": [],
   "source": [
    "df['FTR'] = df['FTR'].replace(['H','A','D'],[1,2,3])"
   ]
  },
  {
   "cell_type": "markdown",
   "metadata": {},
   "source": [
    "- Création ensemble entraînement et test"
   ]
  },
  {
   "cell_type": "code",
   "execution_count": 10,
   "metadata": {},
   "outputs": [],
   "source": [
    "target = df['FTR']\n",
    "data = df.drop(['FTR'],axis=1)\n",
    "# pour l'instant, séparation sur tout le jeu sans distinguer les périodes, voir si le module https://scikit-learn.org/stable/modules/generated/sklearn.model_selection.TimeSeriesSplit.html serait pertinent ici\n",
    "X_train, X_test, y_train, y_test = train_test_split(data, target, test_size=0.2)\n",
    "scaler = preprocessing.StandardScaler().fit(X_train)\n",
    "X_train_scaled = scaler.transform(X_train)\n",
    "X_test_scaled = scaler.transform(X_test)"
   ]
  },
  {
   "cell_type": "markdown",
   "metadata": {},
   "source": [
    "- Observation de la variance"
   ]
  },
  {
   "cell_type": "markdown",
   "metadata": {},
   "source": [
    "-- pandas profiling"
   ]
  },
  {
   "cell_type": "code",
   "execution_count": 18,
   "metadata": {},
   "outputs": [],
   "source": [
    "# test de l'outil pandas profiling\n",
    "# ! pip install pandas-profiling\n",
    "# (temps de traitement est long, à la fois pour la création de la variable report et pour la génération du fichier html, mais bcp plus rapide en json)\n",
    "from pandas_profiling import ProfileReport\n",
    "report = ProfileReport(df)\n",
    "# le fichier html peut ensuite être ouvert pour afficher le rapport\n",
    "# report.to_file(\"rapport_variables.html\")\n"
   ]
  },
  {
   "cell_type": "code",
   "execution_count": 10,
   "metadata": {},
   "outputs": [
    {
     "name": "stderr",
     "output_type": "stream",
     "text": [
      "Render JSON: 100%|██████████| 1/1 [00:01<00:00,  1.59s/it]\n",
      "Export report to file: 100%|██████████| 1/1 [00:00<00:00,  6.03it/s]\n"
     ]
    }
   ],
   "source": [
    "# report.to_file(\"your_report.json\")"
   ]
  },
  {
   "cell_type": "code",
   "execution_count": 29,
   "metadata": {},
   "outputs": [],
   "source": [
    "# vérification dans le rapport des variables taggées avec \"UNIQUE\", \"HIGH CARDINALITY\", ou \"UNIFORM\", indicatrices d'une variance trop élevée\n",
    "# Le rapport identifie away_pass comme \"unique\"\n",
    "# \"[UNIQUE] alert on column away_pass\"\n",
    "# étant donné que la variable home_pass n'est pas signalée, je ne supprime pas.\n",
    "# vérification dans le rapport des variables taggées avec \"CONSTANT\", \"REJECTED\", \"MISSING\", \"ZEROS\" qui indiqueraient une variance trop faible\n",
    "# home_post_scoring_att, away_total_offside, away_post_scoring_att ressortent avec le tag \"zeros\"\n",
    "# pour l'instant non supprimées"
   ]
  },
  {
   "cell_type": "markdown",
   "metadata": {},
   "source": [
    "-- variance threshold"
   ]
  },
  {
   "cell_type": "code",
   "execution_count": 9,
   "metadata": {},
   "outputs": [],
   "source": [
    "from sklearn.feature_selection import VarianceThreshold"
   ]
  },
  {
   "cell_type": "code",
   "execution_count": 11,
   "metadata": {},
   "outputs": [],
   "source": [
    "sel = VarianceThreshold(threshold = 1e-06)\n",
    "sel.fit(X_train)"
   ]
  },
  {
   "cell_type": "code",
   "execution_count": 16,
   "metadata": {},
   "outputs": [
    {
     "name": "stdout",
     "output_type": "stream",
     "text": [
      "<class 'pandas.core.frame.DataFrame'>\n",
      "RangeIndex: 1425 entries, 0 to 1424\n",
      "Data columns (total 59 columns):\n",
      " #   Column                         Non-Null Count  Dtype  \n",
      "---  ------                         --------------  -----  \n",
      " 0   home_team_rating               1425 non-null   float64\n",
      " 1   home_won_contest               1425 non-null   float64\n",
      " 2   home_possession_percentage     1425 non-null   float64\n",
      " 3   home_total_throws              1425 non-null   float64\n",
      " 4   home_blocked_scoring_att       1425 non-null   float64\n",
      " 5   home_total_scoring_att         1425 non-null   float64\n",
      " 6   home_total_tackle              1425 non-null   float64\n",
      " 7   home_aerial_won                1425 non-null   float64\n",
      " 8   home_aerial_lost               1425 non-null   float64\n",
      " 9   home_accurate_pass             1425 non-null   float64\n",
      " 10  home_total_pass                1425 non-null   float64\n",
      " 11  home_won_corners               1425 non-null   float64\n",
      " 12  home_shot_off_target           1425 non-null   float64\n",
      " 13  home_ontarget_scoring_att      1425 non-null   float64\n",
      " 14  home_total_offside             1425 non-null   float64\n",
      " 15  home_post_scoring_att          1425 non-null   float64\n",
      " 16  home_att_pen_goal              1425 non-null   float64\n",
      " 17  home_penalty_save              1425 non-null   float64\n",
      " 18  HF                             1425 non-null   float64\n",
      " 19  HY                             1425 non-null   float64\n",
      " 20  HR                             1425 non-null   float64\n",
      " 21  home_pass                      1425 non-null   float64\n",
      " 22  goalkeeper_home_player_rating  1425 non-null   float64\n",
      " 23  defender_home_player_rating    1425 non-null   float64\n",
      " 24  midfielder_home_player_rating  1425 non-null   float64\n",
      " 25  forward_home_player_rating     1425 non-null   float64\n",
      " 26  away_team_rating               1425 non-null   float64\n",
      " 27  away_won_contest               1425 non-null   float64\n",
      " 28  away_possession_percentage     1425 non-null   float64\n",
      " 29  away_total_throws              1425 non-null   float64\n",
      " 30  away_blocked_scoring_att       1425 non-null   float64\n",
      " 31  away_total_scoring_att         1425 non-null   float64\n",
      " 32  away_total_tackle              1425 non-null   float64\n",
      " 33  away_aerial_won                1425 non-null   float64\n",
      " 34  away_aerial_lost               1425 non-null   float64\n",
      " 35  away_accurate_pass             1425 non-null   float64\n",
      " 36  away_total_pass                1425 non-null   float64\n",
      " 37  away_won_corners               1425 non-null   float64\n",
      " 38  away_shot_off_target           1425 non-null   float64\n",
      " 39  away_ontarget_scoring_att      1425 non-null   float64\n",
      " 40  away_total_offside             1425 non-null   float64\n",
      " 41  away_post_scoring_att          1425 non-null   float64\n",
      " 42  away_att_pen_goal              1425 non-null   float64\n",
      " 43  away_penalty_save              1425 non-null   float64\n",
      " 44  AF                             1425 non-null   float64\n",
      " 45  AY                             1425 non-null   float64\n",
      " 46  AR                             1425 non-null   float64\n",
      " 47  away_pass                      1425 non-null   float64\n",
      " 48  goalkeeper_away_player_rating  1425 non-null   float64\n",
      " 49  defender_away_player_rating    1425 non-null   float64\n",
      " 50  midfielder_away_player_rating  1425 non-null   float64\n",
      " 51  forward_away_player_rating     1425 non-null   float64\n",
      " 52  Diff_def_home_fwd_away         1425 non-null   float64\n",
      " 53  Diff_def_home_mid_away         1425 non-null   float64\n",
      " 54  Diff_mil_home_att_away         1425 non-null   float64\n",
      " 55  Diff_mil_home_mid_away         1425 non-null   float64\n",
      " 56  Diff_mil_home_def_away         1425 non-null   float64\n",
      " 57  Diff_fwd_home_mid_away         1425 non-null   float64\n",
      " 58  Diff_fwd_home_def_away         1425 non-null   float64\n",
      "dtypes: float64(59)\n",
      "memory usage: 657.0 KB\n"
     ]
    }
   ],
   "source": [
    "data.info()"
   ]
  },
  {
   "cell_type": "code",
   "execution_count": 14,
   "metadata": {},
   "outputs": [],
   "source": [
    "mask = sel.get_support(indices=True)"
   ]
  },
  {
   "cell_type": "code",
   "execution_count": 17,
   "metadata": {},
   "outputs": [
    {
     "data": {
      "text/plain": [
       "array([ 0,  1,  2,  3,  4,  5,  6,  7,  8,  9, 10, 11, 12, 13, 14, 15, 16,\n",
       "       17, 18, 19, 20, 21, 22, 23, 24, 25, 26, 27, 28, 29, 30, 31, 32, 33,\n",
       "       34, 35, 36, 37, 38, 39, 40, 41, 42, 43, 44, 45, 46, 47, 48, 49, 50,\n",
       "       51, 52, 53, 54, 55, 56, 57, 58])"
      ]
     },
     "execution_count": 17,
     "metadata": {},
     "output_type": "execute_result"
    }
   ],
   "source": [
    "# toutes les variables ont été retenues\n",
    "mask"
   ]
  },
  {
   "cell_type": "markdown",
   "metadata": {},
   "source": [
    "- Correlation"
   ]
  },
  {
   "cell_type": "code",
   "execution_count": 7,
   "metadata": {},
   "outputs": [
    {
     "data": {
      "text/plain": [
       "<AxesSubplot:>"
      ]
     },
     "execution_count": 7,
     "metadata": {},
     "output_type": "execute_result"
    },
    {
     "data": {
      "image/png": "[encoded data removed]",
      "text/plain": [
       "<Figure size 720x2160 with 1 Axes>"
      ]
     },
     "metadata": {
      "needs_background": "light"
     },
     "output_type": "display_data"
    }
   ],
   "source": [
    "df.corr().loc['FTR'].plot(figsize=(10,30),kind='barh')"
   ]
  },
  {
   "cell_type": "code",
   "execution_count": 8,
   "metadata": {},
   "outputs": [
    {
     "name": "stdout",
     "output_type": "stream",
     "text": [
      "home_team_rating                        : -0.1252, significant: True\n",
      "home_won_contest                        : -0.0506, significant: False\n",
      "home_possession_percentage              : -0.1171, significant: True\n",
      "home_total_throws                       :  0.0298, significant: False\n",
      "home_blocked_scoring_att                : -0.0605, significant: True\n",
      "home_total_scoring_att                  : -0.1202, significant: True\n",
      "home_total_tackle                       : -0.0006, significant: False\n",
      "home_aerial_won                         :  0.0465, significant: False\n",
      "home_aerial_lost                        :  0.0814, significant: True\n",
      "home_accurate_pass                      : -0.1292, significant: True\n",
      "home_total_pass                         : -0.1283, significant: True\n",
      "home_won_corners                        : -0.0806, significant: True\n",
      "home_shot_off_target                    : -0.0780, significant: True\n",
      "home_ontarget_scoring_att               : -0.1313, significant: True\n",
      "home_total_offside                      : -0.0071, significant: False\n",
      "home_post_scoring_att                   : -0.0360, significant: False\n",
      "home_att_pen_goal                       : -0.0421, significant: False\n",
      "home_penalty_save                       : -0.0751, significant: True\n",
      "HF                                      : -0.0029, significant: False\n",
      "HY                                      :  0.0419, significant: False\n",
      "HR                                      :  0.0341, significant: False\n",
      "home_pass                               : -0.1064, significant: True\n",
      "goalkeeper_home_player_rating           : -0.0583, significant: True\n",
      "defender_home_player_rating             : -0.0643, significant: True\n",
      "midfielder_home_player_rating           : -0.1100, significant: True\n",
      "forward_home_player_rating              : -0.1234, significant: True\n",
      "away_team_rating                        :  0.1013, significant: True\n",
      "away_won_contest                        :  0.0570, significant: True\n",
      "away_possession_percentage              :  0.0762, significant: True\n",
      "away_total_throws                       :  0.0131, significant: False\n",
      "away_blocked_scoring_att                :  0.0575, significant: True\n",
      "away_total_scoring_att                  :  0.1167, significant: True\n",
      "away_total_tackle                       :  0.0212, significant: False\n",
      "away_aerial_won                         : -0.0582, significant: True\n",
      "away_aerial_lost                        : -0.0702, significant: True\n",
      "away_accurate_pass                      :  0.0922, significant: True\n",
      "away_total_pass                         :  0.0910, significant: True\n",
      "away_won_corners                        :  0.0924, significant: True\n",
      "away_shot_off_target                    :  0.0792, significant: True\n",
      "away_ontarget_scoring_att               :  0.1221, significant: True\n",
      "away_total_offside                      :  0.0196, significant: False\n",
      "away_post_scoring_att                   :  0.0409, significant: False\n",
      "away_att_pen_goal                       :  0.0358, significant: False\n",
      "away_penalty_save                       : -0.0356, significant: False\n",
      "AF                                      : -0.0384, significant: False\n",
      "AY                                      : -0.0212, significant: False\n",
      "AR                                      : -0.0434, significant: False\n",
      "away_pass                               :  0.0729, significant: True\n",
      "goalkeeper_away_player_rating           : -0.0041, significant: False\n",
      "defender_away_player_rating             :  0.0668, significant: True\n",
      "midfielder_away_player_rating           :  0.1135, significant: True\n",
      "forward_away_player_rating              :  0.0891, significant: True\n",
      "FTR                                     :  1.0000, significant: True\n",
      "Diff_def_home_fwd_away                  : -0.1093, significant: True\n",
      "Diff_def_home_mid_away                  : -0.1305, significant: True\n",
      "Diff_mil_home_att_away                  : -0.1344, significant: True\n",
      "Diff_mil_home_mid_away                  : -0.1581, significant: True\n",
      "Diff_mil_home_def_away                  : -0.1344, significant: True\n",
      "Diff_fwd_home_mid_away                  : -0.1615, significant: True\n",
      "Diff_fwd_home_def_away                  : -0.1505, significant: True\n"
     ]
    }
   ],
   "source": [
    "# corrélation Pearson\n",
    "\n",
    "from scipy.stats import pearsonr\n",
    "from pandas.api.types import is_numeric_dtype\n",
    "\n",
    "for c in df.columns:\n",
    "    if is_numeric_dtype(df[c]):\n",
    "        correlation, pvalue = pearsonr(df[c], df['FTR'])\n",
    "        print(f'{c : <40}: {correlation : .4f}, significant: {pvalue <= 0.05}')\n"
   ]
  },
  {
   "cell_type": "markdown",
   "metadata": {},
   "source": [
    "Les colonnes suivantes n'apparaissent pas comme ayant une corrélation significative:\n",
    "home_won_contest,  home_total_throws, home_total_tackle, home_aerial_won, home_total_offside, home_post_scoring_att, home_att_pen_goal, HF, HY, HR\n",
    "away_total_throws, away_total_tackle, away_total_offside, away_post_scoring_att, away_att_pen_goal, away_penalty_save, AF, AY, AR, goalkeeper_away_player_rating\n",
    "Certaines reviennent à la fois dans home et away, d'autres pas\n",
    "total_throws, total_tackle, total_offside, att_pen_goal, F, Y, R semblent être sans corrélation significative au résultat"
   ]
  },
  {
   "cell_type": "code",
   "execution_count": 56,
   "metadata": {},
   "outputs": [],
   "source": []
  },
  {
   "cell_type": "code",
   "execution_count": 67,
   "metadata": {},
   "outputs": [],
   "source": []
  },
  {
   "cell_type": "markdown",
   "metadata": {},
   "source": [
    "- PCA"
   ]
  },
  {
   "cell_type": "code",
   "execution_count": 85,
   "metadata": {},
   "outputs": [],
   "source": [
    "from sklearn.decomposition import PCA\n",
    "pca = PCA(n_components = 0.9, random_state=42)\n",
    "X_train_pca = pca.fit_transform(X_train_scaled)\n",
    "X_test_pca = pca.transform(X_test_scaled)\n"
   ]
  },
  {
   "cell_type": "markdown",
   "metadata": {},
   "source": [
    "#### 6. Modèles"
   ]
  },
  {
   "cell_type": "code",
   "execution_count": 111,
   "metadata": {},
   "outputs": [],
   "source": [
    "from sklearn.metrics import accuracy_score\n",
    "from sklearn.model_selection import GridSearchCV"
   ]
  },
  {
   "cell_type": "markdown",
   "metadata": {},
   "source": [
    "Recherche de modèles de classification multi-classes performants pour le jeu de données"
   ]
  },
  {
   "cell_type": "markdown",
   "metadata": {},
   "source": [
    "- SVM"
   ]
  },
  {
   "cell_type": "code",
   "execution_count": 87,
   "metadata": {},
   "outputs": [],
   "source": [
    "from sklearn.svm import SVC"
   ]
  },
  {
   "cell_type": "code",
   "execution_count": 104,
   "metadata": {},
   "outputs": [],
   "source": [
    "# ajout d'un OneVsRestClassifier car les numéros des classes ne correspondent pas à un ordre spécifique\n",
    "from sklearn.multiclass import OneVsRestClassifier\n",
    "ovr_clf = OneVsRestClassifier(SVC(random_state=22))"
   ]
  },
  {
   "cell_type": "code",
   "execution_count": 105,
   "metadata": {},
   "outputs": [
    {
     "data": {
      "text/plain": [
       "OneVsRestClassifier(estimator=SVC(random_state=22))"
      ]
     },
     "execution_count": 105,
     "metadata": {},
     "output_type": "execute_result"
    }
   ],
   "source": [
    "ovr_clf.fit(X_train_pca,y_train)"
   ]
  },
  {
   "cell_type": "code",
   "execution_count": 106,
   "metadata": {},
   "outputs": [],
   "source": [
    "y_pred = ovr_clf.predict(X_test_pca)"
   ]
  },
  {
   "cell_type": "code",
   "execution_count": 107,
   "metadata": {},
   "outputs": [
    {
     "data": {
      "text/html": [
       "<div>\n",
       "<style scoped>\n",
       "    .dataframe tbody tr th:only-of-type {\n",
       "        vertical-align: middle;\n",
       "    }\n",
       "\n",
       "    .dataframe tbody tr th {\n",
       "        vertical-align: top;\n",
       "    }\n",
       "\n",
       "    .dataframe thead th {\n",
       "        text-align: right;\n",
       "    }\n",
       "</style>\n",
       "<table border=\"1\" class=\"dataframe\">\n",
       "  <thead>\n",
       "    <tr style=\"text-align: right;\">\n",
       "      <th>Classes prédites</th>\n",
       "      <th>1</th>\n",
       "      <th>2</th>\n",
       "      <th>3</th>\n",
       "    </tr>\n",
       "    <tr>\n",
       "      <th>Classes réelles</th>\n",
       "      <th></th>\n",
       "      <th></th>\n",
       "      <th></th>\n",
       "    </tr>\n",
       "  </thead>\n",
       "  <tbody>\n",
       "    <tr>\n",
       "      <th>1</th>\n",
       "      <td>98</td>\n",
       "      <td>26</td>\n",
       "      <td>8</td>\n",
       "    </tr>\n",
       "    <tr>\n",
       "      <th>2</th>\n",
       "      <td>41</td>\n",
       "      <td>43</td>\n",
       "      <td>2</td>\n",
       "    </tr>\n",
       "    <tr>\n",
       "      <th>3</th>\n",
       "      <td>39</td>\n",
       "      <td>26</td>\n",
       "      <td>2</td>\n",
       "    </tr>\n",
       "  </tbody>\n",
       "</table>\n",
       "</div>"
      ],
      "text/plain": [
       "Classes prédites   1   2  3\n",
       "Classes réelles            \n",
       "1                 98  26  8\n",
       "2                 41  43  2\n",
       "3                 39  26  2"
      ]
     },
     "execution_count": 107,
     "metadata": {},
     "output_type": "execute_result"
    }
   ],
   "source": [
    "pd.crosstab(y_test,y_pred, rownames=['Classes réelles'], colnames=['Classes prédites'])"
   ]
  },
  {
   "cell_type": "code",
   "execution_count": 108,
   "metadata": {},
   "outputs": [
    {
     "name": "stdout",
     "output_type": "stream",
     "text": [
      "0.5017543859649123\n"
     ]
    }
   ],
   "source": [
    "accuracy = accuracy_score(y_test, y_pred)\n",
    "print(accuracy)"
   ]
  },
  {
   "cell_type": "markdown",
   "metadata": {},
   "source": [
    "- SGD Classifier"
   ]
  },
  {
   "cell_type": "code",
   "execution_count": 93,
   "metadata": {},
   "outputs": [],
   "source": [
    "from sklearn.linear_model import SGDClassifier"
   ]
  },
  {
   "cell_type": "code",
   "execution_count": 151,
   "metadata": {},
   "outputs": [],
   "source": [
    "sgd_clf = SGDClassifier()"
   ]
  },
  {
   "cell_type": "code",
   "execution_count": 152,
   "metadata": {},
   "outputs": [
    {
     "data": {
      "text/plain": [
       "SGDClassifier()"
      ]
     },
     "execution_count": 152,
     "metadata": {},
     "output_type": "execute_result"
    }
   ],
   "source": [
    "sgd_clf.fit(X_train_pca,y_train)"
   ]
  },
  {
   "cell_type": "code",
   "execution_count": 153,
   "metadata": {},
   "outputs": [],
   "source": [
    "y_pred = sgd_clf.predict(X_test_pca)"
   ]
  },
  {
   "cell_type": "code",
   "execution_count": 154,
   "metadata": {},
   "outputs": [
    {
     "data": {
      "text/html": [
       "<div>\n",
       "<style scoped>\n",
       "    .dataframe tbody tr th:only-of-type {\n",
       "        vertical-align: middle;\n",
       "    }\n",
       "\n",
       "    .dataframe tbody tr th {\n",
       "        vertical-align: top;\n",
       "    }\n",
       "\n",
       "    .dataframe thead th {\n",
       "        text-align: right;\n",
       "    }\n",
       "</style>\n",
       "<table border=\"1\" class=\"dataframe\">\n",
       "  <thead>\n",
       "    <tr style=\"text-align: right;\">\n",
       "      <th>Classes prédites</th>\n",
       "      <th>1</th>\n",
       "      <th>2</th>\n",
       "      <th>3</th>\n",
       "    </tr>\n",
       "    <tr>\n",
       "      <th>Classes réelles</th>\n",
       "      <th></th>\n",
       "      <th></th>\n",
       "      <th></th>\n",
       "    </tr>\n",
       "  </thead>\n",
       "  <tbody>\n",
       "    <tr>\n",
       "      <th>1</th>\n",
       "      <td>71</td>\n",
       "      <td>31</td>\n",
       "      <td>30</td>\n",
       "    </tr>\n",
       "    <tr>\n",
       "      <th>2</th>\n",
       "      <td>46</td>\n",
       "      <td>31</td>\n",
       "      <td>9</td>\n",
       "    </tr>\n",
       "    <tr>\n",
       "      <th>3</th>\n",
       "      <td>39</td>\n",
       "      <td>22</td>\n",
       "      <td>6</td>\n",
       "    </tr>\n",
       "  </tbody>\n",
       "</table>\n",
       "</div>"
      ],
      "text/plain": [
       "Classes prédites   1   2   3\n",
       "Classes réelles             \n",
       "1                 71  31  30\n",
       "2                 46  31   9\n",
       "3                 39  22   6"
      ]
     },
     "execution_count": 154,
     "metadata": {},
     "output_type": "execute_result"
    }
   ],
   "source": [
    "pd.crosstab(y_test,y_pred, rownames=['Classes réelles'], colnames=['Classes prédites'])"
   ]
  },
  {
   "cell_type": "code",
   "execution_count": 155,
   "metadata": {},
   "outputs": [
    {
     "name": "stdout",
     "output_type": "stream",
     "text": [
      "0.37894736842105264\n"
     ]
    }
   ],
   "source": [
    "accuracy = accuracy_score(y_test, y_pred)\n",
    "print(accuracy)"
   ]
  },
  {
   "cell_type": "code",
   "execution_count": 156,
   "metadata": {},
   "outputs": [],
   "source": [
    "params = {\n",
    "    \"loss\" : [\"hinge\", \"log\", \"squared_hinge\", \"modified_huber\"],\n",
    "    \"alpha\" : [0.0001, 0.001, 0.01, 0.1],\n",
    "    \"penalty\" : [\"l2\", \"l1\", \"none\"],\n",
    "}"
   ]
  },
  {
   "cell_type": "code",
   "execution_count": 157,
   "metadata": {},
   "outputs": [],
   "source": [
    "gridcv = GridSearchCV(sgd_clf, param_grid=params, scoring='accuracy', cv=3) "
   ]
  },
  {
   "cell_type": "code",
   "execution_count": 158,
   "metadata": {},
   "outputs": [
    {
     "name": "stderr",
     "output_type": "stream",
     "text": [
      "/Users/mariella.decrouychan/Documents/GitHub/Bookmakerspy/.venv/lib/python3.8/site-packages/sklearn/linear_model/_stochastic_gradient.py:696: ConvergenceWarning: Maximum number of iteration reached before convergence. Consider increasing max_iter to improve the fit.\n",
      "  warnings.warn(\n",
      "/Users/mariella.decrouychan/Documents/GitHub/Bookmakerspy/.venv/lib/python3.8/site-packages/sklearn/linear_model/_stochastic_gradient.py:696: ConvergenceWarning: Maximum number of iteration reached before convergence. Consider increasing max_iter to improve the fit.\n",
      "  warnings.warn(\n",
      "/Users/mariella.decrouychan/Documents/GitHub/Bookmakerspy/.venv/lib/python3.8/site-packages/sklearn/linear_model/_stochastic_gradient.py:696: ConvergenceWarning: Maximum number of iteration reached before convergence. Consider increasing max_iter to improve the fit.\n",
      "  warnings.warn(\n",
      "/Users/mariella.decrouychan/Documents/GitHub/Bookmakerspy/.venv/lib/python3.8/site-packages/sklearn/linear_model/_stochastic_gradient.py:696: ConvergenceWarning: Maximum number of iteration reached before convergence. Consider increasing max_iter to improve the fit.\n",
      "  warnings.warn(\n",
      "/Users/mariella.decrouychan/Documents/GitHub/Bookmakerspy/.venv/lib/python3.8/site-packages/sklearn/linear_model/_stochastic_gradient.py:696: ConvergenceWarning: Maximum number of iteration reached before convergence. Consider increasing max_iter to improve the fit.\n",
      "  warnings.warn(\n",
      "/Users/mariella.decrouychan/Documents/GitHub/Bookmakerspy/.venv/lib/python3.8/site-packages/sklearn/linear_model/_stochastic_gradient.py:696: ConvergenceWarning: Maximum number of iteration reached before convergence. Consider increasing max_iter to improve the fit.\n",
      "  warnings.warn(\n",
      "/Users/mariella.decrouychan/Documents/GitHub/Bookmakerspy/.venv/lib/python3.8/site-packages/sklearn/linear_model/_stochastic_gradient.py:696: ConvergenceWarning: Maximum number of iteration reached before convergence. Consider increasing max_iter to improve the fit.\n",
      "  warnings.warn(\n",
      "/Users/mariella.decrouychan/Documents/GitHub/Bookmakerspy/.venv/lib/python3.8/site-packages/sklearn/linear_model/_stochastic_gradient.py:696: ConvergenceWarning: Maximum number of iteration reached before convergence. Consider increasing max_iter to improve the fit.\n",
      "  warnings.warn(\n",
      "/Users/mariella.decrouychan/Documents/GitHub/Bookmakerspy/.venv/lib/python3.8/site-packages/sklearn/linear_model/_stochastic_gradient.py:696: ConvergenceWarning: Maximum number of iteration reached before convergence. Consider increasing max_iter to improve the fit.\n",
      "  warnings.warn(\n"
     ]
    },
    {
     "data": {
      "text/html": [
       "<div>\n",
       "<style scoped>\n",
       "    .dataframe tbody tr th:only-of-type {\n",
       "        vertical-align: middle;\n",
       "    }\n",
       "\n",
       "    .dataframe tbody tr th {\n",
       "        vertical-align: top;\n",
       "    }\n",
       "\n",
       "    .dataframe thead th {\n",
       "        text-align: right;\n",
       "    }\n",
       "</style>\n",
       "<table border=\"1\" class=\"dataframe\">\n",
       "  <thead>\n",
       "    <tr style=\"text-align: right;\">\n",
       "      <th></th>\n",
       "      <th>params</th>\n",
       "      <th>mean_test_score</th>\n",
       "      <th>std_test_score</th>\n",
       "    </tr>\n",
       "  </thead>\n",
       "  <tbody>\n",
       "    <tr>\n",
       "      <th>0</th>\n",
       "      <td>{'alpha': 0.0001, 'loss': 'hinge', 'penalty': ...</td>\n",
       "      <td>0.450877</td>\n",
       "      <td>0.022975</td>\n",
       "    </tr>\n",
       "    <tr>\n",
       "      <th>1</th>\n",
       "      <td>{'alpha': 0.0001, 'loss': 'hinge', 'penalty': ...</td>\n",
       "      <td>0.436842</td>\n",
       "      <td>0.014090</td>\n",
       "    </tr>\n",
       "    <tr>\n",
       "      <th>2</th>\n",
       "      <td>{'alpha': 0.0001, 'loss': 'hinge', 'penalty': ...</td>\n",
       "      <td>0.450000</td>\n",
       "      <td>0.024780</td>\n",
       "    </tr>\n",
       "    <tr>\n",
       "      <th>3</th>\n",
       "      <td>{'alpha': 0.0001, 'loss': 'log', 'penalty': 'l2'}</td>\n",
       "      <td>0.425439</td>\n",
       "      <td>0.029799</td>\n",
       "    </tr>\n",
       "    <tr>\n",
       "      <th>4</th>\n",
       "      <td>{'alpha': 0.0001, 'loss': 'log', 'penalty': 'l1'}</td>\n",
       "      <td>0.454386</td>\n",
       "      <td>0.013980</td>\n",
       "    </tr>\n",
       "    <tr>\n",
       "      <th>5</th>\n",
       "      <td>{'alpha': 0.0001, 'loss': 'log', 'penalty': 'n...</td>\n",
       "      <td>0.442105</td>\n",
       "      <td>0.017055</td>\n",
       "    </tr>\n",
       "    <tr>\n",
       "      <th>6</th>\n",
       "      <td>{'alpha': 0.0001, 'loss': 'squared_hinge', 'pe...</td>\n",
       "      <td>0.392982</td>\n",
       "      <td>0.037050</td>\n",
       "    </tr>\n",
       "    <tr>\n",
       "      <th>7</th>\n",
       "      <td>{'alpha': 0.0001, 'loss': 'squared_hinge', 'pe...</td>\n",
       "      <td>0.405263</td>\n",
       "      <td>0.039386</td>\n",
       "    </tr>\n",
       "    <tr>\n",
       "      <th>8</th>\n",
       "      <td>{'alpha': 0.0001, 'loss': 'squared_hinge', 'pe...</td>\n",
       "      <td>0.456140</td>\n",
       "      <td>0.011834</td>\n",
       "    </tr>\n",
       "    <tr>\n",
       "      <th>9</th>\n",
       "      <td>{'alpha': 0.0001, 'loss': 'modified_huber', 'p...</td>\n",
       "      <td>0.436842</td>\n",
       "      <td>0.039210</td>\n",
       "    </tr>\n",
       "    <tr>\n",
       "      <th>10</th>\n",
       "      <td>{'alpha': 0.0001, 'loss': 'modified_huber', 'p...</td>\n",
       "      <td>0.459649</td>\n",
       "      <td>0.030412</td>\n",
       "    </tr>\n",
       "    <tr>\n",
       "      <th>11</th>\n",
       "      <td>{'alpha': 0.0001, 'loss': 'modified_huber', 'p...</td>\n",
       "      <td>0.453509</td>\n",
       "      <td>0.032539</td>\n",
       "    </tr>\n",
       "    <tr>\n",
       "      <th>12</th>\n",
       "      <td>{'alpha': 0.001, 'loss': 'hinge', 'penalty': '...</td>\n",
       "      <td>0.448246</td>\n",
       "      <td>0.003282</td>\n",
       "    </tr>\n",
       "    <tr>\n",
       "      <th>13</th>\n",
       "      <td>{'alpha': 0.001, 'loss': 'hinge', 'penalty': '...</td>\n",
       "      <td>0.470175</td>\n",
       "      <td>0.017368</td>\n",
       "    </tr>\n",
       "    <tr>\n",
       "      <th>14</th>\n",
       "      <td>{'alpha': 0.001, 'loss': 'hinge', 'penalty': '...</td>\n",
       "      <td>0.444737</td>\n",
       "      <td>0.018358</td>\n",
       "    </tr>\n",
       "    <tr>\n",
       "      <th>15</th>\n",
       "      <td>{'alpha': 0.001, 'loss': 'log', 'penalty': 'l2'}</td>\n",
       "      <td>0.483333</td>\n",
       "      <td>0.021198</td>\n",
       "    </tr>\n",
       "    <tr>\n",
       "      <th>16</th>\n",
       "      <td>{'alpha': 0.001, 'loss': 'log', 'penalty': 'l1'}</td>\n",
       "      <td>0.450877</td>\n",
       "      <td>0.024904</td>\n",
       "    </tr>\n",
       "    <tr>\n",
       "      <th>17</th>\n",
       "      <td>{'alpha': 0.001, 'loss': 'log', 'penalty': 'no...</td>\n",
       "      <td>0.469298</td>\n",
       "      <td>0.007546</td>\n",
       "    </tr>\n",
       "    <tr>\n",
       "      <th>18</th>\n",
       "      <td>{'alpha': 0.001, 'loss': 'squared_hinge', 'pen...</td>\n",
       "      <td>0.388596</td>\n",
       "      <td>0.042668</td>\n",
       "    </tr>\n",
       "    <tr>\n",
       "      <th>19</th>\n",
       "      <td>{'alpha': 0.001, 'loss': 'squared_hinge', 'pen...</td>\n",
       "      <td>0.345614</td>\n",
       "      <td>0.049013</td>\n",
       "    </tr>\n",
       "    <tr>\n",
       "      <th>20</th>\n",
       "      <td>{'alpha': 0.001, 'loss': 'squared_hinge', 'pen...</td>\n",
       "      <td>0.421053</td>\n",
       "      <td>0.022739</td>\n",
       "    </tr>\n",
       "    <tr>\n",
       "      <th>21</th>\n",
       "      <td>{'alpha': 0.001, 'loss': 'modified_huber', 'pe...</td>\n",
       "      <td>0.477193</td>\n",
       "      <td>0.036231</td>\n",
       "    </tr>\n",
       "    <tr>\n",
       "      <th>22</th>\n",
       "      <td>{'alpha': 0.001, 'loss': 'modified_huber', 'pe...</td>\n",
       "      <td>0.457895</td>\n",
       "      <td>0.042269</td>\n",
       "    </tr>\n",
       "    <tr>\n",
       "      <th>23</th>\n",
       "      <td>{'alpha': 0.001, 'loss': 'modified_huber', 'pe...</td>\n",
       "      <td>0.398246</td>\n",
       "      <td>0.028613</td>\n",
       "    </tr>\n",
       "    <tr>\n",
       "      <th>24</th>\n",
       "      <td>{'alpha': 0.01, 'loss': 'hinge', 'penalty': 'l2'}</td>\n",
       "      <td>0.494737</td>\n",
       "      <td>0.005685</td>\n",
       "    </tr>\n",
       "    <tr>\n",
       "      <th>25</th>\n",
       "      <td>{'alpha': 0.01, 'loss': 'hinge', 'penalty': 'l1'}</td>\n",
       "      <td>0.505263</td>\n",
       "      <td>0.009366</td>\n",
       "    </tr>\n",
       "    <tr>\n",
       "      <th>26</th>\n",
       "      <td>{'alpha': 0.01, 'loss': 'hinge', 'penalty': 'n...</td>\n",
       "      <td>0.495614</td>\n",
       "      <td>0.004473</td>\n",
       "    </tr>\n",
       "    <tr>\n",
       "      <th>27</th>\n",
       "      <td>{'alpha': 0.01, 'loss': 'log', 'penalty': 'l2'}</td>\n",
       "      <td>0.494737</td>\n",
       "      <td>0.021162</td>\n",
       "    </tr>\n",
       "    <tr>\n",
       "      <th>28</th>\n",
       "      <td>{'alpha': 0.01, 'loss': 'log', 'penalty': 'l1'}</td>\n",
       "      <td>0.514912</td>\n",
       "      <td>0.012952</td>\n",
       "    </tr>\n",
       "    <tr>\n",
       "      <th>29</th>\n",
       "      <td>{'alpha': 0.01, 'loss': 'log', 'penalty': 'none'}</td>\n",
       "      <td>0.499123</td>\n",
       "      <td>0.019965</td>\n",
       "    </tr>\n",
       "    <tr>\n",
       "      <th>30</th>\n",
       "      <td>{'alpha': 0.01, 'loss': 'squared_hinge', 'pena...</td>\n",
       "      <td>0.456140</td>\n",
       "      <td>0.006564</td>\n",
       "    </tr>\n",
       "    <tr>\n",
       "      <th>31</th>\n",
       "      <td>{'alpha': 0.01, 'loss': 'squared_hinge', 'pena...</td>\n",
       "      <td>0.493860</td>\n",
       "      <td>0.024904</td>\n",
       "    </tr>\n",
       "    <tr>\n",
       "      <th>32</th>\n",
       "      <td>{'alpha': 0.01, 'loss': 'squared_hinge', 'pena...</td>\n",
       "      <td>0.469298</td>\n",
       "      <td>0.010599</td>\n",
       "    </tr>\n",
       "    <tr>\n",
       "      <th>33</th>\n",
       "      <td>{'alpha': 0.01, 'loss': 'modified_huber', 'pen...</td>\n",
       "      <td>0.471930</td>\n",
       "      <td>0.031310</td>\n",
       "    </tr>\n",
       "    <tr>\n",
       "      <th>34</th>\n",
       "      <td>{'alpha': 0.01, 'loss': 'modified_huber', 'pen...</td>\n",
       "      <td>0.480702</td>\n",
       "      <td>0.010599</td>\n",
       "    </tr>\n",
       "    <tr>\n",
       "      <th>35</th>\n",
       "      <td>{'alpha': 0.01, 'loss': 'modified_huber', 'pen...</td>\n",
       "      <td>0.455263</td>\n",
       "      <td>0.011963</td>\n",
       "    </tr>\n",
       "    <tr>\n",
       "      <th>36</th>\n",
       "      <td>{'alpha': 0.1, 'loss': 'hinge', 'penalty': 'l2'}</td>\n",
       "      <td>0.514035</td>\n",
       "      <td>0.006907</td>\n",
       "    </tr>\n",
       "    <tr>\n",
       "      <th>37</th>\n",
       "      <td>{'alpha': 0.1, 'loss': 'hinge', 'penalty': 'l1'}</td>\n",
       "      <td>0.489474</td>\n",
       "      <td>0.016222</td>\n",
       "    </tr>\n",
       "    <tr>\n",
       "      <th>38</th>\n",
       "      <td>{'alpha': 0.1, 'loss': 'hinge', 'penalty': 'no...</td>\n",
       "      <td>0.480702</td>\n",
       "      <td>0.015838</td>\n",
       "    </tr>\n",
       "    <tr>\n",
       "      <th>39</th>\n",
       "      <td>{'alpha': 0.1, 'loss': 'log', 'penalty': 'l2'}</td>\n",
       "      <td>0.514035</td>\n",
       "      <td>0.018274</td>\n",
       "    </tr>\n",
       "    <tr>\n",
       "      <th>40</th>\n",
       "      <td>{'alpha': 0.1, 'loss': 'log', 'penalty': 'l1'}</td>\n",
       "      <td>0.502632</td>\n",
       "      <td>0.017588</td>\n",
       "    </tr>\n",
       "    <tr>\n",
       "      <th>41</th>\n",
       "      <td>{'alpha': 0.1, 'loss': 'log', 'penalty': 'none'}</td>\n",
       "      <td>0.480702</td>\n",
       "      <td>0.029251</td>\n",
       "    </tr>\n",
       "    <tr>\n",
       "      <th>42</th>\n",
       "      <td>{'alpha': 0.1, 'loss': 'squared_hinge', 'penal...</td>\n",
       "      <td>0.433333</td>\n",
       "      <td>0.010154</td>\n",
       "    </tr>\n",
       "    <tr>\n",
       "      <th>43</th>\n",
       "      <td>{'alpha': 0.1, 'loss': 'squared_hinge', 'penal...</td>\n",
       "      <td>0.420175</td>\n",
       "      <td>0.020422</td>\n",
       "    </tr>\n",
       "    <tr>\n",
       "      <th>44</th>\n",
       "      <td>{'alpha': 0.1, 'loss': 'squared_hinge', 'penal...</td>\n",
       "      <td>0.420175</td>\n",
       "      <td>0.020422</td>\n",
       "    </tr>\n",
       "    <tr>\n",
       "      <th>45</th>\n",
       "      <td>{'alpha': 0.1, 'loss': 'modified_huber', 'pena...</td>\n",
       "      <td>0.500877</td>\n",
       "      <td>0.014307</td>\n",
       "    </tr>\n",
       "    <tr>\n",
       "      <th>46</th>\n",
       "      <td>{'alpha': 0.1, 'loss': 'modified_huber', 'pena...</td>\n",
       "      <td>0.513158</td>\n",
       "      <td>0.015041</td>\n",
       "    </tr>\n",
       "    <tr>\n",
       "      <th>47</th>\n",
       "      <td>{'alpha': 0.1, 'loss': 'modified_huber', 'pena...</td>\n",
       "      <td>0.493860</td>\n",
       "      <td>0.008684</td>\n",
       "    </tr>\n",
       "  </tbody>\n",
       "</table>\n",
       "</div>"
      ],
      "text/plain": [
       "                                               params  mean_test_score  \\\n",
       "0   {'alpha': 0.0001, 'loss': 'hinge', 'penalty': ...         0.450877   \n",
       "1   {'alpha': 0.0001, 'loss': 'hinge', 'penalty': ...         0.436842   \n",
       "2   {'alpha': 0.0001, 'loss': 'hinge', 'penalty': ...         0.450000   \n",
       "3   {'alpha': 0.0001, 'loss': 'log', 'penalty': 'l2'}         0.425439   \n",
       "4   {'alpha': 0.0001, 'loss': 'log', 'penalty': 'l1'}         0.454386   \n",
       "5   {'alpha': 0.0001, 'loss': 'log', 'penalty': 'n...         0.442105   \n",
       "6   {'alpha': 0.0001, 'loss': 'squared_hinge', 'pe...         0.392982   \n",
       "7   {'alpha': 0.0001, 'loss': 'squared_hinge', 'pe...         0.405263   \n",
       "8   {'alpha': 0.0001, 'loss': 'squared_hinge', 'pe...         0.456140   \n",
       "9   {'alpha': 0.0001, 'loss': 'modified_huber', 'p...         0.436842   \n",
       "10  {'alpha': 0.0001, 'loss': 'modified_huber', 'p...         0.459649   \n",
       "11  {'alpha': 0.0001, 'loss': 'modified_huber', 'p...         0.453509   \n",
       "12  {'alpha': 0.001, 'loss': 'hinge', 'penalty': '...         0.448246   \n",
       "13  {'alpha': 0.001, 'loss': 'hinge', 'penalty': '...         0.470175   \n",
       "14  {'alpha': 0.001, 'loss': 'hinge', 'penalty': '...         0.444737   \n",
       "15   {'alpha': 0.001, 'loss': 'log', 'penalty': 'l2'}         0.483333   \n",
       "16   {'alpha': 0.001, 'loss': 'log', 'penalty': 'l1'}         0.450877   \n",
       "17  {'alpha': 0.001, 'loss': 'log', 'penalty': 'no...         0.469298   \n",
       "18  {'alpha': 0.001, 'loss': 'squared_hinge', 'pen...         0.388596   \n",
       "19  {'alpha': 0.001, 'loss': 'squared_hinge', 'pen...         0.345614   \n",
       "20  {'alpha': 0.001, 'loss': 'squared_hinge', 'pen...         0.421053   \n",
       "21  {'alpha': 0.001, 'loss': 'modified_huber', 'pe...         0.477193   \n",
       "22  {'alpha': 0.001, 'loss': 'modified_huber', 'pe...         0.457895   \n",
       "23  {'alpha': 0.001, 'loss': 'modified_huber', 'pe...         0.398246   \n",
       "24  {'alpha': 0.01, 'loss': 'hinge', 'penalty': 'l2'}         0.494737   \n",
       "25  {'alpha': 0.01, 'loss': 'hinge', 'penalty': 'l1'}         0.505263   \n",
       "26  {'alpha': 0.01, 'loss': 'hinge', 'penalty': 'n...         0.495614   \n",
       "27    {'alpha': 0.01, 'loss': 'log', 'penalty': 'l2'}         0.494737   \n",
       "28    {'alpha': 0.01, 'loss': 'log', 'penalty': 'l1'}         0.514912   \n",
       "29  {'alpha': 0.01, 'loss': 'log', 'penalty': 'none'}         0.499123   \n",
       "30  {'alpha': 0.01, 'loss': 'squared_hinge', 'pena...         0.456140   \n",
       "31  {'alpha': 0.01, 'loss': 'squared_hinge', 'pena...         0.493860   \n",
       "32  {'alpha': 0.01, 'loss': 'squared_hinge', 'pena...         0.469298   \n",
       "33  {'alpha': 0.01, 'loss': 'modified_huber', 'pen...         0.471930   \n",
       "34  {'alpha': 0.01, 'loss': 'modified_huber', 'pen...         0.480702   \n",
       "35  {'alpha': 0.01, 'loss': 'modified_huber', 'pen...         0.455263   \n",
       "36   {'alpha': 0.1, 'loss': 'hinge', 'penalty': 'l2'}         0.514035   \n",
       "37   {'alpha': 0.1, 'loss': 'hinge', 'penalty': 'l1'}         0.489474   \n",
       "38  {'alpha': 0.1, 'loss': 'hinge', 'penalty': 'no...         0.480702   \n",
       "39     {'alpha': 0.1, 'loss': 'log', 'penalty': 'l2'}         0.514035   \n",
       "40     {'alpha': 0.1, 'loss': 'log', 'penalty': 'l1'}         0.502632   \n",
       "41   {'alpha': 0.1, 'loss': 'log', 'penalty': 'none'}         0.480702   \n",
       "42  {'alpha': 0.1, 'loss': 'squared_hinge', 'penal...         0.433333   \n",
       "43  {'alpha': 0.1, 'loss': 'squared_hinge', 'penal...         0.420175   \n",
       "44  {'alpha': 0.1, 'loss': 'squared_hinge', 'penal...         0.420175   \n",
       "45  {'alpha': 0.1, 'loss': 'modified_huber', 'pena...         0.500877   \n",
       "46  {'alpha': 0.1, 'loss': 'modified_huber', 'pena...         0.513158   \n",
       "47  {'alpha': 0.1, 'loss': 'modified_huber', 'pena...         0.493860   \n",
       "\n",
       "    std_test_score  \n",
       "0         0.022975  \n",
       "1         0.014090  \n",
       "2         0.024780  \n",
       "3         0.029799  \n",
       "4         0.013980  \n",
       "5         0.017055  \n",
       "6         0.037050  \n",
       "7         0.039386  \n",
       "8         0.011834  \n",
       "9         0.039210  \n",
       "10        0.030412  \n",
       "11        0.032539  \n",
       "12        0.003282  \n",
       "13        0.017368  \n",
       "14        0.018358  \n",
       "15        0.021198  \n",
       "16        0.024904  \n",
       "17        0.007546  \n",
       "18        0.042668  \n",
       "19        0.049013  \n",
       "20        0.022739  \n",
       "21        0.036231  \n",
       "22        0.042269  \n",
       "23        0.028613  \n",
       "24        0.005685  \n",
       "25        0.009366  \n",
       "26        0.004473  \n",
       "27        0.021162  \n",
       "28        0.012952  \n",
       "29        0.019965  \n",
       "30        0.006564  \n",
       "31        0.024904  \n",
       "32        0.010599  \n",
       "33        0.031310  \n",
       "34        0.010599  \n",
       "35        0.011963  \n",
       "36        0.006907  \n",
       "37        0.016222  \n",
       "38        0.015838  \n",
       "39        0.018274  \n",
       "40        0.017588  \n",
       "41        0.029251  \n",
       "42        0.010154  \n",
       "43        0.020422  \n",
       "44        0.020422  \n",
       "45        0.014307  \n",
       "46        0.015041  \n",
       "47        0.008684  "
      ]
     },
     "execution_count": 158,
     "metadata": {},
     "output_type": "execute_result"
    }
   ],
   "source": [
    "gridcv.fit(X_train_pca, y_train)\n",
    "\n",
    "pd.DataFrame(gridcv.cv_results_)[['params', 'mean_test_score', 'std_test_score']]"
   ]
  },
  {
   "cell_type": "code",
   "execution_count": 161,
   "metadata": {},
   "outputs": [
    {
     "name": "stdout",
     "output_type": "stream",
     "text": [
      "SGDClassifier(alpha=0.01, loss='log', penalty='l1')\n",
      "0.5149122807017544\n"
     ]
    }
   ],
   "source": [
    "print(gridcv.best_estimator_)\n",
    "print(gridcv.best_score_)\n",
    "\n"
   ]
  },
  {
   "cell_type": "markdown",
   "metadata": {},
   "source": [
    "- Random Forest"
   ]
  },
  {
   "cell_type": "code",
   "execution_count": 163,
   "metadata": {},
   "outputs": [],
   "source": [
    "from sklearn import ensemble"
   ]
  },
  {
   "cell_type": "code",
   "execution_count": 164,
   "metadata": {},
   "outputs": [
    {
     "data": {
      "text/plain": [
       "RandomForestClassifier(n_jobs=-1, random_state=321)"
      ]
     },
     "execution_count": 164,
     "metadata": {},
     "output_type": "execute_result"
    }
   ],
   "source": [
    "clf_rf = ensemble.RandomForestClassifier(n_jobs=-1, random_state=321)\n",
    "clf_rf.fit(X_train_pca, y_train)"
   ]
  },
  {
   "cell_type": "code",
   "execution_count": 167,
   "metadata": {},
   "outputs": [
    {
     "data": {
      "text/html": [
       "<div>\n",
       "<style scoped>\n",
       "    .dataframe tbody tr th:only-of-type {\n",
       "        vertical-align: middle;\n",
       "    }\n",
       "\n",
       "    .dataframe tbody tr th {\n",
       "        vertical-align: top;\n",
       "    }\n",
       "\n",
       "    .dataframe thead th {\n",
       "        text-align: right;\n",
       "    }\n",
       "</style>\n",
       "<table border=\"1\" class=\"dataframe\">\n",
       "  <thead>\n",
       "    <tr style=\"text-align: right;\">\n",
       "      <th>Classe prédite</th>\n",
       "      <th>1</th>\n",
       "      <th>2</th>\n",
       "      <th>3</th>\n",
       "    </tr>\n",
       "    <tr>\n",
       "      <th>Classe réelle</th>\n",
       "      <th></th>\n",
       "      <th></th>\n",
       "      <th></th>\n",
       "    </tr>\n",
       "  </thead>\n",
       "  <tbody>\n",
       "    <tr>\n",
       "      <th>1</th>\n",
       "      <td>106</td>\n",
       "      <td>23</td>\n",
       "      <td>3</td>\n",
       "    </tr>\n",
       "    <tr>\n",
       "      <th>2</th>\n",
       "      <td>51</td>\n",
       "      <td>33</td>\n",
       "      <td>2</td>\n",
       "    </tr>\n",
       "    <tr>\n",
       "      <th>3</th>\n",
       "      <td>48</td>\n",
       "      <td>17</td>\n",
       "      <td>2</td>\n",
       "    </tr>\n",
       "  </tbody>\n",
       "</table>\n",
       "</div>"
      ],
      "text/plain": [
       "Classe prédite    1   2  3\n",
       "Classe réelle             \n",
       "1               106  23  3\n",
       "2                51  33  2\n",
       "3                48  17  2"
      ]
     },
     "execution_count": 167,
     "metadata": {},
     "output_type": "execute_result"
    }
   ],
   "source": [
    "y_pred = clf_rf.predict(X_test_pca)\n",
    "pd.crosstab(y_test, y_pred, rownames=['Classe réelle'], colnames=['Classe prédite'])"
   ]
  },
  {
   "cell_type": "code",
   "execution_count": 168,
   "metadata": {},
   "outputs": [
    {
     "name": "stdout",
     "output_type": "stream",
     "text": [
      "0.49473684210526314\n"
     ]
    }
   ],
   "source": [
    "accuracy = accuracy_score(y_test, y_pred)\n",
    "print(accuracy)"
   ]
  },
  {
   "cell_type": "code",
   "execution_count": 169,
   "metadata": {},
   "outputs": [],
   "source": [
    "param_grid_rf = [{'n_estimators': [10, 50, 100, 250, 500, 1000], \n",
    "                  'min_samples_leaf': [1, 3, 5], \n",
    "                  'max_features': ['sqrt', 'log2']}]"
   ]
  },
  {
   "cell_type": "code",
   "execution_count": 170,
   "metadata": {},
   "outputs": [],
   "source": [
    "gridcv = GridSearchCV(clf_rf, param_grid=param_grid_rf, scoring='accuracy', cv=3) "
   ]
  },
  {
   "cell_type": "code",
   "execution_count": 171,
   "metadata": {},
   "outputs": [
    {
     "data": {
      "text/html": [
       "<div>\n",
       "<style scoped>\n",
       "    .dataframe tbody tr th:only-of-type {\n",
       "        vertical-align: middle;\n",
       "    }\n",
       "\n",
       "    .dataframe tbody tr th {\n",
       "        vertical-align: top;\n",
       "    }\n",
       "\n",
       "    .dataframe thead th {\n",
       "        text-align: right;\n",
       "    }\n",
       "</style>\n",
       "<table border=\"1\" class=\"dataframe\">\n",
       "  <thead>\n",
       "    <tr style=\"text-align: right;\">\n",
       "      <th></th>\n",
       "      <th>params</th>\n",
       "      <th>mean_test_score</th>\n",
       "      <th>std_test_score</th>\n",
       "    </tr>\n",
       "  </thead>\n",
       "  <tbody>\n",
       "    <tr>\n",
       "      <th>0</th>\n",
       "      <td>{'max_features': 'sqrt', 'min_samples_leaf': 1...</td>\n",
       "      <td>0.407895</td>\n",
       "      <td>0.019693</td>\n",
       "    </tr>\n",
       "    <tr>\n",
       "      <th>1</th>\n",
       "      <td>{'max_features': 'sqrt', 'min_samples_leaf': 1...</td>\n",
       "      <td>0.478070</td>\n",
       "      <td>0.010154</td>\n",
       "    </tr>\n",
       "    <tr>\n",
       "      <th>2</th>\n",
       "      <td>{'max_features': 'sqrt', 'min_samples_leaf': 1...</td>\n",
       "      <td>0.500877</td>\n",
       "      <td>0.010815</td>\n",
       "    </tr>\n",
       "    <tr>\n",
       "      <th>3</th>\n",
       "      <td>{'max_features': 'sqrt', 'min_samples_leaf': 1...</td>\n",
       "      <td>0.496491</td>\n",
       "      <td>0.016127</td>\n",
       "    </tr>\n",
       "    <tr>\n",
       "      <th>4</th>\n",
       "      <td>{'max_features': 'sqrt', 'min_samples_leaf': 1...</td>\n",
       "      <td>0.504386</td>\n",
       "      <td>0.011834</td>\n",
       "    </tr>\n",
       "    <tr>\n",
       "      <th>5</th>\n",
       "      <td>{'max_features': 'sqrt', 'min_samples_leaf': 1...</td>\n",
       "      <td>0.506140</td>\n",
       "      <td>0.006564</td>\n",
       "    </tr>\n",
       "    <tr>\n",
       "      <th>6</th>\n",
       "      <td>{'max_features': 'sqrt', 'min_samples_leaf': 3...</td>\n",
       "      <td>0.458772</td>\n",
       "      <td>0.017891</td>\n",
       "    </tr>\n",
       "    <tr>\n",
       "      <th>7</th>\n",
       "      <td>{'max_features': 'sqrt', 'min_samples_leaf': 3...</td>\n",
       "      <td>0.486842</td>\n",
       "      <td>0.009846</td>\n",
       "    </tr>\n",
       "    <tr>\n",
       "      <th>8</th>\n",
       "      <td>{'max_features': 'sqrt', 'min_samples_leaf': 3...</td>\n",
       "      <td>0.486842</td>\n",
       "      <td>0.013070</td>\n",
       "    </tr>\n",
       "    <tr>\n",
       "      <th>9</th>\n",
       "      <td>{'max_features': 'sqrt', 'min_samples_leaf': 3...</td>\n",
       "      <td>0.495614</td>\n",
       "      <td>0.004962</td>\n",
       "    </tr>\n",
       "    <tr>\n",
       "      <th>10</th>\n",
       "      <td>{'max_features': 'sqrt', 'min_samples_leaf': 3...</td>\n",
       "      <td>0.494737</td>\n",
       "      <td>0.005685</td>\n",
       "    </tr>\n",
       "    <tr>\n",
       "      <th>11</th>\n",
       "      <td>{'max_features': 'sqrt', 'min_samples_leaf': 3...</td>\n",
       "      <td>0.494737</td>\n",
       "      <td>0.007443</td>\n",
       "    </tr>\n",
       "    <tr>\n",
       "      <th>12</th>\n",
       "      <td>{'max_features': 'sqrt', 'min_samples_leaf': 5...</td>\n",
       "      <td>0.463158</td>\n",
       "      <td>0.014090</td>\n",
       "    </tr>\n",
       "    <tr>\n",
       "      <th>13</th>\n",
       "      <td>{'max_features': 'sqrt', 'min_samples_leaf': 5...</td>\n",
       "      <td>0.481579</td>\n",
       "      <td>0.015494</td>\n",
       "    </tr>\n",
       "    <tr>\n",
       "      <th>14</th>\n",
       "      <td>{'max_features': 'sqrt', 'min_samples_leaf': 5...</td>\n",
       "      <td>0.488596</td>\n",
       "      <td>0.010815</td>\n",
       "    </tr>\n",
       "    <tr>\n",
       "      <th>15</th>\n",
       "      <td>{'max_features': 'sqrt', 'min_samples_leaf': 5...</td>\n",
       "      <td>0.506140</td>\n",
       "      <td>0.009924</td>\n",
       "    </tr>\n",
       "    <tr>\n",
       "      <th>16</th>\n",
       "      <td>{'max_features': 'sqrt', 'min_samples_leaf': 5...</td>\n",
       "      <td>0.505263</td>\n",
       "      <td>0.002149</td>\n",
       "    </tr>\n",
       "    <tr>\n",
       "      <th>17</th>\n",
       "      <td>{'max_features': 'sqrt', 'min_samples_leaf': 5...</td>\n",
       "      <td>0.506140</td>\n",
       "      <td>0.001241</td>\n",
       "    </tr>\n",
       "    <tr>\n",
       "      <th>18</th>\n",
       "      <td>{'max_features': 'log2', 'min_samples_leaf': 1...</td>\n",
       "      <td>0.439474</td>\n",
       "      <td>0.040255</td>\n",
       "    </tr>\n",
       "    <tr>\n",
       "      <th>19</th>\n",
       "      <td>{'max_features': 'log2', 'min_samples_leaf': 1...</td>\n",
       "      <td>0.471053</td>\n",
       "      <td>0.024780</td>\n",
       "    </tr>\n",
       "    <tr>\n",
       "      <th>20</th>\n",
       "      <td>{'max_features': 'log2', 'min_samples_leaf': 1...</td>\n",
       "      <td>0.476316</td>\n",
       "      <td>0.025333</td>\n",
       "    </tr>\n",
       "    <tr>\n",
       "      <th>21</th>\n",
       "      <td>{'max_features': 'log2', 'min_samples_leaf': 1...</td>\n",
       "      <td>0.491228</td>\n",
       "      <td>0.003282</td>\n",
       "    </tr>\n",
       "    <tr>\n",
       "      <th>22</th>\n",
       "      <td>{'max_features': 'log2', 'min_samples_leaf': 1...</td>\n",
       "      <td>0.494737</td>\n",
       "      <td>0.007747</td>\n",
       "    </tr>\n",
       "    <tr>\n",
       "      <th>23</th>\n",
       "      <td>{'max_features': 'log2', 'min_samples_leaf': 1...</td>\n",
       "      <td>0.505263</td>\n",
       "      <td>0.004297</td>\n",
       "    </tr>\n",
       "    <tr>\n",
       "      <th>24</th>\n",
       "      <td>{'max_features': 'log2', 'min_samples_leaf': 3...</td>\n",
       "      <td>0.447368</td>\n",
       "      <td>0.013418</td>\n",
       "    </tr>\n",
       "    <tr>\n",
       "      <th>25</th>\n",
       "      <td>{'max_features': 'log2', 'min_samples_leaf': 3...</td>\n",
       "      <td>0.485965</td>\n",
       "      <td>0.006907</td>\n",
       "    </tr>\n",
       "    <tr>\n",
       "      <th>26</th>\n",
       "      <td>{'max_features': 'log2', 'min_samples_leaf': 3...</td>\n",
       "      <td>0.498246</td>\n",
       "      <td>0.011834</td>\n",
       "    </tr>\n",
       "    <tr>\n",
       "      <th>27</th>\n",
       "      <td>{'max_features': 'log2', 'min_samples_leaf': 3...</td>\n",
       "      <td>0.497368</td>\n",
       "      <td>0.016222</td>\n",
       "    </tr>\n",
       "    <tr>\n",
       "      <th>28</th>\n",
       "      <td>{'max_features': 'log2', 'min_samples_leaf': 3...</td>\n",
       "      <td>0.499123</td>\n",
       "      <td>0.007546</td>\n",
       "    </tr>\n",
       "    <tr>\n",
       "      <th>29</th>\n",
       "      <td>{'max_features': 'log2', 'min_samples_leaf': 3...</td>\n",
       "      <td>0.500877</td>\n",
       "      <td>0.003282</td>\n",
       "    </tr>\n",
       "    <tr>\n",
       "      <th>30</th>\n",
       "      <td>{'max_features': 'log2', 'min_samples_leaf': 5...</td>\n",
       "      <td>0.454386</td>\n",
       "      <td>0.010815</td>\n",
       "    </tr>\n",
       "    <tr>\n",
       "      <th>31</th>\n",
       "      <td>{'max_features': 'log2', 'min_samples_leaf': 5...</td>\n",
       "      <td>0.489474</td>\n",
       "      <td>0.011165</td>\n",
       "    </tr>\n",
       "    <tr>\n",
       "      <th>32</th>\n",
       "      <td>{'max_features': 'log2', 'min_samples_leaf': 5...</td>\n",
       "      <td>0.495614</td>\n",
       "      <td>0.011834</td>\n",
       "    </tr>\n",
       "    <tr>\n",
       "      <th>33</th>\n",
       "      <td>{'max_features': 'log2', 'min_samples_leaf': 5...</td>\n",
       "      <td>0.502632</td>\n",
       "      <td>0.003722</td>\n",
       "    </tr>\n",
       "    <tr>\n",
       "      <th>34</th>\n",
       "      <td>{'max_features': 'log2', 'min_samples_leaf': 5...</td>\n",
       "      <td>0.504386</td>\n",
       "      <td>0.003282</td>\n",
       "    </tr>\n",
       "    <tr>\n",
       "      <th>35</th>\n",
       "      <td>{'max_features': 'log2', 'min_samples_leaf': 5...</td>\n",
       "      <td>0.509649</td>\n",
       "      <td>0.008946</td>\n",
       "    </tr>\n",
       "  </tbody>\n",
       "</table>\n",
       "</div>"
      ],
      "text/plain": [
       "                                               params  mean_test_score  \\\n",
       "0   {'max_features': 'sqrt', 'min_samples_leaf': 1...         0.407895   \n",
       "1   {'max_features': 'sqrt', 'min_samples_leaf': 1...         0.478070   \n",
       "2   {'max_features': 'sqrt', 'min_samples_leaf': 1...         0.500877   \n",
       "3   {'max_features': 'sqrt', 'min_samples_leaf': 1...         0.496491   \n",
       "4   {'max_features': 'sqrt', 'min_samples_leaf': 1...         0.504386   \n",
       "5   {'max_features': 'sqrt', 'min_samples_leaf': 1...         0.506140   \n",
       "6   {'max_features': 'sqrt', 'min_samples_leaf': 3...         0.458772   \n",
       "7   {'max_features': 'sqrt', 'min_samples_leaf': 3...         0.486842   \n",
       "8   {'max_features': 'sqrt', 'min_samples_leaf': 3...         0.486842   \n",
       "9   {'max_features': 'sqrt', 'min_samples_leaf': 3...         0.495614   \n",
       "10  {'max_features': 'sqrt', 'min_samples_leaf': 3...         0.494737   \n",
       "11  {'max_features': 'sqrt', 'min_samples_leaf': 3...         0.494737   \n",
       "12  {'max_features': 'sqrt', 'min_samples_leaf': 5...         0.463158   \n",
       "13  {'max_features': 'sqrt', 'min_samples_leaf': 5...         0.481579   \n",
       "14  {'max_features': 'sqrt', 'min_samples_leaf': 5...         0.488596   \n",
       "15  {'max_features': 'sqrt', 'min_samples_leaf': 5...         0.506140   \n",
       "16  {'max_features': 'sqrt', 'min_samples_leaf': 5...         0.505263   \n",
       "17  {'max_features': 'sqrt', 'min_samples_leaf': 5...         0.506140   \n",
       "18  {'max_features': 'log2', 'min_samples_leaf': 1...         0.439474   \n",
       "19  {'max_features': 'log2', 'min_samples_leaf': 1...         0.471053   \n",
       "20  {'max_features': 'log2', 'min_samples_leaf': 1...         0.476316   \n",
       "21  {'max_features': 'log2', 'min_samples_leaf': 1...         0.491228   \n",
       "22  {'max_features': 'log2', 'min_samples_leaf': 1...         0.494737   \n",
       "23  {'max_features': 'log2', 'min_samples_leaf': 1...         0.505263   \n",
       "24  {'max_features': 'log2', 'min_samples_leaf': 3...         0.447368   \n",
       "25  {'max_features': 'log2', 'min_samples_leaf': 3...         0.485965   \n",
       "26  {'max_features': 'log2', 'min_samples_leaf': 3...         0.498246   \n",
       "27  {'max_features': 'log2', 'min_samples_leaf': 3...         0.497368   \n",
       "28  {'max_features': 'log2', 'min_samples_leaf': 3...         0.499123   \n",
       "29  {'max_features': 'log2', 'min_samples_leaf': 3...         0.500877   \n",
       "30  {'max_features': 'log2', 'min_samples_leaf': 5...         0.454386   \n",
       "31  {'max_features': 'log2', 'min_samples_leaf': 5...         0.489474   \n",
       "32  {'max_features': 'log2', 'min_samples_leaf': 5...         0.495614   \n",
       "33  {'max_features': 'log2', 'min_samples_leaf': 5...         0.502632   \n",
       "34  {'max_features': 'log2', 'min_samples_leaf': 5...         0.504386   \n",
       "35  {'max_features': 'log2', 'min_samples_leaf': 5...         0.509649   \n",
       "\n",
       "    std_test_score  \n",
       "0         0.019693  \n",
       "1         0.010154  \n",
       "2         0.010815  \n",
       "3         0.016127  \n",
       "4         0.011834  \n",
       "5         0.006564  \n",
       "6         0.017891  \n",
       "7         0.009846  \n",
       "8         0.013070  \n",
       "9         0.004962  \n",
       "10        0.005685  \n",
       "11        0.007443  \n",
       "12        0.014090  \n",
       "13        0.015494  \n",
       "14        0.010815  \n",
       "15        0.009924  \n",
       "16        0.002149  \n",
       "17        0.001241  \n",
       "18        0.040255  \n",
       "19        0.024780  \n",
       "20        0.025333  \n",
       "21        0.003282  \n",
       "22        0.007747  \n",
       "23        0.004297  \n",
       "24        0.013418  \n",
       "25        0.006907  \n",
       "26        0.011834  \n",
       "27        0.016222  \n",
       "28        0.007546  \n",
       "29        0.003282  \n",
       "30        0.010815  \n",
       "31        0.011165  \n",
       "32        0.011834  \n",
       "33        0.003722  \n",
       "34        0.003282  \n",
       "35        0.008946  "
      ]
     },
     "execution_count": 171,
     "metadata": {},
     "output_type": "execute_result"
    }
   ],
   "source": [
    "gridcv.fit(X_train_pca, y_train)\n",
    "\n",
    "pd.DataFrame(gridcv.cv_results_)[['params', 'mean_test_score', 'std_test_score']]"
   ]
  },
  {
   "cell_type": "code",
   "execution_count": 172,
   "metadata": {},
   "outputs": [
    {
     "name": "stdout",
     "output_type": "stream",
     "text": [
      "RandomForestClassifier(max_features='log2', min_samples_leaf=5,\n",
      "                       n_estimators=1000, n_jobs=-1, random_state=321)\n",
      "0.5096491228070176\n"
     ]
    }
   ],
   "source": [
    "print(gridcv.best_estimator_)\n",
    "print(gridcv.best_score_)"
   ]
  },
  {
   "cell_type": "code",
   "execution_count": null,
   "metadata": {},
   "outputs": [],
   "source": []
  }
 ],
 "metadata": {
  "file_extension": ".py",
  "interpreter": {
   "hash": "29f0c6657f550a667fc0cb61c999a7ac2bdbe77ddfff42c73fc41765fd30ed59"
  },
  "kernelspec": {
   "display_name": "Python 3.8.1 64-bit ('.venv': venv)",
   "name": "python3"
  },
  "language_info": {
   "codemirror_mode": {
    "name": "ipython",
    "version": 3
   },
   "file_extension": ".py",
   "mimetype": "text/x-python",
   "name": "python",
   "nbconvert_exporter": "python",
   "pygments_lexer": "ipython3",
   "version": "3.8.1"
  },
  "mimetype": "text/x-python",
  "name": "python",
  "npconvert_exporter": "python",
  "orig_nbformat": 2,
  "pygments_lexer": "ipython2",
  "version": 2
 },
 "nbformat": 4,
 "nbformat_minor": 2
}

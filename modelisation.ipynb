{
 "cells": [
  {
   "cell_type": "code",
   "execution_count": 191,
   "metadata": {},
   "outputs": [],
   "source": [
    "import pandas as pd\n",
    "import sklearn"
   ]
  },
  {
   "cell_type": "code",
   "execution_count": 192,
   "metadata": {},
   "outputs": [],
   "source": [
    "from sklearn.preprocessing import StandardScaler\n",
    "from sklearn.model_selection import train_test_split\n",
    "from sklearn import preprocessing\n",
    "from sklearn import svm"
   ]
  },
  {
   "cell_type": "code",
   "execution_count": 193,
   "metadata": {},
   "outputs": [],
   "source": [
    "df = pd.read_csv('dataset_moyennes_matchs.csv')"
   ]
  },
  {
   "cell_type": "code",
   "execution_count": 173,
   "metadata": {},
   "outputs": [
    {
     "name": "stdout",
     "output_type": "stream",
     "text": [
      "<class 'pandas.core.frame.DataFrame'>\n",
      "RangeIndex: 1425 entries, 0 to 1424\n",
      "Data columns (total 88 columns):\n",
      " #   Column                         Non-Null Count  Dtype  \n",
      "---  ------                         --------------  -----  \n",
      " 0   Unnamed: 0                     1425 non-null   int64  \n",
      " 1   match_id                       1425 non-null   int64  \n",
      " 2   season                         1425 non-null   object \n",
      " 3   date                           1425 non-null   object \n",
      " 4   away_team_id                   1425 non-null   int64  \n",
      " 5   away_team_name                 1425 non-null   object \n",
      " 6   home_team_id                   1425 non-null   int64  \n",
      " 7   home_team_name                 1425 non-null   object \n",
      " 8   home_team_rating               1425 non-null   float64\n",
      " 9   home_won_contest               1425 non-null   float64\n",
      " 10  home_possession_percentage     1425 non-null   float64\n",
      " 11  home_total_throws              1425 non-null   float64\n",
      " 12  home_blocked_scoring_att       1425 non-null   float64\n",
      " 13  home_total_scoring_att         1425 non-null   float64\n",
      " 14  home_total_tackle              1425 non-null   float64\n",
      " 15  home_aerial_won                1425 non-null   float64\n",
      " 16  home_aerial_lost               1425 non-null   float64\n",
      " 17  home_accurate_pass             1425 non-null   float64\n",
      " 18  home_total_pass                1425 non-null   float64\n",
      " 19  home_won_corners               1425 non-null   float64\n",
      " 20  home_shot_off_target           1425 non-null   float64\n",
      " 21  home_ontarget_scoring_att      1425 non-null   float64\n",
      " 22  home_total_offside             1425 non-null   float64\n",
      " 23  home_post_scoring_att          1425 non-null   float64\n",
      " 24  home_att_pen_goal              1425 non-null   float64\n",
      " 25  home_penalty_save              1425 non-null   float64\n",
      " 26  HF                             1425 non-null   float64\n",
      " 27  HY                             1425 non-null   float64\n",
      " 28  HR                             1425 non-null   float64\n",
      " 29  home_pass                      1425 non-null   float64\n",
      " 30  goalkeeper_home_player_rating  1425 non-null   float64\n",
      " 31  defender_home_player_rating    1425 non-null   float64\n",
      " 32  midfielder_home_player_rating  1425 non-null   float64\n",
      " 33  forward_home_player_rating     1425 non-null   float64\n",
      " 34  away_team_rating               1425 non-null   float64\n",
      " 35  away_won_contest               1425 non-null   float64\n",
      " 36  away_possession_percentage     1425 non-null   float64\n",
      " 37  away_total_throws              1425 non-null   float64\n",
      " 38  away_blocked_scoring_att       1425 non-null   float64\n",
      " 39  away_total_scoring_att         1425 non-null   float64\n",
      " 40  away_total_tackle              1425 non-null   float64\n",
      " 41  away_aerial_won                1425 non-null   float64\n",
      " 42  away_aerial_lost               1425 non-null   float64\n",
      " 43  away_accurate_pass             1425 non-null   float64\n",
      " 44  away_total_pass                1425 non-null   float64\n",
      " 45  away_won_corners               1425 non-null   float64\n",
      " 46  away_shot_off_target           1425 non-null   float64\n",
      " 47  away_ontarget_scoring_att      1425 non-null   float64\n",
      " 48  away_total_offside             1425 non-null   float64\n",
      " 49  away_post_scoring_att          1425 non-null   float64\n",
      " 50  away_att_pen_goal              1425 non-null   float64\n",
      " 51  away_penalty_save              1425 non-null   float64\n",
      " 52  AF                             1425 non-null   float64\n",
      " 53  AY                             1425 non-null   float64\n",
      " 54  AR                             1425 non-null   float64\n",
      " 55  away_pass                      1425 non-null   float64\n",
      " 56  goalkeeper_away_player_rating  1425 non-null   float64\n",
      " 57  defender_away_player_rating    1425 non-null   float64\n",
      " 58  midfielder_away_player_rating  1425 non-null   float64\n",
      " 59  forward_away_player_rating     1425 non-null   float64\n",
      " 60  FTHG                           0 non-null      float64\n",
      " 61  FTAG                           0 non-null      float64\n",
      " 62  FTR                            1425 non-null   object \n",
      " 63  B365H                          1425 non-null   float64\n",
      " 64  B365D                          1425 non-null   float64\n",
      " 65  B365A                          1425 non-null   float64\n",
      " 66  LBH                            1425 non-null   float64\n",
      " 67  LBD                            1425 non-null   float64\n",
      " 68  LBA                            1425 non-null   float64\n",
      " 69  PSH                            1425 non-null   float64\n",
      " 70  PSD                            1425 non-null   float64\n",
      " 71  PSA                            1425 non-null   float64\n",
      " 72  WHH                            1425 non-null   float64\n",
      " 73  WHD                            1425 non-null   float64\n",
      " 74  WHA                            1425 non-null   float64\n",
      " 75  VCH                            1425 non-null   float64\n",
      " 76  VCD                            1425 non-null   float64\n",
      " 77  VCA                            1425 non-null   float64\n",
      " 78  PSCH                           1425 non-null   float64\n",
      " 79  PSCD                           1425 non-null   float64\n",
      " 80  PSCA                           1425 non-null   float64\n",
      " 81  Diff_def_home_fwd_away         1425 non-null   float64\n",
      " 82  Diff_def_home_mid_away         1425 non-null   float64\n",
      " 83  Diff_mil_home_att_away         1425 non-null   float64\n",
      " 84  Diff_mil_home_mid_away         1425 non-null   float64\n",
      " 85  Diff_mil_home_def_away         1425 non-null   float64\n",
      " 86  Diff_fwd_home_mid_away         1425 non-null   float64\n",
      " 87  Diff_fwd_home_def_away         1425 non-null   float64\n",
      "dtypes: float64(79), int64(4), object(5)\n",
      "memory usage: 979.8+ KB\n"
     ]
    }
   ],
   "source": [
    "df.info()"
   ]
  },
  {
   "cell_type": "markdown",
   "metadata": {},
   "source": [
    "### 1. Suppression des variables inutiles"
   ]
  },
  {
   "cell_type": "code",
   "execution_count": 194,
   "metadata": {},
   "outputs": [],
   "source": [
    "# suppression des cotes et nb de goals dont on ne s'occupe pas pour le moment\n",
    "df = df.drop(['FTHG','FTAG','B365H','B365D','B365A','LBH','LBD','LBA','PSH','PSD','PSA','WHH','WHD','WHA','VCH','VCD','VCA','PSCH','PSCD','PSCA'], axis=1)\n",
    "# suppression de l'ancien idx\n",
    "df = df.drop(['Unnamed: 0'], axis=1)\n",
    "# suppression des variables informatives non nécessaires pour la modélisation\n",
    "df = df.drop(['match_id','season','date','away_team_id','away_team_name','home_team_id','home_team_name'],axis=1)"
   ]
  },
  {
   "cell_type": "markdown",
   "metadata": {},
   "source": [
    "### 2. Suppression des variables non significatives"
   ]
  },
  {
   "cell_type": "code",
   "execution_count": 175,
   "metadata": {},
   "outputs": [
    {
     "name": "stdout",
     "output_type": "stream",
     "text": [
      "<class 'pandas.core.frame.DataFrame'>\n",
      "RangeIndex: 1425 entries, 0 to 1424\n",
      "Data columns (total 60 columns):\n",
      " #   Column                         Non-Null Count  Dtype  \n",
      "---  ------                         --------------  -----  \n",
      " 0   home_team_rating               1425 non-null   float64\n",
      " 1   home_won_contest               1425 non-null   float64\n",
      " 2   home_possession_percentage     1425 non-null   float64\n",
      " 3   home_total_throws              1425 non-null   float64\n",
      " 4   home_blocked_scoring_att       1425 non-null   float64\n",
      " 5   home_total_scoring_att         1425 non-null   float64\n",
      " 6   home_total_tackle              1425 non-null   float64\n",
      " 7   home_aerial_won                1425 non-null   float64\n",
      " 8   home_aerial_lost               1425 non-null   float64\n",
      " 9   home_accurate_pass             1425 non-null   float64\n",
      " 10  home_total_pass                1425 non-null   float64\n",
      " 11  home_won_corners               1425 non-null   float64\n",
      " 12  home_shot_off_target           1425 non-null   float64\n",
      " 13  home_ontarget_scoring_att      1425 non-null   float64\n",
      " 14  home_total_offside             1425 non-null   float64\n",
      " 15  home_post_scoring_att          1425 non-null   float64\n",
      " 16  home_att_pen_goal              1425 non-null   float64\n",
      " 17  home_penalty_save              1425 non-null   float64\n",
      " 18  HF                             1425 non-null   float64\n",
      " 19  HY                             1425 non-null   float64\n",
      " 20  HR                             1425 non-null   float64\n",
      " 21  home_pass                      1425 non-null   float64\n",
      " 22  goalkeeper_home_player_rating  1425 non-null   float64\n",
      " 23  defender_home_player_rating    1425 non-null   float64\n",
      " 24  midfielder_home_player_rating  1425 non-null   float64\n",
      " 25  forward_home_player_rating     1425 non-null   float64\n",
      " 26  away_team_rating               1425 non-null   float64\n",
      " 27  away_won_contest               1425 non-null   float64\n",
      " 28  away_possession_percentage     1425 non-null   float64\n",
      " 29  away_total_throws              1425 non-null   float64\n",
      " 30  away_blocked_scoring_att       1425 non-null   float64\n",
      " 31  away_total_scoring_att         1425 non-null   float64\n",
      " 32  away_total_tackle              1425 non-null   float64\n",
      " 33  away_aerial_won                1425 non-null   float64\n",
      " 34  away_aerial_lost               1425 non-null   float64\n",
      " 35  away_accurate_pass             1425 non-null   float64\n",
      " 36  away_total_pass                1425 non-null   float64\n",
      " 37  away_won_corners               1425 non-null   float64\n",
      " 38  away_shot_off_target           1425 non-null   float64\n",
      " 39  away_ontarget_scoring_att      1425 non-null   float64\n",
      " 40  away_total_offside             1425 non-null   float64\n",
      " 41  away_post_scoring_att          1425 non-null   float64\n",
      " 42  away_att_pen_goal              1425 non-null   float64\n",
      " 43  away_penalty_save              1425 non-null   float64\n",
      " 44  AF                             1425 non-null   float64\n",
      " 45  AY                             1425 non-null   float64\n",
      " 46  AR                             1425 non-null   float64\n",
      " 47  away_pass                      1425 non-null   float64\n",
      " 48  goalkeeper_away_player_rating  1425 non-null   float64\n",
      " 49  defender_away_player_rating    1425 non-null   float64\n",
      " 50  midfielder_away_player_rating  1425 non-null   float64\n",
      " 51  forward_away_player_rating     1425 non-null   float64\n",
      " 52  FTR                            1425 non-null   object \n",
      " 53  Diff_def_home_fwd_away         1425 non-null   float64\n",
      " 54  Diff_def_home_mid_away         1425 non-null   float64\n",
      " 55  Diff_mil_home_att_away         1425 non-null   float64\n",
      " 56  Diff_mil_home_mid_away         1425 non-null   float64\n",
      " 57  Diff_mil_home_def_away         1425 non-null   float64\n",
      " 58  Diff_fwd_home_mid_away         1425 non-null   float64\n",
      " 59  Diff_fwd_home_def_away         1425 non-null   float64\n",
      "dtypes: float64(59), object(1)\n",
      "memory usage: 668.1+ KB\n"
     ]
    }
   ],
   "source": [
    "df.info()"
   ]
  },
  {
   "cell_type": "markdown",
   "metadata": {},
   "source": [
    "- Etape préliminaire, remplacer les classes qui sont des lettres par des classes numériques (nécessaire pour la suite par exemple pour SVM)"
   ]
  },
  {
   "cell_type": "code",
   "execution_count": 195,
   "metadata": {},
   "outputs": [],
   "source": [
    "df['FTR'] = df['FTR'].replace(['H','A','D'],[1,2,3])"
   ]
  },
  {
   "cell_type": "markdown",
   "metadata": {},
   "source": [
    "- Création ensemble entraînement et test"
   ]
  },
  {
   "cell_type": "code",
   "execution_count": 196,
   "metadata": {},
   "outputs": [],
   "source": [
    "target = df['FTR']\n",
    "data = df.drop(['FTR'],axis=1)\n",
    "# pour l'instant, séparation sur tout le jeu sans distinguer les périodes, voir si le module https://scikit-learn.org/stable/modules/generated/sklearn.model_selection.TimeSeriesSplit.html serait pertinent ici\n",
    "X_train, X_test, y_train, y_test = train_test_split(data, target, test_size=0.2)\n",
    "scaler = preprocessing.StandardScaler().fit(X_train)\n",
    "X_train_scaled = scaler.transform(X_train)\n",
    "X_test_scaled = scaler.transform(X_test)"
   ]
  },
  {
   "cell_type": "markdown",
   "metadata": {},
   "source": [
    "- Observation de la variance"
   ]
  },
  {
   "cell_type": "markdown",
   "metadata": {},
   "source": [
    "-- pandas profiling"
   ]
  },
  {
   "cell_type": "code",
   "execution_count": 18,
   "metadata": {},
   "outputs": [],
   "source": [
    "# test de l'outil pandas profiling\n",
    "# ! pip install pandas-profiling\n",
    "# (temps de traitement est long, à la fois pour la création de la variable report et pour la génération du fichier html, mais bcp plus rapide en json)\n",
    "from pandas_profiling import ProfileReport\n",
    "report = ProfileReport(df)\n",
    "# le fichier html peut ensuite être ouvert pour afficher le rapport\n",
    "# report.to_file(\"rapport_variables.html\")\n"
   ]
  },
  {
   "cell_type": "code",
   "execution_count": 10,
   "metadata": {},
   "outputs": [
    {
     "name": "stderr",
     "output_type": "stream",
     "text": [
      "Render JSON: 100%|██████████| 1/1 [00:01<00:00,  1.59s/it]\n",
      "Export report to file: 100%|██████████| 1/1 [00:00<00:00,  6.03it/s]\n"
     ]
    }
   ],
   "source": [
    "# report.to_file(\"your_report.json\")"
   ]
  },
  {
   "cell_type": "code",
   "execution_count": 29,
   "metadata": {},
   "outputs": [],
   "source": [
    "# vérification dans le rapport des variables taggées avec \"UNIQUE\", \"HIGH CARDINALITY\", ou \"UNIFORM\", indicatrices d'une variance trop élevée\n",
    "# Le rapport identifie away_pass comme \"unique\"\n",
    "# \"[UNIQUE] alert on column away_pass\"\n",
    "# étant donné que la variable home_pass n'est pas signalée, je ne supprime pas.\n",
    "# vérification dans le rapport des variables taggées avec \"CONSTANT\", \"REJECTED\", \"MISSING\", \"ZEROS\" qui indiqueraient une variance trop faible\n",
    "# home_post_scoring_att, away_total_offside, away_post_scoring_att ressortent avec le tag \"zeros\"\n",
    "# pour l'instant non supprimées"
   ]
  },
  {
   "cell_type": "markdown",
   "metadata": {},
   "source": [
    "-- variance threshold"
   ]
  },
  {
   "cell_type": "code",
   "execution_count": 180,
   "metadata": {},
   "outputs": [],
   "source": [
    "from sklearn.feature_selection import VarianceThreshold"
   ]
  },
  {
   "cell_type": "code",
   "execution_count": 181,
   "metadata": {},
   "outputs": [
    {
     "data": {
      "text/plain": [
       "VarianceThreshold(threshold=1e-06)"
      ]
     },
     "execution_count": 181,
     "metadata": {},
     "output_type": "execute_result"
    }
   ],
   "source": [
    "sel = VarianceThreshold(threshold = 1e-06)\n",
    "sel.fit(X_train_scaled)"
   ]
  },
  {
   "cell_type": "code",
   "execution_count": 182,
   "metadata": {},
   "outputs": [
    {
     "name": "stdout",
     "output_type": "stream",
     "text": [
      "<class 'pandas.core.frame.DataFrame'>\n",
      "RangeIndex: 1425 entries, 0 to 1424\n",
      "Data columns (total 59 columns):\n",
      " #   Column                         Non-Null Count  Dtype  \n",
      "---  ------                         --------------  -----  \n",
      " 0   home_team_rating               1425 non-null   float64\n",
      " 1   home_won_contest               1425 non-null   float64\n",
      " 2   home_possession_percentage     1425 non-null   float64\n",
      " 3   home_total_throws              1425 non-null   float64\n",
      " 4   home_blocked_scoring_att       1425 non-null   float64\n",
      " 5   home_total_scoring_att         1425 non-null   float64\n",
      " 6   home_total_tackle              1425 non-null   float64\n",
      " 7   home_aerial_won                1425 non-null   float64\n",
      " 8   home_aerial_lost               1425 non-null   float64\n",
      " 9   home_accurate_pass             1425 non-null   float64\n",
      " 10  home_total_pass                1425 non-null   float64\n",
      " 11  home_won_corners               1425 non-null   float64\n",
      " 12  home_shot_off_target           1425 non-null   float64\n",
      " 13  home_ontarget_scoring_att      1425 non-null   float64\n",
      " 14  home_total_offside             1425 non-null   float64\n",
      " 15  home_post_scoring_att          1425 non-null   float64\n",
      " 16  home_att_pen_goal              1425 non-null   float64\n",
      " 17  home_penalty_save              1425 non-null   float64\n",
      " 18  HF                             1425 non-null   float64\n",
      " 19  HY                             1425 non-null   float64\n",
      " 20  HR                             1425 non-null   float64\n",
      " 21  home_pass                      1425 non-null   float64\n",
      " 22  goalkeeper_home_player_rating  1425 non-null   float64\n",
      " 23  defender_home_player_rating    1425 non-null   float64\n",
      " 24  midfielder_home_player_rating  1425 non-null   float64\n",
      " 25  forward_home_player_rating     1425 non-null   float64\n",
      " 26  away_team_rating               1425 non-null   float64\n",
      " 27  away_won_contest               1425 non-null   float64\n",
      " 28  away_possession_percentage     1425 non-null   float64\n",
      " 29  away_total_throws              1425 non-null   float64\n",
      " 30  away_blocked_scoring_att       1425 non-null   float64\n",
      " 31  away_total_scoring_att         1425 non-null   float64\n",
      " 32  away_total_tackle              1425 non-null   float64\n",
      " 33  away_aerial_won                1425 non-null   float64\n",
      " 34  away_aerial_lost               1425 non-null   float64\n",
      " 35  away_accurate_pass             1425 non-null   float64\n",
      " 36  away_total_pass                1425 non-null   float64\n",
      " 37  away_won_corners               1425 non-null   float64\n",
      " 38  away_shot_off_target           1425 non-null   float64\n",
      " 39  away_ontarget_scoring_att      1425 non-null   float64\n",
      " 40  away_total_offside             1425 non-null   float64\n",
      " 41  away_post_scoring_att          1425 non-null   float64\n",
      " 42  away_att_pen_goal              1425 non-null   float64\n",
      " 43  away_penalty_save              1425 non-null   float64\n",
      " 44  AF                             1425 non-null   float64\n",
      " 45  AY                             1425 non-null   float64\n",
      " 46  AR                             1425 non-null   float64\n",
      " 47  away_pass                      1425 non-null   float64\n",
      " 48  goalkeeper_away_player_rating  1425 non-null   float64\n",
      " 49  defender_away_player_rating    1425 non-null   float64\n",
      " 50  midfielder_away_player_rating  1425 non-null   float64\n",
      " 51  forward_away_player_rating     1425 non-null   float64\n",
      " 52  Diff_def_home_fwd_away         1425 non-null   float64\n",
      " 53  Diff_def_home_mid_away         1425 non-null   float64\n",
      " 54  Diff_mil_home_att_away         1425 non-null   float64\n",
      " 55  Diff_mil_home_mid_away         1425 non-null   float64\n",
      " 56  Diff_mil_home_def_away         1425 non-null   float64\n",
      " 57  Diff_fwd_home_mid_away         1425 non-null   float64\n",
      " 58  Diff_fwd_home_def_away         1425 non-null   float64\n",
      "dtypes: float64(59)\n",
      "memory usage: 657.0 KB\n"
     ]
    }
   ],
   "source": [
    "data.info()"
   ]
  },
  {
   "cell_type": "code",
   "execution_count": 183,
   "metadata": {},
   "outputs": [],
   "source": [
    "mask = sel.get_support(indices=True)"
   ]
  },
  {
   "cell_type": "code",
   "execution_count": 184,
   "metadata": {},
   "outputs": [
    {
     "data": {
      "text/plain": [
       "array([ 0,  1,  2,  3,  4,  5,  6,  7,  8,  9, 10, 11, 12, 13, 14, 15, 16,\n",
       "       17, 18, 19, 20, 21, 22, 23, 24, 25, 26, 27, 28, 29, 30, 31, 32, 33,\n",
       "       34, 35, 36, 37, 38, 39, 40, 41, 42, 43, 44, 45, 46, 47, 48, 49, 50,\n",
       "       51, 52, 53, 54, 55, 56, 57, 58])"
      ]
     },
     "execution_count": 184,
     "metadata": {},
     "output_type": "execute_result"
    }
   ],
   "source": [
    "# toutes les variables ont été retenues\n",
    "mask"
   ]
  },
  {
   "cell_type": "markdown",
   "metadata": {},
   "source": [
    "Les deux tests effectués ne semblent pas indiquer de nécessité de supprimer des features pour des raisons de variance dans ce cas."
   ]
  },
  {
   "cell_type": "markdown",
   "metadata": {},
   "source": [
    "- Correlation"
   ]
  },
  {
   "cell_type": "markdown",
   "metadata": {},
   "source": [
    "Observation des corrélations linéaires pour voir quelles features semblent avoir un impact sur le résultat des matches"
   ]
  },
  {
   "cell_type": "code",
   "execution_count": 197,
   "metadata": {},
   "outputs": [
    {
     "data": {
      "text/plain": [
       "<AxesSubplot:>"
      ]
     },
     "execution_count": 197,
     "metadata": {},
     "output_type": "execute_result"
    },
    {
     "data": {
      "image/png": "[encoded data removed]",
      "text/plain": [
       "<Figure size 720x2160 with 1 Axes>"
      ]
     },
     "metadata": {
      "needs_background": "light"
     },
     "output_type": "display_data"
    }
   ],
   "source": [
    "df.corr().loc['FTR'].plot(figsize=(10,30),kind='barh')"
   ]
  },
  {
   "cell_type": "code",
   "execution_count": 204,
   "metadata": {},
   "outputs": [],
   "source": [
    "ftr_df = df.corr().loc['FTR']"
   ]
  },
  {
   "cell_type": "code",
   "execution_count": 208,
   "metadata": {},
   "outputs": [],
   "source": [
    "ftr_df = abs(ftr_df)"
   ]
  },
  {
   "cell_type": "code",
   "execution_count": 209,
   "metadata": {},
   "outputs": [
    {
     "data": {
      "text/plain": [
       "FTR                              1.000000\n",
       "Diff_fwd_home_mid_away           0.161546\n",
       "Diff_mil_home_mid_away           0.158085\n",
       "Diff_fwd_home_def_away           0.150469\n",
       "Diff_mil_home_def_away           0.134443\n",
       "Diff_mil_home_att_away           0.134443\n",
       "home_ontarget_scoring_att        0.131260\n",
       "Diff_def_home_mid_away           0.130515\n",
       "home_accurate_pass               0.129170\n",
       "home_total_pass                  0.128289\n",
       "home_team_rating                 0.125204\n",
       "forward_home_player_rating       0.123371\n",
       "away_ontarget_scoring_att        0.122118\n",
       "home_total_scoring_att           0.120199\n",
       "home_possession_percentage       0.117095\n",
       "away_total_scoring_att           0.116687\n",
       "midfielder_away_player_rating    0.113469\n",
       "midfielder_home_player_rating    0.109992\n",
       "Diff_def_home_fwd_away           0.109254\n",
       "home_pass                        0.106350\n",
       "away_team_rating                 0.101275\n",
       "away_won_corners                 0.092361\n",
       "away_accurate_pass               0.092177\n",
       "away_total_pass                  0.091029\n",
       "forward_away_player_rating       0.089116\n",
       "home_aerial_lost                 0.081353\n",
       "home_won_corners                 0.080635\n",
       "away_shot_off_target             0.079236\n",
       "home_shot_off_target             0.078012\n",
       "away_possession_percentage       0.076219\n",
       "home_penalty_save                0.075142\n",
       "away_pass                        0.072907\n",
       "away_aerial_lost                 0.070189\n",
       "defender_away_player_rating      0.066821\n",
       "defender_home_player_rating      0.064278\n",
       "home_blocked_scoring_att         0.060544\n",
       "goalkeeper_home_player_rating    0.058273\n",
       "away_aerial_won                  0.058187\n",
       "away_blocked_scoring_att         0.057458\n",
       "away_won_contest                 0.057025\n",
       "home_won_contest                 0.050628\n",
       "home_aerial_won                  0.046485\n",
       "AR                               0.043413\n",
       "home_att_pen_goal                0.042124\n",
       "HY                               0.041875\n",
       "away_post_scoring_att            0.040930\n",
       "AF                               0.038405\n",
       "home_post_scoring_att            0.036013\n",
       "away_att_pen_goal                0.035845\n",
       "away_penalty_save                0.035603\n",
       "HR                               0.034070\n",
       "home_total_throws                0.029756\n",
       "AY                               0.021200\n",
       "away_total_tackle                0.021192\n",
       "away_total_offside               0.019610\n",
       "away_total_throws                0.013123\n",
       "home_total_offside               0.007130\n",
       "goalkeeper_away_player_rating    0.004082\n",
       "HF                               0.002890\n",
       "home_total_tackle                0.000567\n",
       "Name: FTR, dtype: float64"
      ]
     },
     "execution_count": 209,
     "metadata": {},
     "output_type": "execute_result"
    }
   ],
   "source": [
    "ftr_df.sort_values(ascending=False)"
   ]
  },
  {
   "cell_type": "code",
   "execution_count": 216,
   "metadata": {},
   "outputs": [],
   "source": [
    "# corrélation Pearson\n",
    "\n",
    "from scipy.stats import pearsonr\n",
    "from pandas.api.types import is_numeric_dtype\n",
    "\n",
    "cols = []\n",
    "corr_values = []\n",
    "significance = []\n",
    "\n",
    "for c in df.columns:\n",
    "    if is_numeric_dtype(df[c]):\n",
    "        correlation, pvalue = pearsonr(df[c], df['FTR'])\n",
    "        cols.append(c)\n",
    "        corr_values.append(abs(correlation))\n",
    "        significance.append(pvalue <= 0.05)\n",
    "        #print(c)\n",
    "        #print(pearsonr(df[c], df['FTR']))\n",
    "        #print(f'{c : <40}: {correlation : .4f}, significant: {pvalue <= 0.05}')\n"
   ]
  },
  {
   "cell_type": "code",
   "execution_count": 217,
   "metadata": {},
   "outputs": [],
   "source": [
    "d = {\"cols\": cols, \"corr\": corr_values, \"significance\": significance}\n",
    "pearson_df = pd.DataFrame(d)"
   ]
  },
  {
   "cell_type": "code",
   "execution_count": 219,
   "metadata": {},
   "outputs": [
    {
     "data": {
      "text/html": [
       "<div>\n",
       "<style scoped>\n",
       "    .dataframe tbody tr th:only-of-type {\n",
       "        vertical-align: middle;\n",
       "    }\n",
       "\n",
       "    .dataframe tbody tr th {\n",
       "        vertical-align: top;\n",
       "    }\n",
       "\n",
       "    .dataframe thead th {\n",
       "        text-align: right;\n",
       "    }\n",
       "</style>\n",
       "<table border=\"1\" class=\"dataframe\">\n",
       "  <thead>\n",
       "    <tr style=\"text-align: right;\">\n",
       "      <th></th>\n",
       "      <th>cols</th>\n",
       "      <th>corr</th>\n",
       "      <th>significance</th>\n",
       "    </tr>\n",
       "  </thead>\n",
       "  <tbody>\n",
       "    <tr>\n",
       "      <th>52</th>\n",
       "      <td>FTR</td>\n",
       "      <td>1.000000</td>\n",
       "      <td>True</td>\n",
       "    </tr>\n",
       "    <tr>\n",
       "      <th>58</th>\n",
       "      <td>Diff_fwd_home_mid_away</td>\n",
       "      <td>0.161546</td>\n",
       "      <td>True</td>\n",
       "    </tr>\n",
       "    <tr>\n",
       "      <th>56</th>\n",
       "      <td>Diff_mil_home_mid_away</td>\n",
       "      <td>0.158085</td>\n",
       "      <td>True</td>\n",
       "    </tr>\n",
       "    <tr>\n",
       "      <th>59</th>\n",
       "      <td>Diff_fwd_home_def_away</td>\n",
       "      <td>0.150469</td>\n",
       "      <td>True</td>\n",
       "    </tr>\n",
       "    <tr>\n",
       "      <th>57</th>\n",
       "      <td>Diff_mil_home_def_away</td>\n",
       "      <td>0.134443</td>\n",
       "      <td>True</td>\n",
       "    </tr>\n",
       "    <tr>\n",
       "      <th>55</th>\n",
       "      <td>Diff_mil_home_att_away</td>\n",
       "      <td>0.134443</td>\n",
       "      <td>True</td>\n",
       "    </tr>\n",
       "    <tr>\n",
       "      <th>13</th>\n",
       "      <td>home_ontarget_scoring_att</td>\n",
       "      <td>0.131260</td>\n",
       "      <td>True</td>\n",
       "    </tr>\n",
       "    <tr>\n",
       "      <th>54</th>\n",
       "      <td>Diff_def_home_mid_away</td>\n",
       "      <td>0.130515</td>\n",
       "      <td>True</td>\n",
       "    </tr>\n",
       "    <tr>\n",
       "      <th>9</th>\n",
       "      <td>home_accurate_pass</td>\n",
       "      <td>0.129170</td>\n",
       "      <td>True</td>\n",
       "    </tr>\n",
       "    <tr>\n",
       "      <th>10</th>\n",
       "      <td>home_total_pass</td>\n",
       "      <td>0.128289</td>\n",
       "      <td>True</td>\n",
       "    </tr>\n",
       "    <tr>\n",
       "      <th>0</th>\n",
       "      <td>home_team_rating</td>\n",
       "      <td>0.125204</td>\n",
       "      <td>True</td>\n",
       "    </tr>\n",
       "    <tr>\n",
       "      <th>25</th>\n",
       "      <td>forward_home_player_rating</td>\n",
       "      <td>0.123371</td>\n",
       "      <td>True</td>\n",
       "    </tr>\n",
       "    <tr>\n",
       "      <th>39</th>\n",
       "      <td>away_ontarget_scoring_att</td>\n",
       "      <td>0.122118</td>\n",
       "      <td>True</td>\n",
       "    </tr>\n",
       "    <tr>\n",
       "      <th>5</th>\n",
       "      <td>home_total_scoring_att</td>\n",
       "      <td>0.120199</td>\n",
       "      <td>True</td>\n",
       "    </tr>\n",
       "    <tr>\n",
       "      <th>2</th>\n",
       "      <td>home_possession_percentage</td>\n",
       "      <td>0.117095</td>\n",
       "      <td>True</td>\n",
       "    </tr>\n",
       "    <tr>\n",
       "      <th>31</th>\n",
       "      <td>away_total_scoring_att</td>\n",
       "      <td>0.116687</td>\n",
       "      <td>True</td>\n",
       "    </tr>\n",
       "    <tr>\n",
       "      <th>50</th>\n",
       "      <td>midfielder_away_player_rating</td>\n",
       "      <td>0.113469</td>\n",
       "      <td>True</td>\n",
       "    </tr>\n",
       "    <tr>\n",
       "      <th>24</th>\n",
       "      <td>midfielder_home_player_rating</td>\n",
       "      <td>0.109992</td>\n",
       "      <td>True</td>\n",
       "    </tr>\n",
       "    <tr>\n",
       "      <th>53</th>\n",
       "      <td>Diff_def_home_fwd_away</td>\n",
       "      <td>0.109254</td>\n",
       "      <td>True</td>\n",
       "    </tr>\n",
       "    <tr>\n",
       "      <th>21</th>\n",
       "      <td>home_pass</td>\n",
       "      <td>0.106350</td>\n",
       "      <td>True</td>\n",
       "    </tr>\n",
       "    <tr>\n",
       "      <th>26</th>\n",
       "      <td>away_team_rating</td>\n",
       "      <td>0.101275</td>\n",
       "      <td>True</td>\n",
       "    </tr>\n",
       "    <tr>\n",
       "      <th>37</th>\n",
       "      <td>away_won_corners</td>\n",
       "      <td>0.092361</td>\n",
       "      <td>True</td>\n",
       "    </tr>\n",
       "    <tr>\n",
       "      <th>35</th>\n",
       "      <td>away_accurate_pass</td>\n",
       "      <td>0.092177</td>\n",
       "      <td>True</td>\n",
       "    </tr>\n",
       "    <tr>\n",
       "      <th>36</th>\n",
       "      <td>away_total_pass</td>\n",
       "      <td>0.091029</td>\n",
       "      <td>True</td>\n",
       "    </tr>\n",
       "    <tr>\n",
       "      <th>51</th>\n",
       "      <td>forward_away_player_rating</td>\n",
       "      <td>0.089116</td>\n",
       "      <td>True</td>\n",
       "    </tr>\n",
       "    <tr>\n",
       "      <th>8</th>\n",
       "      <td>home_aerial_lost</td>\n",
       "      <td>0.081353</td>\n",
       "      <td>True</td>\n",
       "    </tr>\n",
       "    <tr>\n",
       "      <th>11</th>\n",
       "      <td>home_won_corners</td>\n",
       "      <td>0.080635</td>\n",
       "      <td>True</td>\n",
       "    </tr>\n",
       "    <tr>\n",
       "      <th>38</th>\n",
       "      <td>away_shot_off_target</td>\n",
       "      <td>0.079236</td>\n",
       "      <td>True</td>\n",
       "    </tr>\n",
       "    <tr>\n",
       "      <th>12</th>\n",
       "      <td>home_shot_off_target</td>\n",
       "      <td>0.078012</td>\n",
       "      <td>True</td>\n",
       "    </tr>\n",
       "    <tr>\n",
       "      <th>28</th>\n",
       "      <td>away_possession_percentage</td>\n",
       "      <td>0.076219</td>\n",
       "      <td>True</td>\n",
       "    </tr>\n",
       "    <tr>\n",
       "      <th>17</th>\n",
       "      <td>home_penalty_save</td>\n",
       "      <td>0.075142</td>\n",
       "      <td>True</td>\n",
       "    </tr>\n",
       "    <tr>\n",
       "      <th>47</th>\n",
       "      <td>away_pass</td>\n",
       "      <td>0.072907</td>\n",
       "      <td>True</td>\n",
       "    </tr>\n",
       "    <tr>\n",
       "      <th>34</th>\n",
       "      <td>away_aerial_lost</td>\n",
       "      <td>0.070189</td>\n",
       "      <td>True</td>\n",
       "    </tr>\n",
       "    <tr>\n",
       "      <th>49</th>\n",
       "      <td>defender_away_player_rating</td>\n",
       "      <td>0.066821</td>\n",
       "      <td>True</td>\n",
       "    </tr>\n",
       "    <tr>\n",
       "      <th>23</th>\n",
       "      <td>defender_home_player_rating</td>\n",
       "      <td>0.064278</td>\n",
       "      <td>True</td>\n",
       "    </tr>\n",
       "    <tr>\n",
       "      <th>4</th>\n",
       "      <td>home_blocked_scoring_att</td>\n",
       "      <td>0.060544</td>\n",
       "      <td>True</td>\n",
       "    </tr>\n",
       "    <tr>\n",
       "      <th>22</th>\n",
       "      <td>goalkeeper_home_player_rating</td>\n",
       "      <td>0.058273</td>\n",
       "      <td>True</td>\n",
       "    </tr>\n",
       "    <tr>\n",
       "      <th>33</th>\n",
       "      <td>away_aerial_won</td>\n",
       "      <td>0.058187</td>\n",
       "      <td>True</td>\n",
       "    </tr>\n",
       "    <tr>\n",
       "      <th>30</th>\n",
       "      <td>away_blocked_scoring_att</td>\n",
       "      <td>0.057458</td>\n",
       "      <td>True</td>\n",
       "    </tr>\n",
       "    <tr>\n",
       "      <th>27</th>\n",
       "      <td>away_won_contest</td>\n",
       "      <td>0.057025</td>\n",
       "      <td>True</td>\n",
       "    </tr>\n",
       "    <tr>\n",
       "      <th>1</th>\n",
       "      <td>home_won_contest</td>\n",
       "      <td>0.050628</td>\n",
       "      <td>False</td>\n",
       "    </tr>\n",
       "    <tr>\n",
       "      <th>7</th>\n",
       "      <td>home_aerial_won</td>\n",
       "      <td>0.046485</td>\n",
       "      <td>False</td>\n",
       "    </tr>\n",
       "    <tr>\n",
       "      <th>46</th>\n",
       "      <td>AR</td>\n",
       "      <td>0.043413</td>\n",
       "      <td>False</td>\n",
       "    </tr>\n",
       "    <tr>\n",
       "      <th>16</th>\n",
       "      <td>home_att_pen_goal</td>\n",
       "      <td>0.042124</td>\n",
       "      <td>False</td>\n",
       "    </tr>\n",
       "    <tr>\n",
       "      <th>19</th>\n",
       "      <td>HY</td>\n",
       "      <td>0.041875</td>\n",
       "      <td>False</td>\n",
       "    </tr>\n",
       "    <tr>\n",
       "      <th>41</th>\n",
       "      <td>away_post_scoring_att</td>\n",
       "      <td>0.040930</td>\n",
       "      <td>False</td>\n",
       "    </tr>\n",
       "    <tr>\n",
       "      <th>44</th>\n",
       "      <td>AF</td>\n",
       "      <td>0.038405</td>\n",
       "      <td>False</td>\n",
       "    </tr>\n",
       "    <tr>\n",
       "      <th>15</th>\n",
       "      <td>home_post_scoring_att</td>\n",
       "      <td>0.036013</td>\n",
       "      <td>False</td>\n",
       "    </tr>\n",
       "    <tr>\n",
       "      <th>42</th>\n",
       "      <td>away_att_pen_goal</td>\n",
       "      <td>0.035845</td>\n",
       "      <td>False</td>\n",
       "    </tr>\n",
       "    <tr>\n",
       "      <th>43</th>\n",
       "      <td>away_penalty_save</td>\n",
       "      <td>0.035603</td>\n",
       "      <td>False</td>\n",
       "    </tr>\n",
       "    <tr>\n",
       "      <th>20</th>\n",
       "      <td>HR</td>\n",
       "      <td>0.034070</td>\n",
       "      <td>False</td>\n",
       "    </tr>\n",
       "    <tr>\n",
       "      <th>3</th>\n",
       "      <td>home_total_throws</td>\n",
       "      <td>0.029756</td>\n",
       "      <td>False</td>\n",
       "    </tr>\n",
       "    <tr>\n",
       "      <th>45</th>\n",
       "      <td>AY</td>\n",
       "      <td>0.021200</td>\n",
       "      <td>False</td>\n",
       "    </tr>\n",
       "    <tr>\n",
       "      <th>32</th>\n",
       "      <td>away_total_tackle</td>\n",
       "      <td>0.021192</td>\n",
       "      <td>False</td>\n",
       "    </tr>\n",
       "    <tr>\n",
       "      <th>40</th>\n",
       "      <td>away_total_offside</td>\n",
       "      <td>0.019610</td>\n",
       "      <td>False</td>\n",
       "    </tr>\n",
       "    <tr>\n",
       "      <th>29</th>\n",
       "      <td>away_total_throws</td>\n",
       "      <td>0.013123</td>\n",
       "      <td>False</td>\n",
       "    </tr>\n",
       "    <tr>\n",
       "      <th>14</th>\n",
       "      <td>home_total_offside</td>\n",
       "      <td>0.007130</td>\n",
       "      <td>False</td>\n",
       "    </tr>\n",
       "    <tr>\n",
       "      <th>48</th>\n",
       "      <td>goalkeeper_away_player_rating</td>\n",
       "      <td>0.004082</td>\n",
       "      <td>False</td>\n",
       "    </tr>\n",
       "    <tr>\n",
       "      <th>18</th>\n",
       "      <td>HF</td>\n",
       "      <td>0.002890</td>\n",
       "      <td>False</td>\n",
       "    </tr>\n",
       "    <tr>\n",
       "      <th>6</th>\n",
       "      <td>home_total_tackle</td>\n",
       "      <td>0.000567</td>\n",
       "      <td>False</td>\n",
       "    </tr>\n",
       "  </tbody>\n",
       "</table>\n",
       "</div>"
      ],
      "text/plain": [
       "                             cols      corr  significance\n",
       "52                            FTR  1.000000          True\n",
       "58         Diff_fwd_home_mid_away  0.161546          True\n",
       "56         Diff_mil_home_mid_away  0.158085          True\n",
       "59         Diff_fwd_home_def_away  0.150469          True\n",
       "57         Diff_mil_home_def_away  0.134443          True\n",
       "55         Diff_mil_home_att_away  0.134443          True\n",
       "13      home_ontarget_scoring_att  0.131260          True\n",
       "54         Diff_def_home_mid_away  0.130515          True\n",
       "9              home_accurate_pass  0.129170          True\n",
       "10                home_total_pass  0.128289          True\n",
       "0                home_team_rating  0.125204          True\n",
       "25     forward_home_player_rating  0.123371          True\n",
       "39      away_ontarget_scoring_att  0.122118          True\n",
       "5          home_total_scoring_att  0.120199          True\n",
       "2      home_possession_percentage  0.117095          True\n",
       "31         away_total_scoring_att  0.116687          True\n",
       "50  midfielder_away_player_rating  0.113469          True\n",
       "24  midfielder_home_player_rating  0.109992          True\n",
       "53         Diff_def_home_fwd_away  0.109254          True\n",
       "21                      home_pass  0.106350          True\n",
       "26               away_team_rating  0.101275          True\n",
       "37               away_won_corners  0.092361          True\n",
       "35             away_accurate_pass  0.092177          True\n",
       "36                away_total_pass  0.091029          True\n",
       "51     forward_away_player_rating  0.089116          True\n",
       "8                home_aerial_lost  0.081353          True\n",
       "11               home_won_corners  0.080635          True\n",
       "38           away_shot_off_target  0.079236          True\n",
       "12           home_shot_off_target  0.078012          True\n",
       "28     away_possession_percentage  0.076219          True\n",
       "17              home_penalty_save  0.075142          True\n",
       "47                      away_pass  0.072907          True\n",
       "34               away_aerial_lost  0.070189          True\n",
       "49    defender_away_player_rating  0.066821          True\n",
       "23    defender_home_player_rating  0.064278          True\n",
       "4        home_blocked_scoring_att  0.060544          True\n",
       "22  goalkeeper_home_player_rating  0.058273          True\n",
       "33                away_aerial_won  0.058187          True\n",
       "30       away_blocked_scoring_att  0.057458          True\n",
       "27               away_won_contest  0.057025          True\n",
       "1                home_won_contest  0.050628         False\n",
       "7                 home_aerial_won  0.046485         False\n",
       "46                             AR  0.043413         False\n",
       "16              home_att_pen_goal  0.042124         False\n",
       "19                             HY  0.041875         False\n",
       "41          away_post_scoring_att  0.040930         False\n",
       "44                             AF  0.038405         False\n",
       "15          home_post_scoring_att  0.036013         False\n",
       "42              away_att_pen_goal  0.035845         False\n",
       "43              away_penalty_save  0.035603         False\n",
       "20                             HR  0.034070         False\n",
       "3               home_total_throws  0.029756         False\n",
       "45                             AY  0.021200         False\n",
       "32              away_total_tackle  0.021192         False\n",
       "40             away_total_offside  0.019610         False\n",
       "29              away_total_throws  0.013123         False\n",
       "14             home_total_offside  0.007130         False\n",
       "48  goalkeeper_away_player_rating  0.004082         False\n",
       "18                             HF  0.002890         False\n",
       "6               home_total_tackle  0.000567         False"
      ]
     },
     "execution_count": 219,
     "metadata": {},
     "output_type": "execute_result"
    }
   ],
   "source": [
    "pearson_df.sort_values(by=['corr'], ascending=False)"
   ]
  },
  {
   "cell_type": "markdown",
   "metadata": {},
   "source": [
    "- Select K Best"
   ]
  },
  {
   "cell_type": "code",
   "execution_count": 187,
   "metadata": {},
   "outputs": [],
   "source": [
    "from sklearn.feature_selection import SelectKBest, f_regression"
   ]
  },
  {
   "cell_type": "code",
   "execution_count": 188,
   "metadata": {},
   "outputs": [
    {
     "data": {
      "text/plain": [
       "SelectKBest(k=30, score_func=<function f_regression at 0x7fa64fd61430>)"
      ]
     },
     "execution_count": 188,
     "metadata": {},
     "output_type": "execute_result"
    }
   ],
   "source": [
    "sel_kbest = SelectKBest(score_func = f_regression, k=30)\n",
    "sel_kbest.fit(X_train_scaled, y_train)"
   ]
  },
  {
   "cell_type": "code",
   "execution_count": 190,
   "metadata": {},
   "outputs": [
    {
     "name": "stdout",
     "output_type": "stream",
     "text": [
      "[ 0  2  5  8  9 10 11 12 13 21 24 25 26 28 31 35 36 37 38 39 47 50 51 52\n",
      " 53 54 55 56 57 58]\n",
      "0 - home_team_rating\n",
      "2 - home_possession_percentage\n",
      "5 - home_total_scoring_att\n",
      "8 - home_aerial_lost\n",
      "9 - home_accurate_pass\n",
      "10 - home_total_pass\n",
      "11 - home_won_corners\n",
      "12 - home_shot_off_target\n",
      "13 - home_ontarget_scoring_att\n",
      "21 - home_pass\n",
      "24 - midfielder_home_player_rating\n",
      "25 - forward_home_player_rating\n",
      "26 - away_team_rating\n",
      "28 - away_possession_percentage\n",
      "31 - away_total_scoring_att\n",
      "35 - away_accurate_pass\n",
      "36 - away_total_pass\n",
      "37 - away_won_corners\n",
      "38 - away_shot_off_target\n",
      "39 - away_ontarget_scoring_att\n",
      "47 - away_pass\n",
      "50 - midfielder_away_player_rating\n",
      "51 - forward_away_player_rating\n",
      "52 - Diff_def_home_fwd_away\n",
      "53 - Diff_def_home_mid_away\n",
      "54 - Diff_mil_home_att_away\n",
      "55 - Diff_mil_home_mid_away\n",
      "56 - Diff_mil_home_def_away\n",
      "57 - Diff_fwd_home_mid_away\n",
      "58 - Diff_fwd_home_def_away\n"
     ]
    }
   ],
   "source": [
    "mask = sel_kbest.get_support(indices=True)\n",
    "print(mask)\n",
    "\n",
    "for id in mask:\n",
    "    print(f'{id} - {data.columns[id]}')"
   ]
  },
  {
   "cell_type": "markdown",
   "metadata": {},
   "source": [
    "- Régression logistique pour évaluation des features (afin d'apporter un angle multivarié)"
   ]
  },
  {
   "cell_type": "code",
   "execution_count": 220,
   "metadata": {},
   "outputs": [
    {
     "data": {
      "image/png": "[encoded data removed]",
      "text/plain": [
       "<Figure size 1440x216 with 1 Axes>"
      ]
     },
     "metadata": {
      "needs_background": "light"
     },
     "output_type": "display_data"
    },
    {
     "name": "stdout",
     "output_type": "stream",
     "text": [
      "[10 35 47  0 26 21 28  8  9 17 50 24 37 16 11 49 34 23 29 48 33 39 22 19\n",
      " 38 31 51  2 57 43 14  1 36 12 46 53 18  6 58 32 42 13 15  5 41  3  4 45\n",
      " 25 54 56  7 44 20 52 40 27 55 30]\n"
     ]
    }
   ],
   "source": [
    "from sklearn.linear_model import LogisticRegression\n",
    "import matplotlib.pyplot as plt\n",
    "import numpy as np\n",
    "\n",
    "lr = LogisticRegression(random_state=42, max_iter=1000, multi_class='multinomial')\n",
    "\n",
    "lr.fit(X_train_scaled, y_train)\n",
    "\n",
    "logit_coef = np.exp(lr.coef_[0]) - 1\n",
    "\n",
    "idx = abs(logit_coef).argsort()[::-1]\n",
    "\n",
    "plt.rcParams[\"figure.figsize\"] = (20,3)\n",
    "\n",
    "plt.bar(range(len(idx)), logit_coef[idx])\n",
    "plt.xticks(range(len(idx)), data.columns[idx], rotation=90)\n",
    "\n",
    "plt.show()\n",
    "print(idx)\n"
   ]
  },
  {
   "cell_type": "code",
   "execution_count": 221,
   "metadata": {},
   "outputs": [
    {
     "name": "stdout",
     "output_type": "stream",
     "text": [
      "10 - home_total_pass\n",
      "35 - away_accurate_pass\n",
      "47 - away_pass\n",
      "0 - home_team_rating\n",
      "26 - away_team_rating\n",
      "21 - home_pass\n",
      "28 - away_possession_percentage\n",
      "8 - home_aerial_lost\n",
      "9 - home_accurate_pass\n",
      "17 - home_penalty_save\n",
      "50 - midfielder_away_player_rating\n",
      "24 - midfielder_home_player_rating\n",
      "37 - away_won_corners\n",
      "16 - home_att_pen_goal\n",
      "11 - home_won_corners\n"
     ]
    }
   ],
   "source": [
    "for id in idx[:15]:\n",
    "    print(f'{id} - {data.columns[id]}')"
   ]
  },
  {
   "cell_type": "markdown",
   "metadata": {},
   "source": [
    "Parmi les variables identifiées précédemment comme probablement inutiles: total throws (3/29), total tackles (6/32), total offside (14/40), att pen goal (16/42), F (18/44), Y (19/45), R (20/46), les variables 29, 14, 40, 18 apparaissent ici, ce qui nuance l'analyse précédente."
   ]
  },
  {
   "cell_type": "markdown",
   "metadata": {},
   "source": [
    "Pour l'instant les variables 6/32, 16/42, 19/45 et 20/46 sont enlevées. Il faudra sans doute affiner davantage la stratégie pour en enlever plus."
   ]
  },
  {
   "cell_type": "markdown",
   "metadata": {},
   "source": [
    "Après avoir testé en ayant enlevé ces variables, il y a un overfitting important\n",
    "- Application embedded method"
   ]
  },
  {
   "cell_type": "code",
   "execution_count": 102,
   "metadata": {},
   "outputs": [
    {
     "name": "stdout",
     "output_type": "stream",
     "text": [
      "<class 'pandas.core.frame.DataFrame'>\n",
      "RangeIndex: 1425 entries, 0 to 1424\n",
      "Data columns (total 51 columns):\n",
      " #   Column                         Non-Null Count  Dtype  \n",
      "---  ------                         --------------  -----  \n",
      " 0   home_team_rating               1425 non-null   float64\n",
      " 1   home_won_contest               1425 non-null   float64\n",
      " 2   home_possession_percentage     1425 non-null   float64\n",
      " 3   home_total_throws              1425 non-null   float64\n",
      " 4   home_blocked_scoring_att       1425 non-null   float64\n",
      " 5   home_total_scoring_att         1425 non-null   float64\n",
      " 6   home_aerial_won                1425 non-null   float64\n",
      " 7   home_aerial_lost               1425 non-null   float64\n",
      " 8   home_accurate_pass             1425 non-null   float64\n",
      " 9   home_total_pass                1425 non-null   float64\n",
      " 10  home_won_corners               1425 non-null   float64\n",
      " 11  home_shot_off_target           1425 non-null   float64\n",
      " 12  home_ontarget_scoring_att      1425 non-null   float64\n",
      " 13  home_total_offside             1425 non-null   float64\n",
      " 14  home_post_scoring_att          1425 non-null   float64\n",
      " 15  home_penalty_save              1425 non-null   float64\n",
      " 16  HF                             1425 non-null   float64\n",
      " 17  home_pass                      1425 non-null   float64\n",
      " 18  goalkeeper_home_player_rating  1425 non-null   float64\n",
      " 19  defender_home_player_rating    1425 non-null   float64\n",
      " 20  midfielder_home_player_rating  1425 non-null   float64\n",
      " 21  forward_home_player_rating     1425 non-null   float64\n",
      " 22  away_team_rating               1425 non-null   float64\n",
      " 23  away_won_contest               1425 non-null   float64\n",
      " 24  away_possession_percentage     1425 non-null   float64\n",
      " 25  away_total_throws              1425 non-null   float64\n",
      " 26  away_blocked_scoring_att       1425 non-null   float64\n",
      " 27  away_total_scoring_att         1425 non-null   float64\n",
      " 28  away_aerial_won                1425 non-null   float64\n",
      " 29  away_aerial_lost               1425 non-null   float64\n",
      " 30  away_accurate_pass             1425 non-null   float64\n",
      " 31  away_total_pass                1425 non-null   float64\n",
      " 32  away_won_corners               1425 non-null   float64\n",
      " 33  away_shot_off_target           1425 non-null   float64\n",
      " 34  away_ontarget_scoring_att      1425 non-null   float64\n",
      " 35  away_total_offside             1425 non-null   float64\n",
      " 36  away_post_scoring_att          1425 non-null   float64\n",
      " 37  away_penalty_save              1425 non-null   float64\n",
      " 38  AF                             1425 non-null   float64\n",
      " 39  away_pass                      1425 non-null   float64\n",
      " 40  goalkeeper_away_player_rating  1425 non-null   float64\n",
      " 41  defender_away_player_rating    1425 non-null   float64\n",
      " 42  midfielder_away_player_rating  1425 non-null   float64\n",
      " 43  forward_away_player_rating     1425 non-null   float64\n",
      " 44  Diff_def_home_fwd_away         1425 non-null   float64\n",
      " 45  Diff_def_home_mid_away         1425 non-null   float64\n",
      " 46  Diff_mil_home_att_away         1425 non-null   float64\n",
      " 47  Diff_mil_home_mid_away         1425 non-null   float64\n",
      " 48  Diff_mil_home_def_away         1425 non-null   float64\n",
      " 49  Diff_fwd_home_mid_away         1425 non-null   float64\n",
      " 50  Diff_fwd_home_def_away         1425 non-null   float64\n",
      "dtypes: float64(51)\n",
      "memory usage: 567.9 KB\n"
     ]
    }
   ],
   "source": [
    "data.info()"
   ]
  },
  {
   "cell_type": "markdown",
   "metadata": {},
   "source": []
  },
  {
   "cell_type": "code",
   "execution_count": 223,
   "metadata": {},
   "outputs": [],
   "source": [
    "from sklearn.linear_model import Lasso\n",
    "from sklearn.model_selection import KFold, GridSearchCV\n",
    "from sklearn.feature_selection import SelectFromModel\n",
    "import matplotlib.pyplot as plt\n",
    "%matplotlib inline"
   ]
  },
  {
   "cell_type": "code",
   "execution_count": 224,
   "metadata": {},
   "outputs": [
    {
     "name": "stdout",
     "output_type": "stream",
     "text": [
      "{'alpha': 0.1111111111111111}\n"
     ]
    }
   ],
   "source": [
    "lasso = Lasso(alpha = 1)\n",
    "crossval = KFold(n_splits = 5, random_state = 2, shuffle = True)\n",
    "alpha_grid = {'alpha':[1/i for i in range(1,10)]}\n",
    "grid = GridSearchCV(estimator = lasso, param_grid = alpha_grid, cv=crossval, scoring = 'neg_mean_squared_error')\n",
    "grid.fit(X_train, y_train)\n",
    "print(grid.best_params_)"
   ]
  },
  {
   "cell_type": "code",
   "execution_count": 225,
   "metadata": {},
   "outputs": [
    {
     "name": "stdout",
     "output_type": "stream",
     "text": [
      "5:True home_total_scoring_att\n",
      "8:True home_aerial_lost\n",
      "10:True home_total_pass\n",
      "31:True away_total_scoring_att\n",
      "33:True away_aerial_won\n",
      "34:True away_aerial_lost\n",
      "36:True away_total_pass\n"
     ]
    },
    {
     "data": {
      "image/png": "[encoded data removed]",
      "text/plain": [
       "<Figure size 1152x144 with 1 Axes>"
      ]
     },
     "metadata": {
      "needs_background": "light"
     },
     "output_type": "display_data"
    }
   ],
   "source": [
    "sel = SelectFromModel(estimator = grid.best_estimator_, threshold = 1e-10, prefit = True)\n",
    "mask = sel.get_support()\n",
    "for idx,val in enumerate(mask):\n",
    "    if val == True:\n",
    "        print(f'{idx}:{val} {data.columns[idx]}')\n",
    "plt.matshow(mask.reshape(1,-1), cmap = 'gray_r')\n",
    "plt.xlabel('Axe des features');\n",
    "plt.show();"
   ]
  },
  {
   "cell_type": "markdown",
   "metadata": {},
   "source": [
    "Stratégie: utiliser les variables les plus significatives de chaque test et leur pendant home/away\n",
    "- Correlation\n",
    "col 57 Diff_fwd_home_mid_away           0.161546 \n",
    "col 55 Diff_mil_home_mid_away           0.158085\n",
    "col 58 Diff_fwd_home_def_away           0.150469\n",
    "col 56 Diff_mil_home_def_away           0.134443\n",
    "col 54 Diff_mil_home_att_away           0.134443\n",
    "- Corrélation Pearson\n",
    "mêmes résultats que ci-dessus\n",
    "- régression logistique\n",
    "10 - home_total_pass // pendant away: 36\n",
    "35 - away_accurate_pass // pendant home: \n",
    "47 - away_pass\n",
    "0 - home_team_rating\n",
    "26 - away_team_rating\n",
    "- wrapper, prendre toutes les variables\n",
    "5:True home_total_scoring_att\n",
    "8:True home_aerial_lost\n",
    "10:True home_total_pass\n",
    "31:True away_total_scoring_att\n",
    "33:True away_aerial_won\n",
    "34:True away_aerial_lost\n",
    "36:True away_total_pass"
   ]
  },
  {
   "cell_type": "code",
   "execution_count": 222,
   "metadata": {},
   "outputs": [
    {
     "name": "stdout",
     "output_type": "stream",
     "text": [
      "<class 'pandas.core.frame.DataFrame'>\n",
      "RangeIndex: 1425 entries, 0 to 1424\n",
      "Data columns (total 59 columns):\n",
      " #   Column                         Non-Null Count  Dtype  \n",
      "---  ------                         --------------  -----  \n",
      " 0   home_team_rating               1425 non-null   float64\n",
      " 1   home_won_contest               1425 non-null   float64\n",
      " 2   home_possession_percentage     1425 non-null   float64\n",
      " 3   home_total_throws              1425 non-null   float64\n",
      " 4   home_blocked_scoring_att       1425 non-null   float64\n",
      " 5   home_total_scoring_att         1425 non-null   float64\n",
      " 6   home_total_tackle              1425 non-null   float64\n",
      " 7   home_aerial_won                1425 non-null   float64\n",
      " 8   home_aerial_lost               1425 non-null   float64\n",
      " 9   home_accurate_pass             1425 non-null   float64\n",
      " 10  home_total_pass                1425 non-null   float64\n",
      " 11  home_won_corners               1425 non-null   float64\n",
      " 12  home_shot_off_target           1425 non-null   float64\n",
      " 13  home_ontarget_scoring_att      1425 non-null   float64\n",
      " 14  home_total_offside             1425 non-null   float64\n",
      " 15  home_post_scoring_att          1425 non-null   float64\n",
      " 16  home_att_pen_goal              1425 non-null   float64\n",
      " 17  home_penalty_save              1425 non-null   float64\n",
      " 18  HF                             1425 non-null   float64\n",
      " 19  HY                             1425 non-null   float64\n",
      " 20  HR                             1425 non-null   float64\n",
      " 21  home_pass                      1425 non-null   float64\n",
      " 22  goalkeeper_home_player_rating  1425 non-null   float64\n",
      " 23  defender_home_player_rating    1425 non-null   float64\n",
      " 24  midfielder_home_player_rating  1425 non-null   float64\n",
      " 25  forward_home_player_rating     1425 non-null   float64\n",
      " 26  away_team_rating               1425 non-null   float64\n",
      " 27  away_won_contest               1425 non-null   float64\n",
      " 28  away_possession_percentage     1425 non-null   float64\n",
      " 29  away_total_throws              1425 non-null   float64\n",
      " 30  away_blocked_scoring_att       1425 non-null   float64\n",
      " 31  away_total_scoring_att         1425 non-null   float64\n",
      " 32  away_total_tackle              1425 non-null   float64\n",
      " 33  away_aerial_won                1425 non-null   float64\n",
      " 34  away_aerial_lost               1425 non-null   float64\n",
      " 35  away_accurate_pass             1425 non-null   float64\n",
      " 36  away_total_pass                1425 non-null   float64\n",
      " 37  away_won_corners               1425 non-null   float64\n",
      " 38  away_shot_off_target           1425 non-null   float64\n",
      " 39  away_ontarget_scoring_att      1425 non-null   float64\n",
      " 40  away_total_offside             1425 non-null   float64\n",
      " 41  away_post_scoring_att          1425 non-null   float64\n",
      " 42  away_att_pen_goal              1425 non-null   float64\n",
      " 43  away_penalty_save              1425 non-null   float64\n",
      " 44  AF                             1425 non-null   float64\n",
      " 45  AY                             1425 non-null   float64\n",
      " 46  AR                             1425 non-null   float64\n",
      " 47  away_pass                      1425 non-null   float64\n",
      " 48  goalkeeper_away_player_rating  1425 non-null   float64\n",
      " 49  defender_away_player_rating    1425 non-null   float64\n",
      " 50  midfielder_away_player_rating  1425 non-null   float64\n",
      " 51  forward_away_player_rating     1425 non-null   float64\n",
      " 52  Diff_def_home_fwd_away         1425 non-null   float64\n",
      " 53  Diff_def_home_mid_away         1425 non-null   float64\n",
      " 54  Diff_mil_home_att_away         1425 non-null   float64\n",
      " 55  Diff_mil_home_mid_away         1425 non-null   float64\n",
      " 56  Diff_mil_home_def_away         1425 non-null   float64\n",
      " 57  Diff_fwd_home_mid_away         1425 non-null   float64\n",
      " 58  Diff_fwd_home_def_away         1425 non-null   float64\n",
      "dtypes: float64(59)\n",
      "memory usage: 657.0 KB\n"
     ]
    }
   ],
   "source": [
    "data.info()"
   ]
  },
  {
   "cell_type": "code",
   "execution_count": 227,
   "metadata": {},
   "outputs": [],
   "source": [
    "#incl_cols = [5,7,8,27,28,29,30,6,2,24,0,22] les index parfois décalés donc il vaut mieux procéder avec les noms\n",
    "data = data[['Diff_fwd_home_mid_away','Diff_mil_home_mid_away','Diff_fwd_home_def_away','Diff_mil_home_def_away',\n",
    "'Diff_mil_home_att_away','home_total_pass','away_total_pass','away_accurate_pass','home_accurate_pass','away_pass','home_pass',\n",
    "'home_team_rating','away_team_rating','home_total_scoring_att','away_total_scoring_att','home_aerial_lost','away_aerial_lost',\n",
    "'away_aerial_won','away_aerial_lost','away_possession_percentage','home_possession_percentage']]"
   ]
  },
  {
   "cell_type": "code",
   "execution_count": 228,
   "metadata": {},
   "outputs": [
    {
     "name": "stdout",
     "output_type": "stream",
     "text": [
      "<class 'pandas.core.frame.DataFrame'>\n",
      "RangeIndex: 1425 entries, 0 to 1424\n",
      "Data columns (total 21 columns):\n",
      " #   Column                      Non-Null Count  Dtype  \n",
      "---  ------                      --------------  -----  \n",
      " 0   Diff_fwd_home_mid_away      1425 non-null   float64\n",
      " 1   Diff_mil_home_mid_away      1425 non-null   float64\n",
      " 2   Diff_fwd_home_def_away      1425 non-null   float64\n",
      " 3   Diff_mil_home_def_away      1425 non-null   float64\n",
      " 4   Diff_mil_home_att_away      1425 non-null   float64\n",
      " 5   home_total_pass             1425 non-null   float64\n",
      " 6   away_total_pass             1425 non-null   float64\n",
      " 7   away_accurate_pass          1425 non-null   float64\n",
      " 8   home_accurate_pass          1425 non-null   float64\n",
      " 9   away_pass                   1425 non-null   float64\n",
      " 10  home_pass                   1425 non-null   float64\n",
      " 11  home_team_rating            1425 non-null   float64\n",
      " 12  away_team_rating            1425 non-null   float64\n",
      " 13  home_total_scoring_att      1425 non-null   float64\n",
      " 14  away_total_scoring_att      1425 non-null   float64\n",
      " 15  home_aerial_lost            1425 non-null   float64\n",
      " 16  away_aerial_lost            1425 non-null   float64\n",
      " 17  away_aerial_won             1425 non-null   float64\n",
      " 18  away_aerial_lost            1425 non-null   float64\n",
      " 19  away_possession_percentage  1425 non-null   float64\n",
      " 20  home_possession_percentage  1425 non-null   float64\n",
      "dtypes: float64(21)\n",
      "memory usage: 233.9 KB\n"
     ]
    }
   ],
   "source": [
    "data.info()"
   ]
  },
  {
   "cell_type": "code",
   "execution_count": 14,
   "metadata": {},
   "outputs": [],
   "source": [
    "# cols = [6,32,16,42,19,45,20,46]\n",
    "# data = data.drop(data.columns[cols],axis=1)\n"
   ]
  },
  {
   "cell_type": "code",
   "execution_count": 229,
   "metadata": {},
   "outputs": [],
   "source": [
    "# remise en place des jeux d'entraînement et de test avec les données modifiées\n",
    "X_train, X_test, y_train, y_test = train_test_split(data, target, test_size=0.2)\n",
    "scaler = preprocessing.StandardScaler().fit(X_train)\n",
    "X_train_scaled = scaler.transform(X_train)\n",
    "X_test_scaled = scaler.transform(X_test)\n",
    "\n"
   ]
  },
  {
   "cell_type": "markdown",
   "metadata": {},
   "source": [
    "- PCA"
   ]
  },
  {
   "cell_type": "code",
   "execution_count": 230,
   "metadata": {},
   "outputs": [],
   "source": [
    "from sklearn.decomposition import PCA\n",
    "pca = PCA(n_components = 0.9, random_state=42)\n",
    "X_train_pca = pca.fit_transform(X_train_scaled)\n",
    "X_test_pca = pca.transform(X_test_scaled)\n"
   ]
  },
  {
   "cell_type": "markdown",
   "metadata": {},
   "source": [
    "#### 6. Modèles"
   ]
  },
  {
   "cell_type": "code",
   "execution_count": 231,
   "metadata": {},
   "outputs": [],
   "source": [
    "from sklearn.metrics import accuracy_score\n",
    "from sklearn.model_selection import GridSearchCV"
   ]
  },
  {
   "cell_type": "markdown",
   "metadata": {},
   "source": [
    "Recherche de modèles de classification multi-classes performants pour le jeu de données"
   ]
  },
  {
   "cell_type": "markdown",
   "metadata": {},
   "source": [
    "- SVM"
   ]
  },
  {
   "cell_type": "code",
   "execution_count": 113,
   "metadata": {},
   "outputs": [],
   "source": [
    "from sklearn.svm import SVC"
   ]
  },
  {
   "cell_type": "code",
   "execution_count": 232,
   "metadata": {},
   "outputs": [],
   "source": [
    "# ajout d'un OneVsRestClassifier car les numéros des classes ne correspondent pas à un ordre spécifique\n",
    "from sklearn.multiclass import OneVsRestClassifier\n",
    "ovr_clf = OneVsRestClassifier(SVC(random_state=22))"
   ]
  },
  {
   "cell_type": "markdown",
   "metadata": {},
   "source": [
    "-- PCA"
   ]
  },
  {
   "cell_type": "code",
   "execution_count": 233,
   "metadata": {},
   "outputs": [
    {
     "data": {
      "text/plain": [
       "OneVsRestClassifier(estimator=SVC(random_state=22))"
      ]
     },
     "execution_count": 233,
     "metadata": {},
     "output_type": "execute_result"
    }
   ],
   "source": [
    "ovr_clf.fit(X_train_pca,y_train)"
   ]
  },
  {
   "cell_type": "code",
   "execution_count": 234,
   "metadata": {},
   "outputs": [],
   "source": [
    "y_pred = ovr_clf.predict(X_test_pca)"
   ]
  },
  {
   "cell_type": "code",
   "execution_count": 235,
   "metadata": {},
   "outputs": [
    {
     "name": "stdout",
     "output_type": "stream",
     "text": [
      "0.5912280701754385\n",
      "0.49122807017543857\n"
     ]
    }
   ],
   "source": [
    "print(ovr_clf.score(X_train_pca, y_train))\n",
    "print(ovr_clf.score(X_test_pca, y_test))"
   ]
  },
  {
   "cell_type": "code",
   "execution_count": 236,
   "metadata": {},
   "outputs": [
    {
     "data": {
      "text/html": [
       "<div>\n",
       "<style scoped>\n",
       "    .dataframe tbody tr th:only-of-type {\n",
       "        vertical-align: middle;\n",
       "    }\n",
       "\n",
       "    .dataframe tbody tr th {\n",
       "        vertical-align: top;\n",
       "    }\n",
       "\n",
       "    .dataframe thead th {\n",
       "        text-align: right;\n",
       "    }\n",
       "</style>\n",
       "<table border=\"1\" class=\"dataframe\">\n",
       "  <thead>\n",
       "    <tr style=\"text-align: right;\">\n",
       "      <th>Classes prédites</th>\n",
       "      <th>1</th>\n",
       "      <th>2</th>\n",
       "      <th>3</th>\n",
       "    </tr>\n",
       "    <tr>\n",
       "      <th>Classes réelles</th>\n",
       "      <th></th>\n",
       "      <th></th>\n",
       "      <th></th>\n",
       "    </tr>\n",
       "  </thead>\n",
       "  <tbody>\n",
       "    <tr>\n",
       "      <th>1</th>\n",
       "      <td>98</td>\n",
       "      <td>22</td>\n",
       "      <td>1</td>\n",
       "    </tr>\n",
       "    <tr>\n",
       "      <th>2</th>\n",
       "      <td>50</td>\n",
       "      <td>40</td>\n",
       "      <td>0</td>\n",
       "    </tr>\n",
       "    <tr>\n",
       "      <th>3</th>\n",
       "      <td>55</td>\n",
       "      <td>17</td>\n",
       "      <td>2</td>\n",
       "    </tr>\n",
       "  </tbody>\n",
       "</table>\n",
       "</div>"
      ],
      "text/plain": [
       "Classes prédites   1   2  3\n",
       "Classes réelles            \n",
       "1                 98  22  1\n",
       "2                 50  40  0\n",
       "3                 55  17  2"
      ]
     },
     "execution_count": 236,
     "metadata": {},
     "output_type": "execute_result"
    }
   ],
   "source": [
    "pd.crosstab(y_test,y_pred, rownames=['Classes réelles'], colnames=['Classes prédites'])"
   ]
  },
  {
   "cell_type": "code",
   "execution_count": 237,
   "metadata": {},
   "outputs": [
    {
     "name": "stdout",
     "output_type": "stream",
     "text": [
      "0.49122807017543857\n"
     ]
    }
   ],
   "source": [
    "accuracy = accuracy_score(y_test, y_pred)\n",
    "print(accuracy)"
   ]
  },
  {
   "cell_type": "code",
   "execution_count": 238,
   "metadata": {},
   "outputs": [
    {
     "name": "stdout",
     "output_type": "stream",
     "text": [
      "              precision    recall  f1-score   support\n",
      "\n",
      "           1       0.48      0.81      0.60       121\n",
      "           2       0.51      0.44      0.47        90\n",
      "           3       0.67      0.03      0.05        74\n",
      "\n",
      "    accuracy                           0.49       285\n",
      "   macro avg       0.55      0.43      0.38       285\n",
      "weighted avg       0.54      0.49      0.42       285\n",
      "\n"
     ]
    }
   ],
   "source": [
    "# (['H','A','D'],[1,2,3])\n",
    "\n",
    "from sklearn.metrics import classification_report\n",
    "\n",
    "print(classification_report(y_test, y_pred))\n"
   ]
  },
  {
   "cell_type": "markdown",
   "metadata": {},
   "source": [
    "-- sans PCA"
   ]
  },
  {
   "cell_type": "code",
   "execution_count": 239,
   "metadata": {},
   "outputs": [
    {
     "data": {
      "text/html": [
       "<div>\n",
       "<style scoped>\n",
       "    .dataframe tbody tr th:only-of-type {\n",
       "        vertical-align: middle;\n",
       "    }\n",
       "\n",
       "    .dataframe tbody tr th {\n",
       "        vertical-align: top;\n",
       "    }\n",
       "\n",
       "    .dataframe thead th {\n",
       "        text-align: right;\n",
       "    }\n",
       "</style>\n",
       "<table border=\"1\" class=\"dataframe\">\n",
       "  <thead>\n",
       "    <tr style=\"text-align: right;\">\n",
       "      <th>Classes prédites</th>\n",
       "      <th>1</th>\n",
       "      <th>2</th>\n",
       "      <th>3</th>\n",
       "    </tr>\n",
       "    <tr>\n",
       "      <th>Classes réelles</th>\n",
       "      <th></th>\n",
       "      <th></th>\n",
       "      <th></th>\n",
       "    </tr>\n",
       "  </thead>\n",
       "  <tbody>\n",
       "    <tr>\n",
       "      <th>1</th>\n",
       "      <td>95</td>\n",
       "      <td>24</td>\n",
       "      <td>2</td>\n",
       "    </tr>\n",
       "    <tr>\n",
       "      <th>2</th>\n",
       "      <td>48</td>\n",
       "      <td>42</td>\n",
       "      <td>0</td>\n",
       "    </tr>\n",
       "    <tr>\n",
       "      <th>3</th>\n",
       "      <td>55</td>\n",
       "      <td>15</td>\n",
       "      <td>4</td>\n",
       "    </tr>\n",
       "  </tbody>\n",
       "</table>\n",
       "</div>"
      ],
      "text/plain": [
       "Classes prédites   1   2  3\n",
       "Classes réelles            \n",
       "1                 95  24  2\n",
       "2                 48  42  0\n",
       "3                 55  15  4"
      ]
     },
     "execution_count": 239,
     "metadata": {},
     "output_type": "execute_result"
    }
   ],
   "source": [
    "ovr_clf.fit(X_train_scaled,y_train)\n",
    "y_pred = ovr_clf.predict(X_test_scaled)\n",
    "pd.crosstab(y_test,y_pred, rownames=['Classes réelles'], colnames=['Classes prédites'])"
   ]
  },
  {
   "cell_type": "code",
   "execution_count": 123,
   "metadata": {},
   "outputs": [
    {
     "name": "stdout",
     "output_type": "stream",
     "text": [
      "0.5368421052631579\n"
     ]
    }
   ],
   "source": [
    "accuracy = accuracy_score(y_test, y_pred)\n",
    "print(accuracy)"
   ]
  },
  {
   "cell_type": "code",
   "execution_count": 240,
   "metadata": {},
   "outputs": [
    {
     "name": "stdout",
     "output_type": "stream",
     "text": [
      "0.6289473684210526\n",
      "0.49473684210526314\n"
     ]
    }
   ],
   "source": [
    "print(ovr_clf.score(X_train_scaled, y_train))\n",
    "print(ovr_clf.score(X_test_scaled, y_test))"
   ]
  },
  {
   "cell_type": "code",
   "execution_count": 241,
   "metadata": {},
   "outputs": [
    {
     "name": "stdout",
     "output_type": "stream",
     "text": [
      "              precision    recall  f1-score   support\n",
      "\n",
      "           1       0.48      0.79      0.60       121\n",
      "           2       0.52      0.47      0.49        90\n",
      "           3       0.67      0.05      0.10        74\n",
      "\n",
      "    accuracy                           0.49       285\n",
      "   macro avg       0.55      0.44      0.40       285\n",
      "weighted avg       0.54      0.49      0.43       285\n",
      "\n"
     ]
    }
   ],
   "source": [
    "# (['H','A','D'],[1,2,3])\n",
    "\n",
    "from sklearn.metrics import classification_report\n",
    "\n",
    "print(classification_report(y_test, y_pred))"
   ]
  },
  {
   "cell_type": "markdown",
   "metadata": {},
   "source": [
    "- SGD Classifier"
   ]
  },
  {
   "cell_type": "code",
   "execution_count": 242,
   "metadata": {},
   "outputs": [],
   "source": [
    "from sklearn.linear_model import SGDClassifier"
   ]
  },
  {
   "cell_type": "code",
   "execution_count": 243,
   "metadata": {},
   "outputs": [],
   "source": [
    "sgd_clf = SGDClassifier()"
   ]
  },
  {
   "cell_type": "markdown",
   "metadata": {},
   "source": [
    "-- avec PCA"
   ]
  },
  {
   "cell_type": "code",
   "execution_count": 244,
   "metadata": {},
   "outputs": [
    {
     "data": {
      "text/plain": [
       "SGDClassifier()"
      ]
     },
     "execution_count": 244,
     "metadata": {},
     "output_type": "execute_result"
    }
   ],
   "source": [
    "sgd_clf.fit(X_train_pca,y_train)"
   ]
  },
  {
   "cell_type": "code",
   "execution_count": 245,
   "metadata": {},
   "outputs": [],
   "source": [
    "y_pred = sgd_clf.predict(X_test_pca)"
   ]
  },
  {
   "cell_type": "code",
   "execution_count": 246,
   "metadata": {},
   "outputs": [
    {
     "data": {
      "text/html": [
       "<div>\n",
       "<style scoped>\n",
       "    .dataframe tbody tr th:only-of-type {\n",
       "        vertical-align: middle;\n",
       "    }\n",
       "\n",
       "    .dataframe tbody tr th {\n",
       "        vertical-align: top;\n",
       "    }\n",
       "\n",
       "    .dataframe thead th {\n",
       "        text-align: right;\n",
       "    }\n",
       "</style>\n",
       "<table border=\"1\" class=\"dataframe\">\n",
       "  <thead>\n",
       "    <tr style=\"text-align: right;\">\n",
       "      <th>Classes prédites</th>\n",
       "      <th>1</th>\n",
       "      <th>2</th>\n",
       "      <th>3</th>\n",
       "    </tr>\n",
       "    <tr>\n",
       "      <th>Classes réelles</th>\n",
       "      <th></th>\n",
       "      <th></th>\n",
       "      <th></th>\n",
       "    </tr>\n",
       "  </thead>\n",
       "  <tbody>\n",
       "    <tr>\n",
       "      <th>1</th>\n",
       "      <td>82</td>\n",
       "      <td>29</td>\n",
       "      <td>10</td>\n",
       "    </tr>\n",
       "    <tr>\n",
       "      <th>2</th>\n",
       "      <td>49</td>\n",
       "      <td>29</td>\n",
       "      <td>12</td>\n",
       "    </tr>\n",
       "    <tr>\n",
       "      <th>3</th>\n",
       "      <td>50</td>\n",
       "      <td>18</td>\n",
       "      <td>6</td>\n",
       "    </tr>\n",
       "  </tbody>\n",
       "</table>\n",
       "</div>"
      ],
      "text/plain": [
       "Classes prédites   1   2   3\n",
       "Classes réelles             \n",
       "1                 82  29  10\n",
       "2                 49  29  12\n",
       "3                 50  18   6"
      ]
     },
     "execution_count": 246,
     "metadata": {},
     "output_type": "execute_result"
    }
   ],
   "source": [
    "pd.crosstab(y_test,y_pred, rownames=['Classes réelles'], colnames=['Classes prédites'])"
   ]
  },
  {
   "cell_type": "code",
   "execution_count": 247,
   "metadata": {},
   "outputs": [
    {
     "name": "stdout",
     "output_type": "stream",
     "text": [
      "0.4105263157894737\n"
     ]
    }
   ],
   "source": [
    "accuracy = accuracy_score(y_test, y_pred)\n",
    "print(accuracy)"
   ]
  },
  {
   "cell_type": "code",
   "execution_count": 248,
   "metadata": {},
   "outputs": [],
   "source": [
    "params = {\n",
    "    \"loss\" : [\"hinge\", \"log\", \"squared_hinge\", \"modified_huber\"],\n",
    "    \"alpha\" : [0.0001, 0.001, 0.01, 0.1],\n",
    "    \"penalty\" : [\"l2\", \"l1\", \"none\"],\n",
    "}"
   ]
  },
  {
   "cell_type": "code",
   "execution_count": 249,
   "metadata": {},
   "outputs": [],
   "source": [
    "gridcv = GridSearchCV(sgd_clf, param_grid=params, scoring='accuracy', cv=3) "
   ]
  },
  {
   "cell_type": "code",
   "execution_count": 250,
   "metadata": {},
   "outputs": [
    {
     "name": "stderr",
     "output_type": "stream",
     "text": [
      "/Users/mariella.decrouychan/Documents/GitHub/Bookmakerspy/.venv/lib/python3.8/site-packages/sklearn/linear_model/_stochastic_gradient.py:696: ConvergenceWarning: Maximum number of iteration reached before convergence. Consider increasing max_iter to improve the fit.\n",
      "  warnings.warn(\n",
      "/Users/mariella.decrouychan/Documents/GitHub/Bookmakerspy/.venv/lib/python3.8/site-packages/sklearn/linear_model/_stochastic_gradient.py:696: ConvergenceWarning: Maximum number of iteration reached before convergence. Consider increasing max_iter to improve the fit.\n",
      "  warnings.warn(\n",
      "/Users/mariella.decrouychan/Documents/GitHub/Bookmakerspy/.venv/lib/python3.8/site-packages/sklearn/linear_model/_stochastic_gradient.py:696: ConvergenceWarning: Maximum number of iteration reached before convergence. Consider increasing max_iter to improve the fit.\n",
      "  warnings.warn(\n",
      "/Users/mariella.decrouychan/Documents/GitHub/Bookmakerspy/.venv/lib/python3.8/site-packages/sklearn/linear_model/_stochastic_gradient.py:696: ConvergenceWarning: Maximum number of iteration reached before convergence. Consider increasing max_iter to improve the fit.\n",
      "  warnings.warn(\n",
      "/Users/mariella.decrouychan/Documents/GitHub/Bookmakerspy/.venv/lib/python3.8/site-packages/sklearn/linear_model/_stochastic_gradient.py:696: ConvergenceWarning: Maximum number of iteration reached before convergence. Consider increasing max_iter to improve the fit.\n",
      "  warnings.warn(\n"
     ]
    },
    {
     "data": {
      "text/html": [
       "<div>\n",
       "<style scoped>\n",
       "    .dataframe tbody tr th:only-of-type {\n",
       "        vertical-align: middle;\n",
       "    }\n",
       "\n",
       "    .dataframe tbody tr th {\n",
       "        vertical-align: top;\n",
       "    }\n",
       "\n",
       "    .dataframe thead th {\n",
       "        text-align: right;\n",
       "    }\n",
       "</style>\n",
       "<table border=\"1\" class=\"dataframe\">\n",
       "  <thead>\n",
       "    <tr style=\"text-align: right;\">\n",
       "      <th></th>\n",
       "      <th>params</th>\n",
       "      <th>mean_test_score</th>\n",
       "      <th>std_test_score</th>\n",
       "    </tr>\n",
       "  </thead>\n",
       "  <tbody>\n",
       "    <tr>\n",
       "      <th>0</th>\n",
       "      <td>{'alpha': 0.0001, 'loss': 'hinge', 'penalty': ...</td>\n",
       "      <td>0.433333</td>\n",
       "      <td>0.030714</td>\n",
       "    </tr>\n",
       "    <tr>\n",
       "      <th>1</th>\n",
       "      <td>{'alpha': 0.0001, 'loss': 'hinge', 'penalty': ...</td>\n",
       "      <td>0.436842</td>\n",
       "      <td>0.055242</td>\n",
       "    </tr>\n",
       "    <tr>\n",
       "      <th>2</th>\n",
       "      <td>{'alpha': 0.0001, 'loss': 'hinge', 'penalty': ...</td>\n",
       "      <td>0.491228</td>\n",
       "      <td>0.012218</td>\n",
       "    </tr>\n",
       "    <tr>\n",
       "      <th>3</th>\n",
       "      <td>{'alpha': 0.0001, 'loss': 'log', 'penalty': 'l2'}</td>\n",
       "      <td>0.434211</td>\n",
       "      <td>0.052280</td>\n",
       "    </tr>\n",
       "    <tr>\n",
       "      <th>4</th>\n",
       "      <td>{'alpha': 0.0001, 'loss': 'log', 'penalty': 'l1'}</td>\n",
       "      <td>0.514912</td>\n",
       "      <td>0.013980</td>\n",
       "    </tr>\n",
       "    <tr>\n",
       "      <th>5</th>\n",
       "      <td>{'alpha': 0.0001, 'loss': 'log', 'penalty': 'n...</td>\n",
       "      <td>0.478947</td>\n",
       "      <td>0.024214</td>\n",
       "    </tr>\n",
       "    <tr>\n",
       "      <th>6</th>\n",
       "      <td>{'alpha': 0.0001, 'loss': 'squared_hinge', 'pe...</td>\n",
       "      <td>0.435965</td>\n",
       "      <td>0.027292</td>\n",
       "    </tr>\n",
       "    <tr>\n",
       "      <th>7</th>\n",
       "      <td>{'alpha': 0.0001, 'loss': 'squared_hinge', 'pe...</td>\n",
       "      <td>0.435965</td>\n",
       "      <td>0.019378</td>\n",
       "    </tr>\n",
       "    <tr>\n",
       "      <th>8</th>\n",
       "      <td>{'alpha': 0.0001, 'loss': 'squared_hinge', 'pe...</td>\n",
       "      <td>0.421053</td>\n",
       "      <td>0.015041</td>\n",
       "    </tr>\n",
       "    <tr>\n",
       "      <th>9</th>\n",
       "      <td>{'alpha': 0.0001, 'loss': 'modified_huber', 'p...</td>\n",
       "      <td>0.424561</td>\n",
       "      <td>0.043045</td>\n",
       "    </tr>\n",
       "    <tr>\n",
       "      <th>10</th>\n",
       "      <td>{'alpha': 0.0001, 'loss': 'modified_huber', 'p...</td>\n",
       "      <td>0.466667</td>\n",
       "      <td>0.047336</td>\n",
       "    </tr>\n",
       "    <tr>\n",
       "      <th>11</th>\n",
       "      <td>{'alpha': 0.0001, 'loss': 'modified_huber', 'p...</td>\n",
       "      <td>0.422807</td>\n",
       "      <td>0.023959</td>\n",
       "    </tr>\n",
       "    <tr>\n",
       "      <th>12</th>\n",
       "      <td>{'alpha': 0.001, 'loss': 'hinge', 'penalty': '...</td>\n",
       "      <td>0.500877</td>\n",
       "      <td>0.030864</td>\n",
       "    </tr>\n",
       "    <tr>\n",
       "      <th>13</th>\n",
       "      <td>{'alpha': 0.001, 'loss': 'hinge', 'penalty': '...</td>\n",
       "      <td>0.475439</td>\n",
       "      <td>0.037545</td>\n",
       "    </tr>\n",
       "    <tr>\n",
       "      <th>14</th>\n",
       "      <td>{'alpha': 0.001, 'loss': 'hinge', 'penalty': '...</td>\n",
       "      <td>0.488596</td>\n",
       "      <td>0.009924</td>\n",
       "    </tr>\n",
       "    <tr>\n",
       "      <th>15</th>\n",
       "      <td>{'alpha': 0.001, 'loss': 'log', 'penalty': 'l2'}</td>\n",
       "      <td>0.483333</td>\n",
       "      <td>0.041013</td>\n",
       "    </tr>\n",
       "    <tr>\n",
       "      <th>16</th>\n",
       "      <td>{'alpha': 0.001, 'loss': 'log', 'penalty': 'l1'}</td>\n",
       "      <td>0.523684</td>\n",
       "      <td>0.005685</td>\n",
       "    </tr>\n",
       "    <tr>\n",
       "      <th>17</th>\n",
       "      <td>{'alpha': 0.001, 'loss': 'log', 'penalty': 'no...</td>\n",
       "      <td>0.507895</td>\n",
       "      <td>0.009366</td>\n",
       "    </tr>\n",
       "    <tr>\n",
       "      <th>18</th>\n",
       "      <td>{'alpha': 0.001, 'loss': 'squared_hinge', 'pen...</td>\n",
       "      <td>0.435088</td>\n",
       "      <td>0.090099</td>\n",
       "    </tr>\n",
       "    <tr>\n",
       "      <th>19</th>\n",
       "      <td>{'alpha': 0.001, 'loss': 'squared_hinge', 'pen...</td>\n",
       "      <td>0.484211</td>\n",
       "      <td>0.020497</td>\n",
       "    </tr>\n",
       "    <tr>\n",
       "      <th>20</th>\n",
       "      <td>{'alpha': 0.001, 'loss': 'squared_hinge', 'pen...</td>\n",
       "      <td>0.371930</td>\n",
       "      <td>0.021630</td>\n",
       "    </tr>\n",
       "    <tr>\n",
       "      <th>21</th>\n",
       "      <td>{'alpha': 0.001, 'loss': 'modified_huber', 'pe...</td>\n",
       "      <td>0.465789</td>\n",
       "      <td>0.074339</td>\n",
       "    </tr>\n",
       "    <tr>\n",
       "      <th>22</th>\n",
       "      <td>{'alpha': 0.001, 'loss': 'modified_huber', 'pe...</td>\n",
       "      <td>0.393860</td>\n",
       "      <td>0.048445</td>\n",
       "    </tr>\n",
       "    <tr>\n",
       "      <th>23</th>\n",
       "      <td>{'alpha': 0.001, 'loss': 'modified_huber', 'pe...</td>\n",
       "      <td>0.472807</td>\n",
       "      <td>0.048301</td>\n",
       "    </tr>\n",
       "    <tr>\n",
       "      <th>24</th>\n",
       "      <td>{'alpha': 0.01, 'loss': 'hinge', 'penalty': 'l2'}</td>\n",
       "      <td>0.517544</td>\n",
       "      <td>0.011834</td>\n",
       "    </tr>\n",
       "    <tr>\n",
       "      <th>25</th>\n",
       "      <td>{'alpha': 0.01, 'loss': 'hinge', 'penalty': 'l1'}</td>\n",
       "      <td>0.523684</td>\n",
       "      <td>0.014090</td>\n",
       "    </tr>\n",
       "    <tr>\n",
       "      <th>26</th>\n",
       "      <td>{'alpha': 0.01, 'loss': 'hinge', 'penalty': 'n...</td>\n",
       "      <td>0.519298</td>\n",
       "      <td>0.004962</td>\n",
       "    </tr>\n",
       "    <tr>\n",
       "      <th>27</th>\n",
       "      <td>{'alpha': 0.01, 'loss': 'log', 'penalty': 'l2'}</td>\n",
       "      <td>0.518421</td>\n",
       "      <td>0.003722</td>\n",
       "    </tr>\n",
       "    <tr>\n",
       "      <th>28</th>\n",
       "      <td>{'alpha': 0.01, 'loss': 'log', 'penalty': 'l1'}</td>\n",
       "      <td>0.518421</td>\n",
       "      <td>0.009366</td>\n",
       "    </tr>\n",
       "    <tr>\n",
       "      <th>29</th>\n",
       "      <td>{'alpha': 0.01, 'loss': 'log', 'penalty': 'none'}</td>\n",
       "      <td>0.515789</td>\n",
       "      <td>0.009366</td>\n",
       "    </tr>\n",
       "    <tr>\n",
       "      <th>30</th>\n",
       "      <td>{'alpha': 0.01, 'loss': 'squared_hinge', 'pena...</td>\n",
       "      <td>0.509649</td>\n",
       "      <td>0.015092</td>\n",
       "    </tr>\n",
       "    <tr>\n",
       "      <th>31</th>\n",
       "      <td>{'alpha': 0.01, 'loss': 'squared_hinge', 'pena...</td>\n",
       "      <td>0.521053</td>\n",
       "      <td>0.019693</td>\n",
       "    </tr>\n",
       "    <tr>\n",
       "      <th>32</th>\n",
       "      <td>{'alpha': 0.01, 'loss': 'squared_hinge', 'pena...</td>\n",
       "      <td>0.490351</td>\n",
       "      <td>0.025814</td>\n",
       "    </tr>\n",
       "    <tr>\n",
       "      <th>33</th>\n",
       "      <td>{'alpha': 0.01, 'loss': 'modified_huber', 'pen...</td>\n",
       "      <td>0.513158</td>\n",
       "      <td>0.005685</td>\n",
       "    </tr>\n",
       "    <tr>\n",
       "      <th>34</th>\n",
       "      <td>{'alpha': 0.01, 'loss': 'modified_huber', 'pen...</td>\n",
       "      <td>0.507895</td>\n",
       "      <td>0.026837</td>\n",
       "    </tr>\n",
       "    <tr>\n",
       "      <th>35</th>\n",
       "      <td>{'alpha': 0.01, 'loss': 'modified_huber', 'pen...</td>\n",
       "      <td>0.490351</td>\n",
       "      <td>0.019849</td>\n",
       "    </tr>\n",
       "    <tr>\n",
       "      <th>36</th>\n",
       "      <td>{'alpha': 0.1, 'loss': 'hinge', 'penalty': 'l2'}</td>\n",
       "      <td>0.522807</td>\n",
       "      <td>0.011834</td>\n",
       "    </tr>\n",
       "    <tr>\n",
       "      <th>37</th>\n",
       "      <td>{'alpha': 0.1, 'loss': 'hinge', 'penalty': 'l1'}</td>\n",
       "      <td>0.515789</td>\n",
       "      <td>0.015041</td>\n",
       "    </tr>\n",
       "    <tr>\n",
       "      <th>38</th>\n",
       "      <td>{'alpha': 0.1, 'loss': 'hinge', 'penalty': 'no...</td>\n",
       "      <td>0.516667</td>\n",
       "      <td>0.014626</td>\n",
       "    </tr>\n",
       "    <tr>\n",
       "      <th>39</th>\n",
       "      <td>{'alpha': 0.1, 'loss': 'log', 'penalty': 'l2'}</td>\n",
       "      <td>0.521930</td>\n",
       "      <td>0.013129</td>\n",
       "    </tr>\n",
       "    <tr>\n",
       "      <th>40</th>\n",
       "      <td>{'alpha': 0.1, 'loss': 'log', 'penalty': 'l1'}</td>\n",
       "      <td>0.525439</td>\n",
       "      <td>0.008135</td>\n",
       "    </tr>\n",
       "    <tr>\n",
       "      <th>41</th>\n",
       "      <td>{'alpha': 0.1, 'loss': 'log', 'penalty': 'none'}</td>\n",
       "      <td>0.520175</td>\n",
       "      <td>0.015244</td>\n",
       "    </tr>\n",
       "    <tr>\n",
       "      <th>42</th>\n",
       "      <td>{'alpha': 0.1, 'loss': 'squared_hinge', 'penal...</td>\n",
       "      <td>0.510526</td>\n",
       "      <td>0.017588</td>\n",
       "    </tr>\n",
       "    <tr>\n",
       "      <th>43</th>\n",
       "      <td>{'alpha': 0.1, 'loss': 'squared_hinge', 'penal...</td>\n",
       "      <td>0.482456</td>\n",
       "      <td>0.033586</td>\n",
       "    </tr>\n",
       "    <tr>\n",
       "      <th>44</th>\n",
       "      <td>{'alpha': 0.1, 'loss': 'squared_hinge', 'penal...</td>\n",
       "      <td>0.464035</td>\n",
       "      <td>0.011834</td>\n",
       "    </tr>\n",
       "    <tr>\n",
       "      <th>45</th>\n",
       "      <td>{'alpha': 0.1, 'loss': 'modified_huber', 'pena...</td>\n",
       "      <td>0.523684</td>\n",
       "      <td>0.011370</td>\n",
       "    </tr>\n",
       "    <tr>\n",
       "      <th>46</th>\n",
       "      <td>{'alpha': 0.1, 'loss': 'modified_huber', 'pena...</td>\n",
       "      <td>0.526316</td>\n",
       "      <td>0.007747</td>\n",
       "    </tr>\n",
       "    <tr>\n",
       "      <th>47</th>\n",
       "      <td>{'alpha': 0.1, 'loss': 'modified_huber', 'pena...</td>\n",
       "      <td>0.520175</td>\n",
       "      <td>0.012590</td>\n",
       "    </tr>\n",
       "  </tbody>\n",
       "</table>\n",
       "</div>"
      ],
      "text/plain": [
       "                                               params  mean_test_score  \\\n",
       "0   {'alpha': 0.0001, 'loss': 'hinge', 'penalty': ...         0.433333   \n",
       "1   {'alpha': 0.0001, 'loss': 'hinge', 'penalty': ...         0.436842   \n",
       "2   {'alpha': 0.0001, 'loss': 'hinge', 'penalty': ...         0.491228   \n",
       "3   {'alpha': 0.0001, 'loss': 'log', 'penalty': 'l2'}         0.434211   \n",
       "4   {'alpha': 0.0001, 'loss': 'log', 'penalty': 'l1'}         0.514912   \n",
       "5   {'alpha': 0.0001, 'loss': 'log', 'penalty': 'n...         0.478947   \n",
       "6   {'alpha': 0.0001, 'loss': 'squared_hinge', 'pe...         0.435965   \n",
       "7   {'alpha': 0.0001, 'loss': 'squared_hinge', 'pe...         0.435965   \n",
       "8   {'alpha': 0.0001, 'loss': 'squared_hinge', 'pe...         0.421053   \n",
       "9   {'alpha': 0.0001, 'loss': 'modified_huber', 'p...         0.424561   \n",
       "10  {'alpha': 0.0001, 'loss': 'modified_huber', 'p...         0.466667   \n",
       "11  {'alpha': 0.0001, 'loss': 'modified_huber', 'p...         0.422807   \n",
       "12  {'alpha': 0.001, 'loss': 'hinge', 'penalty': '...         0.500877   \n",
       "13  {'alpha': 0.001, 'loss': 'hinge', 'penalty': '...         0.475439   \n",
       "14  {'alpha': 0.001, 'loss': 'hinge', 'penalty': '...         0.488596   \n",
       "15   {'alpha': 0.001, 'loss': 'log', 'penalty': 'l2'}         0.483333   \n",
       "16   {'alpha': 0.001, 'loss': 'log', 'penalty': 'l1'}         0.523684   \n",
       "17  {'alpha': 0.001, 'loss': 'log', 'penalty': 'no...         0.507895   \n",
       "18  {'alpha': 0.001, 'loss': 'squared_hinge', 'pen...         0.435088   \n",
       "19  {'alpha': 0.001, 'loss': 'squared_hinge', 'pen...         0.484211   \n",
       "20  {'alpha': 0.001, 'loss': 'squared_hinge', 'pen...         0.371930   \n",
       "21  {'alpha': 0.001, 'loss': 'modified_huber', 'pe...         0.465789   \n",
       "22  {'alpha': 0.001, 'loss': 'modified_huber', 'pe...         0.393860   \n",
       "23  {'alpha': 0.001, 'loss': 'modified_huber', 'pe...         0.472807   \n",
       "24  {'alpha': 0.01, 'loss': 'hinge', 'penalty': 'l2'}         0.517544   \n",
       "25  {'alpha': 0.01, 'loss': 'hinge', 'penalty': 'l1'}         0.523684   \n",
       "26  {'alpha': 0.01, 'loss': 'hinge', 'penalty': 'n...         0.519298   \n",
       "27    {'alpha': 0.01, 'loss': 'log', 'penalty': 'l2'}         0.518421   \n",
       "28    {'alpha': 0.01, 'loss': 'log', 'penalty': 'l1'}         0.518421   \n",
       "29  {'alpha': 0.01, 'loss': 'log', 'penalty': 'none'}         0.515789   \n",
       "30  {'alpha': 0.01, 'loss': 'squared_hinge', 'pena...         0.509649   \n",
       "31  {'alpha': 0.01, 'loss': 'squared_hinge', 'pena...         0.521053   \n",
       "32  {'alpha': 0.01, 'loss': 'squared_hinge', 'pena...         0.490351   \n",
       "33  {'alpha': 0.01, 'loss': 'modified_huber', 'pen...         0.513158   \n",
       "34  {'alpha': 0.01, 'loss': 'modified_huber', 'pen...         0.507895   \n",
       "35  {'alpha': 0.01, 'loss': 'modified_huber', 'pen...         0.490351   \n",
       "36   {'alpha': 0.1, 'loss': 'hinge', 'penalty': 'l2'}         0.522807   \n",
       "37   {'alpha': 0.1, 'loss': 'hinge', 'penalty': 'l1'}         0.515789   \n",
       "38  {'alpha': 0.1, 'loss': 'hinge', 'penalty': 'no...         0.516667   \n",
       "39     {'alpha': 0.1, 'loss': 'log', 'penalty': 'l2'}         0.521930   \n",
       "40     {'alpha': 0.1, 'loss': 'log', 'penalty': 'l1'}         0.525439   \n",
       "41   {'alpha': 0.1, 'loss': 'log', 'penalty': 'none'}         0.520175   \n",
       "42  {'alpha': 0.1, 'loss': 'squared_hinge', 'penal...         0.510526   \n",
       "43  {'alpha': 0.1, 'loss': 'squared_hinge', 'penal...         0.482456   \n",
       "44  {'alpha': 0.1, 'loss': 'squared_hinge', 'penal...         0.464035   \n",
       "45  {'alpha': 0.1, 'loss': 'modified_huber', 'pena...         0.523684   \n",
       "46  {'alpha': 0.1, 'loss': 'modified_huber', 'pena...         0.526316   \n",
       "47  {'alpha': 0.1, 'loss': 'modified_huber', 'pena...         0.520175   \n",
       "\n",
       "    std_test_score  \n",
       "0         0.030714  \n",
       "1         0.055242  \n",
       "2         0.012218  \n",
       "3         0.052280  \n",
       "4         0.013980  \n",
       "5         0.024214  \n",
       "6         0.027292  \n",
       "7         0.019378  \n",
       "8         0.015041  \n",
       "9         0.043045  \n",
       "10        0.047336  \n",
       "11        0.023959  \n",
       "12        0.030864  \n",
       "13        0.037545  \n",
       "14        0.009924  \n",
       "15        0.041013  \n",
       "16        0.005685  \n",
       "17        0.009366  \n",
       "18        0.090099  \n",
       "19        0.020497  \n",
       "20        0.021630  \n",
       "21        0.074339  \n",
       "22        0.048445  \n",
       "23        0.048301  \n",
       "24        0.011834  \n",
       "25        0.014090  \n",
       "26        0.004962  \n",
       "27        0.003722  \n",
       "28        0.009366  \n",
       "29        0.009366  \n",
       "30        0.015092  \n",
       "31        0.019693  \n",
       "32        0.025814  \n",
       "33        0.005685  \n",
       "34        0.026837  \n",
       "35        0.019849  \n",
       "36        0.011834  \n",
       "37        0.015041  \n",
       "38        0.014626  \n",
       "39        0.013129  \n",
       "40        0.008135  \n",
       "41        0.015244  \n",
       "42        0.017588  \n",
       "43        0.033586  \n",
       "44        0.011834  \n",
       "45        0.011370  \n",
       "46        0.007747  \n",
       "47        0.012590  "
      ]
     },
     "execution_count": 250,
     "metadata": {},
     "output_type": "execute_result"
    }
   ],
   "source": [
    "gridcv.fit(X_train_pca, y_train)\n",
    "\n",
    "pd.DataFrame(gridcv.cv_results_)[['params', 'mean_test_score', 'std_test_score']]"
   ]
  },
  {
   "cell_type": "code",
   "execution_count": 251,
   "metadata": {},
   "outputs": [
    {
     "name": "stdout",
     "output_type": "stream",
     "text": [
      "SGDClassifier(alpha=0.1, loss='modified_huber', penalty='l1')\n",
      "0.5263157894736842\n"
     ]
    }
   ],
   "source": [
    "print(gridcv.best_estimator_)\n",
    "print(gridcv.best_score_)\n",
    "\n"
   ]
  },
  {
   "cell_type": "code",
   "execution_count": 252,
   "metadata": {},
   "outputs": [
    {
     "name": "stdout",
     "output_type": "stream",
     "text": [
      "              precision    recall  f1-score   support\n",
      "\n",
      "           1       0.48      0.87      0.61       121\n",
      "           2       0.48      0.34      0.40        90\n",
      "           3       0.00      0.00      0.00        74\n",
      "\n",
      "    accuracy                           0.48       285\n",
      "   macro avg       0.32      0.40      0.34       285\n",
      "weighted avg       0.35      0.48      0.39       285\n",
      "\n"
     ]
    },
    {
     "name": "stderr",
     "output_type": "stream",
     "text": [
      "/Users/mariella.decrouychan/Documents/GitHub/Bookmakerspy/.venv/lib/python3.8/site-packages/sklearn/metrics/_classification.py:1308: UndefinedMetricWarning: Precision and F-score are ill-defined and being set to 0.0 in labels with no predicted samples. Use `zero_division` parameter to control this behavior.\n",
      "  _warn_prf(average, modifier, msg_start, len(result))\n",
      "/Users/mariella.decrouychan/Documents/GitHub/Bookmakerspy/.venv/lib/python3.8/site-packages/sklearn/metrics/_classification.py:1308: UndefinedMetricWarning: Precision and F-score are ill-defined and being set to 0.0 in labels with no predicted samples. Use `zero_division` parameter to control this behavior.\n",
      "  _warn_prf(average, modifier, msg_start, len(result))\n",
      "/Users/mariella.decrouychan/Documents/GitHub/Bookmakerspy/.venv/lib/python3.8/site-packages/sklearn/metrics/_classification.py:1308: UndefinedMetricWarning: Precision and F-score are ill-defined and being set to 0.0 in labels with no predicted samples. Use `zero_division` parameter to control this behavior.\n",
      "  _warn_prf(average, modifier, msg_start, len(result))\n"
     ]
    }
   ],
   "source": [
    "# (['H','A','D'],[1,2,3])\n",
    "sgd_clf_opt1 = SGDClassifier(alpha=0.1, loss='modified_huber', penalty='l1', random_state=22)\n",
    "sgd_clf_opt1.fit(X_train_pca,y_train)\n",
    "y_pred = sgd_clf_opt1.predict(X_test_pca)\n",
    "\n",
    "print(classification_report(y_test, y_pred))"
   ]
  },
  {
   "cell_type": "code",
   "execution_count": 253,
   "metadata": {},
   "outputs": [
    {
     "name": "stdout",
     "output_type": "stream",
     "text": [
      "0.5324561403508772\n",
      "0.47719298245614034\n"
     ]
    }
   ],
   "source": [
    "print(sgd_clf_opt1.score(X_train_pca, y_train))\n",
    "print(sgd_clf_opt1.score(X_test_pca, y_test))"
   ]
  },
  {
   "cell_type": "markdown",
   "metadata": {},
   "source": [
    "-- sans PCA"
   ]
  },
  {
   "cell_type": "code",
   "execution_count": 254,
   "metadata": {},
   "outputs": [],
   "source": [
    "sgd_clf.fit(X_train_scaled,y_train)\n",
    "y_pred = sgd_clf.predict(X_test_scaled)"
   ]
  },
  {
   "cell_type": "code",
   "execution_count": 255,
   "metadata": {},
   "outputs": [
    {
     "data": {
      "text/html": [
       "<div>\n",
       "<style scoped>\n",
       "    .dataframe tbody tr th:only-of-type {\n",
       "        vertical-align: middle;\n",
       "    }\n",
       "\n",
       "    .dataframe tbody tr th {\n",
       "        vertical-align: top;\n",
       "    }\n",
       "\n",
       "    .dataframe thead th {\n",
       "        text-align: right;\n",
       "    }\n",
       "</style>\n",
       "<table border=\"1\" class=\"dataframe\">\n",
       "  <thead>\n",
       "    <tr style=\"text-align: right;\">\n",
       "      <th>Classes prédites</th>\n",
       "      <th>1</th>\n",
       "      <th>2</th>\n",
       "      <th>3</th>\n",
       "    </tr>\n",
       "    <tr>\n",
       "      <th>Classes réelles</th>\n",
       "      <th></th>\n",
       "      <th></th>\n",
       "      <th></th>\n",
       "    </tr>\n",
       "  </thead>\n",
       "  <tbody>\n",
       "    <tr>\n",
       "      <th>1</th>\n",
       "      <td>89</td>\n",
       "      <td>24</td>\n",
       "      <td>8</td>\n",
       "    </tr>\n",
       "    <tr>\n",
       "      <th>2</th>\n",
       "      <td>48</td>\n",
       "      <td>39</td>\n",
       "      <td>3</td>\n",
       "    </tr>\n",
       "    <tr>\n",
       "      <th>3</th>\n",
       "      <td>43</td>\n",
       "      <td>24</td>\n",
       "      <td>7</td>\n",
       "    </tr>\n",
       "  </tbody>\n",
       "</table>\n",
       "</div>"
      ],
      "text/plain": [
       "Classes prédites   1   2  3\n",
       "Classes réelles            \n",
       "1                 89  24  8\n",
       "2                 48  39  3\n",
       "3                 43  24  7"
      ]
     },
     "execution_count": 255,
     "metadata": {},
     "output_type": "execute_result"
    }
   ],
   "source": [
    "pd.crosstab(y_test,y_pred, rownames=['Classes réelles'], colnames=['Classes prédites'])"
   ]
  },
  {
   "cell_type": "code",
   "execution_count": 256,
   "metadata": {},
   "outputs": [
    {
     "name": "stdout",
     "output_type": "stream",
     "text": [
      "0.4666666666666667\n",
      "0.47368421052631576\n"
     ]
    }
   ],
   "source": [
    "print(sgd_clf.score(X_train_scaled, y_train))\n",
    "print(sgd_clf.score(X_test_scaled, y_test))"
   ]
  },
  {
   "cell_type": "code",
   "execution_count": 257,
   "metadata": {},
   "outputs": [
    {
     "name": "stdout",
     "output_type": "stream",
     "text": [
      "0.47368421052631576\n"
     ]
    }
   ],
   "source": [
    "accuracy = accuracy_score(y_test, y_pred)\n",
    "print(accuracy)"
   ]
  },
  {
   "cell_type": "code",
   "execution_count": 141,
   "metadata": {},
   "outputs": [],
   "source": [
    "gridcv = GridSearchCV(sgd_clf, param_grid=params, scoring='accuracy', cv=3) "
   ]
  },
  {
   "cell_type": "code",
   "execution_count": 258,
   "metadata": {},
   "outputs": [
    {
     "name": "stderr",
     "output_type": "stream",
     "text": [
      "/Users/mariella.decrouychan/Documents/GitHub/Bookmakerspy/.venv/lib/python3.8/site-packages/sklearn/linear_model/_stochastic_gradient.py:696: ConvergenceWarning: Maximum number of iteration reached before convergence. Consider increasing max_iter to improve the fit.\n",
      "  warnings.warn(\n",
      "/Users/mariella.decrouychan/Documents/GitHub/Bookmakerspy/.venv/lib/python3.8/site-packages/sklearn/linear_model/_stochastic_gradient.py:696: ConvergenceWarning: Maximum number of iteration reached before convergence. Consider increasing max_iter to improve the fit.\n",
      "  warnings.warn(\n",
      "/Users/mariella.decrouychan/Documents/GitHub/Bookmakerspy/.venv/lib/python3.8/site-packages/sklearn/linear_model/_stochastic_gradient.py:696: ConvergenceWarning: Maximum number of iteration reached before convergence. Consider increasing max_iter to improve the fit.\n",
      "  warnings.warn(\n",
      "/Users/mariella.decrouychan/Documents/GitHub/Bookmakerspy/.venv/lib/python3.8/site-packages/sklearn/linear_model/_stochastic_gradient.py:696: ConvergenceWarning: Maximum number of iteration reached before convergence. Consider increasing max_iter to improve the fit.\n",
      "  warnings.warn(\n",
      "/Users/mariella.decrouychan/Documents/GitHub/Bookmakerspy/.venv/lib/python3.8/site-packages/sklearn/linear_model/_stochastic_gradient.py:696: ConvergenceWarning: Maximum number of iteration reached before convergence. Consider increasing max_iter to improve the fit.\n",
      "  warnings.warn(\n",
      "/Users/mariella.decrouychan/Documents/GitHub/Bookmakerspy/.venv/lib/python3.8/site-packages/sklearn/linear_model/_stochastic_gradient.py:696: ConvergenceWarning: Maximum number of iteration reached before convergence. Consider increasing max_iter to improve the fit.\n",
      "  warnings.warn(\n",
      "/Users/mariella.decrouychan/Documents/GitHub/Bookmakerspy/.venv/lib/python3.8/site-packages/sklearn/linear_model/_stochastic_gradient.py:696: ConvergenceWarning: Maximum number of iteration reached before convergence. Consider increasing max_iter to improve the fit.\n",
      "  warnings.warn(\n",
      "/Users/mariella.decrouychan/Documents/GitHub/Bookmakerspy/.venv/lib/python3.8/site-packages/sklearn/linear_model/_stochastic_gradient.py:696: ConvergenceWarning: Maximum number of iteration reached before convergence. Consider increasing max_iter to improve the fit.\n",
      "  warnings.warn(\n",
      "/Users/mariella.decrouychan/Documents/GitHub/Bookmakerspy/.venv/lib/python3.8/site-packages/sklearn/linear_model/_stochastic_gradient.py:696: ConvergenceWarning: Maximum number of iteration reached before convergence. Consider increasing max_iter to improve the fit.\n",
      "  warnings.warn(\n",
      "/Users/mariella.decrouychan/Documents/GitHub/Bookmakerspy/.venv/lib/python3.8/site-packages/sklearn/linear_model/_stochastic_gradient.py:696: ConvergenceWarning: Maximum number of iteration reached before convergence. Consider increasing max_iter to improve the fit.\n",
      "  warnings.warn(\n",
      "/Users/mariella.decrouychan/Documents/GitHub/Bookmakerspy/.venv/lib/python3.8/site-packages/sklearn/linear_model/_stochastic_gradient.py:696: ConvergenceWarning: Maximum number of iteration reached before convergence. Consider increasing max_iter to improve the fit.\n",
      "  warnings.warn(\n",
      "/Users/mariella.decrouychan/Documents/GitHub/Bookmakerspy/.venv/lib/python3.8/site-packages/sklearn/linear_model/_stochastic_gradient.py:696: ConvergenceWarning: Maximum number of iteration reached before convergence. Consider increasing max_iter to improve the fit.\n",
      "  warnings.warn(\n"
     ]
    },
    {
     "data": {
      "text/html": [
       "<div>\n",
       "<style scoped>\n",
       "    .dataframe tbody tr th:only-of-type {\n",
       "        vertical-align: middle;\n",
       "    }\n",
       "\n",
       "    .dataframe tbody tr th {\n",
       "        vertical-align: top;\n",
       "    }\n",
       "\n",
       "    .dataframe thead th {\n",
       "        text-align: right;\n",
       "    }\n",
       "</style>\n",
       "<table border=\"1\" class=\"dataframe\">\n",
       "  <thead>\n",
       "    <tr style=\"text-align: right;\">\n",
       "      <th></th>\n",
       "      <th>params</th>\n",
       "      <th>mean_test_score</th>\n",
       "      <th>std_test_score</th>\n",
       "    </tr>\n",
       "  </thead>\n",
       "  <tbody>\n",
       "    <tr>\n",
       "      <th>0</th>\n",
       "      <td>{'alpha': 0.0001, 'loss': 'hinge', 'penalty': ...</td>\n",
       "      <td>0.398246</td>\n",
       "      <td>0.101155</td>\n",
       "    </tr>\n",
       "    <tr>\n",
       "      <th>1</th>\n",
       "      <td>{'alpha': 0.0001, 'loss': 'hinge', 'penalty': ...</td>\n",
       "      <td>0.440351</td>\n",
       "      <td>0.058935</td>\n",
       "    </tr>\n",
       "    <tr>\n",
       "      <th>2</th>\n",
       "      <td>{'alpha': 0.0001, 'loss': 'hinge', 'penalty': ...</td>\n",
       "      <td>0.378947</td>\n",
       "      <td>0.070906</td>\n",
       "    </tr>\n",
       "    <tr>\n",
       "      <th>3</th>\n",
       "      <td>{'alpha': 0.0001, 'loss': 'log', 'penalty': 'l2'}</td>\n",
       "      <td>0.468421</td>\n",
       "      <td>0.054230</td>\n",
       "    </tr>\n",
       "    <tr>\n",
       "      <th>4</th>\n",
       "      <td>{'alpha': 0.0001, 'loss': 'log', 'penalty': 'l1'}</td>\n",
       "      <td>0.405263</td>\n",
       "      <td>0.016222</td>\n",
       "    </tr>\n",
       "    <tr>\n",
       "      <th>5</th>\n",
       "      <td>{'alpha': 0.0001, 'loss': 'log', 'penalty': 'n...</td>\n",
       "      <td>0.457895</td>\n",
       "      <td>0.061641</td>\n",
       "    </tr>\n",
       "    <tr>\n",
       "      <th>6</th>\n",
       "      <td>{'alpha': 0.0001, 'loss': 'squared_hinge', 'pe...</td>\n",
       "      <td>0.449123</td>\n",
       "      <td>0.062877</td>\n",
       "    </tr>\n",
       "    <tr>\n",
       "      <th>7</th>\n",
       "      <td>{'alpha': 0.0001, 'loss': 'squared_hinge', 'pe...</td>\n",
       "      <td>0.478070</td>\n",
       "      <td>0.024718</td>\n",
       "    </tr>\n",
       "    <tr>\n",
       "      <th>8</th>\n",
       "      <td>{'alpha': 0.0001, 'loss': 'squared_hinge', 'pe...</td>\n",
       "      <td>0.441228</td>\n",
       "      <td>0.053946</td>\n",
       "    </tr>\n",
       "    <tr>\n",
       "      <th>9</th>\n",
       "      <td>{'alpha': 0.0001, 'loss': 'modified_huber', 'p...</td>\n",
       "      <td>0.444737</td>\n",
       "      <td>0.007443</td>\n",
       "    </tr>\n",
       "    <tr>\n",
       "      <th>10</th>\n",
       "      <td>{'alpha': 0.0001, 'loss': 'modified_huber', 'p...</td>\n",
       "      <td>0.484211</td>\n",
       "      <td>0.033769</td>\n",
       "    </tr>\n",
       "    <tr>\n",
       "      <th>11</th>\n",
       "      <td>{'alpha': 0.0001, 'loss': 'modified_huber', 'p...</td>\n",
       "      <td>0.411404</td>\n",
       "      <td>0.052382</td>\n",
       "    </tr>\n",
       "    <tr>\n",
       "      <th>12</th>\n",
       "      <td>{'alpha': 0.001, 'loss': 'hinge', 'penalty': '...</td>\n",
       "      <td>0.507018</td>\n",
       "      <td>0.008684</td>\n",
       "    </tr>\n",
       "    <tr>\n",
       "      <th>13</th>\n",
       "      <td>{'alpha': 0.001, 'loss': 'hinge', 'penalty': '...</td>\n",
       "      <td>0.491228</td>\n",
       "      <td>0.008684</td>\n",
       "    </tr>\n",
       "    <tr>\n",
       "      <th>14</th>\n",
       "      <td>{'alpha': 0.001, 'loss': 'hinge', 'penalty': '...</td>\n",
       "      <td>0.479825</td>\n",
       "      <td>0.016127</td>\n",
       "    </tr>\n",
       "    <tr>\n",
       "      <th>15</th>\n",
       "      <td>{'alpha': 0.001, 'loss': 'log', 'penalty': 'l2'}</td>\n",
       "      <td>0.516667</td>\n",
       "      <td>0.012590</td>\n",
       "    </tr>\n",
       "    <tr>\n",
       "      <th>16</th>\n",
       "      <td>{'alpha': 0.001, 'loss': 'log', 'penalty': 'l1'}</td>\n",
       "      <td>0.511404</td>\n",
       "      <td>0.018274</td>\n",
       "    </tr>\n",
       "    <tr>\n",
       "      <th>17</th>\n",
       "      <td>{'alpha': 0.001, 'loss': 'log', 'penalty': 'no...</td>\n",
       "      <td>0.502632</td>\n",
       "      <td>0.013418</td>\n",
       "    </tr>\n",
       "    <tr>\n",
       "      <th>18</th>\n",
       "      <td>{'alpha': 0.001, 'loss': 'squared_hinge', 'pen...</td>\n",
       "      <td>0.378947</td>\n",
       "      <td>0.022638</td>\n",
       "    </tr>\n",
       "    <tr>\n",
       "      <th>19</th>\n",
       "      <td>{'alpha': 0.001, 'loss': 'squared_hinge', 'pen...</td>\n",
       "      <td>0.380702</td>\n",
       "      <td>0.004473</td>\n",
       "    </tr>\n",
       "    <tr>\n",
       "      <th>20</th>\n",
       "      <td>{'alpha': 0.001, 'loss': 'squared_hinge', 'pen...</td>\n",
       "      <td>0.365789</td>\n",
       "      <td>0.035502</td>\n",
       "    </tr>\n",
       "    <tr>\n",
       "      <th>21</th>\n",
       "      <td>{'alpha': 0.001, 'loss': 'modified_huber', 'pe...</td>\n",
       "      <td>0.463158</td>\n",
       "      <td>0.012892</td>\n",
       "    </tr>\n",
       "    <tr>\n",
       "      <th>22</th>\n",
       "      <td>{'alpha': 0.001, 'loss': 'modified_huber', 'pe...</td>\n",
       "      <td>0.428070</td>\n",
       "      <td>0.037607</td>\n",
       "    </tr>\n",
       "    <tr>\n",
       "      <th>23</th>\n",
       "      <td>{'alpha': 0.001, 'loss': 'modified_huber', 'pe...</td>\n",
       "      <td>0.443860</td>\n",
       "      <td>0.005407</td>\n",
       "    </tr>\n",
       "    <tr>\n",
       "      <th>24</th>\n",
       "      <td>{'alpha': 0.01, 'loss': 'hinge', 'penalty': 'l2'}</td>\n",
       "      <td>0.508772</td>\n",
       "      <td>0.008946</td>\n",
       "    </tr>\n",
       "    <tr>\n",
       "      <th>25</th>\n",
       "      <td>{'alpha': 0.01, 'loss': 'hinge', 'penalty': 'l1'}</td>\n",
       "      <td>0.528947</td>\n",
       "      <td>0.007443</td>\n",
       "    </tr>\n",
       "    <tr>\n",
       "      <th>26</th>\n",
       "      <td>{'alpha': 0.01, 'loss': 'hinge', 'penalty': 'n...</td>\n",
       "      <td>0.515789</td>\n",
       "      <td>0.008595</td>\n",
       "    </tr>\n",
       "    <tr>\n",
       "      <th>27</th>\n",
       "      <td>{'alpha': 0.01, 'loss': 'log', 'penalty': 'l2'}</td>\n",
       "      <td>0.526316</td>\n",
       "      <td>0.011963</td>\n",
       "    </tr>\n",
       "    <tr>\n",
       "      <th>28</th>\n",
       "      <td>{'alpha': 0.01, 'loss': 'log', 'penalty': 'l1'}</td>\n",
       "      <td>0.516667</td>\n",
       "      <td>0.010599</td>\n",
       "    </tr>\n",
       "    <tr>\n",
       "      <th>29</th>\n",
       "      <td>{'alpha': 0.01, 'loss': 'log', 'penalty': 'none'}</td>\n",
       "      <td>0.525439</td>\n",
       "      <td>0.009689</td>\n",
       "    </tr>\n",
       "    <tr>\n",
       "      <th>30</th>\n",
       "      <td>{'alpha': 0.01, 'loss': 'squared_hinge', 'pena...</td>\n",
       "      <td>0.395614</td>\n",
       "      <td>0.012590</td>\n",
       "    </tr>\n",
       "    <tr>\n",
       "      <th>31</th>\n",
       "      <td>{'alpha': 0.01, 'loss': 'squared_hinge', 'pena...</td>\n",
       "      <td>0.401754</td>\n",
       "      <td>0.033586</td>\n",
       "    </tr>\n",
       "    <tr>\n",
       "      <th>32</th>\n",
       "      <td>{'alpha': 0.01, 'loss': 'squared_hinge', 'pena...</td>\n",
       "      <td>0.364912</td>\n",
       "      <td>0.028370</td>\n",
       "    </tr>\n",
       "    <tr>\n",
       "      <th>33</th>\n",
       "      <td>{'alpha': 0.01, 'loss': 'modified_huber', 'pen...</td>\n",
       "      <td>0.500877</td>\n",
       "      <td>0.018773</td>\n",
       "    </tr>\n",
       "    <tr>\n",
       "      <th>34</th>\n",
       "      <td>{'alpha': 0.01, 'loss': 'modified_huber', 'pen...</td>\n",
       "      <td>0.512281</td>\n",
       "      <td>0.015544</td>\n",
       "    </tr>\n",
       "    <tr>\n",
       "      <th>35</th>\n",
       "      <td>{'alpha': 0.01, 'loss': 'modified_huber', 'pen...</td>\n",
       "      <td>0.514912</td>\n",
       "      <td>0.008135</td>\n",
       "    </tr>\n",
       "    <tr>\n",
       "      <th>36</th>\n",
       "      <td>{'alpha': 0.1, 'loss': 'hinge', 'penalty': 'l2'}</td>\n",
       "      <td>0.519298</td>\n",
       "      <td>0.014626</td>\n",
       "    </tr>\n",
       "    <tr>\n",
       "      <th>37</th>\n",
       "      <td>{'alpha': 0.1, 'loss': 'hinge', 'penalty': 'l1'}</td>\n",
       "      <td>0.484211</td>\n",
       "      <td>0.016782</td>\n",
       "    </tr>\n",
       "    <tr>\n",
       "      <th>38</th>\n",
       "      <td>{'alpha': 0.1, 'loss': 'hinge', 'penalty': 'no...</td>\n",
       "      <td>0.525439</td>\n",
       "      <td>0.013129</td>\n",
       "    </tr>\n",
       "    <tr>\n",
       "      <th>39</th>\n",
       "      <td>{'alpha': 0.1, 'loss': 'log', 'penalty': 'l2'}</td>\n",
       "      <td>0.523684</td>\n",
       "      <td>0.015041</td>\n",
       "    </tr>\n",
       "    <tr>\n",
       "      <th>40</th>\n",
       "      <td>{'alpha': 0.1, 'loss': 'log', 'penalty': 'l1'}</td>\n",
       "      <td>0.469298</td>\n",
       "      <td>0.001241</td>\n",
       "    </tr>\n",
       "    <tr>\n",
       "      <th>41</th>\n",
       "      <td>{'alpha': 0.1, 'loss': 'log', 'penalty': 'none'}</td>\n",
       "      <td>0.520175</td>\n",
       "      <td>0.013129</td>\n",
       "    </tr>\n",
       "    <tr>\n",
       "      <th>42</th>\n",
       "      <td>{'alpha': 0.1, 'loss': 'squared_hinge', 'penal...</td>\n",
       "      <td>0.410526</td>\n",
       "      <td>0.006446</td>\n",
       "    </tr>\n",
       "    <tr>\n",
       "      <th>43</th>\n",
       "      <td>{'alpha': 0.1, 'loss': 'squared_hinge', 'penal...</td>\n",
       "      <td>0.392105</td>\n",
       "      <td>0.033769</td>\n",
       "    </tr>\n",
       "    <tr>\n",
       "      <th>44</th>\n",
       "      <td>{'alpha': 0.1, 'loss': 'squared_hinge', 'penal...</td>\n",
       "      <td>0.391228</td>\n",
       "      <td>0.011026</td>\n",
       "    </tr>\n",
       "    <tr>\n",
       "      <th>45</th>\n",
       "      <td>{'alpha': 0.1, 'loss': 'modified_huber', 'pena...</td>\n",
       "      <td>0.526316</td>\n",
       "      <td>0.020497</td>\n",
       "    </tr>\n",
       "    <tr>\n",
       "      <th>46</th>\n",
       "      <td>{'alpha': 0.1, 'loss': 'modified_huber', 'pena...</td>\n",
       "      <td>0.528070</td>\n",
       "      <td>0.015544</td>\n",
       "    </tr>\n",
       "    <tr>\n",
       "      <th>47</th>\n",
       "      <td>{'alpha': 0.1, 'loss': 'modified_huber', 'pena...</td>\n",
       "      <td>0.529825</td>\n",
       "      <td>0.008946</td>\n",
       "    </tr>\n",
       "  </tbody>\n",
       "</table>\n",
       "</div>"
      ],
      "text/plain": [
       "                                               params  mean_test_score  \\\n",
       "0   {'alpha': 0.0001, 'loss': 'hinge', 'penalty': ...         0.398246   \n",
       "1   {'alpha': 0.0001, 'loss': 'hinge', 'penalty': ...         0.440351   \n",
       "2   {'alpha': 0.0001, 'loss': 'hinge', 'penalty': ...         0.378947   \n",
       "3   {'alpha': 0.0001, 'loss': 'log', 'penalty': 'l2'}         0.468421   \n",
       "4   {'alpha': 0.0001, 'loss': 'log', 'penalty': 'l1'}         0.405263   \n",
       "5   {'alpha': 0.0001, 'loss': 'log', 'penalty': 'n...         0.457895   \n",
       "6   {'alpha': 0.0001, 'loss': 'squared_hinge', 'pe...         0.449123   \n",
       "7   {'alpha': 0.0001, 'loss': 'squared_hinge', 'pe...         0.478070   \n",
       "8   {'alpha': 0.0001, 'loss': 'squared_hinge', 'pe...         0.441228   \n",
       "9   {'alpha': 0.0001, 'loss': 'modified_huber', 'p...         0.444737   \n",
       "10  {'alpha': 0.0001, 'loss': 'modified_huber', 'p...         0.484211   \n",
       "11  {'alpha': 0.0001, 'loss': 'modified_huber', 'p...         0.411404   \n",
       "12  {'alpha': 0.001, 'loss': 'hinge', 'penalty': '...         0.507018   \n",
       "13  {'alpha': 0.001, 'loss': 'hinge', 'penalty': '...         0.491228   \n",
       "14  {'alpha': 0.001, 'loss': 'hinge', 'penalty': '...         0.479825   \n",
       "15   {'alpha': 0.001, 'loss': 'log', 'penalty': 'l2'}         0.516667   \n",
       "16   {'alpha': 0.001, 'loss': 'log', 'penalty': 'l1'}         0.511404   \n",
       "17  {'alpha': 0.001, 'loss': 'log', 'penalty': 'no...         0.502632   \n",
       "18  {'alpha': 0.001, 'loss': 'squared_hinge', 'pen...         0.378947   \n",
       "19  {'alpha': 0.001, 'loss': 'squared_hinge', 'pen...         0.380702   \n",
       "20  {'alpha': 0.001, 'loss': 'squared_hinge', 'pen...         0.365789   \n",
       "21  {'alpha': 0.001, 'loss': 'modified_huber', 'pe...         0.463158   \n",
       "22  {'alpha': 0.001, 'loss': 'modified_huber', 'pe...         0.428070   \n",
       "23  {'alpha': 0.001, 'loss': 'modified_huber', 'pe...         0.443860   \n",
       "24  {'alpha': 0.01, 'loss': 'hinge', 'penalty': 'l2'}         0.508772   \n",
       "25  {'alpha': 0.01, 'loss': 'hinge', 'penalty': 'l1'}         0.528947   \n",
       "26  {'alpha': 0.01, 'loss': 'hinge', 'penalty': 'n...         0.515789   \n",
       "27    {'alpha': 0.01, 'loss': 'log', 'penalty': 'l2'}         0.526316   \n",
       "28    {'alpha': 0.01, 'loss': 'log', 'penalty': 'l1'}         0.516667   \n",
       "29  {'alpha': 0.01, 'loss': 'log', 'penalty': 'none'}         0.525439   \n",
       "30  {'alpha': 0.01, 'loss': 'squared_hinge', 'pena...         0.395614   \n",
       "31  {'alpha': 0.01, 'loss': 'squared_hinge', 'pena...         0.401754   \n",
       "32  {'alpha': 0.01, 'loss': 'squared_hinge', 'pena...         0.364912   \n",
       "33  {'alpha': 0.01, 'loss': 'modified_huber', 'pen...         0.500877   \n",
       "34  {'alpha': 0.01, 'loss': 'modified_huber', 'pen...         0.512281   \n",
       "35  {'alpha': 0.01, 'loss': 'modified_huber', 'pen...         0.514912   \n",
       "36   {'alpha': 0.1, 'loss': 'hinge', 'penalty': 'l2'}         0.519298   \n",
       "37   {'alpha': 0.1, 'loss': 'hinge', 'penalty': 'l1'}         0.484211   \n",
       "38  {'alpha': 0.1, 'loss': 'hinge', 'penalty': 'no...         0.525439   \n",
       "39     {'alpha': 0.1, 'loss': 'log', 'penalty': 'l2'}         0.523684   \n",
       "40     {'alpha': 0.1, 'loss': 'log', 'penalty': 'l1'}         0.469298   \n",
       "41   {'alpha': 0.1, 'loss': 'log', 'penalty': 'none'}         0.520175   \n",
       "42  {'alpha': 0.1, 'loss': 'squared_hinge', 'penal...         0.410526   \n",
       "43  {'alpha': 0.1, 'loss': 'squared_hinge', 'penal...         0.392105   \n",
       "44  {'alpha': 0.1, 'loss': 'squared_hinge', 'penal...         0.391228   \n",
       "45  {'alpha': 0.1, 'loss': 'modified_huber', 'pena...         0.526316   \n",
       "46  {'alpha': 0.1, 'loss': 'modified_huber', 'pena...         0.528070   \n",
       "47  {'alpha': 0.1, 'loss': 'modified_huber', 'pena...         0.529825   \n",
       "\n",
       "    std_test_score  \n",
       "0         0.101155  \n",
       "1         0.058935  \n",
       "2         0.070906  \n",
       "3         0.054230  \n",
       "4         0.016222  \n",
       "5         0.061641  \n",
       "6         0.062877  \n",
       "7         0.024718  \n",
       "8         0.053946  \n",
       "9         0.007443  \n",
       "10        0.033769  \n",
       "11        0.052382  \n",
       "12        0.008684  \n",
       "13        0.008684  \n",
       "14        0.016127  \n",
       "15        0.012590  \n",
       "16        0.018274  \n",
       "17        0.013418  \n",
       "18        0.022638  \n",
       "19        0.004473  \n",
       "20        0.035502  \n",
       "21        0.012892  \n",
       "22        0.037607  \n",
       "23        0.005407  \n",
       "24        0.008946  \n",
       "25        0.007443  \n",
       "26        0.008595  \n",
       "27        0.011963  \n",
       "28        0.010599  \n",
       "29        0.009689  \n",
       "30        0.012590  \n",
       "31        0.033586  \n",
       "32        0.028370  \n",
       "33        0.018773  \n",
       "34        0.015544  \n",
       "35        0.008135  \n",
       "36        0.014626  \n",
       "37        0.016782  \n",
       "38        0.013129  \n",
       "39        0.015041  \n",
       "40        0.001241  \n",
       "41        0.013129  \n",
       "42        0.006446  \n",
       "43        0.033769  \n",
       "44        0.011026  \n",
       "45        0.020497  \n",
       "46        0.015544  \n",
       "47        0.008946  "
      ]
     },
     "execution_count": 258,
     "metadata": {},
     "output_type": "execute_result"
    }
   ],
   "source": [
    "gridcv.fit(X_train_scaled, y_train)\n",
    "\n",
    "pd.DataFrame(gridcv.cv_results_)[['params', 'mean_test_score', 'std_test_score']]"
   ]
  },
  {
   "cell_type": "code",
   "execution_count": 259,
   "metadata": {},
   "outputs": [
    {
     "name": "stdout",
     "output_type": "stream",
     "text": [
      "SGDClassifier(alpha=0.1, loss='modified_huber', penalty='none')\n",
      "0.5298245614035088\n"
     ]
    }
   ],
   "source": [
    "print(gridcv.best_estimator_)\n",
    "print(gridcv.best_score_)"
   ]
  },
  {
   "cell_type": "code",
   "execution_count": 260,
   "metadata": {},
   "outputs": [
    {
     "name": "stdout",
     "output_type": "stream",
     "text": [
      "              precision    recall  f1-score   support\n",
      "\n",
      "           1       0.46      0.83      0.59       121\n",
      "           2       0.51      0.37      0.43        90\n",
      "           3       0.00      0.00      0.00        74\n",
      "\n",
      "    accuracy                           0.47       285\n",
      "   macro avg       0.32      0.40      0.34       285\n",
      "weighted avg       0.36      0.47      0.39       285\n",
      "\n"
     ]
    },
    {
     "name": "stderr",
     "output_type": "stream",
     "text": [
      "/Users/mariella.decrouychan/Documents/GitHub/Bookmakerspy/.venv/lib/python3.8/site-packages/sklearn/metrics/_classification.py:1308: UndefinedMetricWarning: Precision and F-score are ill-defined and being set to 0.0 in labels with no predicted samples. Use `zero_division` parameter to control this behavior.\n",
      "  _warn_prf(average, modifier, msg_start, len(result))\n",
      "/Users/mariella.decrouychan/Documents/GitHub/Bookmakerspy/.venv/lib/python3.8/site-packages/sklearn/metrics/_classification.py:1308: UndefinedMetricWarning: Precision and F-score are ill-defined and being set to 0.0 in labels with no predicted samples. Use `zero_division` parameter to control this behavior.\n",
      "  _warn_prf(average, modifier, msg_start, len(result))\n",
      "/Users/mariella.decrouychan/Documents/GitHub/Bookmakerspy/.venv/lib/python3.8/site-packages/sklearn/metrics/_classification.py:1308: UndefinedMetricWarning: Precision and F-score are ill-defined and being set to 0.0 in labels with no predicted samples. Use `zero_division` parameter to control this behavior.\n",
      "  _warn_prf(average, modifier, msg_start, len(result))\n"
     ]
    }
   ],
   "source": [
    "# (['H','A','D'],[1,2,3])\n",
    "sgd_clf_opt2 = SGDClassifier(alpha=0.01, loss='log', penalty='l1', random_state=22)\n",
    "sgd_clf_opt2.fit(X_train_scaled,y_train)\n",
    "y_pred = sgd_clf_opt2.predict(X_test_scaled)\n",
    "\n",
    "print(classification_report(y_test, y_pred))"
   ]
  },
  {
   "cell_type": "code",
   "execution_count": 261,
   "metadata": {},
   "outputs": [
    {
     "name": "stdout",
     "output_type": "stream",
     "text": [
      "0.525438596491228\n",
      "0.47017543859649125\n"
     ]
    }
   ],
   "source": [
    "print(sgd_clf_opt2.score(X_train_scaled, y_train))\n",
    "print(sgd_clf_opt2.score(X_test_scaled, y_test))"
   ]
  },
  {
   "cell_type": "markdown",
   "metadata": {},
   "source": [
    "- Random Forest"
   ]
  },
  {
   "cell_type": "code",
   "execution_count": 262,
   "metadata": {},
   "outputs": [],
   "source": [
    "from sklearn import ensemble"
   ]
  },
  {
   "cell_type": "code",
   "execution_count": 263,
   "metadata": {},
   "outputs": [],
   "source": [
    "clf_rf = ensemble.RandomForestClassifier(n_jobs=-1, random_state=321)"
   ]
  },
  {
   "cell_type": "markdown",
   "metadata": {},
   "source": [
    "-- Avec PCA"
   ]
  },
  {
   "cell_type": "code",
   "execution_count": 264,
   "metadata": {},
   "outputs": [
    {
     "data": {
      "text/plain": [
       "RandomForestClassifier(n_jobs=-1, random_state=321)"
      ]
     },
     "execution_count": 264,
     "metadata": {},
     "output_type": "execute_result"
    }
   ],
   "source": [
    "clf_rf.fit(X_train_pca, y_train)"
   ]
  },
  {
   "cell_type": "code",
   "execution_count": 265,
   "metadata": {},
   "outputs": [
    {
     "data": {
      "text/html": [
       "<div>\n",
       "<style scoped>\n",
       "    .dataframe tbody tr th:only-of-type {\n",
       "        vertical-align: middle;\n",
       "    }\n",
       "\n",
       "    .dataframe tbody tr th {\n",
       "        vertical-align: top;\n",
       "    }\n",
       "\n",
       "    .dataframe thead th {\n",
       "        text-align: right;\n",
       "    }\n",
       "</style>\n",
       "<table border=\"1\" class=\"dataframe\">\n",
       "  <thead>\n",
       "    <tr style=\"text-align: right;\">\n",
       "      <th>Classe prédite</th>\n",
       "      <th>1</th>\n",
       "      <th>2</th>\n",
       "      <th>3</th>\n",
       "    </tr>\n",
       "    <tr>\n",
       "      <th>Classe réelle</th>\n",
       "      <th></th>\n",
       "      <th></th>\n",
       "      <th></th>\n",
       "    </tr>\n",
       "  </thead>\n",
       "  <tbody>\n",
       "    <tr>\n",
       "      <th>1</th>\n",
       "      <td>94</td>\n",
       "      <td>19</td>\n",
       "      <td>8</td>\n",
       "    </tr>\n",
       "    <tr>\n",
       "      <th>2</th>\n",
       "      <td>56</td>\n",
       "      <td>29</td>\n",
       "      <td>5</td>\n",
       "    </tr>\n",
       "    <tr>\n",
       "      <th>3</th>\n",
       "      <td>51</td>\n",
       "      <td>16</td>\n",
       "      <td>7</td>\n",
       "    </tr>\n",
       "  </tbody>\n",
       "</table>\n",
       "</div>"
      ],
      "text/plain": [
       "Classe prédite   1   2  3\n",
       "Classe réelle            \n",
       "1               94  19  8\n",
       "2               56  29  5\n",
       "3               51  16  7"
      ]
     },
     "execution_count": 265,
     "metadata": {},
     "output_type": "execute_result"
    }
   ],
   "source": [
    "y_pred = clf_rf.predict(X_test_pca)\n",
    "pd.crosstab(y_test, y_pred, rownames=['Classe réelle'], colnames=['Classe prédite'])"
   ]
  },
  {
   "cell_type": "code",
   "execution_count": 266,
   "metadata": {},
   "outputs": [
    {
     "name": "stdout",
     "output_type": "stream",
     "text": [
      "0.45614035087719296\n"
     ]
    }
   ],
   "source": [
    "accuracy = accuracy_score(y_test, y_pred)\n",
    "print(accuracy)"
   ]
  },
  {
   "cell_type": "code",
   "execution_count": 267,
   "metadata": {},
   "outputs": [],
   "source": [
    "param_grid_rf = [{'n_estimators': [10, 50, 100, 250, 500, 1000], \n",
    "                  'min_samples_leaf': [1, 3, 5], \n",
    "                  'max_features': ['sqrt', 'log2']}]"
   ]
  },
  {
   "cell_type": "code",
   "execution_count": 268,
   "metadata": {},
   "outputs": [],
   "source": [
    "gridcv = GridSearchCV(clf_rf, param_grid=param_grid_rf, scoring='accuracy', cv=3) "
   ]
  },
  {
   "cell_type": "code",
   "execution_count": 269,
   "metadata": {},
   "outputs": [
    {
     "data": {
      "text/html": [
       "<div>\n",
       "<style scoped>\n",
       "    .dataframe tbody tr th:only-of-type {\n",
       "        vertical-align: middle;\n",
       "    }\n",
       "\n",
       "    .dataframe tbody tr th {\n",
       "        vertical-align: top;\n",
       "    }\n",
       "\n",
       "    .dataframe thead th {\n",
       "        text-align: right;\n",
       "    }\n",
       "</style>\n",
       "<table border=\"1\" class=\"dataframe\">\n",
       "  <thead>\n",
       "    <tr style=\"text-align: right;\">\n",
       "      <th></th>\n",
       "      <th>params</th>\n",
       "      <th>mean_test_score</th>\n",
       "      <th>std_test_score</th>\n",
       "    </tr>\n",
       "  </thead>\n",
       "  <tbody>\n",
       "    <tr>\n",
       "      <th>0</th>\n",
       "      <td>{'max_features': 'sqrt', 'min_samples_leaf': 1...</td>\n",
       "      <td>0.477193</td>\n",
       "      <td>0.016411</td>\n",
       "    </tr>\n",
       "    <tr>\n",
       "      <th>1</th>\n",
       "      <td>{'max_features': 'sqrt', 'min_samples_leaf': 1...</td>\n",
       "      <td>0.495614</td>\n",
       "      <td>0.010599</td>\n",
       "    </tr>\n",
       "    <tr>\n",
       "      <th>2</th>\n",
       "      <td>{'max_features': 'sqrt', 'min_samples_leaf': 1...</td>\n",
       "      <td>0.500000</td>\n",
       "      <td>0.017055</td>\n",
       "    </tr>\n",
       "    <tr>\n",
       "      <th>3</th>\n",
       "      <td>{'max_features': 'sqrt', 'min_samples_leaf': 1...</td>\n",
       "      <td>0.496491</td>\n",
       "      <td>0.015544</td>\n",
       "    </tr>\n",
       "    <tr>\n",
       "      <th>4</th>\n",
       "      <td>{'max_features': 'sqrt', 'min_samples_leaf': 1...</td>\n",
       "      <td>0.500000</td>\n",
       "      <td>0.007747</td>\n",
       "    </tr>\n",
       "    <tr>\n",
       "      <th>5</th>\n",
       "      <td>{'max_features': 'sqrt', 'min_samples_leaf': 1...</td>\n",
       "      <td>0.496491</td>\n",
       "      <td>0.012218</td>\n",
       "    </tr>\n",
       "    <tr>\n",
       "      <th>6</th>\n",
       "      <td>{'max_features': 'sqrt', 'min_samples_leaf': 3...</td>\n",
       "      <td>0.489474</td>\n",
       "      <td>0.017189</td>\n",
       "    </tr>\n",
       "    <tr>\n",
       "      <th>7</th>\n",
       "      <td>{'max_features': 'sqrt', 'min_samples_leaf': 3...</td>\n",
       "      <td>0.500000</td>\n",
       "      <td>0.019098</td>\n",
       "    </tr>\n",
       "    <tr>\n",
       "      <th>8</th>\n",
       "      <td>{'max_features': 'sqrt', 'min_samples_leaf': 3...</td>\n",
       "      <td>0.504386</td>\n",
       "      <td>0.006564</td>\n",
       "    </tr>\n",
       "    <tr>\n",
       "      <th>9</th>\n",
       "      <td>{'max_features': 'sqrt', 'min_samples_leaf': 3...</td>\n",
       "      <td>0.499123</td>\n",
       "      <td>0.008946</td>\n",
       "    </tr>\n",
       "    <tr>\n",
       "      <th>10</th>\n",
       "      <td>{'max_features': 'sqrt', 'min_samples_leaf': 3...</td>\n",
       "      <td>0.500000</td>\n",
       "      <td>0.008595</td>\n",
       "    </tr>\n",
       "    <tr>\n",
       "      <th>11</th>\n",
       "      <td>{'max_features': 'sqrt', 'min_samples_leaf': 3...</td>\n",
       "      <td>0.505263</td>\n",
       "      <td>0.008595</td>\n",
       "    </tr>\n",
       "    <tr>\n",
       "      <th>12</th>\n",
       "      <td>{'max_features': 'sqrt', 'min_samples_leaf': 5...</td>\n",
       "      <td>0.492982</td>\n",
       "      <td>0.004962</td>\n",
       "    </tr>\n",
       "    <tr>\n",
       "      <th>13</th>\n",
       "      <td>{'max_features': 'sqrt', 'min_samples_leaf': 5...</td>\n",
       "      <td>0.506140</td>\n",
       "      <td>0.007546</td>\n",
       "    </tr>\n",
       "    <tr>\n",
       "      <th>14</th>\n",
       "      <td>{'max_features': 'sqrt', 'min_samples_leaf': 5...</td>\n",
       "      <td>0.508772</td>\n",
       "      <td>0.016127</td>\n",
       "    </tr>\n",
       "    <tr>\n",
       "      <th>15</th>\n",
       "      <td>{'max_features': 'sqrt', 'min_samples_leaf': 5...</td>\n",
       "      <td>0.511404</td>\n",
       "      <td>0.005407</td>\n",
       "    </tr>\n",
       "    <tr>\n",
       "      <th>16</th>\n",
       "      <td>{'max_features': 'sqrt', 'min_samples_leaf': 5...</td>\n",
       "      <td>0.510526</td>\n",
       "      <td>0.006446</td>\n",
       "    </tr>\n",
       "    <tr>\n",
       "      <th>17</th>\n",
       "      <td>{'max_features': 'sqrt', 'min_samples_leaf': 5...</td>\n",
       "      <td>0.507895</td>\n",
       "      <td>0.005685</td>\n",
       "    </tr>\n",
       "    <tr>\n",
       "      <th>18</th>\n",
       "      <td>{'max_features': 'log2', 'min_samples_leaf': 1...</td>\n",
       "      <td>0.470175</td>\n",
       "      <td>0.014307</td>\n",
       "    </tr>\n",
       "    <tr>\n",
       "      <th>19</th>\n",
       "      <td>{'max_features': 'log2', 'min_samples_leaf': 1...</td>\n",
       "      <td>0.483333</td>\n",
       "      <td>0.018773</td>\n",
       "    </tr>\n",
       "    <tr>\n",
       "      <th>20</th>\n",
       "      <td>{'max_features': 'log2', 'min_samples_leaf': 1...</td>\n",
       "      <td>0.476316</td>\n",
       "      <td>0.024214</td>\n",
       "    </tr>\n",
       "    <tr>\n",
       "      <th>21</th>\n",
       "      <td>{'max_features': 'log2', 'min_samples_leaf': 1...</td>\n",
       "      <td>0.490351</td>\n",
       "      <td>0.018274</td>\n",
       "    </tr>\n",
       "    <tr>\n",
       "      <th>22</th>\n",
       "      <td>{'max_features': 'log2', 'min_samples_leaf': 1...</td>\n",
       "      <td>0.495614</td>\n",
       "      <td>0.013980</td>\n",
       "    </tr>\n",
       "    <tr>\n",
       "      <th>23</th>\n",
       "      <td>{'max_features': 'log2', 'min_samples_leaf': 1...</td>\n",
       "      <td>0.491228</td>\n",
       "      <td>0.017234</td>\n",
       "    </tr>\n",
       "    <tr>\n",
       "      <th>24</th>\n",
       "      <td>{'max_features': 'log2', 'min_samples_leaf': 3...</td>\n",
       "      <td>0.477193</td>\n",
       "      <td>0.021523</td>\n",
       "    </tr>\n",
       "    <tr>\n",
       "      <th>25</th>\n",
       "      <td>{'max_features': 'log2', 'min_samples_leaf': 3...</td>\n",
       "      <td>0.497368</td>\n",
       "      <td>0.017055</td>\n",
       "    </tr>\n",
       "    <tr>\n",
       "      <th>26</th>\n",
       "      <td>{'max_features': 'log2', 'min_samples_leaf': 3...</td>\n",
       "      <td>0.490351</td>\n",
       "      <td>0.015244</td>\n",
       "    </tr>\n",
       "    <tr>\n",
       "      <th>27</th>\n",
       "      <td>{'max_features': 'log2', 'min_samples_leaf': 3...</td>\n",
       "      <td>0.496491</td>\n",
       "      <td>0.010154</td>\n",
       "    </tr>\n",
       "    <tr>\n",
       "      <th>28</th>\n",
       "      <td>{'max_features': 'log2', 'min_samples_leaf': 3...</td>\n",
       "      <td>0.501754</td>\n",
       "      <td>0.006564</td>\n",
       "    </tr>\n",
       "    <tr>\n",
       "      <th>29</th>\n",
       "      <td>{'max_features': 'log2', 'min_samples_leaf': 3...</td>\n",
       "      <td>0.502632</td>\n",
       "      <td>0.011963</td>\n",
       "    </tr>\n",
       "    <tr>\n",
       "      <th>30</th>\n",
       "      <td>{'max_features': 'log2', 'min_samples_leaf': 5...</td>\n",
       "      <td>0.484211</td>\n",
       "      <td>0.020497</td>\n",
       "    </tr>\n",
       "    <tr>\n",
       "      <th>31</th>\n",
       "      <td>{'max_features': 'log2', 'min_samples_leaf': 5...</td>\n",
       "      <td>0.498246</td>\n",
       "      <td>0.013646</td>\n",
       "    </tr>\n",
       "    <tr>\n",
       "      <th>32</th>\n",
       "      <td>{'max_features': 'log2', 'min_samples_leaf': 5...</td>\n",
       "      <td>0.505263</td>\n",
       "      <td>0.015041</td>\n",
       "    </tr>\n",
       "    <tr>\n",
       "      <th>33</th>\n",
       "      <td>{'max_features': 'log2', 'min_samples_leaf': 5...</td>\n",
       "      <td>0.504386</td>\n",
       "      <td>0.014307</td>\n",
       "    </tr>\n",
       "    <tr>\n",
       "      <th>34</th>\n",
       "      <td>{'max_features': 'log2', 'min_samples_leaf': 5...</td>\n",
       "      <td>0.501754</td>\n",
       "      <td>0.011834</td>\n",
       "    </tr>\n",
       "    <tr>\n",
       "      <th>35</th>\n",
       "      <td>{'max_features': 'log2', 'min_samples_leaf': 5...</td>\n",
       "      <td>0.499123</td>\n",
       "      <td>0.011026</td>\n",
       "    </tr>\n",
       "  </tbody>\n",
       "</table>\n",
       "</div>"
      ],
      "text/plain": [
       "                                               params  mean_test_score  \\\n",
       "0   {'max_features': 'sqrt', 'min_samples_leaf': 1...         0.477193   \n",
       "1   {'max_features': 'sqrt', 'min_samples_leaf': 1...         0.495614   \n",
       "2   {'max_features': 'sqrt', 'min_samples_leaf': 1...         0.500000   \n",
       "3   {'max_features': 'sqrt', 'min_samples_leaf': 1...         0.496491   \n",
       "4   {'max_features': 'sqrt', 'min_samples_leaf': 1...         0.500000   \n",
       "5   {'max_features': 'sqrt', 'min_samples_leaf': 1...         0.496491   \n",
       "6   {'max_features': 'sqrt', 'min_samples_leaf': 3...         0.489474   \n",
       "7   {'max_features': 'sqrt', 'min_samples_leaf': 3...         0.500000   \n",
       "8   {'max_features': 'sqrt', 'min_samples_leaf': 3...         0.504386   \n",
       "9   {'max_features': 'sqrt', 'min_samples_leaf': 3...         0.499123   \n",
       "10  {'max_features': 'sqrt', 'min_samples_leaf': 3...         0.500000   \n",
       "11  {'max_features': 'sqrt', 'min_samples_leaf': 3...         0.505263   \n",
       "12  {'max_features': 'sqrt', 'min_samples_leaf': 5...         0.492982   \n",
       "13  {'max_features': 'sqrt', 'min_samples_leaf': 5...         0.506140   \n",
       "14  {'max_features': 'sqrt', 'min_samples_leaf': 5...         0.508772   \n",
       "15  {'max_features': 'sqrt', 'min_samples_leaf': 5...         0.511404   \n",
       "16  {'max_features': 'sqrt', 'min_samples_leaf': 5...         0.510526   \n",
       "17  {'max_features': 'sqrt', 'min_samples_leaf': 5...         0.507895   \n",
       "18  {'max_features': 'log2', 'min_samples_leaf': 1...         0.470175   \n",
       "19  {'max_features': 'log2', 'min_samples_leaf': 1...         0.483333   \n",
       "20  {'max_features': 'log2', 'min_samples_leaf': 1...         0.476316   \n",
       "21  {'max_features': 'log2', 'min_samples_leaf': 1...         0.490351   \n",
       "22  {'max_features': 'log2', 'min_samples_leaf': 1...         0.495614   \n",
       "23  {'max_features': 'log2', 'min_samples_leaf': 1...         0.491228   \n",
       "24  {'max_features': 'log2', 'min_samples_leaf': 3...         0.477193   \n",
       "25  {'max_features': 'log2', 'min_samples_leaf': 3...         0.497368   \n",
       "26  {'max_features': 'log2', 'min_samples_leaf': 3...         0.490351   \n",
       "27  {'max_features': 'log2', 'min_samples_leaf': 3...         0.496491   \n",
       "28  {'max_features': 'log2', 'min_samples_leaf': 3...         0.501754   \n",
       "29  {'max_features': 'log2', 'min_samples_leaf': 3...         0.502632   \n",
       "30  {'max_features': 'log2', 'min_samples_leaf': 5...         0.484211   \n",
       "31  {'max_features': 'log2', 'min_samples_leaf': 5...         0.498246   \n",
       "32  {'max_features': 'log2', 'min_samples_leaf': 5...         0.505263   \n",
       "33  {'max_features': 'log2', 'min_samples_leaf': 5...         0.504386   \n",
       "34  {'max_features': 'log2', 'min_samples_leaf': 5...         0.501754   \n",
       "35  {'max_features': 'log2', 'min_samples_leaf': 5...         0.499123   \n",
       "\n",
       "    std_test_score  \n",
       "0         0.016411  \n",
       "1         0.010599  \n",
       "2         0.017055  \n",
       "3         0.015544  \n",
       "4         0.007747  \n",
       "5         0.012218  \n",
       "6         0.017189  \n",
       "7         0.019098  \n",
       "8         0.006564  \n",
       "9         0.008946  \n",
       "10        0.008595  \n",
       "11        0.008595  \n",
       "12        0.004962  \n",
       "13        0.007546  \n",
       "14        0.016127  \n",
       "15        0.005407  \n",
       "16        0.006446  \n",
       "17        0.005685  \n",
       "18        0.014307  \n",
       "19        0.018773  \n",
       "20        0.024214  \n",
       "21        0.018274  \n",
       "22        0.013980  \n",
       "23        0.017234  \n",
       "24        0.021523  \n",
       "25        0.017055  \n",
       "26        0.015244  \n",
       "27        0.010154  \n",
       "28        0.006564  \n",
       "29        0.011963  \n",
       "30        0.020497  \n",
       "31        0.013646  \n",
       "32        0.015041  \n",
       "33        0.014307  \n",
       "34        0.011834  \n",
       "35        0.011026  "
      ]
     },
     "execution_count": 269,
     "metadata": {},
     "output_type": "execute_result"
    }
   ],
   "source": [
    "gridcv.fit(X_train_pca, y_train)\n",
    "\n",
    "pd.DataFrame(gridcv.cv_results_)[['params', 'mean_test_score', 'std_test_score']]"
   ]
  },
  {
   "cell_type": "code",
   "execution_count": 270,
   "metadata": {},
   "outputs": [
    {
     "name": "stdout",
     "output_type": "stream",
     "text": [
      "RandomForestClassifier(max_features='sqrt', min_samples_leaf=5,\n",
      "                       n_estimators=250, n_jobs=-1, random_state=321)\n",
      "0.5114035087719299\n"
     ]
    }
   ],
   "source": [
    "print(gridcv.best_estimator_)\n",
    "print(gridcv.best_score_)"
   ]
  },
  {
   "cell_type": "code",
   "execution_count": 271,
   "metadata": {},
   "outputs": [
    {
     "name": "stdout",
     "output_type": "stream",
     "text": [
      "              precision    recall  f1-score   support\n",
      "\n",
      "           1       0.47      0.81      0.60       121\n",
      "           2       0.47      0.38      0.42        90\n",
      "           3       0.33      0.03      0.05        74\n",
      "\n",
      "    accuracy                           0.47       285\n",
      "   macro avg       0.43      0.40      0.36       285\n",
      "weighted avg       0.44      0.47      0.40       285\n",
      "\n"
     ]
    }
   ],
   "source": [
    "clf_rf_opt1 = ensemble.RandomForestClassifier(max_features='sqrt', min_samples_leaf=5,\n",
    "                       n_estimators=250, n_jobs=-1, random_state=321)\n",
    "clf_rf_opt1.fit(X_train_pca, y_train)\n",
    "y_pred = clf_rf_opt1.predict(X_test_pca)\n",
    "\n",
    "\n",
    "print(classification_report(y_test, y_pred))\n"
   ]
  },
  {
   "cell_type": "code",
   "execution_count": 272,
   "metadata": {},
   "outputs": [
    {
     "name": "stdout",
     "output_type": "stream",
     "text": [
      "0.8482456140350877\n",
      "0.47017543859649125\n"
     ]
    }
   ],
   "source": [
    "print(clf_rf_opt1.score(X_train_pca, y_train))\n",
    "print(clf_rf_opt1.score(X_test_pca, y_test))"
   ]
  },
  {
   "cell_type": "markdown",
   "metadata": {},
   "source": [
    "-- sans PCA"
   ]
  },
  {
   "cell_type": "code",
   "execution_count": 273,
   "metadata": {},
   "outputs": [
    {
     "data": {
      "text/html": [
       "<div>\n",
       "<style scoped>\n",
       "    .dataframe tbody tr th:only-of-type {\n",
       "        vertical-align: middle;\n",
       "    }\n",
       "\n",
       "    .dataframe tbody tr th {\n",
       "        vertical-align: top;\n",
       "    }\n",
       "\n",
       "    .dataframe thead th {\n",
       "        text-align: right;\n",
       "    }\n",
       "</style>\n",
       "<table border=\"1\" class=\"dataframe\">\n",
       "  <thead>\n",
       "    <tr style=\"text-align: right;\">\n",
       "      <th>Classe prédite</th>\n",
       "      <th>1</th>\n",
       "      <th>2</th>\n",
       "      <th>3</th>\n",
       "    </tr>\n",
       "    <tr>\n",
       "      <th>Classe réelle</th>\n",
       "      <th></th>\n",
       "      <th></th>\n",
       "      <th></th>\n",
       "    </tr>\n",
       "  </thead>\n",
       "  <tbody>\n",
       "    <tr>\n",
       "      <th>1</th>\n",
       "      <td>88</td>\n",
       "      <td>24</td>\n",
       "      <td>9</td>\n",
       "    </tr>\n",
       "    <tr>\n",
       "      <th>2</th>\n",
       "      <td>47</td>\n",
       "      <td>37</td>\n",
       "      <td>6</td>\n",
       "    </tr>\n",
       "    <tr>\n",
       "      <th>3</th>\n",
       "      <td>43</td>\n",
       "      <td>22</td>\n",
       "      <td>9</td>\n",
       "    </tr>\n",
       "  </tbody>\n",
       "</table>\n",
       "</div>"
      ],
      "text/plain": [
       "Classe prédite   1   2  3\n",
       "Classe réelle            \n",
       "1               88  24  9\n",
       "2               47  37  6\n",
       "3               43  22  9"
      ]
     },
     "execution_count": 273,
     "metadata": {},
     "output_type": "execute_result"
    }
   ],
   "source": [
    "clf_rf.fit(X_train_scaled, y_train)\n",
    "y_pred = clf_rf.predict(X_test_scaled)\n",
    "pd.crosstab(y_test, y_pred, rownames=['Classe réelle'], colnames=['Classe prédite'])"
   ]
  },
  {
   "cell_type": "code",
   "execution_count": 159,
   "metadata": {},
   "outputs": [
    {
     "name": "stdout",
     "output_type": "stream",
     "text": [
      "0.543859649122807\n"
     ]
    }
   ],
   "source": [
    "accuracy = accuracy_score(y_test, y_pred)\n",
    "print(accuracy)"
   ]
  },
  {
   "cell_type": "code",
   "execution_count": 274,
   "metadata": {},
   "outputs": [],
   "source": [
    "gridcv = GridSearchCV(clf_rf, param_grid=param_grid_rf, scoring='accuracy', cv=3) "
   ]
  },
  {
   "cell_type": "code",
   "execution_count": 275,
   "metadata": {},
   "outputs": [
    {
     "data": {
      "text/html": [
       "<div>\n",
       "<style scoped>\n",
       "    .dataframe tbody tr th:only-of-type {\n",
       "        vertical-align: middle;\n",
       "    }\n",
       "\n",
       "    .dataframe tbody tr th {\n",
       "        vertical-align: top;\n",
       "    }\n",
       "\n",
       "    .dataframe thead th {\n",
       "        text-align: right;\n",
       "    }\n",
       "</style>\n",
       "<table border=\"1\" class=\"dataframe\">\n",
       "  <thead>\n",
       "    <tr style=\"text-align: right;\">\n",
       "      <th></th>\n",
       "      <th>params</th>\n",
       "      <th>mean_test_score</th>\n",
       "      <th>std_test_score</th>\n",
       "    </tr>\n",
       "  </thead>\n",
       "  <tbody>\n",
       "    <tr>\n",
       "      <th>0</th>\n",
       "      <td>{'max_features': 'sqrt', 'min_samples_leaf': 1...</td>\n",
       "      <td>0.473684</td>\n",
       "      <td>0.005685</td>\n",
       "    </tr>\n",
       "    <tr>\n",
       "      <th>1</th>\n",
       "      <td>{'max_features': 'sqrt', 'min_samples_leaf': 1...</td>\n",
       "      <td>0.503509</td>\n",
       "      <td>0.003282</td>\n",
       "    </tr>\n",
       "    <tr>\n",
       "      <th>2</th>\n",
       "      <td>{'max_features': 'sqrt', 'min_samples_leaf': 1...</td>\n",
       "      <td>0.495614</td>\n",
       "      <td>0.003282</td>\n",
       "    </tr>\n",
       "    <tr>\n",
       "      <th>3</th>\n",
       "      <td>{'max_features': 'sqrt', 'min_samples_leaf': 1...</td>\n",
       "      <td>0.503509</td>\n",
       "      <td>0.013814</td>\n",
       "    </tr>\n",
       "    <tr>\n",
       "      <th>4</th>\n",
       "      <td>{'max_features': 'sqrt', 'min_samples_leaf': 1...</td>\n",
       "      <td>0.501754</td>\n",
       "      <td>0.020422</td>\n",
       "    </tr>\n",
       "    <tr>\n",
       "      <th>5</th>\n",
       "      <td>{'max_features': 'sqrt', 'min_samples_leaf': 1...</td>\n",
       "      <td>0.503509</td>\n",
       "      <td>0.022052</td>\n",
       "    </tr>\n",
       "    <tr>\n",
       "      <th>6</th>\n",
       "      <td>{'max_features': 'sqrt', 'min_samples_leaf': 3...</td>\n",
       "      <td>0.475439</td>\n",
       "      <td>0.008684</td>\n",
       "    </tr>\n",
       "    <tr>\n",
       "      <th>7</th>\n",
       "      <td>{'max_features': 'sqrt', 'min_samples_leaf': 3...</td>\n",
       "      <td>0.500000</td>\n",
       "      <td>0.008595</td>\n",
       "    </tr>\n",
       "    <tr>\n",
       "      <th>8</th>\n",
       "      <td>{'max_features': 'sqrt', 'min_samples_leaf': 3...</td>\n",
       "      <td>0.495614</td>\n",
       "      <td>0.009689</td>\n",
       "    </tr>\n",
       "    <tr>\n",
       "      <th>9</th>\n",
       "      <td>{'max_features': 'sqrt', 'min_samples_leaf': 3...</td>\n",
       "      <td>0.507895</td>\n",
       "      <td>0.009846</td>\n",
       "    </tr>\n",
       "    <tr>\n",
       "      <th>10</th>\n",
       "      <td>{'max_features': 'sqrt', 'min_samples_leaf': 3...</td>\n",
       "      <td>0.509649</td>\n",
       "      <td>0.018274</td>\n",
       "    </tr>\n",
       "    <tr>\n",
       "      <th>11</th>\n",
       "      <td>{'max_features': 'sqrt', 'min_samples_leaf': 3...</td>\n",
       "      <td>0.512281</td>\n",
       "      <td>0.019497</td>\n",
       "    </tr>\n",
       "    <tr>\n",
       "      <th>12</th>\n",
       "      <td>{'max_features': 'sqrt', 'min_samples_leaf': 5...</td>\n",
       "      <td>0.493860</td>\n",
       "      <td>0.017500</td>\n",
       "    </tr>\n",
       "    <tr>\n",
       "      <th>13</th>\n",
       "      <td>{'max_features': 'sqrt', 'min_samples_leaf': 5...</td>\n",
       "      <td>0.501754</td>\n",
       "      <td>0.015244</td>\n",
       "    </tr>\n",
       "    <tr>\n",
       "      <th>14</th>\n",
       "      <td>{'max_features': 'sqrt', 'min_samples_leaf': 5...</td>\n",
       "      <td>0.517544</td>\n",
       "      <td>0.019497</td>\n",
       "    </tr>\n",
       "    <tr>\n",
       "      <th>15</th>\n",
       "      <td>{'max_features': 'sqrt', 'min_samples_leaf': 5...</td>\n",
       "      <td>0.514035</td>\n",
       "      <td>0.013129</td>\n",
       "    </tr>\n",
       "    <tr>\n",
       "      <th>16</th>\n",
       "      <td>{'max_features': 'sqrt', 'min_samples_leaf': 5...</td>\n",
       "      <td>0.515789</td>\n",
       "      <td>0.013070</td>\n",
       "    </tr>\n",
       "    <tr>\n",
       "      <th>17</th>\n",
       "      <td>{'max_features': 'sqrt', 'min_samples_leaf': 5...</td>\n",
       "      <td>0.515789</td>\n",
       "      <td>0.011963</td>\n",
       "    </tr>\n",
       "    <tr>\n",
       "      <th>18</th>\n",
       "      <td>{'max_features': 'log2', 'min_samples_leaf': 1...</td>\n",
       "      <td>0.473684</td>\n",
       "      <td>0.005685</td>\n",
       "    </tr>\n",
       "    <tr>\n",
       "      <th>19</th>\n",
       "      <td>{'max_features': 'log2', 'min_samples_leaf': 1...</td>\n",
       "      <td>0.503509</td>\n",
       "      <td>0.003282</td>\n",
       "    </tr>\n",
       "    <tr>\n",
       "      <th>20</th>\n",
       "      <td>{'max_features': 'log2', 'min_samples_leaf': 1...</td>\n",
       "      <td>0.495614</td>\n",
       "      <td>0.003282</td>\n",
       "    </tr>\n",
       "    <tr>\n",
       "      <th>21</th>\n",
       "      <td>{'max_features': 'log2', 'min_samples_leaf': 1...</td>\n",
       "      <td>0.503509</td>\n",
       "      <td>0.013814</td>\n",
       "    </tr>\n",
       "    <tr>\n",
       "      <th>22</th>\n",
       "      <td>{'max_features': 'log2', 'min_samples_leaf': 1...</td>\n",
       "      <td>0.501754</td>\n",
       "      <td>0.020422</td>\n",
       "    </tr>\n",
       "    <tr>\n",
       "      <th>23</th>\n",
       "      <td>{'max_features': 'log2', 'min_samples_leaf': 1...</td>\n",
       "      <td>0.503509</td>\n",
       "      <td>0.022052</td>\n",
       "    </tr>\n",
       "    <tr>\n",
       "      <th>24</th>\n",
       "      <td>{'max_features': 'log2', 'min_samples_leaf': 3...</td>\n",
       "      <td>0.475439</td>\n",
       "      <td>0.008684</td>\n",
       "    </tr>\n",
       "    <tr>\n",
       "      <th>25</th>\n",
       "      <td>{'max_features': 'log2', 'min_samples_leaf': 3...</td>\n",
       "      <td>0.500000</td>\n",
       "      <td>0.008595</td>\n",
       "    </tr>\n",
       "    <tr>\n",
       "      <th>26</th>\n",
       "      <td>{'max_features': 'log2', 'min_samples_leaf': 3...</td>\n",
       "      <td>0.495614</td>\n",
       "      <td>0.009689</td>\n",
       "    </tr>\n",
       "    <tr>\n",
       "      <th>27</th>\n",
       "      <td>{'max_features': 'log2', 'min_samples_leaf': 3...</td>\n",
       "      <td>0.507895</td>\n",
       "      <td>0.009846</td>\n",
       "    </tr>\n",
       "    <tr>\n",
       "      <th>28</th>\n",
       "      <td>{'max_features': 'log2', 'min_samples_leaf': 3...</td>\n",
       "      <td>0.509649</td>\n",
       "      <td>0.018274</td>\n",
       "    </tr>\n",
       "    <tr>\n",
       "      <th>29</th>\n",
       "      <td>{'max_features': 'log2', 'min_samples_leaf': 3...</td>\n",
       "      <td>0.512281</td>\n",
       "      <td>0.019497</td>\n",
       "    </tr>\n",
       "    <tr>\n",
       "      <th>30</th>\n",
       "      <td>{'max_features': 'log2', 'min_samples_leaf': 5...</td>\n",
       "      <td>0.493860</td>\n",
       "      <td>0.017500</td>\n",
       "    </tr>\n",
       "    <tr>\n",
       "      <th>31</th>\n",
       "      <td>{'max_features': 'log2', 'min_samples_leaf': 5...</td>\n",
       "      <td>0.501754</td>\n",
       "      <td>0.015244</td>\n",
       "    </tr>\n",
       "    <tr>\n",
       "      <th>32</th>\n",
       "      <td>{'max_features': 'log2', 'min_samples_leaf': 5...</td>\n",
       "      <td>0.517544</td>\n",
       "      <td>0.019497</td>\n",
       "    </tr>\n",
       "    <tr>\n",
       "      <th>33</th>\n",
       "      <td>{'max_features': 'log2', 'min_samples_leaf': 5...</td>\n",
       "      <td>0.514035</td>\n",
       "      <td>0.013129</td>\n",
       "    </tr>\n",
       "    <tr>\n",
       "      <th>34</th>\n",
       "      <td>{'max_features': 'log2', 'min_samples_leaf': 5...</td>\n",
       "      <td>0.515789</td>\n",
       "      <td>0.013070</td>\n",
       "    </tr>\n",
       "    <tr>\n",
       "      <th>35</th>\n",
       "      <td>{'max_features': 'log2', 'min_samples_leaf': 5...</td>\n",
       "      <td>0.515789</td>\n",
       "      <td>0.011963</td>\n",
       "    </tr>\n",
       "  </tbody>\n",
       "</table>\n",
       "</div>"
      ],
      "text/plain": [
       "                                               params  mean_test_score  \\\n",
       "0   {'max_features': 'sqrt', 'min_samples_leaf': 1...         0.473684   \n",
       "1   {'max_features': 'sqrt', 'min_samples_leaf': 1...         0.503509   \n",
       "2   {'max_features': 'sqrt', 'min_samples_leaf': 1...         0.495614   \n",
       "3   {'max_features': 'sqrt', 'min_samples_leaf': 1...         0.503509   \n",
       "4   {'max_features': 'sqrt', 'min_samples_leaf': 1...         0.501754   \n",
       "5   {'max_features': 'sqrt', 'min_samples_leaf': 1...         0.503509   \n",
       "6   {'max_features': 'sqrt', 'min_samples_leaf': 3...         0.475439   \n",
       "7   {'max_features': 'sqrt', 'min_samples_leaf': 3...         0.500000   \n",
       "8   {'max_features': 'sqrt', 'min_samples_leaf': 3...         0.495614   \n",
       "9   {'max_features': 'sqrt', 'min_samples_leaf': 3...         0.507895   \n",
       "10  {'max_features': 'sqrt', 'min_samples_leaf': 3...         0.509649   \n",
       "11  {'max_features': 'sqrt', 'min_samples_leaf': 3...         0.512281   \n",
       "12  {'max_features': 'sqrt', 'min_samples_leaf': 5...         0.493860   \n",
       "13  {'max_features': 'sqrt', 'min_samples_leaf': 5...         0.501754   \n",
       "14  {'max_features': 'sqrt', 'min_samples_leaf': 5...         0.517544   \n",
       "15  {'max_features': 'sqrt', 'min_samples_leaf': 5...         0.514035   \n",
       "16  {'max_features': 'sqrt', 'min_samples_leaf': 5...         0.515789   \n",
       "17  {'max_features': 'sqrt', 'min_samples_leaf': 5...         0.515789   \n",
       "18  {'max_features': 'log2', 'min_samples_leaf': 1...         0.473684   \n",
       "19  {'max_features': 'log2', 'min_samples_leaf': 1...         0.503509   \n",
       "20  {'max_features': 'log2', 'min_samples_leaf': 1...         0.495614   \n",
       "21  {'max_features': 'log2', 'min_samples_leaf': 1...         0.503509   \n",
       "22  {'max_features': 'log2', 'min_samples_leaf': 1...         0.501754   \n",
       "23  {'max_features': 'log2', 'min_samples_leaf': 1...         0.503509   \n",
       "24  {'max_features': 'log2', 'min_samples_leaf': 3...         0.475439   \n",
       "25  {'max_features': 'log2', 'min_samples_leaf': 3...         0.500000   \n",
       "26  {'max_features': 'log2', 'min_samples_leaf': 3...         0.495614   \n",
       "27  {'max_features': 'log2', 'min_samples_leaf': 3...         0.507895   \n",
       "28  {'max_features': 'log2', 'min_samples_leaf': 3...         0.509649   \n",
       "29  {'max_features': 'log2', 'min_samples_leaf': 3...         0.512281   \n",
       "30  {'max_features': 'log2', 'min_samples_leaf': 5...         0.493860   \n",
       "31  {'max_features': 'log2', 'min_samples_leaf': 5...         0.501754   \n",
       "32  {'max_features': 'log2', 'min_samples_leaf': 5...         0.517544   \n",
       "33  {'max_features': 'log2', 'min_samples_leaf': 5...         0.514035   \n",
       "34  {'max_features': 'log2', 'min_samples_leaf': 5...         0.515789   \n",
       "35  {'max_features': 'log2', 'min_samples_leaf': 5...         0.515789   \n",
       "\n",
       "    std_test_score  \n",
       "0         0.005685  \n",
       "1         0.003282  \n",
       "2         0.003282  \n",
       "3         0.013814  \n",
       "4         0.020422  \n",
       "5         0.022052  \n",
       "6         0.008684  \n",
       "7         0.008595  \n",
       "8         0.009689  \n",
       "9         0.009846  \n",
       "10        0.018274  \n",
       "11        0.019497  \n",
       "12        0.017500  \n",
       "13        0.015244  \n",
       "14        0.019497  \n",
       "15        0.013129  \n",
       "16        0.013070  \n",
       "17        0.011963  \n",
       "18        0.005685  \n",
       "19        0.003282  \n",
       "20        0.003282  \n",
       "21        0.013814  \n",
       "22        0.020422  \n",
       "23        0.022052  \n",
       "24        0.008684  \n",
       "25        0.008595  \n",
       "26        0.009689  \n",
       "27        0.009846  \n",
       "28        0.018274  \n",
       "29        0.019497  \n",
       "30        0.017500  \n",
       "31        0.015244  \n",
       "32        0.019497  \n",
       "33        0.013129  \n",
       "34        0.013070  \n",
       "35        0.011963  "
      ]
     },
     "execution_count": 275,
     "metadata": {},
     "output_type": "execute_result"
    }
   ],
   "source": [
    "gridcv.fit(X_train_scaled, y_train)\n",
    "\n",
    "pd.DataFrame(gridcv.cv_results_)[['params', 'mean_test_score', 'std_test_score']]"
   ]
  },
  {
   "cell_type": "code",
   "execution_count": 276,
   "metadata": {},
   "outputs": [
    {
     "name": "stdout",
     "output_type": "stream",
     "text": [
      "RandomForestClassifier(max_features='sqrt', min_samples_leaf=5, n_jobs=-1,\n",
      "                       random_state=321)\n",
      "0.5175438596491228\n"
     ]
    }
   ],
   "source": [
    "print(gridcv.best_estimator_)\n",
    "print(gridcv.best_score_)"
   ]
  },
  {
   "cell_type": "code",
   "execution_count": 277,
   "metadata": {},
   "outputs": [
    {
     "name": "stdout",
     "output_type": "stream",
     "text": [
      "              precision    recall  f1-score   support\n",
      "\n",
      "           1       0.50      0.80      0.62       121\n",
      "           2       0.51      0.43      0.47        90\n",
      "           3       0.60      0.12      0.20        74\n",
      "\n",
      "    accuracy                           0.51       285\n",
      "   macro avg       0.54      0.45      0.43       285\n",
      "weighted avg       0.53      0.51      0.46       285\n",
      "\n"
     ]
    }
   ],
   "source": [
    "clf_rf_opt2 = ensemble.RandomForestClassifier(max_features='sqrt', min_samples_leaf=5,\n",
    "                      n_jobs=-1, random_state=321)\n",
    "\n",
    "clf_rf_opt2.fit(X_train_scaled, y_train)\n",
    "y_pred = clf_rf_opt2.predict(X_test_scaled)\n",
    "\n",
    "print(classification_report(y_test, y_pred))"
   ]
  },
  {
   "cell_type": "code",
   "execution_count": 278,
   "metadata": {},
   "outputs": [
    {
     "name": "stdout",
     "output_type": "stream",
     "text": [
      "0.8719298245614036\n",
      "0.5087719298245614\n"
     ]
    }
   ],
   "source": [
    "print(clf_rf_opt2.score(X_train_scaled, y_train))\n",
    "print(clf_rf_opt2.score(X_test_scaled, y_test))"
   ]
  },
  {
   "cell_type": "markdown",
   "metadata": {},
   "source": [
    "- Bagging Classifier"
   ]
  },
  {
   "cell_type": "code",
   "execution_count": 279,
   "metadata": {},
   "outputs": [
    {
     "data": {
      "text/plain": [
       "0.5105263157894737"
      ]
     },
     "execution_count": 279,
     "metadata": {},
     "output_type": "execute_result"
    }
   ],
   "source": [
    "from sklearn.ensemble import BaggingClassifier\n",
    "bc = BaggingClassifier(n_estimators=1000, oob_score=True)\n",
    "bc.fit(X_train_scaled, y_train)\n",
    "bc.oob_score_"
   ]
  },
  {
   "cell_type": "code",
   "execution_count": 280,
   "metadata": {},
   "outputs": [
    {
     "name": "stdout",
     "output_type": "stream",
     "text": [
      "1.0\n",
      "0.49122807017543857\n"
     ]
    }
   ],
   "source": [
    "print(bc.score(X_train_scaled, y_train))\n",
    "print(bc.score(X_test_scaled, y_test))"
   ]
  },
  {
   "cell_type": "code",
   "execution_count": 281,
   "metadata": {},
   "outputs": [
    {
     "data": {
      "text/html": [
       "<div>\n",
       "<style scoped>\n",
       "    .dataframe tbody tr th:only-of-type {\n",
       "        vertical-align: middle;\n",
       "    }\n",
       "\n",
       "    .dataframe tbody tr th {\n",
       "        vertical-align: top;\n",
       "    }\n",
       "\n",
       "    .dataframe thead th {\n",
       "        text-align: right;\n",
       "    }\n",
       "</style>\n",
       "<table border=\"1\" class=\"dataframe\">\n",
       "  <thead>\n",
       "    <tr style=\"text-align: right;\">\n",
       "      <th>Classe prédite</th>\n",
       "      <th>1</th>\n",
       "      <th>2</th>\n",
       "      <th>3</th>\n",
       "    </tr>\n",
       "    <tr>\n",
       "      <th>Classe réelle</th>\n",
       "      <th></th>\n",
       "      <th></th>\n",
       "      <th></th>\n",
       "    </tr>\n",
       "  </thead>\n",
       "  <tbody>\n",
       "    <tr>\n",
       "      <th>1</th>\n",
       "      <td>91</td>\n",
       "      <td>23</td>\n",
       "      <td>7</td>\n",
       "    </tr>\n",
       "    <tr>\n",
       "      <th>2</th>\n",
       "      <td>44</td>\n",
       "      <td>38</td>\n",
       "      <td>8</td>\n",
       "    </tr>\n",
       "    <tr>\n",
       "      <th>3</th>\n",
       "      <td>44</td>\n",
       "      <td>19</td>\n",
       "      <td>11</td>\n",
       "    </tr>\n",
       "  </tbody>\n",
       "</table>\n",
       "</div>"
      ],
      "text/plain": [
       "Classe prédite   1   2   3\n",
       "Classe réelle             \n",
       "1               91  23   7\n",
       "2               44  38   8\n",
       "3               44  19  11"
      ]
     },
     "execution_count": 281,
     "metadata": {},
     "output_type": "execute_result"
    }
   ],
   "source": [
    "y_pred = bc.predict(X_test_scaled)\n",
    "pd.crosstab(y_test, y_pred, rownames=['Classe réelle'], colnames=['Classe prédite'])"
   ]
  },
  {
   "cell_type": "code",
   "execution_count": 282,
   "metadata": {},
   "outputs": [
    {
     "name": "stdout",
     "output_type": "stream",
     "text": [
      "              precision    recall  f1-score   support\n",
      "\n",
      "           1       0.51      0.75      0.61       121\n",
      "           2       0.47      0.42      0.45        90\n",
      "           3       0.42      0.15      0.22        74\n",
      "\n",
      "    accuracy                           0.49       285\n",
      "   macro avg       0.47      0.44      0.42       285\n",
      "weighted avg       0.48      0.49      0.46       285\n",
      "\n"
     ]
    }
   ],
   "source": [
    "print(classification_report(y_test, y_pred))"
   ]
  },
  {
   "cell_type": "markdown",
   "metadata": {},
   "source": [
    "- XG Boost"
   ]
  },
  {
   "cell_type": "code",
   "execution_count": 283,
   "metadata": {},
   "outputs": [],
   "source": [
    "import xgboost as xgb"
   ]
  },
  {
   "cell_type": "code",
   "execution_count": 284,
   "metadata": {},
   "outputs": [],
   "source": [
    "classes=list(target.unique())"
   ]
  },
  {
   "cell_type": "code",
   "execution_count": 293,
   "metadata": {},
   "outputs": [
    {
     "data": {
      "text/plain": [
       "array([2, 1, 3])"
      ]
     },
     "execution_count": 293,
     "metadata": {},
     "output_type": "execute_result"
    }
   ],
   "source": [
    "target.unique()"
   ]
  },
  {
   "cell_type": "code",
   "execution_count": 299,
   "metadata": {},
   "outputs": [],
   "source": [
    "# Lorsque le bon nombre de classes est renseigné, xgboost ne fonctionne pas\n",
    "# (Mais bizarrement cela marche quand on met à 4)\n",
    "params = {'objective': 'multi:softprob','num_class':3}"
   ]
  },
  {
   "cell_type": "code",
   "execution_count": 295,
   "metadata": {},
   "outputs": [],
   "source": [
    "train = xgb.DMatrix(data=X_train_scaled, label=y_train)"
   ]
  },
  {
   "cell_type": "code",
   "execution_count": 296,
   "metadata": {},
   "outputs": [],
   "source": [
    "test = xgb.DMatrix(data=X_test_scaled, label=y_test)"
   ]
  },
  {
   "cell_type": "code",
   "execution_count": 297,
   "metadata": {},
   "outputs": [
    {
     "ename": "XGBoostError",
     "evalue": "[14:30:57] /Users/runner/work/xgboost/xgboost/src/objective/multiclass_obj.cu:120: SoftmaxMultiClassObj: label must be in [0, num_class).\nStack trace:\n  [bt] (0) 1   libxgboost.dylib                    0x000000012be16814 dmlc::LogMessageFatal::~LogMessageFatal() + 116\n  [bt] (1) 2   libxgboost.dylib                    0x000000012bf03a76 xgboost::obj::SoftmaxMultiClassObj::GetGradient(xgboost::HostDeviceVector<float> const&, xgboost::MetaInfo const&, int, xgboost::HostDeviceVector<xgboost::detail::GradientPairInternal<float> >*) + 1094\n  [bt] (2) 3   libxgboost.dylib                    0x000000012bebaf44 xgboost::LearnerImpl::UpdateOneIter(int, std::__1::shared_ptr<xgboost::DMatrix>) + 612\n  [bt] (3) 4   libxgboost.dylib                    0x000000012be0bb19 XGBoosterUpdateOneIter + 137\n  [bt] (4) 5   _ctypes.cpython-38-darwin.so        0x000000010a285f17 ffi_call_unix64 + 79\n  [bt] (5) 6   ???                                 0x00007ffee60be6a0 0x0 + 140732757960352\n\n",
     "output_type": "error",
     "traceback": [
      "\u001b[0;31m---------------------------------------------------------------------------\u001b[0m",
      "\u001b[0;31mXGBoostError\u001b[0m                              Traceback (most recent call last)",
      "\u001b[0;32m/var/folders/tj/r4cwnnd565198682m31h3qyj_70jlk/T/ipykernel_59902/2448998099.py\u001b[0m in \u001b[0;36m<module>\u001b[0;34m\u001b[0m\n\u001b[1;32m      7\u001b[0m \u001b[0;31m# bst_cv\u001b[0m\u001b[0;34m\u001b[0m\u001b[0;34m\u001b[0m\u001b[0;34m\u001b[0m\u001b[0m\n\u001b[1;32m      8\u001b[0m \u001b[0;34m\u001b[0m\u001b[0m\n\u001b[0;32m----> 9\u001b[0;31m \u001b[0mxgb1\u001b[0m \u001b[0;34m=\u001b[0m \u001b[0mxgb\u001b[0m\u001b[0;34m.\u001b[0m\u001b[0mtrain\u001b[0m\u001b[0;34m(\u001b[0m\u001b[0mparams\u001b[0m\u001b[0;34m=\u001b[0m\u001b[0mparams\u001b[0m\u001b[0;34m,\u001b[0m \u001b[0mdtrain\u001b[0m\u001b[0;34m=\u001b[0m\u001b[0mtrain\u001b[0m\u001b[0;34m,\u001b[0m \u001b[0mnum_boost_round\u001b[0m\u001b[0;34m=\u001b[0m\u001b[0;36m700\u001b[0m\u001b[0;34m,\u001b[0m \u001b[0mevals\u001b[0m\u001b[0;34m=\u001b[0m\u001b[0;34m[\u001b[0m\u001b[0;34m(\u001b[0m\u001b[0mtrain\u001b[0m\u001b[0;34m,\u001b[0m \u001b[0;34m'train'\u001b[0m\u001b[0;34m)\u001b[0m\u001b[0;34m,\u001b[0m \u001b[0;34m(\u001b[0m\u001b[0mtest\u001b[0m\u001b[0;34m,\u001b[0m \u001b[0;34m'eval'\u001b[0m\u001b[0;34m)\u001b[0m\u001b[0;34m]\u001b[0m\u001b[0;34m)\u001b[0m\u001b[0;34m\u001b[0m\u001b[0;34m\u001b[0m\u001b[0m\n\u001b[0m",
      "\u001b[0;32m~/Documents/GitHub/Bookmakerspy/.venv/lib/python3.8/site-packages/xgboost/training.py\u001b[0m in \u001b[0;36mtrain\u001b[0;34m(params, dtrain, num_boost_round, evals, obj, feval, maximize, early_stopping_rounds, evals_result, verbose_eval, xgb_model, callbacks)\u001b[0m\n\u001b[1;32m    186\u001b[0m     \u001b[0mBooster\u001b[0m \u001b[0;34m:\u001b[0m \u001b[0ma\u001b[0m \u001b[0mtrained\u001b[0m \u001b[0mbooster\u001b[0m \u001b[0mmodel\u001b[0m\u001b[0;34m\u001b[0m\u001b[0;34m\u001b[0m\u001b[0m\n\u001b[1;32m    187\u001b[0m     \"\"\"\n\u001b[0;32m--> 188\u001b[0;31m     bst = _train_internal(params, dtrain,\n\u001b[0m\u001b[1;32m    189\u001b[0m                           \u001b[0mnum_boost_round\u001b[0m\u001b[0;34m=\u001b[0m\u001b[0mnum_boost_round\u001b[0m\u001b[0;34m,\u001b[0m\u001b[0;34m\u001b[0m\u001b[0;34m\u001b[0m\u001b[0m\n\u001b[1;32m    190\u001b[0m                           \u001b[0mevals\u001b[0m\u001b[0;34m=\u001b[0m\u001b[0mevals\u001b[0m\u001b[0;34m,\u001b[0m\u001b[0;34m\u001b[0m\u001b[0;34m\u001b[0m\u001b[0m\n",
      "\u001b[0;32m~/Documents/GitHub/Bookmakerspy/.venv/lib/python3.8/site-packages/xgboost/training.py\u001b[0m in \u001b[0;36m_train_internal\u001b[0;34m(params, dtrain, num_boost_round, evals, obj, feval, xgb_model, callbacks, evals_result, maximize, verbose_eval, early_stopping_rounds)\u001b[0m\n\u001b[1;32m     79\u001b[0m         \u001b[0;32mif\u001b[0m \u001b[0mcallbacks\u001b[0m\u001b[0;34m.\u001b[0m\u001b[0mbefore_iteration\u001b[0m\u001b[0;34m(\u001b[0m\u001b[0mbst\u001b[0m\u001b[0;34m,\u001b[0m \u001b[0mi\u001b[0m\u001b[0;34m,\u001b[0m \u001b[0mdtrain\u001b[0m\u001b[0;34m,\u001b[0m \u001b[0mevals\u001b[0m\u001b[0;34m)\u001b[0m\u001b[0;34m:\u001b[0m\u001b[0;34m\u001b[0m\u001b[0;34m\u001b[0m\u001b[0m\n\u001b[1;32m     80\u001b[0m             \u001b[0;32mbreak\u001b[0m\u001b[0;34m\u001b[0m\u001b[0;34m\u001b[0m\u001b[0m\n\u001b[0;32m---> 81\u001b[0;31m         \u001b[0mbst\u001b[0m\u001b[0;34m.\u001b[0m\u001b[0mupdate\u001b[0m\u001b[0;34m(\u001b[0m\u001b[0mdtrain\u001b[0m\u001b[0;34m,\u001b[0m \u001b[0mi\u001b[0m\u001b[0;34m,\u001b[0m \u001b[0mobj\u001b[0m\u001b[0;34m)\u001b[0m\u001b[0;34m\u001b[0m\u001b[0;34m\u001b[0m\u001b[0m\n\u001b[0m\u001b[1;32m     82\u001b[0m         \u001b[0;32mif\u001b[0m \u001b[0mcallbacks\u001b[0m\u001b[0;34m.\u001b[0m\u001b[0mafter_iteration\u001b[0m\u001b[0;34m(\u001b[0m\u001b[0mbst\u001b[0m\u001b[0;34m,\u001b[0m \u001b[0mi\u001b[0m\u001b[0;34m,\u001b[0m \u001b[0mdtrain\u001b[0m\u001b[0;34m,\u001b[0m \u001b[0mevals\u001b[0m\u001b[0;34m)\u001b[0m\u001b[0;34m:\u001b[0m\u001b[0;34m\u001b[0m\u001b[0;34m\u001b[0m\u001b[0m\n\u001b[1;32m     83\u001b[0m             \u001b[0;32mbreak\u001b[0m\u001b[0;34m\u001b[0m\u001b[0;34m\u001b[0m\u001b[0m\n",
      "\u001b[0;32m~/Documents/GitHub/Bookmakerspy/.venv/lib/python3.8/site-packages/xgboost/core.py\u001b[0m in \u001b[0;36mupdate\u001b[0;34m(self, dtrain, iteration, fobj)\u001b[0m\n\u001b[1;32m   1678\u001b[0m \u001b[0;34m\u001b[0m\u001b[0m\n\u001b[1;32m   1679\u001b[0m         \u001b[0;32mif\u001b[0m \u001b[0mfobj\u001b[0m \u001b[0;32mis\u001b[0m \u001b[0;32mNone\u001b[0m\u001b[0;34m:\u001b[0m\u001b[0;34m\u001b[0m\u001b[0;34m\u001b[0m\u001b[0m\n\u001b[0;32m-> 1680\u001b[0;31m             _check_call(_LIB.XGBoosterUpdateOneIter(self.handle,\n\u001b[0m\u001b[1;32m   1681\u001b[0m                                                     \u001b[0mctypes\u001b[0m\u001b[0;34m.\u001b[0m\u001b[0mc_int\u001b[0m\u001b[0;34m(\u001b[0m\u001b[0miteration\u001b[0m\u001b[0;34m)\u001b[0m\u001b[0;34m,\u001b[0m\u001b[0;34m\u001b[0m\u001b[0;34m\u001b[0m\u001b[0m\n\u001b[1;32m   1682\u001b[0m                                                     dtrain.handle))\n",
      "\u001b[0;32m~/Documents/GitHub/Bookmakerspy/.venv/lib/python3.8/site-packages/xgboost/core.py\u001b[0m in \u001b[0;36m_check_call\u001b[0;34m(ret)\u001b[0m\n\u001b[1;32m    216\u001b[0m     \"\"\"\n\u001b[1;32m    217\u001b[0m     \u001b[0;32mif\u001b[0m \u001b[0mret\u001b[0m \u001b[0;34m!=\u001b[0m \u001b[0;36m0\u001b[0m\u001b[0;34m:\u001b[0m\u001b[0;34m\u001b[0m\u001b[0;34m\u001b[0m\u001b[0m\n\u001b[0;32m--> 218\u001b[0;31m         \u001b[0;32mraise\u001b[0m \u001b[0mXGBoostError\u001b[0m\u001b[0;34m(\u001b[0m\u001b[0mpy_str\u001b[0m\u001b[0;34m(\u001b[0m\u001b[0m_LIB\u001b[0m\u001b[0;34m.\u001b[0m\u001b[0mXGBGetLastError\u001b[0m\u001b[0;34m(\u001b[0m\u001b[0;34m)\u001b[0m\u001b[0;34m)\u001b[0m\u001b[0;34m)\u001b[0m\u001b[0;34m\u001b[0m\u001b[0;34m\u001b[0m\u001b[0m\n\u001b[0m\u001b[1;32m    219\u001b[0m \u001b[0;34m\u001b[0m\u001b[0m\n\u001b[1;32m    220\u001b[0m \u001b[0;34m\u001b[0m\u001b[0m\n",
      "\u001b[0;31mXGBoostError\u001b[0m: [14:30:57] /Users/runner/work/xgboost/xgboost/src/objective/multiclass_obj.cu:120: SoftmaxMultiClassObj: label must be in [0, num_class).\nStack trace:\n  [bt] (0) 1   libxgboost.dylib                    0x000000012be16814 dmlc::LogMessageFatal::~LogMessageFatal() + 116\n  [bt] (1) 2   libxgboost.dylib                    0x000000012bf03a76 xgboost::obj::SoftmaxMultiClassObj::GetGradient(xgboost::HostDeviceVector<float> const&, xgboost::MetaInfo const&, int, xgboost::HostDeviceVector<xgboost::detail::GradientPairInternal<float> >*) + 1094\n  [bt] (2) 3   libxgboost.dylib                    0x000000012bebaf44 xgboost::LearnerImpl::UpdateOneIter(int, std::__1::shared_ptr<xgboost::DMatrix>) + 612\n  [bt] (3) 4   libxgboost.dylib                    0x000000012be0bb19 XGBoosterUpdateOneIter + 137\n  [bt] (4) 5   _ctypes.cpython-38-darwin.so        0x000000010a285f17 ffi_call_unix64 + 79\n  [bt] (5) 6   ???                                 0x00007ffee60be6a0 0x0 + 140732757960352\n\n"
     ]
    }
   ],
   "source": [
    "# bst_cv = xgb.cv(params=params,\n",
    "#                dtrain=train,\n",
    "#                num_boost_round=100,\n",
    "#                nfold=2,\n",
    "#                early_stopping_rounds=60,\n",
    "#                evals=[(train, 'train'), (test, 'eval')])\n",
    "# bst_cv\n",
    "\n",
    "xgb1 = xgb.train(params=params, dtrain=train, num_boost_round=700, evals=[(train, 'train'), (test, 'eval')])"
   ]
  },
  {
   "cell_type": "code",
   "execution_count": 170,
   "metadata": {},
   "outputs": [
    {
     "data": {
      "image/png": "[encoded data removed]",
      "text/plain": [
       "<Figure size 1440x216 with 1 Axes>"
      ]
     },
     "metadata": {
      "needs_background": "light"
     },
     "output_type": "display_data"
    }
   ],
   "source": [
    "xgb.plot_importance(xgb1, max_num_features=10);"
   ]
  },
  {
   "cell_type": "code",
   "execution_count": 171,
   "metadata": {},
   "outputs": [
    {
     "data": {
      "image/png": "[encoded data removed]",
      "text/plain": [
       "<Figure size 1440x216 with 1 Axes>"
      ]
     },
     "metadata": {
      "needs_background": "light"
     },
     "output_type": "display_data"
    },
    {
     "data": {
      "image/png": "[encoded data removed]",
      "text/plain": [
       "<Figure size 1440x216 with 1 Axes>"
      ]
     },
     "metadata": {
      "needs_background": "light"
     },
     "output_type": "display_data"
    },
    {
     "data": {
      "image/png": "[encoded data removed]",
      "text/plain": [
       "<Figure size 1440x216 with 1 Axes>"
      ]
     },
     "metadata": {
      "needs_background": "light"
     },
     "output_type": "display_data"
    },
    {
     "data": {
      "image/png": "[encoded data removed]",
      "text/plain": [
       "<Figure size 1440x216 with 1 Axes>"
      ]
     },
     "metadata": {
      "needs_background": "light"
     },
     "output_type": "display_data"
    },
    {
     "data": {
      "image/png": "[encoded data removed]",
      "text/plain": [
       "<Figure size 1440x216 with 1 Axes>"
      ]
     },
     "metadata": {
      "needs_background": "light"
     },
     "output_type": "display_data"
    }
   ],
   "source": [
    "types= ['weight', 'gain', 'cover', 'total_gain', 'total_cover']\n",
    "\n",
    "for f in types:\n",
    "    xgb.plot_importance(xgb1 ,max_num_features=15, importance_type=f, title='importance: '+f);"
   ]
  },
  {
   "cell_type": "code",
   "execution_count": 298,
   "metadata": {},
   "outputs": [],
   "source": [
    "#preds = xgb1.predict(test)\n",
    "\n",
    "#score = accuracy_score(y_test, preds)\n",
    "#print('score:{0:.4f}'.format(score))\n",
    "\n",
    "\n",
    "\n",
    "#xgbpreds = pd.Series(np.where(preds > 0.5, 1, 0))\n",
    "\n",
    "# pd.crosstab(pd.Series(y_test), preds, rownames=['Classe réelle'], colnames=['Classe prédite'])"
   ]
  },
  {
   "cell_type": "code",
   "execution_count": null,
   "metadata": {},
   "outputs": [],
   "source": []
  }
 ],
 "metadata": {
  "file_extension": ".py",
  "interpreter": {
   "hash": "29f0c6657f550a667fc0cb61c999a7ac2bdbe77ddfff42c73fc41765fd30ed59"
  },
  "kernelspec": {
   "display_name": "Python 3.8.1 64-bit ('.venv': venv)",
   "name": "python3"
  },
  "language_info": {
   "codemirror_mode": {
    "name": "ipython",
    "version": 3
   },
   "file_extension": ".py",
   "mimetype": "text/x-python",
   "name": "python",
   "nbconvert_exporter": "python",
   "pygments_lexer": "ipython3",
   "version": "3.8.1"
  },
  "mimetype": "text/x-python",
  "name": "python",
  "npconvert_exporter": "python",
  "orig_nbformat": 2,
  "pygments_lexer": "ipython2",
  "version": 2
 },
 "nbformat": 4,
 "nbformat_minor": 2
}

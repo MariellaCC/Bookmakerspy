{
 "cells": [
  {
   "cell_type": "raw",
   "id": "ef321d93",
   "metadata": {},
   "source": [
    "Ce notebook présente l'exploration des données via des modèles simples de classification: \n",
    "- Sélection des variables explicatives pertinantes\n",
    "- Sélection des méta-paramètres\n",
    "- Comparaison des modèles entre eux via des métriques pertinantes\n"
   ]
  },
  {
   "cell_type": "code",
   "execution_count": 12,
   "id": "8b4b9ef0",
   "metadata": {},
   "outputs": [
    {
     "data": {
      "text/plain": [
       "'C:\\\\Users\\\\miras\\\\OneDrive\\\\Documents\\\\GitHub\\\\Bookmarkerspy'"
      ]
     },
     "execution_count": 12,
     "metadata": {},
     "output_type": "execute_result"
    }
   ],
   "source": [
    "# Chargement des données\n",
    "import os\n",
    "import pandas as pd\n",
    "import numpy as np\n",
    "os.getcwd() "
   ]
  },
  {
   "cell_type": "code",
   "execution_count": 11,
   "id": "c52bd129",
   "metadata": {},
   "outputs": [
    {
     "name": "stdout",
     "output_type": "stream",
     "text": [
      " Le volume dans le lecteur C s’appelle Windows-SSD\n",
      " Le numéro de série du volume est 6ECF-2E04\n",
      "\n",
      " Répertoire de C:\\Users\\miras\\OneDrive\\Documents\\GitHub\\Bookmarkerspy\n",
      "\n",
      "24/10/2021  18:10    <DIR>          .\n",
      "24/10/2021  18:10    <DIR>          ..\n",
      "24/10/2021  17:41    <DIR>          .ipynb_checkpoints\n",
      "17/09/2021  19:08           102 655 audit_donnees.xlsx\n",
      "24/10/2021  18:05         1 438 851 dataset_moyennes_matchs.csv\n",
      "17/09/2021  19:08           719 827 DataViz.ipynb\n",
      "24/10/2021  18:06           745 643 df_stats_cotes.csv\n",
      "17/09/2021  19:08             1 099 LICENSE\n",
      "24/10/2021  18:10             3 469 Predictive_Models.ipynb\n",
      "24/10/2021  17:41           165 297 Preprocessing.ipynb\n",
      "17/09/2021  19:08                15 README.md\n",
      "               8 fichier(s)        3 176 856 octets\n",
      "               3 Rép(s)  445 457 059 840 octets libres\n"
     ]
    }
   ],
   "source": [
    "ls"
   ]
  },
  {
   "cell_type": "code",
   "execution_count": 21,
   "id": "bc8366a4",
   "metadata": {},
   "outputs": [
    {
     "data": {
      "text/html": [
       "<div>\n",
       "<style scoped>\n",
       "    .dataframe tbody tr th:only-of-type {\n",
       "        vertical-align: middle;\n",
       "    }\n",
       "\n",
       "    .dataframe tbody tr th {\n",
       "        vertical-align: top;\n",
       "    }\n",
       "\n",
       "    .dataframe thead th {\n",
       "        text-align: right;\n",
       "    }\n",
       "</style>\n",
       "<table border=\"1\" class=\"dataframe\">\n",
       "  <thead>\n",
       "    <tr style=\"text-align: right;\">\n",
       "      <th></th>\n",
       "      <th>season</th>\n",
       "      <th>date</th>\n",
       "      <th>away_team_id</th>\n",
       "      <th>away_team_name</th>\n",
       "      <th>home_team_id</th>\n",
       "      <th>home_team_name</th>\n",
       "      <th>home_team_rating</th>\n",
       "      <th>home_won_contest</th>\n",
       "      <th>home_possession_percentage</th>\n",
       "      <th>home_total_throws</th>\n",
       "      <th>...</th>\n",
       "      <th>PSCH</th>\n",
       "      <th>PSCD</th>\n",
       "      <th>PSCA</th>\n",
       "      <th>Diff_def_home_fwd_away</th>\n",
       "      <th>Diff_def_home_mid_away</th>\n",
       "      <th>Diff_mil_home_att_away</th>\n",
       "      <th>Diff_mil_home_mid_away</th>\n",
       "      <th>Diff_mil_home_def_away</th>\n",
       "      <th>Diff_fwd_home_mid_away</th>\n",
       "      <th>Diff_fwd_home_def_away</th>\n",
       "    </tr>\n",
       "    <tr>\n",
       "      <th>match_id</th>\n",
       "      <th></th>\n",
       "      <th></th>\n",
       "      <th></th>\n",
       "      <th></th>\n",
       "      <th></th>\n",
       "      <th></th>\n",
       "      <th></th>\n",
       "      <th></th>\n",
       "      <th></th>\n",
       "      <th></th>\n",
       "      <th></th>\n",
       "      <th></th>\n",
       "      <th></th>\n",
       "      <th></th>\n",
       "      <th></th>\n",
       "      <th></th>\n",
       "      <th></th>\n",
       "      <th></th>\n",
       "      <th></th>\n",
       "      <th></th>\n",
       "      <th></th>\n",
       "    </tr>\n",
       "  </thead>\n",
       "  <tbody>\n",
       "    <tr>\n",
       "      <th>829595</th>\n",
       "      <td>2014_2015</td>\n",
       "      <td>2014-10-04 00:00:00</td>\n",
       "      <td>167</td>\n",
       "      <td>Manchester City</td>\n",
       "      <td>24</td>\n",
       "      <td>Aston Villa</td>\n",
       "      <td>6.519762</td>\n",
       "      <td>6.333333</td>\n",
       "      <td>38.133333</td>\n",
       "      <td>23.666667</td>\n",
       "      <td>...</td>\n",
       "      <td>8.70</td>\n",
       "      <td>5.00</td>\n",
       "      <td>1.42</td>\n",
       "      <td>-1.396667</td>\n",
       "      <td>-0.582667</td>\n",
       "      <td>-1.277444</td>\n",
       "      <td>-0.463444</td>\n",
       "      <td>-1.277444</td>\n",
       "      <td>-0.209333</td>\n",
       "      <td>-1.023333</td>\n",
       "    </tr>\n",
       "    <tr>\n",
       "      <th>829605</th>\n",
       "      <td>2014_2015</td>\n",
       "      <td>2014-10-04 00:00:00</td>\n",
       "      <td>162</td>\n",
       "      <td>Crystal Palace</td>\n",
       "      <td>214</td>\n",
       "      <td>Hull</td>\n",
       "      <td>6.802143</td>\n",
       "      <td>8.333333</td>\n",
       "      <td>41.300000</td>\n",
       "      <td>18.000000</td>\n",
       "      <td>...</td>\n",
       "      <td>2.18</td>\n",
       "      <td>3.45</td>\n",
       "      <td>3.67</td>\n",
       "      <td>-0.035556</td>\n",
       "      <td>-0.037056</td>\n",
       "      <td>-0.240333</td>\n",
       "      <td>-0.241833</td>\n",
       "      <td>-0.240333</td>\n",
       "      <td>-0.103167</td>\n",
       "      <td>-0.101667</td>\n",
       "    </tr>\n",
       "    <tr>\n",
       "      <th>829610</th>\n",
       "      <td>2014_2015</td>\n",
       "      <td>2014-10-04 00:00:00</td>\n",
       "      <td>184</td>\n",
       "      <td>Burnley</td>\n",
       "      <td>14</td>\n",
       "      <td>Leicester</td>\n",
       "      <td>6.957619</td>\n",
       "      <td>8.333333</td>\n",
       "      <td>37.066667</td>\n",
       "      <td>19.666667</td>\n",
       "      <td>...</td>\n",
       "      <td>1.72</td>\n",
       "      <td>4.05</td>\n",
       "      <td>5.20</td>\n",
       "      <td>0.842500</td>\n",
       "      <td>0.579000</td>\n",
       "      <td>0.745000</td>\n",
       "      <td>0.481500</td>\n",
       "      <td>0.745000</td>\n",
       "      <td>1.063167</td>\n",
       "      <td>1.326667</td>\n",
       "    </tr>\n",
       "    <tr>\n",
       "      <th>829615</th>\n",
       "      <td>2014_2015</td>\n",
       "      <td>2014-10-04 00:00:00</td>\n",
       "      <td>175</td>\n",
       "      <td>West Bromwich Albion</td>\n",
       "      <td>26</td>\n",
       "      <td>Liverpool</td>\n",
       "      <td>6.888462</td>\n",
       "      <td>9.333333</td>\n",
       "      <td>59.066667</td>\n",
       "      <td>20.000000</td>\n",
       "      <td>...</td>\n",
       "      <td>1.48</td>\n",
       "      <td>4.69</td>\n",
       "      <td>7.70</td>\n",
       "      <td>0.981667</td>\n",
       "      <td>0.171333</td>\n",
       "      <td>0.959333</td>\n",
       "      <td>0.149000</td>\n",
       "      <td>0.959333</td>\n",
       "      <td>0.009667</td>\n",
       "      <td>0.820000</td>\n",
       "    </tr>\n",
       "    <tr>\n",
       "      <th>829625</th>\n",
       "      <td>2014_2015</td>\n",
       "      <td>2014-10-04 00:00:00</td>\n",
       "      <td>96</td>\n",
       "      <td>Stoke</td>\n",
       "      <td>16</td>\n",
       "      <td>Sunderland</td>\n",
       "      <td>6.697381</td>\n",
       "      <td>11.000000</td>\n",
       "      <td>44.066667</td>\n",
       "      <td>20.000000</td>\n",
       "      <td>...</td>\n",
       "      <td>2.67</td>\n",
       "      <td>3.25</td>\n",
       "      <td>2.96</td>\n",
       "      <td>-0.764167</td>\n",
       "      <td>-0.416667</td>\n",
       "      <td>-0.437444</td>\n",
       "      <td>-0.089944</td>\n",
       "      <td>-0.437444</td>\n",
       "      <td>-0.433056</td>\n",
       "      <td>-0.780556</td>\n",
       "    </tr>\n",
       "  </tbody>\n",
       "</table>\n",
       "<p>5 rows × 86 columns</p>\n",
       "</div>"
      ],
      "text/plain": [
       "             season                 date  away_team_id        away_team_name  \\\n",
       "match_id                                                                       \n",
       "829595    2014_2015  2014-10-04 00:00:00           167       Manchester City   \n",
       "829605    2014_2015  2014-10-04 00:00:00           162        Crystal Palace   \n",
       "829610    2014_2015  2014-10-04 00:00:00           184               Burnley   \n",
       "829615    2014_2015  2014-10-04 00:00:00           175  West Bromwich Albion   \n",
       "829625    2014_2015  2014-10-04 00:00:00            96                 Stoke   \n",
       "\n",
       "          home_team_id home_team_name  home_team_rating  home_won_contest  \\\n",
       "match_id                                                                    \n",
       "829595              24    Aston Villa          6.519762          6.333333   \n",
       "829605             214           Hull          6.802143          8.333333   \n",
       "829610              14      Leicester          6.957619          8.333333   \n",
       "829615              26      Liverpool          6.888462          9.333333   \n",
       "829625              16     Sunderland          6.697381         11.000000   \n",
       "\n",
       "          home_possession_percentage  home_total_throws  ...  PSCH  PSCD  \\\n",
       "match_id                                                 ...               \n",
       "829595                     38.133333          23.666667  ...  8.70  5.00   \n",
       "829605                     41.300000          18.000000  ...  2.18  3.45   \n",
       "829610                     37.066667          19.666667  ...  1.72  4.05   \n",
       "829615                     59.066667          20.000000  ...  1.48  4.69   \n",
       "829625                     44.066667          20.000000  ...  2.67  3.25   \n",
       "\n",
       "          PSCA  Diff_def_home_fwd_away  Diff_def_home_mid_away  \\\n",
       "match_id                                                         \n",
       "829595    1.42               -1.396667               -0.582667   \n",
       "829605    3.67               -0.035556               -0.037056   \n",
       "829610    5.20                0.842500                0.579000   \n",
       "829615    7.70                0.981667                0.171333   \n",
       "829625    2.96               -0.764167               -0.416667   \n",
       "\n",
       "          Diff_mil_home_att_away  Diff_mil_home_mid_away  \\\n",
       "match_id                                                   \n",
       "829595                 -1.277444               -0.463444   \n",
       "829605                 -0.240333               -0.241833   \n",
       "829610                  0.745000                0.481500   \n",
       "829615                  0.959333                0.149000   \n",
       "829625                 -0.437444               -0.089944   \n",
       "\n",
       "          Diff_mil_home_def_away  Diff_fwd_home_mid_away  \\\n",
       "match_id                                                   \n",
       "829595                 -1.277444               -0.209333   \n",
       "829605                 -0.240333               -0.103167   \n",
       "829610                  0.745000                1.063167   \n",
       "829615                  0.959333                0.009667   \n",
       "829625                 -0.437444               -0.433056   \n",
       "\n",
       "          Diff_fwd_home_def_away  \n",
       "match_id                          \n",
       "829595                 -1.023333  \n",
       "829605                 -0.101667  \n",
       "829610                  1.326667  \n",
       "829615                  0.820000  \n",
       "829625                 -0.780556  \n",
       "\n",
       "[5 rows x 86 columns]"
      ]
     },
     "execution_count": 21,
     "metadata": {},
     "output_type": "execute_result"
    }
   ],
   "source": [
    "df = pd.read_csv('dataset_moyennes_matchs.csv', index_col = 0)\n",
    "df = df.reset_index(drop=True).set_index('match_id')\n",
    "df.head()"
   ]
  },
  {
   "cell_type": "code",
   "execution_count": 54,
   "id": "ccf46391",
   "metadata": {},
   "outputs": [],
   "source": [
    "# Variable explicatives\n",
    "feats_list = [# feats home\n",
    "       'home_team_rating', 'home_won_contest', 'home_possession_percentage', 'home_total_throws', 'home_blocked_scoring_att', \n",
    "       'home_total_scoring_att', 'home_total_tackle', 'home_aerial_won', 'home_aerial_lost', 'home_accurate_pass', \n",
    "       'home_total_pass', 'home_won_corners', 'home_shot_off_target', 'home_ontarget_scoring_att','home_total_offside', \n",
    "       'home_post_scoring_att', 'home_att_pen_goal', 'home_penalty_save', 'HF', 'HY', 'HR', 'home_pass', \n",
    "       'goalkeeper_home_player_rating', 'defender_home_player_rating', 'midfielder_home_player_rating', 'forward_home_player_rating',\n",
    "       # feats away\n",
    "       'away_team_rating', 'away_won_contest', 'away_possession_percentage', 'away_total_throws', 'away_blocked_scoring_att',\n",
    "       'away_total_scoring_att', 'away_total_tackle', 'away_aerial_won', 'away_aerial_lost', 'away_accurate_pass', \n",
    "       'away_total_pass', 'away_won_corners', 'away_shot_off_target', 'away_ontarget_scoring_att', 'away_total_offside', \n",
    "       'away_post_scoring_att', 'away_att_pen_goal', 'away_penalty_save', 'AF', 'AY', 'AR', 'away_pass',\n",
    "       'goalkeeper_away_player_rating', 'defender_away_player_rating', 'midfielder_away_player_rating', 'forward_away_player_rating', \n",
    "        # Team Comparison\n",
    "       'Diff_def_home_fwd_away', 'Diff_def_home_mid_away', 'Diff_mil_home_att_away', 'Diff_mil_home_mid_away',\n",
    "       'Diff_mil_home_def_away', 'Diff_fwd_home_mid_away', 'Diff_fwd_home_def_away']\n",
    "       \n",
    "# Target\n",
    "target_list = ['FTR']\n",
    "\n",
    "# X_train, X_test, y_train, y_test // On entraine le smodèle sur la saison 2014_2015 jusque 2016_2017 puis on teste sur la\n",
    "# saison 2017_2018\n",
    "\n",
    "Train = df[df['season']!='2017_2018']\n",
    "Test  = df[df['season']=='2017_2018']\n",
    "\n",
    "# Creation des dataframes et targets par saison\n",
    "X_train = Train[feats_list]\n",
    "X_test  = Test[feats_list]\n",
    "\n",
    "y_train = Train[target_list].reset_index(drop=True)\n",
    "y_test  = Test[target_list].reset_index(drop=True)\n"
   ]
  },
  {
   "cell_type": "code",
   "execution_count": 58,
   "id": "66d0f906",
   "metadata": {},
   "outputs": [
    {
     "data": {
      "text/plain": [
       "pandas.core.series.Series"
      ]
     },
     "execution_count": 58,
     "metadata": {},
     "output_type": "execute_result"
    }
   ],
   "source": [
    "type(y_test.iloc[0])"
   ]
  },
  {
   "cell_type": "markdown",
   "id": "1ceb54f5",
   "metadata": {},
   "source": [
    "# 1 - Modèles de classification"
   ]
  },
  {
   "cell_type": "markdown",
   "id": "d1d5a555",
   "metadata": {},
   "source": [
    "## 1.1 Régression Logistique"
   ]
  },
  {
   "cell_type": "code",
   "execution_count": null,
   "id": "404f60d8",
   "metadata": {},
   "outputs": [],
   "source": [
    "from sklearn import linear_model\n",
    "from sklearn import preprocessing\n",
    "from sklearn.model_selection import GridSearchCV, cross_val_score\n",
    "\n",
    "# Regression logistique via leasticnet pour selection des variables importantes\n",
    "parametres = {'C':[0.1,1,10],'l1_ratio': [0.1, 0.25, 0.8, 0.99]}\n",
    "#parametres = {'C':[0.1,1,10],'alpha': [0.001, 0.025, 0.8, 1.0], 'l1_ratio': [0.1, 0.25, 0.8, 0.99]}\n",
    "clf = linear_model.LogisticRegression(penalty = 'elasticnet', solver = 'saga', max_iter = 200)\n",
    "\n",
    "grid_clf = GridSearchCV(estimator=clf, param_grid=parametres)\n",
    "grille = grid_clf.fit(X_train,y_train.values.ravel())\n",
    "print(grid_clf.best_params_) # Selection du meilleur parameter"
   ]
  },
  {
   "cell_type": "code",
   "execution_count": 51,
   "id": "d73f33e3",
   "metadata": {},
   "outputs": [
    {
     "ename": "ValueError",
     "evalue": "Shape of passed values is (1, 2), indices imply (368, 2)",
     "output_type": "error",
     "traceback": [
      "\u001b[1;31m---------------------------------------------------------------------------\u001b[0m",
      "\u001b[1;31mValueError\u001b[0m                                Traceback (most recent call last)",
      "\u001b[1;32m~\\anaconda3\\lib\\site-packages\\pandas\\core\\internals\\managers.py\u001b[0m in \u001b[0;36mcreate_block_manager_from_arrays\u001b[1;34m(arrays, names, axes)\u001b[0m\n\u001b[0;32m   1700\u001b[0m     \u001b[1;32mtry\u001b[0m\u001b[1;33m:\u001b[0m\u001b[1;33m\u001b[0m\u001b[1;33m\u001b[0m\u001b[0m\n\u001b[1;32m-> 1701\u001b[1;33m         \u001b[0mblocks\u001b[0m \u001b[1;33m=\u001b[0m \u001b[0m_form_blocks\u001b[0m\u001b[1;33m(\u001b[0m\u001b[0marrays\u001b[0m\u001b[1;33m,\u001b[0m \u001b[0mnames\u001b[0m\u001b[1;33m,\u001b[0m \u001b[0maxes\u001b[0m\u001b[1;33m)\u001b[0m\u001b[1;33m\u001b[0m\u001b[1;33m\u001b[0m\u001b[0m\n\u001b[0m\u001b[0;32m   1702\u001b[0m         \u001b[0mmgr\u001b[0m \u001b[1;33m=\u001b[0m \u001b[0mBlockManager\u001b[0m\u001b[1;33m(\u001b[0m\u001b[0mblocks\u001b[0m\u001b[1;33m,\u001b[0m \u001b[0maxes\u001b[0m\u001b[1;33m)\u001b[0m\u001b[1;33m\u001b[0m\u001b[1;33m\u001b[0m\u001b[0m\n",
      "\u001b[1;32m~\\anaconda3\\lib\\site-packages\\pandas\\core\\internals\\managers.py\u001b[0m in \u001b[0;36m_form_blocks\u001b[1;34m(arrays, names, axes)\u001b[0m\n\u001b[0;32m   1789\u001b[0m     \u001b[1;32mif\u001b[0m \u001b[0mlen\u001b[0m\u001b[1;33m(\u001b[0m\u001b[0mitems_dict\u001b[0m\u001b[1;33m[\u001b[0m\u001b[1;34m\"ObjectBlock\"\u001b[0m\u001b[1;33m]\u001b[0m\u001b[1;33m)\u001b[0m \u001b[1;33m>\u001b[0m \u001b[1;36m0\u001b[0m\u001b[1;33m:\u001b[0m\u001b[1;33m\u001b[0m\u001b[1;33m\u001b[0m\u001b[0m\n\u001b[1;32m-> 1790\u001b[1;33m         \u001b[0mobject_blocks\u001b[0m \u001b[1;33m=\u001b[0m \u001b[0m_simple_blockify\u001b[0m\u001b[1;33m(\u001b[0m\u001b[0mitems_dict\u001b[0m\u001b[1;33m[\u001b[0m\u001b[1;34m\"ObjectBlock\"\u001b[0m\u001b[1;33m]\u001b[0m\u001b[1;33m,\u001b[0m \u001b[0mnp\u001b[0m\u001b[1;33m.\u001b[0m\u001b[0mobject_\u001b[0m\u001b[1;33m)\u001b[0m\u001b[1;33m\u001b[0m\u001b[1;33m\u001b[0m\u001b[0m\n\u001b[0m\u001b[0;32m   1791\u001b[0m         \u001b[0mblocks\u001b[0m\u001b[1;33m.\u001b[0m\u001b[0mextend\u001b[0m\u001b[1;33m(\u001b[0m\u001b[0mobject_blocks\u001b[0m\u001b[1;33m)\u001b[0m\u001b[1;33m\u001b[0m\u001b[1;33m\u001b[0m\u001b[0m\n",
      "\u001b[1;32m~\\anaconda3\\lib\\site-packages\\pandas\\core\\internals\\managers.py\u001b[0m in \u001b[0;36m_simple_blockify\u001b[1;34m(tuples, dtype)\u001b[0m\n\u001b[0;32m   1833\u001b[0m     \"\"\"\n\u001b[1;32m-> 1834\u001b[1;33m     \u001b[0mvalues\u001b[0m\u001b[1;33m,\u001b[0m \u001b[0mplacement\u001b[0m \u001b[1;33m=\u001b[0m \u001b[0m_stack_arrays\u001b[0m\u001b[1;33m(\u001b[0m\u001b[0mtuples\u001b[0m\u001b[1;33m,\u001b[0m \u001b[0mdtype\u001b[0m\u001b[1;33m)\u001b[0m\u001b[1;33m\u001b[0m\u001b[1;33m\u001b[0m\u001b[0m\n\u001b[0m\u001b[0;32m   1835\u001b[0m \u001b[1;33m\u001b[0m\u001b[0m\n",
      "\u001b[1;32m~\\anaconda3\\lib\\site-packages\\pandas\\core\\internals\\managers.py\u001b[0m in \u001b[0;36m_stack_arrays\u001b[1;34m(tuples, dtype)\u001b[0m\n\u001b[0;32m   1881\u001b[0m     \u001b[1;32mfor\u001b[0m \u001b[0mi\u001b[0m\u001b[1;33m,\u001b[0m \u001b[0marr\u001b[0m \u001b[1;32min\u001b[0m \u001b[0menumerate\u001b[0m\u001b[1;33m(\u001b[0m\u001b[0marrays\u001b[0m\u001b[1;33m)\u001b[0m\u001b[1;33m:\u001b[0m\u001b[1;33m\u001b[0m\u001b[1;33m\u001b[0m\u001b[0m\n\u001b[1;32m-> 1882\u001b[1;33m         \u001b[0mstacked\u001b[0m\u001b[1;33m[\u001b[0m\u001b[0mi\u001b[0m\u001b[1;33m]\u001b[0m \u001b[1;33m=\u001b[0m \u001b[0m_asarray_compat\u001b[0m\u001b[1;33m(\u001b[0m\u001b[0marr\u001b[0m\u001b[1;33m)\u001b[0m\u001b[1;33m\u001b[0m\u001b[1;33m\u001b[0m\u001b[0m\n\u001b[0m\u001b[0;32m   1883\u001b[0m \u001b[1;33m\u001b[0m\u001b[0m\n",
      "\u001b[1;31mValueError\u001b[0m: could not broadcast input array from shape (368,) into shape (1,)",
      "\nDuring handling of the above exception, another exception occurred:\n",
      "\u001b[1;31mValueError\u001b[0m                                Traceback (most recent call last)",
      "\u001b[1;32m<ipython-input-51-3346e8dd3dab>\u001b[0m in \u001b[0;36m<module>\u001b[1;34m\u001b[0m\n\u001b[0;32m      5\u001b[0m \u001b[1;33m\u001b[0m\u001b[0m\n\u001b[0;32m      6\u001b[0m \u001b[1;31m# Evaluation du model\u001b[0m\u001b[1;33m\u001b[0m\u001b[1;33m\u001b[0m\u001b[1;33m\u001b[0m\u001b[0m\n\u001b[1;32m----> 7\u001b[1;33m \u001b[0mcm\u001b[0m \u001b[1;33m=\u001b[0m \u001b[0mpd\u001b[0m\u001b[1;33m.\u001b[0m\u001b[0mcrosstab\u001b[0m\u001b[1;33m(\u001b[0m\u001b[0my_test\u001b[0m\u001b[1;33m,\u001b[0m \u001b[0my_pred\u001b[0m\u001b[1;33m,\u001b[0m \u001b[0mrownames\u001b[0m\u001b[1;33m=\u001b[0m\u001b[1;33m[\u001b[0m\u001b[1;34m'Classe réelle'\u001b[0m\u001b[1;33m]\u001b[0m\u001b[1;33m,\u001b[0m \u001b[0mcolnames\u001b[0m\u001b[1;33m=\u001b[0m\u001b[1;33m[\u001b[0m\u001b[1;34m'Classe prédite'\u001b[0m\u001b[1;33m]\u001b[0m\u001b[1;33m)\u001b[0m\u001b[1;33m\u001b[0m\u001b[1;33m\u001b[0m\u001b[0m\n\u001b[0m\u001b[0;32m      8\u001b[0m \u001b[1;33m\u001b[0m\u001b[0m\n\u001b[0;32m      9\u001b[0m \u001b[0mprint\u001b[0m\u001b[1;33m(\u001b[0m\u001b[0mclassification_report\u001b[0m\u001b[1;33m(\u001b[0m\u001b[0my_test\u001b[0m\u001b[1;33m,\u001b[0m \u001b[0my_pred\u001b[0m\u001b[1;33m)\u001b[0m\u001b[1;33m)\u001b[0m\u001b[1;33m\u001b[0m\u001b[1;33m\u001b[0m\u001b[0m\n",
      "\u001b[1;32m~\\anaconda3\\lib\\site-packages\\pandas\\core\\reshape\\pivot.py\u001b[0m in \u001b[0;36mcrosstab\u001b[1;34m(index, columns, values, rownames, colnames, aggfunc, margins, margins_name, dropna, normalize)\u001b[0m\n\u001b[0;32m    596\u001b[0m         \u001b[1;33m**\u001b[0m\u001b[0mdict\u001b[0m\u001b[1;33m(\u001b[0m\u001b[0mzip\u001b[0m\u001b[1;33m(\u001b[0m\u001b[0munique_colnames\u001b[0m\u001b[1;33m,\u001b[0m \u001b[0mcolumns\u001b[0m\u001b[1;33m)\u001b[0m\u001b[1;33m)\u001b[0m\u001b[1;33m,\u001b[0m\u001b[1;33m\u001b[0m\u001b[1;33m\u001b[0m\u001b[0m\n\u001b[0;32m    597\u001b[0m     }\n\u001b[1;32m--> 598\u001b[1;33m     \u001b[0mdf\u001b[0m \u001b[1;33m=\u001b[0m \u001b[0mDataFrame\u001b[0m\u001b[1;33m(\u001b[0m\u001b[0mdata\u001b[0m\u001b[1;33m,\u001b[0m \u001b[0mindex\u001b[0m\u001b[1;33m=\u001b[0m\u001b[0mcommon_idx\u001b[0m\u001b[1;33m)\u001b[0m\u001b[1;33m\u001b[0m\u001b[1;33m\u001b[0m\u001b[0m\n\u001b[0m\u001b[0;32m    599\u001b[0m     \u001b[0moriginal_df_cols\u001b[0m \u001b[1;33m=\u001b[0m \u001b[0mdf\u001b[0m\u001b[1;33m.\u001b[0m\u001b[0mcolumns\u001b[0m\u001b[1;33m\u001b[0m\u001b[1;33m\u001b[0m\u001b[0m\n\u001b[0;32m    600\u001b[0m \u001b[1;33m\u001b[0m\u001b[0m\n",
      "\u001b[1;32m~\\anaconda3\\lib\\site-packages\\pandas\\core\\frame.py\u001b[0m in \u001b[0;36m__init__\u001b[1;34m(self, data, index, columns, dtype, copy)\u001b[0m\n\u001b[0;32m    527\u001b[0m \u001b[1;33m\u001b[0m\u001b[0m\n\u001b[0;32m    528\u001b[0m         \u001b[1;32melif\u001b[0m \u001b[0misinstance\u001b[0m\u001b[1;33m(\u001b[0m\u001b[0mdata\u001b[0m\u001b[1;33m,\u001b[0m \u001b[0mdict\u001b[0m\u001b[1;33m)\u001b[0m\u001b[1;33m:\u001b[0m\u001b[1;33m\u001b[0m\u001b[1;33m\u001b[0m\u001b[0m\n\u001b[1;32m--> 529\u001b[1;33m             \u001b[0mmgr\u001b[0m \u001b[1;33m=\u001b[0m \u001b[0minit_dict\u001b[0m\u001b[1;33m(\u001b[0m\u001b[0mdata\u001b[0m\u001b[1;33m,\u001b[0m \u001b[0mindex\u001b[0m\u001b[1;33m,\u001b[0m \u001b[0mcolumns\u001b[0m\u001b[1;33m,\u001b[0m \u001b[0mdtype\u001b[0m\u001b[1;33m=\u001b[0m\u001b[0mdtype\u001b[0m\u001b[1;33m)\u001b[0m\u001b[1;33m\u001b[0m\u001b[1;33m\u001b[0m\u001b[0m\n\u001b[0m\u001b[0;32m    530\u001b[0m         \u001b[1;32melif\u001b[0m \u001b[0misinstance\u001b[0m\u001b[1;33m(\u001b[0m\u001b[0mdata\u001b[0m\u001b[1;33m,\u001b[0m \u001b[0mma\u001b[0m\u001b[1;33m.\u001b[0m\u001b[0mMaskedArray\u001b[0m\u001b[1;33m)\u001b[0m\u001b[1;33m:\u001b[0m\u001b[1;33m\u001b[0m\u001b[1;33m\u001b[0m\u001b[0m\n\u001b[0;32m    531\u001b[0m             \u001b[1;32mimport\u001b[0m \u001b[0mnumpy\u001b[0m\u001b[1;33m.\u001b[0m\u001b[0mma\u001b[0m\u001b[1;33m.\u001b[0m\u001b[0mmrecords\u001b[0m \u001b[1;32mas\u001b[0m \u001b[0mmrecords\u001b[0m\u001b[1;33m\u001b[0m\u001b[1;33m\u001b[0m\u001b[0m\n",
      "\u001b[1;32m~\\anaconda3\\lib\\site-packages\\pandas\\core\\internals\\construction.py\u001b[0m in \u001b[0;36minit_dict\u001b[1;34m(data, index, columns, dtype)\u001b[0m\n\u001b[0;32m    285\u001b[0m             \u001b[0marr\u001b[0m \u001b[1;32mif\u001b[0m \u001b[1;32mnot\u001b[0m \u001b[0mis_datetime64tz_dtype\u001b[0m\u001b[1;33m(\u001b[0m\u001b[0marr\u001b[0m\u001b[1;33m)\u001b[0m \u001b[1;32melse\u001b[0m \u001b[0marr\u001b[0m\u001b[1;33m.\u001b[0m\u001b[0mcopy\u001b[0m\u001b[1;33m(\u001b[0m\u001b[1;33m)\u001b[0m \u001b[1;32mfor\u001b[0m \u001b[0marr\u001b[0m \u001b[1;32min\u001b[0m \u001b[0marrays\u001b[0m\u001b[1;33m\u001b[0m\u001b[1;33m\u001b[0m\u001b[0m\n\u001b[0;32m    286\u001b[0m         ]\n\u001b[1;32m--> 287\u001b[1;33m     \u001b[1;32mreturn\u001b[0m \u001b[0marrays_to_mgr\u001b[0m\u001b[1;33m(\u001b[0m\u001b[0marrays\u001b[0m\u001b[1;33m,\u001b[0m \u001b[0mdata_names\u001b[0m\u001b[1;33m,\u001b[0m \u001b[0mindex\u001b[0m\u001b[1;33m,\u001b[0m \u001b[0mcolumns\u001b[0m\u001b[1;33m,\u001b[0m \u001b[0mdtype\u001b[0m\u001b[1;33m=\u001b[0m\u001b[0mdtype\u001b[0m\u001b[1;33m)\u001b[0m\u001b[1;33m\u001b[0m\u001b[1;33m\u001b[0m\u001b[0m\n\u001b[0m\u001b[0;32m    288\u001b[0m \u001b[1;33m\u001b[0m\u001b[0m\n\u001b[0;32m    289\u001b[0m \u001b[1;33m\u001b[0m\u001b[0m\n",
      "\u001b[1;32m~\\anaconda3\\lib\\site-packages\\pandas\\core\\internals\\construction.py\u001b[0m in \u001b[0;36marrays_to_mgr\u001b[1;34m(arrays, arr_names, index, columns, dtype, verify_integrity)\u001b[0m\n\u001b[0;32m     93\u001b[0m     \u001b[0maxes\u001b[0m \u001b[1;33m=\u001b[0m \u001b[1;33m[\u001b[0m\u001b[0mcolumns\u001b[0m\u001b[1;33m,\u001b[0m \u001b[0mindex\u001b[0m\u001b[1;33m]\u001b[0m\u001b[1;33m\u001b[0m\u001b[1;33m\u001b[0m\u001b[0m\n\u001b[0;32m     94\u001b[0m \u001b[1;33m\u001b[0m\u001b[0m\n\u001b[1;32m---> 95\u001b[1;33m     \u001b[1;32mreturn\u001b[0m \u001b[0mcreate_block_manager_from_arrays\u001b[0m\u001b[1;33m(\u001b[0m\u001b[0marrays\u001b[0m\u001b[1;33m,\u001b[0m \u001b[0marr_names\u001b[0m\u001b[1;33m,\u001b[0m \u001b[0maxes\u001b[0m\u001b[1;33m)\u001b[0m\u001b[1;33m\u001b[0m\u001b[1;33m\u001b[0m\u001b[0m\n\u001b[0m\u001b[0;32m     96\u001b[0m \u001b[1;33m\u001b[0m\u001b[0m\n\u001b[0;32m     97\u001b[0m \u001b[1;33m\u001b[0m\u001b[0m\n",
      "\u001b[1;32m~\\anaconda3\\lib\\site-packages\\pandas\\core\\internals\\managers.py\u001b[0m in \u001b[0;36mcreate_block_manager_from_arrays\u001b[1;34m(arrays, names, axes)\u001b[0m\n\u001b[0;32m   1704\u001b[0m         \u001b[1;32mreturn\u001b[0m \u001b[0mmgr\u001b[0m\u001b[1;33m\u001b[0m\u001b[1;33m\u001b[0m\u001b[0m\n\u001b[0;32m   1705\u001b[0m     \u001b[1;32mexcept\u001b[0m \u001b[0mValueError\u001b[0m \u001b[1;32mas\u001b[0m \u001b[0me\u001b[0m\u001b[1;33m:\u001b[0m\u001b[1;33m\u001b[0m\u001b[1;33m\u001b[0m\u001b[0m\n\u001b[1;32m-> 1706\u001b[1;33m         \u001b[1;32mraise\u001b[0m \u001b[0mconstruction_error\u001b[0m\u001b[1;33m(\u001b[0m\u001b[0mlen\u001b[0m\u001b[1;33m(\u001b[0m\u001b[0marrays\u001b[0m\u001b[1;33m)\u001b[0m\u001b[1;33m,\u001b[0m \u001b[0marrays\u001b[0m\u001b[1;33m[\u001b[0m\u001b[1;36m0\u001b[0m\u001b[1;33m]\u001b[0m\u001b[1;33m.\u001b[0m\u001b[0mshape\u001b[0m\u001b[1;33m,\u001b[0m \u001b[0maxes\u001b[0m\u001b[1;33m,\u001b[0m \u001b[0me\u001b[0m\u001b[1;33m)\u001b[0m\u001b[1;33m\u001b[0m\u001b[1;33m\u001b[0m\u001b[0m\n\u001b[0m\u001b[0;32m   1707\u001b[0m \u001b[1;33m\u001b[0m\u001b[0m\n\u001b[0;32m   1708\u001b[0m \u001b[1;33m\u001b[0m\u001b[0m\n",
      "\u001b[1;31mValueError\u001b[0m: Shape of passed values is (1, 2), indices imply (368, 2)"
     ]
    }
   ],
   "source": [
    "# Remarque:  \"l1_ratio=1 is equivalent to using penalty='l1'\"\n",
    "from sklearn.metrics import classification_report \n",
    "\n",
    "y_pred = grid_clf.predict(X_test)\n",
    "\n",
    "# Evaluation du model\n",
    "cm = pd.crosstab(y_test, y_pred, rownames=['Classe réelle'], colnames=['Classe prédite'])\n",
    "\n",
    "print(classification_report(y_test, y_pred))"
   ]
  },
  {
   "cell_type": "code",
   "execution_count": null,
   "id": "a23b6a42",
   "metadata": {},
   "outputs": [],
   "source": [
    "# QUID selection des variables via elasticnet ?\n",
    "# sklearn.linear_model.SGDClassifier"
   ]
  },
  {
   "cell_type": "markdown",
   "id": "d1a6d816",
   "metadata": {},
   "source": [
    "## 1.2 Séléction des variables pertinantes"
   ]
  },
  {
   "cell_type": "code",
   "execution_count": null,
   "id": "490ba0a4",
   "metadata": {},
   "outputs": [],
   "source": [
    "# Matrices Corr. / Résultats précédents / v. cours"
   ]
  },
  {
   "cell_type": "markdown",
   "id": "a1fd4524",
   "metadata": {},
   "source": [
    "## 1.3 Random Forest"
   ]
  },
  {
   "cell_type": "code",
   "execution_count": null,
   "id": "18487a22",
   "metadata": {},
   "outputs": [],
   "source": []
  },
  {
   "cell_type": "markdown",
   "id": "3883bc89",
   "metadata": {},
   "source": [
    "## 1.4 SVM"
   ]
  },
  {
   "cell_type": "code",
   "execution_count": null,
   "id": "7ce106c1",
   "metadata": {},
   "outputs": [],
   "source": []
  },
  {
   "cell_type": "markdown",
   "id": "9c4fa79b",
   "metadata": {},
   "source": [
    "## 1.5 K plus proches Voisins"
   ]
  },
  {
   "cell_type": "code",
   "execution_count": null,
   "id": "4bff346b",
   "metadata": {},
   "outputs": [],
   "source": []
  },
  {
   "cell_type": "markdown",
   "id": "8dba738d",
   "metadata": {},
   "source": [
    "##  1.6 Bagging"
   ]
  },
  {
   "cell_type": "code",
   "execution_count": null,
   "id": "6c177b61",
   "metadata": {},
   "outputs": [],
   "source": []
  },
  {
   "cell_type": "code",
   "execution_count": null,
   "id": "288d9312",
   "metadata": {},
   "outputs": [],
   "source": []
  }
 ],
 "metadata": {
  "celltoolbar": "Format de la Cellule Texte Brut",
  "kernelspec": {
   "display_name": "Python 3",
   "language": "python",
   "name": "python3"
  },
  "language_info": {
   "codemirror_mode": {
    "name": "ipython",
    "version": 3
   },
   "file_extension": ".py",
   "mimetype": "text/x-python",
   "name": "python",
   "nbconvert_exporter": "python",
   "pygments_lexer": "ipython3",
   "version": "3.8.8"
  }
 },
 "nbformat": 4,
 "nbformat_minor": 5
}

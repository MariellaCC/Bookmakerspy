{
 "cells": [
  {
   "cell_type": "raw",
   "id": "d57a0a96",
   "metadata": {},
   "source": [
    "Ce notebook présente l'exploration des données via des modèles simples de classification: \n",
    "- Sélection des variables explicatives pertinantes\n",
    "- Sélection des méta-paramètres\n",
    "- Comparaison des modèles entre eux via des métriques pertinantes\n"
   ]
  },
  {
   "cell_type": "code",
   "execution_count": 1,
   "id": "d857631c",
   "metadata": {},
   "outputs": [
    {
     "data": {
      "text/plain": [
       "'C:\\\\Users\\\\miras\\\\OneDrive\\\\Documents\\\\GitHub\\\\Bookmarkerspy'"
      ]
     },
     "execution_count": 1,
     "metadata": {},
     "output_type": "execute_result"
    }
   ],
   "source": [
    "# Chargement des données\n",
    "import os\n",
    "import pandas as pd\n",
    "import numpy as np\n",
    "os.getcwd() "
   ]
  },
  {
   "cell_type": "code",
   "execution_count": 2,
   "id": "d74278a4",
   "metadata": {},
   "outputs": [
    {
     "name": "stdout",
     "output_type": "stream",
     "text": [
      " Le volume dans le lecteur C s’appelle Windows-SSD\n",
      " Le numéro de série du volume est 6ECF-2E04\n",
      "\n",
      " Répertoire de C:\\Users\\miras\\OneDrive\\Documents\\GitHub\\Bookmarkerspy\n",
      "\n",
      "29/10/2021  12:12    <DIR>          .\n",
      "29/10/2021  12:12    <DIR>          ..\n",
      "24/10/2021  23:41                48 .gitignore\n",
      "24/10/2021  17:41    <DIR>          .ipynb_checkpoints\n",
      "24/10/2021  19:45           102 655 audit_donnees.xlsx\n",
      "24/10/2021  18:05         1 438 851 dataset_moyennes_matchs.csv\n",
      "17/09/2021  19:08           719 827 DataViz.ipynb\n",
      "24/10/2021  18:06           745 643 df_stats_cotes.csv\n",
      "17/09/2021  19:08             1 099 LICENSE\n",
      "29/10/2021  12:12           148 229 Predictive_Models.ipynb\n",
      "24/10/2021  17:41           165 297 Preprocessing.ipynb\n",
      "17/09/2021  19:08                15 README.md\n",
      "               9 fichier(s)        3 321 664 octets\n",
      "               3 Rép(s)  446 334 324 736 octets libres\n"
     ]
    }
   ],
   "source": [
    "ls"
   ]
  },
  {
   "cell_type": "code",
   "execution_count": 3,
   "id": "6b6f4bc6",
   "metadata": {},
   "outputs": [
    {
     "data": {
      "text/html": [
       "<div>\n",
       "<style scoped>\n",
       "    .dataframe tbody tr th:only-of-type {\n",
       "        vertical-align: middle;\n",
       "    }\n",
       "\n",
       "    .dataframe tbody tr th {\n",
       "        vertical-align: top;\n",
       "    }\n",
       "\n",
       "    .dataframe thead th {\n",
       "        text-align: right;\n",
       "    }\n",
       "</style>\n",
       "<table border=\"1\" class=\"dataframe\">\n",
       "  <thead>\n",
       "    <tr style=\"text-align: right;\">\n",
       "      <th></th>\n",
       "      <th>season</th>\n",
       "      <th>date</th>\n",
       "      <th>away_team_id</th>\n",
       "      <th>away_team_name</th>\n",
       "      <th>home_team_id</th>\n",
       "      <th>home_team_name</th>\n",
       "      <th>home_team_rating</th>\n",
       "      <th>home_won_contest</th>\n",
       "      <th>home_possession_percentage</th>\n",
       "      <th>home_total_throws</th>\n",
       "      <th>...</th>\n",
       "      <th>PSCH</th>\n",
       "      <th>PSCD</th>\n",
       "      <th>PSCA</th>\n",
       "      <th>Diff_def_home_fwd_away</th>\n",
       "      <th>Diff_def_home_mid_away</th>\n",
       "      <th>Diff_mil_home_att_away</th>\n",
       "      <th>Diff_mil_home_mid_away</th>\n",
       "      <th>Diff_mil_home_def_away</th>\n",
       "      <th>Diff_fwd_home_mid_away</th>\n",
       "      <th>Diff_fwd_home_def_away</th>\n",
       "    </tr>\n",
       "    <tr>\n",
       "      <th>match_id</th>\n",
       "      <th></th>\n",
       "      <th></th>\n",
       "      <th></th>\n",
       "      <th></th>\n",
       "      <th></th>\n",
       "      <th></th>\n",
       "      <th></th>\n",
       "      <th></th>\n",
       "      <th></th>\n",
       "      <th></th>\n",
       "      <th></th>\n",
       "      <th></th>\n",
       "      <th></th>\n",
       "      <th></th>\n",
       "      <th></th>\n",
       "      <th></th>\n",
       "      <th></th>\n",
       "      <th></th>\n",
       "      <th></th>\n",
       "      <th></th>\n",
       "      <th></th>\n",
       "    </tr>\n",
       "  </thead>\n",
       "  <tbody>\n",
       "    <tr>\n",
       "      <th>829595</th>\n",
       "      <td>2014_2015</td>\n",
       "      <td>2014-10-04 00:00:00</td>\n",
       "      <td>167</td>\n",
       "      <td>Manchester City</td>\n",
       "      <td>24</td>\n",
       "      <td>Aston Villa</td>\n",
       "      <td>6.519762</td>\n",
       "      <td>6.333333</td>\n",
       "      <td>38.133333</td>\n",
       "      <td>23.666667</td>\n",
       "      <td>...</td>\n",
       "      <td>8.70</td>\n",
       "      <td>5.00</td>\n",
       "      <td>1.42</td>\n",
       "      <td>-1.396667</td>\n",
       "      <td>-0.582667</td>\n",
       "      <td>-1.277444</td>\n",
       "      <td>-0.463444</td>\n",
       "      <td>-1.277444</td>\n",
       "      <td>-0.209333</td>\n",
       "      <td>-1.023333</td>\n",
       "    </tr>\n",
       "    <tr>\n",
       "      <th>829605</th>\n",
       "      <td>2014_2015</td>\n",
       "      <td>2014-10-04 00:00:00</td>\n",
       "      <td>162</td>\n",
       "      <td>Crystal Palace</td>\n",
       "      <td>214</td>\n",
       "      <td>Hull</td>\n",
       "      <td>6.802143</td>\n",
       "      <td>8.333333</td>\n",
       "      <td>41.300000</td>\n",
       "      <td>18.000000</td>\n",
       "      <td>...</td>\n",
       "      <td>2.18</td>\n",
       "      <td>3.45</td>\n",
       "      <td>3.67</td>\n",
       "      <td>-0.035556</td>\n",
       "      <td>-0.037056</td>\n",
       "      <td>-0.240333</td>\n",
       "      <td>-0.241833</td>\n",
       "      <td>-0.240333</td>\n",
       "      <td>-0.103167</td>\n",
       "      <td>-0.101667</td>\n",
       "    </tr>\n",
       "    <tr>\n",
       "      <th>829610</th>\n",
       "      <td>2014_2015</td>\n",
       "      <td>2014-10-04 00:00:00</td>\n",
       "      <td>184</td>\n",
       "      <td>Burnley</td>\n",
       "      <td>14</td>\n",
       "      <td>Leicester</td>\n",
       "      <td>6.957619</td>\n",
       "      <td>8.333333</td>\n",
       "      <td>37.066667</td>\n",
       "      <td>19.666667</td>\n",
       "      <td>...</td>\n",
       "      <td>1.72</td>\n",
       "      <td>4.05</td>\n",
       "      <td>5.20</td>\n",
       "      <td>0.842500</td>\n",
       "      <td>0.579000</td>\n",
       "      <td>0.745000</td>\n",
       "      <td>0.481500</td>\n",
       "      <td>0.745000</td>\n",
       "      <td>1.063167</td>\n",
       "      <td>1.326667</td>\n",
       "    </tr>\n",
       "    <tr>\n",
       "      <th>829615</th>\n",
       "      <td>2014_2015</td>\n",
       "      <td>2014-10-04 00:00:00</td>\n",
       "      <td>175</td>\n",
       "      <td>West Bromwich Albion</td>\n",
       "      <td>26</td>\n",
       "      <td>Liverpool</td>\n",
       "      <td>6.888462</td>\n",
       "      <td>9.333333</td>\n",
       "      <td>59.066667</td>\n",
       "      <td>20.000000</td>\n",
       "      <td>...</td>\n",
       "      <td>1.48</td>\n",
       "      <td>4.69</td>\n",
       "      <td>7.70</td>\n",
       "      <td>0.981667</td>\n",
       "      <td>0.171333</td>\n",
       "      <td>0.959333</td>\n",
       "      <td>0.149000</td>\n",
       "      <td>0.959333</td>\n",
       "      <td>0.009667</td>\n",
       "      <td>0.820000</td>\n",
       "    </tr>\n",
       "    <tr>\n",
       "      <th>829625</th>\n",
       "      <td>2014_2015</td>\n",
       "      <td>2014-10-04 00:00:00</td>\n",
       "      <td>96</td>\n",
       "      <td>Stoke</td>\n",
       "      <td>16</td>\n",
       "      <td>Sunderland</td>\n",
       "      <td>6.697381</td>\n",
       "      <td>11.000000</td>\n",
       "      <td>44.066667</td>\n",
       "      <td>20.000000</td>\n",
       "      <td>...</td>\n",
       "      <td>2.67</td>\n",
       "      <td>3.25</td>\n",
       "      <td>2.96</td>\n",
       "      <td>-0.764167</td>\n",
       "      <td>-0.416667</td>\n",
       "      <td>-0.437444</td>\n",
       "      <td>-0.089944</td>\n",
       "      <td>-0.437444</td>\n",
       "      <td>-0.433056</td>\n",
       "      <td>-0.780556</td>\n",
       "    </tr>\n",
       "  </tbody>\n",
       "</table>\n",
       "<p>5 rows × 86 columns</p>\n",
       "</div>"
      ],
      "text/plain": [
       "             season                 date  away_team_id        away_team_name  \\\n",
       "match_id                                                                       \n",
       "829595    2014_2015  2014-10-04 00:00:00           167       Manchester City   \n",
       "829605    2014_2015  2014-10-04 00:00:00           162        Crystal Palace   \n",
       "829610    2014_2015  2014-10-04 00:00:00           184               Burnley   \n",
       "829615    2014_2015  2014-10-04 00:00:00           175  West Bromwich Albion   \n",
       "829625    2014_2015  2014-10-04 00:00:00            96                 Stoke   \n",
       "\n",
       "          home_team_id home_team_name  home_team_rating  home_won_contest  \\\n",
       "match_id                                                                    \n",
       "829595              24    Aston Villa          6.519762          6.333333   \n",
       "829605             214           Hull          6.802143          8.333333   \n",
       "829610              14      Leicester          6.957619          8.333333   \n",
       "829615              26      Liverpool          6.888462          9.333333   \n",
       "829625              16     Sunderland          6.697381         11.000000   \n",
       "\n",
       "          home_possession_percentage  home_total_throws  ...  PSCH  PSCD  \\\n",
       "match_id                                                 ...               \n",
       "829595                     38.133333          23.666667  ...  8.70  5.00   \n",
       "829605                     41.300000          18.000000  ...  2.18  3.45   \n",
       "829610                     37.066667          19.666667  ...  1.72  4.05   \n",
       "829615                     59.066667          20.000000  ...  1.48  4.69   \n",
       "829625                     44.066667          20.000000  ...  2.67  3.25   \n",
       "\n",
       "          PSCA  Diff_def_home_fwd_away  Diff_def_home_mid_away  \\\n",
       "match_id                                                         \n",
       "829595    1.42               -1.396667               -0.582667   \n",
       "829605    3.67               -0.035556               -0.037056   \n",
       "829610    5.20                0.842500                0.579000   \n",
       "829615    7.70                0.981667                0.171333   \n",
       "829625    2.96               -0.764167               -0.416667   \n",
       "\n",
       "          Diff_mil_home_att_away  Diff_mil_home_mid_away  \\\n",
       "match_id                                                   \n",
       "829595                 -1.277444               -0.463444   \n",
       "829605                 -0.240333               -0.241833   \n",
       "829610                  0.745000                0.481500   \n",
       "829615                  0.959333                0.149000   \n",
       "829625                 -0.437444               -0.089944   \n",
       "\n",
       "          Diff_mil_home_def_away  Diff_fwd_home_mid_away  \\\n",
       "match_id                                                   \n",
       "829595                 -1.277444               -0.209333   \n",
       "829605                 -0.240333               -0.103167   \n",
       "829610                  0.745000                1.063167   \n",
       "829615                  0.959333                0.009667   \n",
       "829625                 -0.437444               -0.433056   \n",
       "\n",
       "          Diff_fwd_home_def_away  \n",
       "match_id                          \n",
       "829595                 -1.023333  \n",
       "829605                 -0.101667  \n",
       "829610                  1.326667  \n",
       "829615                  0.820000  \n",
       "829625                 -0.780556  \n",
       "\n",
       "[5 rows x 86 columns]"
      ]
     },
     "execution_count": 3,
     "metadata": {},
     "output_type": "execute_result"
    }
   ],
   "source": [
    "df = pd.read_csv('dataset_moyennes_matchs.csv', index_col = 0)\n",
    "df = df.reset_index(drop=True).set_index('match_id')\n",
    "df.head()"
   ]
  },
  {
   "cell_type": "code",
   "execution_count": 4,
   "id": "6e1965a2",
   "metadata": {},
   "outputs": [],
   "source": [
    "# Variable explicatives\n",
    "feats_list = [# feats home\n",
    "       'home_team_rating', 'home_won_contest', 'home_possession_percentage', 'home_total_throws', 'home_blocked_scoring_att', \n",
    "       'home_total_scoring_att', 'home_total_tackle', 'home_aerial_won', 'home_aerial_lost', 'home_accurate_pass', \n",
    "       'home_total_pass', 'home_won_corners', 'home_shot_off_target', 'home_ontarget_scoring_att','home_total_offside', \n",
    "       'home_post_scoring_att', 'home_att_pen_goal', 'home_penalty_save', 'HF', 'HY', 'HR', 'home_pass', \n",
    "       'goalkeeper_home_player_rating', 'defender_home_player_rating', 'midfielder_home_player_rating', 'forward_home_player_rating',\n",
    "       # feats away\n",
    "       'away_team_rating', 'away_won_contest', 'away_possession_percentage', 'away_total_throws', 'away_blocked_scoring_att',\n",
    "       'away_total_scoring_att', 'away_total_tackle', 'away_aerial_won', 'away_aerial_lost', 'away_accurate_pass', \n",
    "       'away_total_pass', 'away_won_corners', 'away_shot_off_target', 'away_ontarget_scoring_att', 'away_total_offside', \n",
    "       'away_post_scoring_att', 'away_att_pen_goal', 'away_penalty_save', 'AF', 'AY', 'AR', 'away_pass',\n",
    "       'goalkeeper_away_player_rating', 'defender_away_player_rating', 'midfielder_away_player_rating', 'forward_away_player_rating', \n",
    "        # Team Comparison\n",
    "       'Diff_def_home_fwd_away', 'Diff_def_home_mid_away', 'Diff_mil_home_att_away', 'Diff_mil_home_mid_away',\n",
    "       'Diff_mil_home_def_away', 'Diff_fwd_home_mid_away', 'Diff_fwd_home_def_away']\n",
    "       \n",
    "# Target\n",
    "target_list = 'FTR'\n",
    "\n",
    "# X_train, X_test, y_train, y_test // On entraine le smodèle sur la saison 2014_2015 jusque 2016_2017 puis on teste sur la\n",
    "# saison 2017_2018\n",
    "\n",
    "Train = df[df['season']!='2017_2018']\n",
    "Test  = df[df['season']=='2017_2018']\n",
    "\n",
    "# Creation des dataframes et targets par saison\n",
    "X_train = Train[feats_list]\n",
    "X_test  = Test[feats_list]\n",
    "\n",
    "y_train = Train[target_list].reset_index(drop=True)\n",
    "y_test  = Test[target_list].reset_index(drop=True)"
   ]
  },
  {
   "cell_type": "markdown",
   "id": "1ceb54f5",
   "metadata": {},
   "source": [
    "# 1 - Modèles de classification"
   ]
  },
  {
   "cell_type": "markdown",
   "id": "766df8d9",
   "metadata": {},
   "source": [
    "## 1.1 Régression Logistique"
   ]
  },
  {
   "cell_type": "code",
   "execution_count": 5,
   "id": "404f60d8",
   "metadata": {},
   "outputs": [
    {
     "name": "stderr",
     "output_type": "stream",
     "text": [
      "C:\\Users\\miras\\anaconda3\\lib\\site-packages\\sklearn\\linear_model\\_sag.py:328: ConvergenceWarning: The max_iter was reached which means the coef_ did not converge\n",
      "  warnings.warn(\"The max_iter was reached which means \"\n",
      "C:\\Users\\miras\\anaconda3\\lib\\site-packages\\sklearn\\linear_model\\_sag.py:328: ConvergenceWarning: The max_iter was reached which means the coef_ did not converge\n",
      "  warnings.warn(\"The max_iter was reached which means \"\n",
      "C:\\Users\\miras\\anaconda3\\lib\\site-packages\\sklearn\\linear_model\\_sag.py:328: ConvergenceWarning: The max_iter was reached which means the coef_ did not converge\n",
      "  warnings.warn(\"The max_iter was reached which means \"\n",
      "C:\\Users\\miras\\anaconda3\\lib\\site-packages\\sklearn\\linear_model\\_sag.py:328: ConvergenceWarning: The max_iter was reached which means the coef_ did not converge\n",
      "  warnings.warn(\"The max_iter was reached which means \"\n",
      "C:\\Users\\miras\\anaconda3\\lib\\site-packages\\sklearn\\linear_model\\_sag.py:328: ConvergenceWarning: The max_iter was reached which means the coef_ did not converge\n",
      "  warnings.warn(\"The max_iter was reached which means \"\n",
      "C:\\Users\\miras\\anaconda3\\lib\\site-packages\\sklearn\\linear_model\\_sag.py:328: ConvergenceWarning: The max_iter was reached which means the coef_ did not converge\n",
      "  warnings.warn(\"The max_iter was reached which means \"\n",
      "C:\\Users\\miras\\anaconda3\\lib\\site-packages\\sklearn\\linear_model\\_sag.py:328: ConvergenceWarning: The max_iter was reached which means the coef_ did not converge\n",
      "  warnings.warn(\"The max_iter was reached which means \"\n",
      "C:\\Users\\miras\\anaconda3\\lib\\site-packages\\sklearn\\linear_model\\_sag.py:328: ConvergenceWarning: The max_iter was reached which means the coef_ did not converge\n",
      "  warnings.warn(\"The max_iter was reached which means \"\n",
      "C:\\Users\\miras\\anaconda3\\lib\\site-packages\\sklearn\\linear_model\\_sag.py:328: ConvergenceWarning: The max_iter was reached which means the coef_ did not converge\n",
      "  warnings.warn(\"The max_iter was reached which means \"\n",
      "C:\\Users\\miras\\anaconda3\\lib\\site-packages\\sklearn\\linear_model\\_sag.py:328: ConvergenceWarning: The max_iter was reached which means the coef_ did not converge\n",
      "  warnings.warn(\"The max_iter was reached which means \"\n",
      "C:\\Users\\miras\\anaconda3\\lib\\site-packages\\sklearn\\linear_model\\_sag.py:328: ConvergenceWarning: The max_iter was reached which means the coef_ did not converge\n",
      "  warnings.warn(\"The max_iter was reached which means \"\n",
      "C:\\Users\\miras\\anaconda3\\lib\\site-packages\\sklearn\\linear_model\\_sag.py:328: ConvergenceWarning: The max_iter was reached which means the coef_ did not converge\n",
      "  warnings.warn(\"The max_iter was reached which means \"\n",
      "C:\\Users\\miras\\anaconda3\\lib\\site-packages\\sklearn\\linear_model\\_sag.py:328: ConvergenceWarning: The max_iter was reached which means the coef_ did not converge\n",
      "  warnings.warn(\"The max_iter was reached which means \"\n",
      "C:\\Users\\miras\\anaconda3\\lib\\site-packages\\sklearn\\linear_model\\_sag.py:328: ConvergenceWarning: The max_iter was reached which means the coef_ did not converge\n",
      "  warnings.warn(\"The max_iter was reached which means \"\n",
      "C:\\Users\\miras\\anaconda3\\lib\\site-packages\\sklearn\\linear_model\\_sag.py:328: ConvergenceWarning: The max_iter was reached which means the coef_ did not converge\n",
      "  warnings.warn(\"The max_iter was reached which means \"\n",
      "C:\\Users\\miras\\anaconda3\\lib\\site-packages\\sklearn\\linear_model\\_sag.py:328: ConvergenceWarning: The max_iter was reached which means the coef_ did not converge\n",
      "  warnings.warn(\"The max_iter was reached which means \"\n",
      "C:\\Users\\miras\\anaconda3\\lib\\site-packages\\sklearn\\linear_model\\_sag.py:328: ConvergenceWarning: The max_iter was reached which means the coef_ did not converge\n",
      "  warnings.warn(\"The max_iter was reached which means \"\n",
      "C:\\Users\\miras\\anaconda3\\lib\\site-packages\\sklearn\\linear_model\\_sag.py:328: ConvergenceWarning: The max_iter was reached which means the coef_ did not converge\n",
      "  warnings.warn(\"The max_iter was reached which means \"\n",
      "C:\\Users\\miras\\anaconda3\\lib\\site-packages\\sklearn\\linear_model\\_sag.py:328: ConvergenceWarning: The max_iter was reached which means the coef_ did not converge\n",
      "  warnings.warn(\"The max_iter was reached which means \"\n",
      "C:\\Users\\miras\\anaconda3\\lib\\site-packages\\sklearn\\linear_model\\_sag.py:328: ConvergenceWarning: The max_iter was reached which means the coef_ did not converge\n",
      "  warnings.warn(\"The max_iter was reached which means \"\n",
      "C:\\Users\\miras\\anaconda3\\lib\\site-packages\\sklearn\\linear_model\\_sag.py:328: ConvergenceWarning: The max_iter was reached which means the coef_ did not converge\n",
      "  warnings.warn(\"The max_iter was reached which means \"\n",
      "C:\\Users\\miras\\anaconda3\\lib\\site-packages\\sklearn\\linear_model\\_sag.py:328: ConvergenceWarning: The max_iter was reached which means the coef_ did not converge\n",
      "  warnings.warn(\"The max_iter was reached which means \"\n",
      "C:\\Users\\miras\\anaconda3\\lib\\site-packages\\sklearn\\linear_model\\_sag.py:328: ConvergenceWarning: The max_iter was reached which means the coef_ did not converge\n",
      "  warnings.warn(\"The max_iter was reached which means \"\n",
      "C:\\Users\\miras\\anaconda3\\lib\\site-packages\\sklearn\\linear_model\\_sag.py:328: ConvergenceWarning: The max_iter was reached which means the coef_ did not converge\n",
      "  warnings.warn(\"The max_iter was reached which means \"\n",
      "C:\\Users\\miras\\anaconda3\\lib\\site-packages\\sklearn\\linear_model\\_sag.py:328: ConvergenceWarning: The max_iter was reached which means the coef_ did not converge\n",
      "  warnings.warn(\"The max_iter was reached which means \"\n",
      "C:\\Users\\miras\\anaconda3\\lib\\site-packages\\sklearn\\linear_model\\_sag.py:328: ConvergenceWarning: The max_iter was reached which means the coef_ did not converge\n",
      "  warnings.warn(\"The max_iter was reached which means \"\n",
      "C:\\Users\\miras\\anaconda3\\lib\\site-packages\\sklearn\\linear_model\\_sag.py:328: ConvergenceWarning: The max_iter was reached which means the coef_ did not converge\n",
      "  warnings.warn(\"The max_iter was reached which means \"\n",
      "C:\\Users\\miras\\anaconda3\\lib\\site-packages\\sklearn\\linear_model\\_sag.py:328: ConvergenceWarning: The max_iter was reached which means the coef_ did not converge\n",
      "  warnings.warn(\"The max_iter was reached which means \"\n",
      "C:\\Users\\miras\\anaconda3\\lib\\site-packages\\sklearn\\linear_model\\_sag.py:328: ConvergenceWarning: The max_iter was reached which means the coef_ did not converge\n",
      "  warnings.warn(\"The max_iter was reached which means \"\n",
      "C:\\Users\\miras\\anaconda3\\lib\\site-packages\\sklearn\\linear_model\\_sag.py:328: ConvergenceWarning: The max_iter was reached which means the coef_ did not converge\n",
      "  warnings.warn(\"The max_iter was reached which means \"\n",
      "C:\\Users\\miras\\anaconda3\\lib\\site-packages\\sklearn\\linear_model\\_sag.py:328: ConvergenceWarning: The max_iter was reached which means the coef_ did not converge\n",
      "  warnings.warn(\"The max_iter was reached which means \"\n",
      "C:\\Users\\miras\\anaconda3\\lib\\site-packages\\sklearn\\linear_model\\_sag.py:328: ConvergenceWarning: The max_iter was reached which means the coef_ did not converge\n",
      "  warnings.warn(\"The max_iter was reached which means \"\n",
      "C:\\Users\\miras\\anaconda3\\lib\\site-packages\\sklearn\\linear_model\\_sag.py:328: ConvergenceWarning: The max_iter was reached which means the coef_ did not converge\n",
      "  warnings.warn(\"The max_iter was reached which means \"\n",
      "C:\\Users\\miras\\anaconda3\\lib\\site-packages\\sklearn\\linear_model\\_sag.py:328: ConvergenceWarning: The max_iter was reached which means the coef_ did not converge\n",
      "  warnings.warn(\"The max_iter was reached which means \"\n",
      "C:\\Users\\miras\\anaconda3\\lib\\site-packages\\sklearn\\linear_model\\_sag.py:328: ConvergenceWarning: The max_iter was reached which means the coef_ did not converge\n",
      "  warnings.warn(\"The max_iter was reached which means \"\n",
      "C:\\Users\\miras\\anaconda3\\lib\\site-packages\\sklearn\\linear_model\\_sag.py:328: ConvergenceWarning: The max_iter was reached which means the coef_ did not converge\n",
      "  warnings.warn(\"The max_iter was reached which means \"\n",
      "C:\\Users\\miras\\anaconda3\\lib\\site-packages\\sklearn\\linear_model\\_sag.py:328: ConvergenceWarning: The max_iter was reached which means the coef_ did not converge\n",
      "  warnings.warn(\"The max_iter was reached which means \"\n",
      "C:\\Users\\miras\\anaconda3\\lib\\site-packages\\sklearn\\linear_model\\_sag.py:328: ConvergenceWarning: The max_iter was reached which means the coef_ did not converge\n",
      "  warnings.warn(\"The max_iter was reached which means \"\n"
     ]
    },
    {
     "name": "stderr",
     "output_type": "stream",
     "text": [
      "C:\\Users\\miras\\anaconda3\\lib\\site-packages\\sklearn\\linear_model\\_sag.py:328: ConvergenceWarning: The max_iter was reached which means the coef_ did not converge\n",
      "  warnings.warn(\"The max_iter was reached which means \"\n",
      "C:\\Users\\miras\\anaconda3\\lib\\site-packages\\sklearn\\linear_model\\_sag.py:328: ConvergenceWarning: The max_iter was reached which means the coef_ did not converge\n",
      "  warnings.warn(\"The max_iter was reached which means \"\n",
      "C:\\Users\\miras\\anaconda3\\lib\\site-packages\\sklearn\\linear_model\\_sag.py:328: ConvergenceWarning: The max_iter was reached which means the coef_ did not converge\n",
      "  warnings.warn(\"The max_iter was reached which means \"\n",
      "C:\\Users\\miras\\anaconda3\\lib\\site-packages\\sklearn\\linear_model\\_sag.py:328: ConvergenceWarning: The max_iter was reached which means the coef_ did not converge\n",
      "  warnings.warn(\"The max_iter was reached which means \"\n",
      "C:\\Users\\miras\\anaconda3\\lib\\site-packages\\sklearn\\linear_model\\_sag.py:328: ConvergenceWarning: The max_iter was reached which means the coef_ did not converge\n",
      "  warnings.warn(\"The max_iter was reached which means \"\n",
      "C:\\Users\\miras\\anaconda3\\lib\\site-packages\\sklearn\\linear_model\\_sag.py:328: ConvergenceWarning: The max_iter was reached which means the coef_ did not converge\n",
      "  warnings.warn(\"The max_iter was reached which means \"\n",
      "C:\\Users\\miras\\anaconda3\\lib\\site-packages\\sklearn\\linear_model\\_sag.py:328: ConvergenceWarning: The max_iter was reached which means the coef_ did not converge\n",
      "  warnings.warn(\"The max_iter was reached which means \"\n",
      "C:\\Users\\miras\\anaconda3\\lib\\site-packages\\sklearn\\linear_model\\_sag.py:328: ConvergenceWarning: The max_iter was reached which means the coef_ did not converge\n",
      "  warnings.warn(\"The max_iter was reached which means \"\n",
      "C:\\Users\\miras\\anaconda3\\lib\\site-packages\\sklearn\\linear_model\\_sag.py:328: ConvergenceWarning: The max_iter was reached which means the coef_ did not converge\n",
      "  warnings.warn(\"The max_iter was reached which means \"\n",
      "C:\\Users\\miras\\anaconda3\\lib\\site-packages\\sklearn\\linear_model\\_sag.py:328: ConvergenceWarning: The max_iter was reached which means the coef_ did not converge\n",
      "  warnings.warn(\"The max_iter was reached which means \"\n",
      "C:\\Users\\miras\\anaconda3\\lib\\site-packages\\sklearn\\linear_model\\_sag.py:328: ConvergenceWarning: The max_iter was reached which means the coef_ did not converge\n",
      "  warnings.warn(\"The max_iter was reached which means \"\n",
      "C:\\Users\\miras\\anaconda3\\lib\\site-packages\\sklearn\\linear_model\\_sag.py:328: ConvergenceWarning: The max_iter was reached which means the coef_ did not converge\n",
      "  warnings.warn(\"The max_iter was reached which means \"\n",
      "C:\\Users\\miras\\anaconda3\\lib\\site-packages\\sklearn\\linear_model\\_sag.py:328: ConvergenceWarning: The max_iter was reached which means the coef_ did not converge\n",
      "  warnings.warn(\"The max_iter was reached which means \"\n",
      "C:\\Users\\miras\\anaconda3\\lib\\site-packages\\sklearn\\linear_model\\_sag.py:328: ConvergenceWarning: The max_iter was reached which means the coef_ did not converge\n",
      "  warnings.warn(\"The max_iter was reached which means \"\n",
      "C:\\Users\\miras\\anaconda3\\lib\\site-packages\\sklearn\\linear_model\\_sag.py:328: ConvergenceWarning: The max_iter was reached which means the coef_ did not converge\n",
      "  warnings.warn(\"The max_iter was reached which means \"\n",
      "C:\\Users\\miras\\anaconda3\\lib\\site-packages\\sklearn\\linear_model\\_sag.py:328: ConvergenceWarning: The max_iter was reached which means the coef_ did not converge\n",
      "  warnings.warn(\"The max_iter was reached which means \"\n",
      "C:\\Users\\miras\\anaconda3\\lib\\site-packages\\sklearn\\linear_model\\_sag.py:328: ConvergenceWarning: The max_iter was reached which means the coef_ did not converge\n",
      "  warnings.warn(\"The max_iter was reached which means \"\n",
      "C:\\Users\\miras\\anaconda3\\lib\\site-packages\\sklearn\\linear_model\\_sag.py:328: ConvergenceWarning: The max_iter was reached which means the coef_ did not converge\n",
      "  warnings.warn(\"The max_iter was reached which means \"\n",
      "C:\\Users\\miras\\anaconda3\\lib\\site-packages\\sklearn\\linear_model\\_sag.py:328: ConvergenceWarning: The max_iter was reached which means the coef_ did not converge\n",
      "  warnings.warn(\"The max_iter was reached which means \"\n",
      "C:\\Users\\miras\\anaconda3\\lib\\site-packages\\sklearn\\linear_model\\_sag.py:328: ConvergenceWarning: The max_iter was reached which means the coef_ did not converge\n",
      "  warnings.warn(\"The max_iter was reached which means \"\n",
      "C:\\Users\\miras\\anaconda3\\lib\\site-packages\\sklearn\\linear_model\\_sag.py:328: ConvergenceWarning: The max_iter was reached which means the coef_ did not converge\n",
      "  warnings.warn(\"The max_iter was reached which means \"\n",
      "C:\\Users\\miras\\anaconda3\\lib\\site-packages\\sklearn\\linear_model\\_sag.py:328: ConvergenceWarning: The max_iter was reached which means the coef_ did not converge\n",
      "  warnings.warn(\"The max_iter was reached which means \"\n"
     ]
    },
    {
     "name": "stdout",
     "output_type": "stream",
     "text": [
      "{'C': 0.1, 'l1_ratio': 0.99}\n"
     ]
    },
    {
     "name": "stderr",
     "output_type": "stream",
     "text": [
      "C:\\Users\\miras\\anaconda3\\lib\\site-packages\\sklearn\\linear_model\\_sag.py:328: ConvergenceWarning: The max_iter was reached which means the coef_ did not converge\n",
      "  warnings.warn(\"The max_iter was reached which means \"\n"
     ]
    }
   ],
   "source": [
    "from sklearn import linear_model\n",
    "from sklearn import preprocessing\n",
    "from sklearn.model_selection import GridSearchCV, cross_val_score\n",
    "\n",
    "# Regression logistique via leasticnet pour selection des variables importantes\n",
    "parametres = {'C':[0.1,1,10],'l1_ratio': [0.1, 0.25, 0.8, 0.99]}\n",
    "#parametres = {'C':[0.1,1,10],'alpha': [0.001, 0.025, 0.8, 1.0], 'l1_ratio': [0.1, 0.25, 0.8, 0.99]}\n",
    "clf = linear_model.LogisticRegression(penalty = 'elasticnet', solver = 'saga', max_iter = 200)\n",
    "\n",
    "grid_clf = GridSearchCV(estimator=clf, param_grid=parametres)\n",
    "grille = grid_clf.fit(X_train,y_train)\n",
    "print(grid_clf.best_params_) # Selection du meilleur parameter"
   ]
  },
  {
   "cell_type": "code",
   "execution_count": 7,
   "id": "d853ab80",
   "metadata": {},
   "outputs": [
    {
     "name": "stdout",
     "output_type": "stream",
     "text": [
      "              precision    recall  f1-score   support\n",
      "\n",
      "           A       0.48      0.48      0.48       106\n",
      "           D       0.00      0.00      0.00        95\n",
      "           H       0.50      0.79      0.62       167\n",
      "\n",
      "    accuracy                           0.50       368\n",
      "   macro avg       0.33      0.42      0.37       368\n",
      "weighted avg       0.37      0.50      0.42       368\n",
      "\n"
     ]
    },
    {
     "name": "stderr",
     "output_type": "stream",
     "text": [
      "C:\\Users\\miras\\anaconda3\\lib\\site-packages\\sklearn\\metrics\\_classification.py:1245: UndefinedMetricWarning: Precision and F-score are ill-defined and being set to 0.0 in labels with no predicted samples. Use `zero_division` parameter to control this behavior.\n",
      "  _warn_prf(average, modifier, msg_start, len(result))\n",
      "C:\\Users\\miras\\anaconda3\\lib\\site-packages\\sklearn\\metrics\\_classification.py:1245: UndefinedMetricWarning: Precision and F-score are ill-defined and being set to 0.0 in labels with no predicted samples. Use `zero_division` parameter to control this behavior.\n",
      "  _warn_prf(average, modifier, msg_start, len(result))\n",
      "C:\\Users\\miras\\anaconda3\\lib\\site-packages\\sklearn\\metrics\\_classification.py:1245: UndefinedMetricWarning: Precision and F-score are ill-defined and being set to 0.0 in labels with no predicted samples. Use `zero_division` parameter to control this behavior.\n",
      "  _warn_prf(average, modifier, msg_start, len(result))\n"
     ]
    }
   ],
   "source": [
    "# Remarque:  \"l1_ratio=1 is equivalent to using penalty='l1'\"\n",
    "from sklearn.metrics import classification_report \n",
    "optimal_clf = grid_clf.best_estimator_\n",
    "y_pred_rlog = optimal_clf.predict(X_test)\n",
    "\n",
    "# Evaluation du model\n",
    "#cm = pd.crosstab(y_test, y_pred, rownames=['Classe réelle'], colnames=['Classe prédite'])\n",
    "\n",
    "print(classification_report(y_test, pd.DataFrame(y_pred_rlog)))"
   ]
  },
  {
   "cell_type": "code",
   "execution_count": 8,
   "id": "24e46588",
   "metadata": {},
   "outputs": [
    {
     "data": {
      "text/html": [
       "<div>\n",
       "<style scoped>\n",
       "    .dataframe tbody tr th:only-of-type {\n",
       "        vertical-align: middle;\n",
       "    }\n",
       "\n",
       "    .dataframe tbody tr th {\n",
       "        vertical-align: top;\n",
       "    }\n",
       "\n",
       "    .dataframe thead th {\n",
       "        text-align: right;\n",
       "    }\n",
       "</style>\n",
       "<table border=\"1\" class=\"dataframe\">\n",
       "  <thead>\n",
       "    <tr style=\"text-align: right;\">\n",
       "      <th>Classe prédite</th>\n",
       "      <th>A</th>\n",
       "      <th>H</th>\n",
       "    </tr>\n",
       "    <tr>\n",
       "      <th>Classe réelle</th>\n",
       "      <th></th>\n",
       "      <th></th>\n",
       "    </tr>\n",
       "  </thead>\n",
       "  <tbody>\n",
       "    <tr>\n",
       "      <th>A</th>\n",
       "      <td>51</td>\n",
       "      <td>55</td>\n",
       "    </tr>\n",
       "    <tr>\n",
       "      <th>D</th>\n",
       "      <td>20</td>\n",
       "      <td>75</td>\n",
       "    </tr>\n",
       "    <tr>\n",
       "      <th>H</th>\n",
       "      <td>35</td>\n",
       "      <td>132</td>\n",
       "    </tr>\n",
       "  </tbody>\n",
       "</table>\n",
       "</div>"
      ],
      "text/plain": [
       "Classe prédite   A    H\n",
       "Classe réelle          \n",
       "A               51   55\n",
       "D               20   75\n",
       "H               35  132"
      ]
     },
     "execution_count": 8,
     "metadata": {},
     "output_type": "execute_result"
    }
   ],
   "source": [
    "pd.crosstab(y_test, pd.Series(y_pred_rlog), rownames=['Classe réelle'], colnames=['Classe prédite'])\n",
    "# Pss de predictions de matchs nuls"
   ]
  },
  {
   "cell_type": "code",
   "execution_count": 9,
   "id": "1e1d3f73",
   "metadata": {},
   "outputs": [
    {
     "data": {
      "image/png": "[encoded data removed]",
      "text/plain": [
       "<Figure size 1080x432 with 1 Axes>"
      ]
     },
     "metadata": {
      "needs_background": "light"
     },
     "output_type": "display_data"
    }
   ],
   "source": [
    "# QUID selection des variables via elasticnet ?\n",
    "import matplotlib.pyplot as plt\n",
    "# ligne a tracer (on a 3 lignes car 3 classes)\n",
    "lgn = 0\n",
    "elast_coef = optimal_clf.coef_[lgn,:]\n",
    "sorted_idx = elast_coef.argsort()\n",
    "\n",
    "y_ticks = np.arange(0, len(elast_coef))\n",
    "fig, ax = plt.subplots(figsize=(15,6))\n",
    "ax.bar(y_ticks, np.abs(elast_coef[sorted_idx]))\n",
    "ax.set_xticks(y_ticks)\n",
    "ax.set_xticklabels(X_train.columns.values[sorted_idx], rotation='vertical')\n",
    "ax.set_title(\"Feature importance: Logistic Regression Coefficients (absolute values)\")\n",
    "fig.tight_layout()\n",
    "plt.show()\n",
    "\n"
   ]
  },
  {
   "cell_type": "code",
   "execution_count": 10,
   "id": "5a7a91a9",
   "metadata": {},
   "outputs": [
    {
     "name": "stdout",
     "output_type": "stream",
     "text": [
      "18\n",
      "32\n",
      "19\n"
     ]
    }
   ],
   "source": [
    "print(np.size(np.where(optimal_clf.coef_[0,:]==0)))\n",
    "print(np.size(np.where(optimal_clf.coef_[1,:]==0)))\n",
    "print(np.size(np.where(optimal_clf.coef_[2,:]==0)))\n",
    "# Nombre de colonnes ayant un coefficient de la regression nul (pour chaqque colonne de la matrice de coefficients)"
   ]
  },
  {
   "cell_type": "code",
   "execution_count": 11,
   "id": "bd4822af",
   "metadata": {},
   "outputs": [
    {
     "name": "stdout",
     "output_type": "stream",
     "text": [
      "{'away_att_pen_goal', 'HR', 'defender_away_player_rating', 'away_post_scoring_att', 'HY', 'home_blocked_scoring_att', 'away_team_rating', 'midfielder_away_player_rating', 'defender_home_player_rating', 'away_penalty_save', 'goalkeeper_away_player_rating', 'home_post_scoring_att', 'home_pass', 'home_att_pen_goal', 'home_penalty_save', 'AR', 'away_total_offside', 'away_pass'}\n"
     ]
    }
   ],
   "source": [
    "#Affichage des coefficients\n",
    "del_col_0 = set(X_train.columns.values[np.where(optimal_clf.coef_[0,:]==0)])\n",
    "print(del_col_0)"
   ]
  },
  {
   "cell_type": "code",
   "execution_count": 12,
   "id": "b8869f17",
   "metadata": {},
   "outputs": [
    {
     "name": "stdout",
     "output_type": "stream",
     "text": [
      "{'away_att_pen_goal', 'HY', 'defender_home_player_rating', 'goalkeeper_away_player_rating', 'home_pass', 'away_shot_off_target', 'goalkeeper_home_player_rating', 'Diff_mil_home_att_away', 'home_possession_percentage', 'home_post_scoring_att', 'home_att_pen_goal', 'home_penalty_save', 'AR', 'Diff_def_home_fwd_away', 'HR', 'forward_away_player_rating', 'away_total_scoring_att', 'away_total_tackle', 'home_total_throws', 'defender_away_player_rating', 'away_pass', 'away_post_scoring_att', 'Diff_mil_home_mid_away', 'away_won_corners', 'away_team_rating', 'midfielder_away_player_rating', 'away_penalty_save', 'Diff_def_home_mid_away', 'midfielder_home_player_rating', 'home_team_rating', 'Diff_mil_home_def_away', 'away_total_offside'}\n"
     ]
    }
   ],
   "source": [
    "del_col_1 = set(X_train.columns.values[np.where(optimal_clf.coef_[1,:]==0)])\n",
    "print(del_col_1)"
   ]
  },
  {
   "cell_type": "code",
   "execution_count": 13,
   "id": "f9eb3155",
   "metadata": {},
   "outputs": [
    {
     "name": "stdout",
     "output_type": "stream",
     "text": [
      "{'away_att_pen_goal', 'away_possession_percentage', 'HY', 'defender_home_player_rating', 'goalkeeper_away_player_rating', 'home_pass', 'home_post_scoring_att', 'home_att_pen_goal', 'home_penalty_save', 'AR', 'HR', 'defender_away_player_rating', 'away_pass', 'away_post_scoring_att', 'away_team_rating', 'midfielder_away_player_rating', 'away_penalty_save', 'AY', 'away_total_offside'}\n"
     ]
    }
   ],
   "source": [
    "del_col_2 = set(X_train.columns.values[np.where(optimal_clf.coef_[2,:]==0)])\n",
    "print(del_col_2)"
   ]
  },
  {
   "cell_type": "code",
   "execution_count": 14,
   "id": "794cd7d4",
   "metadata": {},
   "outputs": [
    {
     "name": "stdout",
     "output_type": "stream",
     "text": [
      "Nombre de colonnes à supprimer: 17 \n",
      "\n",
      "{'away_att_pen_goal', 'HR', 'defender_away_player_rating', 'away_post_scoring_att', 'HY', 'away_team_rating', 'midfielder_away_player_rating', 'defender_home_player_rating', 'away_penalty_save', 'goalkeeper_away_player_rating', 'home_post_scoring_att', 'home_pass', 'home_att_pen_goal', 'home_penalty_save', 'AR', 'away_total_offside', 'away_pass'}\n"
     ]
    }
   ],
   "source": [
    "# Colonnes en communs:\n",
    "print('Nombre de colonnes à supprimer:',len(del_col_0.intersection(del_col_1, del_col_2)),'\\n')\n",
    "print(del_col_0.intersection(del_col_1, del_col_2))\n",
    "to_drop = list(del_col_0.intersection(del_col_1, del_col_2))"
   ]
  },
  {
   "cell_type": "code",
   "execution_count": 15,
   "id": "6e37be0e",
   "metadata": {},
   "outputs": [],
   "source": [
    "# Suppression des colonnes ayant peu d'impact et standardisation pour la suite\n",
    "X_train = X_train.drop(to_drop, axis=1)\n",
    "X_test  = X_test.drop(to_drop, axis=1)\n",
    "\n",
    "#Standardisation\n",
    "scaler = preprocessing.StandardScaler().fit(X_train)\n",
    "X_train_s = scaler.transform(X_train)\n",
    "X_test_s = scaler.transform(X_test) "
   ]
  },
  {
   "cell_type": "markdown",
   "id": "882d9c8c",
   "metadata": {},
   "source": [
    "## 1.3 K plus proches Voisins"
   ]
  },
  {
   "cell_type": "code",
   "execution_count": 16,
   "id": "37a4b8cc",
   "metadata": {},
   "outputs": [
    {
     "name": "stdout",
     "output_type": "stream",
     "text": [
      "{'metric': 'manhattan', 'n_neighbors': 15}\n"
     ]
    }
   ],
   "source": [
    "# Etude méthode KNN:\n",
    "from sklearn import neighbors\n",
    "\n",
    "parametres = {'n_neighbors': [1, 5, 10, 15], 'metric': ['manhattan', 'chebyshev', 'minkowski', 'l1' , 'l2'] }\n",
    "knn = neighbors.KNeighborsClassifier()\n",
    "\n",
    "grid_knn = GridSearchCV(estimator=knn, param_grid=parametres)\n",
    "grille = grid_knn.fit(X_train_s,y_train)\n",
    "print(grid_knn.best_params_) \n",
    "# Selection du meilleur parameter: Le max du nombre de voisin est toujours séléctionné"
   ]
  },
  {
   "cell_type": "code",
   "execution_count": 17,
   "id": "a026522b",
   "metadata": {},
   "outputs": [
    {
     "data": {
      "text/html": [
       "<div>\n",
       "<style scoped>\n",
       "    .dataframe tbody tr th:only-of-type {\n",
       "        vertical-align: middle;\n",
       "    }\n",
       "\n",
       "    .dataframe tbody tr th {\n",
       "        vertical-align: top;\n",
       "    }\n",
       "\n",
       "    .dataframe thead th {\n",
       "        text-align: right;\n",
       "    }\n",
       "</style>\n",
       "<table border=\"1\" class=\"dataframe\">\n",
       "  <thead>\n",
       "    <tr style=\"text-align: right;\">\n",
       "      <th>Classe prédite</th>\n",
       "      <th>A</th>\n",
       "      <th>D</th>\n",
       "      <th>H</th>\n",
       "    </tr>\n",
       "    <tr>\n",
       "      <th>Classe réelle</th>\n",
       "      <th></th>\n",
       "      <th></th>\n",
       "      <th></th>\n",
       "    </tr>\n",
       "  </thead>\n",
       "  <tbody>\n",
       "    <tr>\n",
       "      <th>A</th>\n",
       "      <td>54</td>\n",
       "      <td>10</td>\n",
       "      <td>42</td>\n",
       "    </tr>\n",
       "    <tr>\n",
       "      <th>D</th>\n",
       "      <td>25</td>\n",
       "      <td>13</td>\n",
       "      <td>57</td>\n",
       "    </tr>\n",
       "    <tr>\n",
       "      <th>H</th>\n",
       "      <td>34</td>\n",
       "      <td>7</td>\n",
       "      <td>126</td>\n",
       "    </tr>\n",
       "  </tbody>\n",
       "</table>\n",
       "</div>"
      ],
      "text/plain": [
       "Classe prédite   A   D    H\n",
       "Classe réelle              \n",
       "A               54  10   42\n",
       "D               25  13   57\n",
       "H               34   7  126"
      ]
     },
     "execution_count": 17,
     "metadata": {},
     "output_type": "execute_result"
    }
   ],
   "source": [
    "optimal_knn = grid_knn.best_estimator_\n",
    "y_pred_knn = optimal_knn.predict(X_test_s)\n",
    "pd.crosstab(y_test, y_pred_knn, rownames=['Classe réelle'], colnames=['Classe prédite']) # Affichage matrice de confusion PLUSIEURS CLASSES POSSIBLES à classifier avec KNN\n",
    "# On ne prédit aucun match nul"
   ]
  },
  {
   "cell_type": "code",
   "execution_count": 18,
   "id": "f5037c4a",
   "metadata": {},
   "outputs": [
    {
     "name": "stdout",
     "output_type": "stream",
     "text": [
      "              precision    recall  f1-score   support\n",
      "\n",
      "           A       0.48      0.51      0.49       106\n",
      "           D       0.43      0.14      0.21        95\n",
      "           H       0.56      0.75      0.64       167\n",
      "\n",
      "    accuracy                           0.52       368\n",
      "   macro avg       0.49      0.47      0.45       368\n",
      "weighted avg       0.50      0.52      0.49       368\n",
      "\n"
     ]
    }
   ],
   "source": [
    "print(classification_report(y_test, pd.DataFrame(y_pred_knn)))"
   ]
  },
  {
   "cell_type": "markdown",
   "id": "fe93d385",
   "metadata": {},
   "source": [
    "## 1.4 SVM"
   ]
  },
  {
   "cell_type": "code",
   "execution_count": 19,
   "id": "9a55496e",
   "metadata": {},
   "outputs": [
    {
     "name": "stdout",
     "output_type": "stream",
     "text": [
      "{'C': 1, 'gamma': 0.001, 'kernel': 'rbf'}\n"
     ]
    }
   ],
   "source": [
    "from sklearn import svm\n",
    "from sklearn import model_selection\n",
    "\n",
    "clf_svm = svm.SVC()\n",
    "clf_svm.fit(X_train_s, y_train)\n",
    "parametres = {'C':[0.1,1,3,5], 'kernel':['rbf','linear'], 'gamma':[0.001, 0.005, 0.01, 0.1]}# Cross validation\n",
    "\n",
    "grid_clf_svm = model_selection.GridSearchCV(estimator=clf_svm, param_grid=parametres)\n",
    "grille = grid_clf_svm.fit(X_train_s,y_train)\n",
    "print(grid_clf_svm.best_params_) # Affichage du meilleur parameter qui a été selectionné par default (fit)"
   ]
  },
  {
   "cell_type": "code",
   "execution_count": 21,
   "id": "d0869b42",
   "metadata": {},
   "outputs": [
    {
     "data": {
      "text/html": [
       "<div>\n",
       "<style scoped>\n",
       "    .dataframe tbody tr th:only-of-type {\n",
       "        vertical-align: middle;\n",
       "    }\n",
       "\n",
       "    .dataframe tbody tr th {\n",
       "        vertical-align: top;\n",
       "    }\n",
       "\n",
       "    .dataframe thead th {\n",
       "        text-align: right;\n",
       "    }\n",
       "</style>\n",
       "<table border=\"1\" class=\"dataframe\">\n",
       "  <thead>\n",
       "    <tr style=\"text-align: right;\">\n",
       "      <th>Classe prédite</th>\n",
       "      <th>A</th>\n",
       "      <th>H</th>\n",
       "    </tr>\n",
       "    <tr>\n",
       "      <th>Classe réelle</th>\n",
       "      <th></th>\n",
       "      <th></th>\n",
       "    </tr>\n",
       "  </thead>\n",
       "  <tbody>\n",
       "    <tr>\n",
       "      <th>A</th>\n",
       "      <td>45</td>\n",
       "      <td>61</td>\n",
       "    </tr>\n",
       "    <tr>\n",
       "      <th>D</th>\n",
       "      <td>18</td>\n",
       "      <td>77</td>\n",
       "    </tr>\n",
       "    <tr>\n",
       "      <th>H</th>\n",
       "      <td>25</td>\n",
       "      <td>142</td>\n",
       "    </tr>\n",
       "  </tbody>\n",
       "</table>\n",
       "</div>"
      ],
      "text/plain": [
       "Classe prédite   A    H\n",
       "Classe réelle          \n",
       "A               45   61\n",
       "D               18   77\n",
       "H               25  142"
      ]
     },
     "execution_count": 21,
     "metadata": {},
     "output_type": "execute_result"
    }
   ],
   "source": [
    "#Prédiction des features test et création de la matrice de confusion\n",
    "y_pred_svm = grid_clf_svm.predict(X_test_s)\n",
    "pd.crosstab(y_test, y_pred_svm, rownames=['Classe réelle'], colnames=['Classe prédite'])"
   ]
  },
  {
   "cell_type": "code",
   "execution_count": 22,
   "id": "0c2bb2d0",
   "metadata": {},
   "outputs": [
    {
     "name": "stdout",
     "output_type": "stream",
     "text": [
      "              precision    recall  f1-score   support\n",
      "\n",
      "           A       0.51      0.42      0.46       106\n",
      "           D       0.00      0.00      0.00        95\n",
      "           H       0.51      0.85      0.64       167\n",
      "\n",
      "    accuracy                           0.51       368\n",
      "   macro avg       0.34      0.42      0.37       368\n",
      "weighted avg       0.38      0.51      0.42       368\n",
      "\n"
     ]
    },
    {
     "name": "stderr",
     "output_type": "stream",
     "text": [
      "C:\\Users\\miras\\anaconda3\\lib\\site-packages\\sklearn\\metrics\\_classification.py:1245: UndefinedMetricWarning: Precision and F-score are ill-defined and being set to 0.0 in labels with no predicted samples. Use `zero_division` parameter to control this behavior.\n",
      "  _warn_prf(average, modifier, msg_start, len(result))\n",
      "C:\\Users\\miras\\anaconda3\\lib\\site-packages\\sklearn\\metrics\\_classification.py:1245: UndefinedMetricWarning: Precision and F-score are ill-defined and being set to 0.0 in labels with no predicted samples. Use `zero_division` parameter to control this behavior.\n",
      "  _warn_prf(average, modifier, msg_start, len(result))\n",
      "C:\\Users\\miras\\anaconda3\\lib\\site-packages\\sklearn\\metrics\\_classification.py:1245: UndefinedMetricWarning: Precision and F-score are ill-defined and being set to 0.0 in labels with no predicted samples. Use `zero_division` parameter to control this behavior.\n",
      "  _warn_prf(average, modifier, msg_start, len(result))\n"
     ]
    }
   ],
   "source": [
    "print(classification_report(y_test, pd.DataFrame(y_pred_svm)))"
   ]
  },
  {
   "cell_type": "markdown",
   "id": "2102be23",
   "metadata": {},
   "source": [
    "## 1.5 Decision Tree and Boosting"
   ]
  },
  {
   "cell_type": "code",
   "execution_count": 23,
   "id": "d506aea5",
   "metadata": {},
   "outputs": [
    {
     "name": "stdout",
     "output_type": "stream",
     "text": [
      "Score: 0.5163043478260869\n",
      "Best Param: {'max_depth': 2}\n"
     ]
    }
   ],
   "source": [
    "from sklearn.ensemble import AdaBoostClassifier\n",
    "from sklearn.tree import DecisionTreeClassifier\n",
    "\n",
    "parametres = {'max_depth': [1, 2, 3, 5, 7]}\n",
    "dtc = DecisionTreeClassifier() #Arbres de decision\n",
    "grid_dtc = GridSearchCV(estimator=dtc, param_grid=parametres)\n",
    "grille = grid_dtc.fit(X_train_s,y_train)\n",
    "\n",
    "print(\"Score:\", grid_dtc.score(X_test_s, y_test)) #Evaluation du modele \n",
    "print(\"Best Param:\",grid_dtc.best_params_)"
   ]
  },
  {
   "cell_type": "code",
   "execution_count": 24,
   "id": "f5ebb2ae",
   "metadata": {},
   "outputs": [
    {
     "data": {
      "text/html": [
       "<div>\n",
       "<style scoped>\n",
       "    .dataframe tbody tr th:only-of-type {\n",
       "        vertical-align: middle;\n",
       "    }\n",
       "\n",
       "    .dataframe tbody tr th {\n",
       "        vertical-align: top;\n",
       "    }\n",
       "\n",
       "    .dataframe thead th {\n",
       "        text-align: right;\n",
       "    }\n",
       "</style>\n",
       "<table border=\"1\" class=\"dataframe\">\n",
       "  <thead>\n",
       "    <tr style=\"text-align: right;\">\n",
       "      <th>Classe prédite</th>\n",
       "      <th>A</th>\n",
       "      <th>H</th>\n",
       "    </tr>\n",
       "    <tr>\n",
       "      <th>Classe réelle</th>\n",
       "      <th></th>\n",
       "      <th></th>\n",
       "    </tr>\n",
       "  </thead>\n",
       "  <tbody>\n",
       "    <tr>\n",
       "      <th>A</th>\n",
       "      <td>43</td>\n",
       "      <td>63</td>\n",
       "    </tr>\n",
       "    <tr>\n",
       "      <th>D</th>\n",
       "      <td>16</td>\n",
       "      <td>79</td>\n",
       "    </tr>\n",
       "    <tr>\n",
       "      <th>H</th>\n",
       "      <td>20</td>\n",
       "      <td>147</td>\n",
       "    </tr>\n",
       "  </tbody>\n",
       "</table>\n",
       "</div>"
      ],
      "text/plain": [
       "Classe prédite   A    H\n",
       "Classe réelle          \n",
       "A               43   63\n",
       "D               16   79\n",
       "H               20  147"
      ]
     },
     "execution_count": 24,
     "metadata": {},
     "output_type": "execute_result"
    }
   ],
   "source": [
    "y_pred_dtc = grid_dtc.predict(X_test_s)\n",
    "pd.crosstab(y_test, y_pred_dtc, rownames=['Classe réelle'], colnames=['Classe prédite'])"
   ]
  },
  {
   "cell_type": "code",
   "execution_count": 25,
   "id": "dd2302ba",
   "metadata": {},
   "outputs": [
    {
     "name": "stdout",
     "output_type": "stream",
     "text": [
      "              precision    recall  f1-score   support\n",
      "\n",
      "           A       0.54      0.41      0.46       106\n",
      "           D       0.00      0.00      0.00        95\n",
      "           H       0.51      0.88      0.64       167\n",
      "\n",
      "    accuracy                           0.52       368\n",
      "   macro avg       0.35      0.43      0.37       368\n",
      "weighted avg       0.39      0.52      0.43       368\n",
      "\n"
     ]
    },
    {
     "name": "stderr",
     "output_type": "stream",
     "text": [
      "C:\\Users\\miras\\anaconda3\\lib\\site-packages\\sklearn\\metrics\\_classification.py:1245: UndefinedMetricWarning: Precision and F-score are ill-defined and being set to 0.0 in labels with no predicted samples. Use `zero_division` parameter to control this behavior.\n",
      "  _warn_prf(average, modifier, msg_start, len(result))\n",
      "C:\\Users\\miras\\anaconda3\\lib\\site-packages\\sklearn\\metrics\\_classification.py:1245: UndefinedMetricWarning: Precision and F-score are ill-defined and being set to 0.0 in labels with no predicted samples. Use `zero_division` parameter to control this behavior.\n",
      "  _warn_prf(average, modifier, msg_start, len(result))\n",
      "C:\\Users\\miras\\anaconda3\\lib\\site-packages\\sklearn\\metrics\\_classification.py:1245: UndefinedMetricWarning: Precision and F-score are ill-defined and being set to 0.0 in labels with no predicted samples. Use `zero_division` parameter to control this behavior.\n",
      "  _warn_prf(average, modifier, msg_start, len(result))\n"
     ]
    }
   ],
   "source": [
    "print(classification_report(y_test, pd.DataFrame(y_pred_dtc)))"
   ]
  },
  {
   "cell_type": "code",
   "execution_count": 26,
   "id": "01ab0602",
   "metadata": {},
   "outputs": [],
   "source": [
    "ac = AdaBoostClassifier(base_estimator=dtc, n_estimators=400) #BOOSTING\n",
    "ac.fit(X_train_s, y_train)\n",
    "y_pred_boost = ac.predict(X_test_s)"
   ]
  },
  {
   "cell_type": "code",
   "execution_count": 27,
   "id": "d5e06eae",
   "metadata": {},
   "outputs": [
    {
     "data": {
      "text/html": [
       "<div>\n",
       "<style scoped>\n",
       "    .dataframe tbody tr th:only-of-type {\n",
       "        vertical-align: middle;\n",
       "    }\n",
       "\n",
       "    .dataframe tbody tr th {\n",
       "        vertical-align: top;\n",
       "    }\n",
       "\n",
       "    .dataframe thead th {\n",
       "        text-align: right;\n",
       "    }\n",
       "</style>\n",
       "<table border=\"1\" class=\"dataframe\">\n",
       "  <thead>\n",
       "    <tr style=\"text-align: right;\">\n",
       "      <th>Classe prédite</th>\n",
       "      <th>A</th>\n",
       "      <th>D</th>\n",
       "      <th>H</th>\n",
       "    </tr>\n",
       "    <tr>\n",
       "      <th>Classe réelle</th>\n",
       "      <th></th>\n",
       "      <th></th>\n",
       "      <th></th>\n",
       "    </tr>\n",
       "  </thead>\n",
       "  <tbody>\n",
       "    <tr>\n",
       "      <th>A</th>\n",
       "      <td>44</td>\n",
       "      <td>24</td>\n",
       "      <td>38</td>\n",
       "    </tr>\n",
       "    <tr>\n",
       "      <th>D</th>\n",
       "      <td>23</td>\n",
       "      <td>22</td>\n",
       "      <td>50</td>\n",
       "    </tr>\n",
       "    <tr>\n",
       "      <th>H</th>\n",
       "      <td>37</td>\n",
       "      <td>35</td>\n",
       "      <td>95</td>\n",
       "    </tr>\n",
       "  </tbody>\n",
       "</table>\n",
       "</div>"
      ],
      "text/plain": [
       "Classe prédite   A   D   H\n",
       "Classe réelle             \n",
       "A               44  24  38\n",
       "D               23  22  50\n",
       "H               37  35  95"
      ]
     },
     "execution_count": 27,
     "metadata": {},
     "output_type": "execute_result"
    }
   ],
   "source": [
    "pd.crosstab(y_test, y_pred_boost, rownames=['Classe réelle'], colnames=['Classe prédite'])"
   ]
  },
  {
   "cell_type": "code",
   "execution_count": 28,
   "id": "7fcc74f7",
   "metadata": {},
   "outputs": [
    {
     "name": "stdout",
     "output_type": "stream",
     "text": [
      "              precision    recall  f1-score   support\n",
      "\n",
      "           A       0.42      0.42      0.42       106\n",
      "           D       0.27      0.23      0.25        95\n",
      "           H       0.52      0.57      0.54       167\n",
      "\n",
      "    accuracy                           0.44       368\n",
      "   macro avg       0.40      0.41      0.40       368\n",
      "weighted avg       0.43      0.44      0.43       368\n",
      "\n"
     ]
    }
   ],
   "source": [
    "print(classification_report(y_test, pd.DataFrame(y_pred_boost)))"
   ]
  },
  {
   "cell_type": "markdown",
   "id": "eb4e0f2c",
   "metadata": {},
   "source": [
    "##  1.6 Random Forest"
   ]
  },
  {
   "cell_type": "code",
   "execution_count": 29,
   "id": "c51d42d0",
   "metadata": {},
   "outputs": [
    {
     "name": "stdout",
     "output_type": "stream",
     "text": [
      "Best Param: {'max_depth': 7, 'n_estimators': 50}\n"
     ]
    }
   ],
   "source": [
    "from sklearn.ensemble import RandomForestClassifier\n",
    "\n",
    "forest = RandomForestClassifier(random_state=0)\n",
    "forest.fit(X_train_s, y_train)\n",
    "parametres = {'max_depth': [3, 5, 7, 10],'n_estimators': [10, 30, 50, 100] }\n",
    "\n",
    "grid_forest = GridSearchCV(estimator=forest, param_grid=parametres)\n",
    "grille = grid_forest.fit(X_train_s,y_train)\n",
    "print(\"Best Param:\",grid_forest.best_params_)"
   ]
  },
  {
   "cell_type": "code",
   "execution_count": 31,
   "id": "13dc74b4",
   "metadata": {},
   "outputs": [
    {
     "data": {
      "text/html": [
       "<div>\n",
       "<style scoped>\n",
       "    .dataframe tbody tr th:only-of-type {\n",
       "        vertical-align: middle;\n",
       "    }\n",
       "\n",
       "    .dataframe tbody tr th {\n",
       "        vertical-align: top;\n",
       "    }\n",
       "\n",
       "    .dataframe thead th {\n",
       "        text-align: right;\n",
       "    }\n",
       "</style>\n",
       "<table border=\"1\" class=\"dataframe\">\n",
       "  <thead>\n",
       "    <tr style=\"text-align: right;\">\n",
       "      <th>Classe prédite</th>\n",
       "      <th>A</th>\n",
       "      <th>D</th>\n",
       "      <th>H</th>\n",
       "    </tr>\n",
       "    <tr>\n",
       "      <th>Classe réelle</th>\n",
       "      <th></th>\n",
       "      <th></th>\n",
       "      <th></th>\n",
       "    </tr>\n",
       "  </thead>\n",
       "  <tbody>\n",
       "    <tr>\n",
       "      <th>A</th>\n",
       "      <td>46</td>\n",
       "      <td>3</td>\n",
       "      <td>57</td>\n",
       "    </tr>\n",
       "    <tr>\n",
       "      <th>D</th>\n",
       "      <td>22</td>\n",
       "      <td>3</td>\n",
       "      <td>70</td>\n",
       "    </tr>\n",
       "    <tr>\n",
       "      <th>H</th>\n",
       "      <td>28</td>\n",
       "      <td>6</td>\n",
       "      <td>133</td>\n",
       "    </tr>\n",
       "  </tbody>\n",
       "</table>\n",
       "</div>"
      ],
      "text/plain": [
       "Classe prédite   A  D    H\n",
       "Classe réelle             \n",
       "A               46  3   57\n",
       "D               22  3   70\n",
       "H               28  6  133"
      ]
     },
     "execution_count": 31,
     "metadata": {},
     "output_type": "execute_result"
    }
   ],
   "source": [
    "# On declare un nouveau model pour avoir acces à la variable \"feature_importance\" (indisponible via GridSearchCV)\n",
    "best_forest = RandomForestClassifier(random_state=0, max_depth = 7, n_estimators = 50)\n",
    "best_forest.fit(X_train_s, y_train)\n",
    "y_pred_forest = best_forest.predict(X_test_s)\n",
    "pd.crosstab(y_test, y_pred_forest, rownames=['Classe réelle'], colnames=['Classe prédite'])"
   ]
  },
  {
   "cell_type": "code",
   "execution_count": 32,
   "id": "511bde72",
   "metadata": {},
   "outputs": [
    {
     "name": "stdout",
     "output_type": "stream",
     "text": [
      "              precision    recall  f1-score   support\n",
      "\n",
      "           A       0.48      0.43      0.46       106\n",
      "           D       0.25      0.03      0.06        95\n",
      "           H       0.51      0.80      0.62       167\n",
      "\n",
      "    accuracy                           0.49       368\n",
      "   macro avg       0.41      0.42      0.38       368\n",
      "weighted avg       0.43      0.49      0.43       368\n",
      "\n"
     ]
    }
   ],
   "source": [
    "print(classification_report(y_test, pd.DataFrame(y_pred_forest)))"
   ]
  },
  {
   "cell_type": "code",
   "execution_count": 40,
   "id": "757e9ad6",
   "metadata": {},
   "outputs": [
    {
     "data": {
      "image/png": "[encoded data removed]",
      "text/plain": [
       "<Figure size 1080x432 with 1 Axes>"
      ]
     },
     "metadata": {
      "needs_background": "light"
     },
     "output_type": "display_data"
    }
   ],
   "source": [
    "# On affiche l'importance des variables dans la classification (variable feature_importance et sa std sur \n",
    "# tous les arbres considerés de notre meilleur modele séléctionné)\n",
    "importances = best_forest.feature_importances_\n",
    "std = np.std([tree.feature_importances_ for tree in best_forest.estimators_], axis=0)\n",
    "forest_importances = pd.Series(importances, index=X_train.columns.values)\n",
    "forest_importances = forest_importances[forest_importances.argsort().values]\n",
    "\n",
    "fig, ax = plt.subplots(figsize=(15,6))\n",
    "forest_importances.plot.bar(yerr=std, ax=ax)\n",
    "ax.set_xticklabels(forest_importances.index, rotation='vertical')\n",
    "ax.set_title(\"Feature importances\")\n",
    "fig.tight_layout()\n",
    "plt.show()\n",
    "# Les variables crées avec le prefixe \"Diff\" paraissent pertinentes"
   ]
  }
 ],
 "metadata": {
  "celltoolbar": "Format de la Cellule Texte Brut",
  "kernelspec": {
   "display_name": "Python 3",
   "language": "python",
   "name": "python3"
  },
  "language_info": {
   "codemirror_mode": {
    "name": "ipython",
    "version": 3
   },
   "file_extension": ".py",
   "mimetype": "text/x-python",
   "name": "python",
   "nbconvert_exporter": "python",
   "pygments_lexer": "ipython3",
   "version": "3.8.8"
  }
 },
 "nbformat": 4,
 "nbformat_minor": 5
}

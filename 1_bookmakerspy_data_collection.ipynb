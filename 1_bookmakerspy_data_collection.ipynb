{
 "cells": [
  {
   "cell_type": "markdown",
   "metadata": {
    "id": "1L2fekrCz__Y"
   },
   "source": [
    "**Project context** <br>This notebook is part of the project \"Bookmakerspy\", a project that aims at predicting football games results in the context of the English Premier League (based on data from 2014 to 2018) and ultimately beat bookmakers' odds.<br>\n",
    "The current notebook \"bookmakerspy_data_collection\" is the first in a series of 3 notebooks. It is followed by \"bookmakerspy_data_preprocessing\" and \"bookmakerspy_modelisation\".\n",
    "\n",
    "**Information about the notebook**<br>\n",
    "This notebook is intended for processing with Google Colab, and aims at collecting data from the following sources: https://www.kaggle.com/shubhmamp/english-premier-league-match-data and https://datahub.io/sports-data/english-premier-league in order to create a dataframe containing English Premier League game statistics and player statistics and the corresponding bookmakers' odds.<br>\n",
    "The kaggle dataset is available in json format and contains games and players statistics between 2014 and 2018. The datahub dataset enables to retrieve bookmakers' odds for the same games.<br>\n",
    "\n",
    "**Notebook goal**<br>\n",
    "Running the notebook will result in the creation of an intermediary Google Drive folders containing the relevant data and performing minor pre-processing tasks. Data will then be assembled into a dataset that can then be processed further for the exploration, pre-processing and modelisation steps."
   ]
  },
  {
   "cell_type": "code",
   "execution_count": null,
   "metadata": {
    "colab": {
     "base_uri": "https://localhost:8080/"
    },
    "id": "WLF1IVSj3AHe",
    "outputId": "3aa56623-3221-47d2-c1ba-37295bbfbfa8"
   },
   "outputs": [],
   "source": [
    "# Connect the notebook with Google drive to collect data from Kaggle\n",
    "from google.colab import drive\n",
    "drive.mount('/content/drive')"
   ]
  },
  {
   "cell_type": "code",
   "execution_count": null,
   "metadata": {
    "colab": {
     "base_uri": "https://localhost:8080/",
     "height": 90,
     "resources": {
      "http://localhost:8080/nbextensions/google.colab/files.js": {
       "data": "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",
       "headers": [
        [
         "content-type",
         "application/javascript"
        ]
       ],
       "ok": true,
       "status": 200,
       "status_text": ""
      }
     }
    },
    "id": "3rFBHLFn3JE1",
    "outputId": "d73078c3-3c9f-434d-923e-8f813fb03c75"
   },
   "outputs": [],
   "source": [
    "# Upload your personal kaggle.json containing your personal token info. This file can be retrieved via your personal Kaggle account (more info: https://www.kaggle.com/docs/api#authentication)\n",
    "from google.colab import files\n",
    "files.upload()"
   ]
  },
  {
   "cell_type": "code",
   "execution_count": null,
   "metadata": {
    "id": "KOQcEgQ64EJd"
   },
   "outputs": [],
   "source": [
    "# Create Kaggle folder\n",
    "! mkdir ~/.kaggle\n",
    "\n",
    "# Copy kaggle.json into kaggle folder\n",
    "! cp kaggle.json ~/.kaggle/\n",
    "\n",
    "# Modify permissions for kaggle.json\n",
    "! chmod 600 ~/.kaggle/kaggle.json"
   ]
  },
  {
   "cell_type": "code",
   "execution_count": null,
   "metadata": {
    "colab": {
     "base_uri": "https://localhost:8080/"
    },
    "id": "A6DI1EqH4YMA",
    "outputId": "81b433b0-99c1-4fc1-e10b-256f15ada64b"
   },
   "outputs": [],
   "source": [
    "# Download Kaggle data https://www.kaggle.com/shubhmamp/english-premier-league-match-data\n",
    "! kaggle datasets download -d shubhmamp/english-premier-league-match-data"
   ]
  },
  {
   "cell_type": "code",
   "execution_count": null,
   "metadata": {
    "colab": {
     "base_uri": "https://localhost:8080/"
    },
    "id": "xbCFcRRt4gFd",
    "outputId": "52594440-500c-4997-ee22-5cfca2b59625"
   },
   "outputs": [],
   "source": [
    "# Creation of a \"dataset\" folder in Google Drive and unzip Kaggle data into this folder\n",
    "! mkdir '/content/drive/My Drive/dataset'\n",
    "! unzip english-premier-league-match-data.zip -d '/content/drive/My Drive/dataset'"
   ]
  },
  {
   "cell_type": "code",
   "execution_count": null,
   "metadata": {
    "id": "tTertpd8CJ4_"
   },
   "outputs": [],
   "source": [
    "import json\n",
    "import pandas as pd"
   ]
  },
  {
   "cell_type": "markdown",
   "metadata": {
    "id": "EnzZB8TnLAaL"
   },
   "source": [
    "# Match team stats data"
   ]
  },
  {
   "cell_type": "code",
   "execution_count": null,
   "metadata": {
    "id": "d--xRkTF42KV"
   },
   "outputs": [],
   "source": [
    "# retrieving the files containing statistics\n",
    "team_stats_14_15_json = json.load(open('/content/drive/My Drive/dataset/datafilev2/datafile/season14-15/season_stats.json'))\n",
    "team_stats_15_16_json = json.load(open('/content/drive/My Drive/dataset/datafilev2/datafile/season15-16/season_stats.json'))\n",
    "team_stats_16_17_json = json.load(open('/content/drive/My Drive/dataset/datafilev2/datafile/season16-17/season_stats.json'))\n",
    "team_stats_17_18_json = json.load(open('/content/drive/My Drive/dataset/datafilev2/datafile/season17-18/season_stats.json'))"
   ]
  },
  {
   "cell_type": "code",
   "execution_count": null,
   "metadata": {
    "id": "8iXF3MKe5kmf"
   },
   "outputs": [],
   "source": [
    "def team_stats(json,teamloc):\n",
    "  \n",
    "  # data containing home team stats are contained at position 0, whereas data containining away team stats are contained at position 1\n",
    "  teamidx = 0 if teamloc == 'home' else 1 if teamloc == 'away' else \"null\"\n",
    "  \n",
    "  # creation of a dataframe to gather relevant data\n",
    "  stats = pd.DataFrame()\n",
    "  row=0\n",
    "\n",
    "  # Iterating json data to retrieve stats related to the team\n",
    "  for match_id, infos_match in json.items():\n",
    "\n",
    "      stats.loc[row, 'match_id'] = match_id\n",
    "      \n",
    "      team = dict(list(infos_match.values())[teamidx])\n",
    "\n",
    "      for column, team_info in team['team_details'].items():\n",
    "          stats.loc[row, column] = team_info\n",
    "      \n",
    "      for column, team_stat in team['aggregate_stats'].items():\n",
    "          stats.loc[row, column] = team_stat\n",
    "      \n",
    "\n",
    "      row += 1\n",
    "  \n",
    "  stats['date'] = pd.to_datetime(stats['date'], dayfirst=True)\n",
    "  stats = stats.sort_values(by=['date', 'match_id'])\n",
    "  stats = stats.reset_index(drop=True)\n",
    "  \n",
    "  stats['team_rating'] = stats['team_rating'].astype(float)\n",
    "  \n",
    "  for column in stats.columns[5:]:\n",
    "      stats[column] = stats[column].astype(float)\n",
    "  \n",
    "  return stats"
   ]
  },
  {
   "cell_type": "code",
   "execution_count": null,
   "metadata": {
    "id": "FsF1L-TiCSMp"
   },
   "outputs": [],
   "source": [
    "team_stats_home = {'season_14_15': team_stats(team_stats_14_15_json,'home').add_prefix('home_'), \n",
    "                   'season_15_16': team_stats(team_stats_15_16_json,'home').add_prefix('home_'), \n",
    "                   'season_16_17': team_stats(team_stats_16_17_json,'home').add_prefix('home_'),  \n",
    "                   'season_17_18': team_stats(team_stats_17_18_json,'home').add_prefix('home_')}\n",
    "\n",
    "team_stats_away = {'season_14_15': team_stats(team_stats_14_15_json,'away').add_prefix('away_'), \n",
    "                   'season_15_16': team_stats(team_stats_15_16_json,'away').add_prefix('away_'), \n",
    "                   'season_16_17': team_stats(team_stats_16_17_json,'away').add_prefix('away_'),  \n",
    "                   'season_17_18': team_stats(team_stats_17_18_json,'away').add_prefix('away_')}"
   ]
  },
  {
   "cell_type": "code",
   "execution_count": null,
   "metadata": {
    "id": "fsr6wyEXLeDE"
   },
   "outputs": [],
   "source": [
    "# Add season info\n",
    "team_stats_home['season_14_15']['season'] = '2014_2015'\n",
    "team_stats_home['season_15_16']['season'] = '2015_2016'\n",
    "team_stats_home['season_16_17']['season'] = '2016_2017'\n",
    "team_stats_home['season_17_18']['season'] = '2017_2018'"
   ]
  },
  {
   "cell_type": "code",
   "execution_count": null,
   "metadata": {
    "id": "Ml1Ips7YL-7V"
   },
   "outputs": [],
   "source": [
    "# Concatenation home data\n",
    "df_home = pd.concat([team_stats_home['season_14_15'],team_stats_home['season_15_16'],team_stats_home['season_16_17'],team_stats_home['season_17_18']])\n",
    "# Concatenation away data\n",
    "df_away = pd.concat([team_stats_away['season_14_15'],team_stats_away['season_15_16'],team_stats_away['season_16_17'],team_stats_away['season_17_18']])\n"
   ]
  },
  {
   "cell_type": "code",
   "execution_count": null,
   "metadata": {
    "colab": {
     "base_uri": "https://localhost:8080/",
     "height": 288
    },
    "id": "nUbOs6NPMotA",
    "outputId": "71a6c2ab-2a60-4a46-c3db-5eb51e11deea"
   },
   "outputs": [],
   "source": [
    "df_home.head()"
   ]
  },
  {
   "cell_type": "code",
   "execution_count": null,
   "metadata": {
    "colab": {
     "base_uri": "https://localhost:8080/",
     "height": 270
    },
    "id": "2MvLSMOQMrvO",
    "outputId": "4c15791e-0136-49ba-fb5c-053ef71954c4"
   },
   "outputs": [],
   "source": [
    "df_away.head()"
   ]
  },
  {
   "cell_type": "code",
   "execution_count": null,
   "metadata": {
    "id": "ma8svV6uMIFo"
   },
   "outputs": [],
   "source": [
    "# Merge away / home on match id\n",
    "df_merge = df_home.merge(df_away, left_on=['home_match_id'], right_on=['away_match_id'])"
   ]
  },
  {
   "cell_type": "code",
   "execution_count": null,
   "metadata": {
    "id": "cMj9gIp0M0TP"
   },
   "outputs": [],
   "source": [
    "# removing columns made redundant by the merge\n",
    "df_merge = df_merge.rename(columns={\"home_match_id\": \"match_id\", \"home_date\": \"date\"})\n",
    "df_merge = df_merge.drop(['away_match_id','away_date','home_goals','away_goals'], axis=1)"
   ]
  },
  {
   "cell_type": "code",
   "execution_count": null,
   "metadata": {
    "colab": {
     "base_uri": "https://localhost:8080/"
    },
    "id": "PPxf3_OuUiMX",
    "outputId": "f57cdc39-a785-47a4-f354-198a1de585c2"
   },
   "outputs": [],
   "source": [
    "df_merge.info()"
   ]
  },
  {
   "cell_type": "code",
   "execution_count": null,
   "metadata": {
    "id": "CR1L-0bxNlqR"
   },
   "outputs": [],
   "source": [
    "# even if this is pre-processing already, we are setting all NaNs to 0 as it is the meaning of the NaNs in this first part of our dataframe\n",
    "# Les NaN dans le dataset sont équivalents à 0\n",
    "df_merge = df_merge.fillna(0)"
   ]
  },
  {
   "cell_type": "code",
   "execution_count": null,
   "metadata": {
    "id": "q2j89euTYXTG"
   },
   "outputs": [],
   "source": [
    "df_merge['match_id'] = df_merge['match_id'].astype(int)"
   ]
  },
  {
   "cell_type": "markdown",
   "metadata": {
    "id": "RTYoU3EmNaCI"
   },
   "source": [
    "# Match players stats data"
   ]
  },
  {
   "cell_type": "markdown",
   "metadata": {
    "id": "Z_4hP5VyUs52"
   },
   "source": [
    "For each player, we are retrieving the match players stats in order to create an average by players position for a given match, so as to have a more refined indicator than the team rating."
   ]
  },
  {
   "cell_type": "code",
   "execution_count": null,
   "metadata": {
    "id": "oBQ-4ViENV3d"
   },
   "outputs": [],
   "source": [
    "def players_stats(json, teamloc):\n",
    "    \n",
    "    IsAway = 0 if teamloc == 'home' else 1 if teamloc == 'away' else None\n",
    "\n",
    "    stats = pd.DataFrame()\n",
    "   \n",
    "    row = 0\n",
    "    for match_id, infos_match in json.items():\n",
    "        \n",
    "        home = dict(list(infos_match.values())[IsAway])\n",
    "        for column, player_stat in home['Player_stats'].items():\n",
    "            stats.loc[row, 'season'] = None\n",
    "            stats.loc[row, 'match_id'] = match_id\n",
    "            for column1, player_details in home['Player_stats'][column]['player_details'].items():\n",
    "              stats.loc[row, column1] = player_details\n",
    "            for column1, match_details in home['Player_stats'][column]['Match_stats'].items():\n",
    "              stats.loc[row, column1] = match_details\n",
    "\n",
    "            row+=1\n",
    "    \n",
    "    stats = stats.sort_values(by=['match_id'])\n",
    "    stats = stats.reset_index(drop=True)\n",
    "\n",
    "    for column in stats.columns[6:]:\n",
    "        stats[column] = stats[column].astype(float)\n",
    "    \n",
    "    return stats"
   ]
  },
  {
   "cell_type": "code",
   "execution_count": null,
   "metadata": {
    "id": "OlhJSmRNVmR4"
   },
   "outputs": [],
   "source": [
    "players_stats_home = {'season_14_15': players_stats(team_stats_14_15_json, 'home').add_prefix('home_'), \n",
    "                      'season_15_16': players_stats(team_stats_15_16_json, 'home').add_prefix('home_'), \n",
    "                      'season_16_17': players_stats(team_stats_16_17_json, 'home').add_prefix('home_'),  \n",
    "                      'season_17_18': players_stats(team_stats_17_18_json, 'home').add_prefix('home_')}\n",
    "\n",
    "players_stats_away = {'season_14_15': players_stats(team_stats_14_15_json, 'away').add_prefix('away_'), \n",
    "                      'season_15_16': players_stats(team_stats_15_16_json, 'away').add_prefix('away_'), \n",
    "                      'season_16_17': players_stats(team_stats_16_17_json, 'away').add_prefix('away_'),  \n",
    "                      'season_17_18': players_stats(team_stats_17_18_json, 'away').add_prefix('away_')}"
   ]
  },
  {
   "cell_type": "code",
   "execution_count": null,
   "metadata": {
    "id": "hY5mkmnZVrn5"
   },
   "outputs": [],
   "source": [
    "# concatenation for home team data\n",
    "df_players_home = pd.concat([players_stats_home['season_14_15'], players_stats_home['season_15_16'], players_stats_home['season_16_17'], players_stats_home['season_17_18']])\n",
    "\n",
    "# concatenation for away team data\n",
    "df_players_away = pd.concat([players_stats_away['season_14_15'], players_stats_away['season_15_16'], players_stats_away['season_16_17'], players_stats_away['season_17_18']])"
   ]
  },
  {
   "cell_type": "code",
   "execution_count": null,
   "metadata": {
    "colab": {
     "base_uri": "https://localhost:8080/",
     "height": 288
    },
    "id": "IE_eUuYMV0Hh",
    "outputId": "a801509c-b17a-45c6-991f-e835cfc7ce26"
   },
   "outputs": [],
   "source": [
    "df_players_home.head()"
   ]
  },
  {
   "cell_type": "code",
   "execution_count": null,
   "metadata": {
    "colab": {
     "base_uri": "https://localhost:8080/",
     "height": 270
    },
    "id": "_8FovfZeV252",
    "outputId": "cd3141d1-3799-4941-9982-28f8e5b58fd1"
   },
   "outputs": [],
   "source": [
    "df_players_away.head()"
   ]
  },
  {
   "cell_type": "code",
   "execution_count": null,
   "metadata": {
    "id": "ctUrEg82V6I0"
   },
   "outputs": [],
   "source": [
    "# keeping only players with a rating\n",
    "df_players_home_rated = df_players_home.loc[df_players_home['home_player_rating'] > 0,:]\n",
    "df_players_away_rated = df_players_away.loc[df_players_away['away_player_rating'] > 0,:]"
   ]
  },
  {
   "cell_type": "code",
   "execution_count": null,
   "metadata": {
    "id": "38RoozcAWB6Y"
   },
   "outputs": [],
   "source": [
    "# creating the key for merge for later stage\n",
    "df_players_home_rated = df_players_home_rated.rename(columns={\"home_match_id\": \"match_id\"})\n",
    "df_players_away_rated = df_players_away_rated.rename(columns={\"away_match_id\": \"match_id\"})"
   ]
  },
  {
   "cell_type": "code",
   "execution_count": null,
   "metadata": {
    "id": "1boDc7TtWn2Y"
   },
   "outputs": [],
   "source": [
    "# grouping players by position\n",
    "df_players_home_rated['home_player_position'] = df_players_home_rated['home_player_position_value']\n",
    "df_players_home_rated['home_player_position'].replace(['1', '2', '3', '4', '5'], ['Goalkeeper', 'Defender', 'Midfielder', 'Forward', 'Substitute'], inplace = True)\n",
    "\n",
    "df_players_away_rated['away_player_position'] = df_players_away_rated['away_player_position_value']\n",
    "df_players_away_rated['away_player_position'].replace(['1', '2', '3', '4', '5'], ['Goalkeeper', 'Defender', 'Midfielder', 'Forward', 'Substitute'], inplace = True)"
   ]
  },
  {
   "cell_type": "code",
   "execution_count": null,
   "metadata": {
    "id": "E4gKObSgWw9r"
   },
   "outputs": [],
   "source": [
    "def position_rating(teamloc):\n",
    "  \n",
    "  output = pd.DataFrame()\n",
    "  position_list = ['Goalkeeper', 'Defender', 'Midfielder', 'Forward', 'Substitute']\n",
    "\n",
    "  if teamloc == 'home':\n",
    "    df = pd.DataFrame(df_players_home_rated.groupby(['match_id', teamloc + '_player_position']).mean()[teamloc + '_player_rating'].reset_index())\n",
    "  elif teamloc == 'away':\n",
    "    df = pd.DataFrame(df_players_away_rated.groupby(['match_id', teamloc + '_player_position']).mean()[teamloc + '_player_rating'].reset_index())\n",
    "  \n",
    "  df.index = df['match_id']\n",
    "\n",
    "  for position in position_list:\n",
    "    output = pd.concat([output, df.loc[df[teamloc + '_player_position'] == position,:]], axis = 1)\n",
    "    output = output.rename(columns = {teamloc + '_player_rating':position.lower() + str('_') + teamloc + '_player_rating'})\n",
    "    output = output.drop(['match_id', teamloc + '_player_position'], axis = 1)\n",
    "\n",
    "  output = output.reset_index()\n",
    "  output = output.rename(columns = {'index':'match_id'})\n",
    "\n",
    "  return output\n",
    "\n",
    "df_position_home = position_rating('home')"
   ]
  },
  {
   "cell_type": "code",
   "execution_count": null,
   "metadata": {
    "id": "Q9bDGJO2W423"
   },
   "outputs": [],
   "source": [
    "# Creation of ratings dataframes\n",
    "df_position_home_rating = position_rating('home')\n",
    "df_position_away_rating = position_rating('away')"
   ]
  },
  {
   "cell_type": "code",
   "execution_count": null,
   "metadata": {
    "colab": {
     "base_uri": "https://localhost:8080/",
     "height": 270
    },
    "id": "NsaSCdlqXGNl",
    "outputId": "2e2c579a-2023-4693-f83f-d605f8dc9209"
   },
   "outputs": [],
   "source": [
    "df_position_home_rating.head()"
   ]
  },
  {
   "cell_type": "code",
   "execution_count": null,
   "metadata": {
    "colab": {
     "base_uri": "https://localhost:8080/"
    },
    "id": "svmddb84YM4q",
    "outputId": "aa42b80a-75f9-4ed4-cc68-4e06524c92d4"
   },
   "outputs": [],
   "source": [
    "df_merge.info()"
   ]
  },
  {
   "cell_type": "code",
   "execution_count": null,
   "metadata": {
    "id": "ytrZ__J7XKKg"
   },
   "outputs": [],
   "source": [
    "df_position_rating = df_position_home_rating.merge(df_position_away_rating, on = ['match_id'])\n",
    "df_position_rating['match_id'] = df_position_rating['match_id'].astype(int)\n",
    "\n",
    "# Merging both df\n",
    "df_merge = df_merge.merge(df_position_rating, on = ['match_id'])\n",
    "\n",
    "# Removing substitutes as not considered as relevant\n",
    "df_merge = df_merge.drop(columns=['substitute_away_player_rating', 'substitute_home_player_rating']) \n",
    "\n",
    "# If there is no attacking player, rating equals 0\n",
    "df_merge['forward_away_player_rating'] = df_merge['forward_away_player_rating'].fillna(0)"
   ]
  },
  {
   "cell_type": "code",
   "execution_count": null,
   "metadata": {
    "colab": {
     "base_uri": "https://localhost:8080/"
    },
    "id": "AC3Vu8uoXoWB",
    "outputId": "50f25784-04b2-45b1-a06a-f5972b3a651e"
   },
   "outputs": [],
   "source": [
    "df_merge.info()"
   ]
  },
  {
   "cell_type": "markdown",
   "metadata": {
    "id": "BwADZ0YIZRM1"
   },
   "source": [
    "# Match odds data"
   ]
  },
  {
   "cell_type": "code",
   "execution_count": null,
   "metadata": {
    "colab": {
     "base_uri": "https://localhost:8080/",
     "height": 1000
    },
    "id": "OgYefBu-Y1AF",
    "outputId": "90945773-4d3f-41c8-d792-cfc55dc098a6"
   },
   "outputs": [],
   "source": [
    "! pip install datapackage"
   ]
  },
  {
   "cell_type": "code",
   "execution_count": null,
   "metadata": {
    "id": "TaEJSDtQZXgp"
   },
   "outputs": [],
   "source": [
    "import datapackage"
   ]
  },
  {
   "cell_type": "code",
   "execution_count": null,
   "metadata": {
    "id": "UKOrT3CIZb_5"
   },
   "outputs": [],
   "source": [
    "# retrieving odds data relevant for seasons considered\n",
    "\n",
    "data_url = 'https://datahub.io/sports-data/english-premier-league/datapackage.json'\n",
    "package = datapackage.Package(data_url)\n",
    "resources = package.resources\n",
    "\n",
    "cotes_1415 = pd.read_csv(resources[5].descriptor['path'])\n",
    "cotes_1516 = pd.read_csv(resources[4].descriptor['path'])\n",
    "cotes_1617 = pd.read_csv(resources[3].descriptor['path']) \n",
    "cotes_1718 = pd.read_csv(resources[2].descriptor['path']) "
   ]
  },
  {
   "cell_type": "code",
   "execution_count": null,
   "metadata": {
    "id": "OAhaaKa6Zmw9"
   },
   "outputs": [],
   "source": [
    "df_odds = pd.concat([cotes_1415, cotes_1516, cotes_1617, cotes_1718])"
   ]
  },
  {
   "cell_type": "code",
   "execution_count": null,
   "metadata": {
    "id": "uRmt8y1hZydQ"
   },
   "outputs": [],
   "source": [
    "# Converting date\n",
    "df_odds['date'] = df_odds['Date'].apply(lambda x: pd.to_datetime(x, dayfirst=True))\n",
    "df_odds = df_odds.drop(['Date'], axis=1)"
   ]
  },
  {
   "cell_type": "code",
   "execution_count": null,
   "metadata": {
    "id": "bveVwQPzZ7yy"
   },
   "outputs": [],
   "source": [
    "# Harmonising team names accross datasets\n",
    "\n",
    "old_names = sorted(df_odds['HomeTeam'].unique())\n",
    "new_names = sorted(df_merge['home_team_name'].unique())\n",
    "\n",
    "#print(old_names)\n",
    "#print(new_names)\n",
    "df_odds['HomeTeam'] = df_odds['HomeTeam'].replace(old_names, new_names)\n",
    "df_odds['AwayTeam'] = df_odds['AwayTeam'].replace(old_names, new_names)"
   ]
  },
  {
   "cell_type": "code",
   "execution_count": null,
   "metadata": {
    "id": "Kb4V29paaM6G"
   },
   "outputs": [],
   "source": [
    "# Remove odds columns that contain NaNs\n",
    "df_odds = df_odds.dropna(axis='columns')"
   ]
  },
  {
   "cell_type": "code",
   "execution_count": null,
   "metadata": {
    "id": "urQB6F7HacU8"
   },
   "outputs": [],
   "source": [
    "# Remove variables that are redundant with df_merge\n",
    "df_odds = df_odds.drop(['Div','HS','AS','HST','AST','HC', 'AC'], axis=1)"
   ]
  },
  {
   "cell_type": "markdown",
   "metadata": {
    "id": "BgbKU5sUaz74"
   },
   "source": [
    "# Merging Stats and Odds"
   ]
  },
  {
   "cell_type": "code",
   "execution_count": null,
   "metadata": {
    "id": "vas-oZ-2ap-j"
   },
   "outputs": [],
   "source": [
    "df_stats_odds = df_merge.merge(df_odds, left_on = ['date', 'home_team_name', 'away_team_name'], right_on = ['date', 'HomeTeam', 'AwayTeam'])"
   ]
  },
  {
   "cell_type": "code",
   "execution_count": null,
   "metadata": {
    "id": "Ggx2lyyEbBrg"
   },
   "outputs": [],
   "source": [
    "# Removing redundancies and unuseful columns, and making sure id columns are ints\n",
    "df_stats_odds = df_stats_odds.drop(['HomeTeam','AwayTeam'], axis=1)\n",
    "df_stats_odds[['match_id','home_team_id','away_team_id']] =  df_stats_odds[['match_id','home_team_id','away_team_id']].astype(int)\n",
    "df_stats_odds  = df_stats_odds.drop(['Referee'], axis=1)"
   ]
  },
  {
   "cell_type": "markdown",
   "metadata": {
    "id": "rueFXRB4coFA"
   },
   "source": [
    "# CSV Output"
   ]
  },
  {
   "cell_type": "code",
   "execution_count": null,
   "metadata": {
    "id": "UTKgweuTcjrT"
   },
   "outputs": [],
   "source": [
    "df_stats_odds.to_csv('df_stats_odds.csv')"
   ]
  }
 ],
 "metadata": {
  "colab": {
   "collapsed_sections": [],
   "name": "bookmakerspy_data_collection.ipynb",
   "provenance": []
  },
  "kernelspec": {
   "display_name": "Python 3",
   "language": "python",
   "name": "python3"
  },
  "language_info": {
   "codemirror_mode": {
    "name": "ipython",
    "version": 3
   },
   "file_extension": ".py",
   "mimetype": "text/x-python",
   "name": "python",
   "nbconvert_exporter": "python",
   "pygments_lexer": "ipython3",
   "version": "3.8.8"
  }
 },
 "nbformat": 4,
 "nbformat_minor": 1
}
